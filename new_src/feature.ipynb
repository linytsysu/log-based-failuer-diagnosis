{
 "cells": [
  {
   "cell_type": "code",
   "execution_count": 1,
   "id": "4402da76",
   "metadata": {},
   "outputs": [],
   "source": [
    "import os\n",
    "import json\n",
    "import numpy as np\n",
    "import pandas as pd\n",
    "from tqdm import tqdm\n",
    "from collections import Counter\n",
    "\n",
    "from gensim.models.word2vec import Word2Vec\n",
    "from sklearn.feature_extraction.text import TfidfVectorizer\n",
    "from sklearn.decomposition import TruncatedSVD"
   ]
  },
  {
   "cell_type": "code",
   "execution_count": 2,
   "id": "e96ec40c",
   "metadata": {},
   "outputs": [],
   "source": [
    "label1 = pd.read_csv('../data/preliminary_train_label_dataset.csv')\n",
    "label2 = pd.read_csv('../data/preliminary_train_label_dataset_s.csv')\n",
    "label_df = pd.concat([label1, label2]).reset_index(drop=True)\n",
    "label_df = label_df.drop_duplicates().reset_index(drop=True)"
   ]
  },
  {
   "cell_type": "code",
   "execution_count": 3,
   "id": "f52cb252",
   "metadata": {},
   "outputs": [],
   "source": [
    "submit_df = pd.read_csv('../data/preliminary_submit_dataset_b.csv')"
   ]
  },
  {
   "cell_type": "code",
   "execution_count": 4,
   "id": "e438d0fe",
   "metadata": {},
   "outputs": [],
   "source": [
    "log_df = pd.read_csv('./log_template.csv')"
   ]
  },
  {
   "cell_type": "code",
   "execution_count": 5,
   "id": "f23be42b",
   "metadata": {},
   "outputs": [],
   "source": [
    "log_df['time'] = pd.to_datetime(log_df['time'])\n",
    "label_df['fault_time'] = pd.to_datetime(label_df['fault_time'])\n",
    "submit_df['fault_time'] = pd.to_datetime(submit_df['fault_time'])\n",
    "\n",
    "log_df['time_ts'] = log_df[\"time\"].values.astype(np.int64) // 10 ** 9\n",
    "label_df['fault_time_ts'] = label_df[\"fault_time\"].values.astype(np.int64) // 10 ** 9\n",
    "submit_df['fault_time_ts'] = submit_df[\"fault_time\"].values.astype(np.int64) // 10 ** 9"
   ]
  },
  {
   "cell_type": "code",
   "execution_count": 6,
   "id": "2c6add36",
   "metadata": {},
   "outputs": [],
   "source": [
    "label_df = label_df.merge(log_df[['sn', 'server_model']].drop_duplicates(), on=['sn'], how='left')\n",
    "submit_df = submit_df.merge(log_df[['sn', 'server_model']].drop_duplicates(), on=['sn'], how='left')"
   ]
  },
  {
   "cell_type": "code",
   "execution_count": 7,
   "id": "b552c8c5",
   "metadata": {},
   "outputs": [],
   "source": [
    "def get_statistical_features(df1, df2, suffix):\n",
    "    cnt1 = df1.shape[0]\n",
    "    cnt2 = df2.shape[0]\n",
    "    percent = cnt1 / cnt2 if cnt2 > 0 else 0\n",
    "\n",
    "    msg_nunique1 = df1['msg_id'].nunique()\n",
    "    template_unique1 = df1['template_id'].nunique()\n",
    "    msg_nunique2 = df2['msg_id'].nunique()\n",
    "    template_unique2 = df2['template_id'].nunique()\n",
    "\n",
    "    msg_precent1 = msg_nunique1 / cnt1 if cnt1 > 0 else 0    \n",
    "    template_precent1 = template_unique1 / cnt1 if cnt1 > 0 else 0\n",
    "    \n",
    "    template_to_msg_percent = template_unique1 / msg_nunique1  if msg_nunique1 > 0 else 0\n",
    "    msg_to_msg_percent = msg_nunique1 / msg_nunique2 if msg_nunique2 > 0 else 0\n",
    "    template_to_template_percent = template_unique1 / template_unique2  if template_unique2 > 0 else 0\n",
    "    \n",
    "    return {\n",
    "        'cnt_%s'%suffix: cnt1,\n",
    "        'percent_%s'%suffix: percent,\n",
    "        'msg_nunique_%s'%suffix: msg_nunique1,\n",
    "        'template_nunique_%s'%suffix: template_unique1,\n",
    "        'msg_percent_%s'%suffix: msg_precent1,\n",
    "        'template_percent_%s'%suffix: template_precent1,\n",
    "        'template_to_msg_percent_%s'%suffix: template_to_msg_percent,\n",
    "        'msg_to_msg_percent_%s'%suffix: msg_to_msg_percent,\n",
    "        'template_to_template_percent_%s'%suffix: template_to_template_percent,\n",
    "    }"
   ]
  },
  {
   "cell_type": "code",
   "execution_count": 8,
   "id": "f2680c59",
   "metadata": {},
   "outputs": [],
   "source": [
    "def get_time_feature(df, fault_time_ts, suffix):\n",
    "    if df.shape[0] == 0:\n",
    "        second_span = np.nan\n",
    "        time_diffs_avg = np.nan\n",
    "        time_diffs_max = np.nan\n",
    "        time_diffs_min = np.nan\n",
    "        time_diffs_std = np.nan\n",
    "        max_time_diff = np.nan\n",
    "    else:\n",
    "        second_span = fault_time_ts - df.iloc[-1]['time_ts']\n",
    "        time_diffs = df['time_ts'].diff().iloc[1:]\n",
    "        time_diffs_avg = np.mean(time_diffs) if time_diffs.shape[0] > 0 else np.nan\n",
    "        time_diffs_max = np.max(time_diffs) if time_diffs.shape[0] > 0 else np.nan\n",
    "        time_diffs_min = np.min(time_diffs) if time_diffs.shape[0] > 0 else np.nan\n",
    "        time_diffs_std = np.std(time_diffs) if time_diffs.shape[0] > 0 else np.nan\n",
    "        max_time_diff = df['time_ts'].iloc[-1] - df['time_ts'].iloc[0]\n",
    "    return {\n",
    "        'second_span_%s'%suffix: second_span,\n",
    "        'time_diffs_avg_%s'%suffix: time_diffs_avg,\n",
    "        'time_diffs_max_%s'%suffix: time_diffs_max,\n",
    "        'time_diffs_min_%s'%suffix: time_diffs_min,\n",
    "        'time_diffs_std_%s'%suffix: time_diffs_std,\n",
    "        'max_time_diff_%s'%suffix: max_time_diff\n",
    "    }"
   ]
  },
  {
   "cell_type": "code",
   "execution_count": 9,
   "id": "871882ad",
   "metadata": {},
   "outputs": [],
   "source": [
    "def make_dataset(dataset, data_type='train'):\n",
    "    ret = []\n",
    "    for idx in tqdm(range(dataset.shape[0])):\n",
    "        row = dataset.iloc[idx]\n",
    "        sn = row['sn']\n",
    "        fault_time = row['fault_time']\n",
    "        fault_time_ts = row['fault_time_ts']\n",
    "        server_model = row['server_model']\n",
    "        sub_log = log_df[(log_df['sn'] == sn) & (log_df['time_ts'] <= fault_time_ts)]\n",
    "        sub_log = sub_log.sort_values(by='time')\n",
    "        last_msg_id = str(sub_log['msg_id'].values[-1]) if sub_log.shape[0] > 0 else 'NULL'\n",
    "        last_template_id = str(sub_log['template_id'].values[-1]) if sub_log.shape[0] > 0 else 'NULL'\n",
    "        data = {\n",
    "            'sn': sn,\n",
    "            'fault_time': fault_time,\n",
    "            'server_model': server_model,\n",
    "            'last_msg_id': last_msg_id,\n",
    "            'last_template_id': last_template_id\n",
    "        }\n",
    "        df_tmp1 = sub_log[sub_log['time_ts'] - fault_time_ts >= -60 * 60 * 2]\n",
    "        df_tmp2 = sub_log[sub_log['time_ts'] - fault_time_ts >= -60 * 60 * 24]\n",
    "        data_tmp = get_statistical_features(df_tmp1, df_tmp2, '2h')\n",
    "        data.update(data_tmp)\n",
    "        \n",
    "        data_tmp = get_time_feature(df_tmp1, fault_time_ts, '2h')\n",
    "        data.update(data_tmp)\n",
    "        \n",
    "        if data_type == 'train':\n",
    "            data['label'] = row['label']\n",
    "        ret.append(data)\n",
    "    return ret"
   ]
  },
  {
   "cell_type": "code",
   "execution_count": 10,
   "id": "f3572077",
   "metadata": {},
   "outputs": [
    {
     "name": "stderr",
     "output_type": "stream",
     "text": [
      "100%|████████████████████████████████████████████████████████████████████████████████████████████████████████| 16604/16604 [09:23<00:00, 29.47it/s]\n"
     ]
    }
   ],
   "source": [
    "train = make_dataset(label_df, data_type='train')\n",
    "df_train = pd.DataFrame(train)"
   ]
  },
  {
   "cell_type": "code",
   "execution_count": 11,
   "id": "e32d0e4c",
   "metadata": {
    "scrolled": true
   },
   "outputs": [
    {
     "name": "stderr",
     "output_type": "stream",
     "text": [
      "100%|██████████████████████████████████████████████████████████████████████████████████████████████████████████| 3030/3030 [01:42<00:00, 29.68it/s]\n"
     ]
    }
   ],
   "source": [
    "test = make_dataset(submit_df, data_type='test')\n",
    "df_test = pd.DataFrame(test)"
   ]
  },
  {
   "cell_type": "code",
   "execution_count": 12,
   "id": "ee9e8668",
   "metadata": {},
   "outputs": [],
   "source": [
    "df_train.to_csv('train1.csv', index=False)\n",
    "df_test.to_csv('test1.csv', index=False)"
   ]
  },
  {
   "cell_type": "code",
   "execution_count": null,
   "id": "e9f14090",
   "metadata": {},
   "outputs": [],
   "source": []
  },
  {
   "cell_type": "code",
   "execution_count": null,
   "id": "44fd5697",
   "metadata": {},
   "outputs": [],
   "source": []
  }
 ],
 "metadata": {
  "kernelspec": {
   "display_name": "Python 3 (ipykernel)",
   "language": "python",
   "name": "python3"
  },
  "language_info": {
   "codemirror_mode": {
    "name": "ipython",
    "version": 3
   },
   "file_extension": ".py",
   "mimetype": "text/x-python",
   "name": "python",
   "nbconvert_exporter": "python",
   "pygments_lexer": "ipython3",
   "version": "3.7.8"
  }
 },
 "nbformat": 4,
 "nbformat_minor": 5
}
