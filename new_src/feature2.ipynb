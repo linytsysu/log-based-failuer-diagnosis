{
 "cells": [
  {
   "cell_type": "code",
   "execution_count": 1,
   "id": "b5a19ce7",
   "metadata": {},
   "outputs": [],
   "source": [
    "import os\n",
    "import json\n",
    "import numpy as np\n",
    "import pandas as pd\n",
    "from tqdm import tqdm\n",
    "from collections import Counter\n",
    "\n",
    "from gensim.models.word2vec import Word2Vec\n",
    "from sklearn.feature_extraction.text import TfidfVectorizer\n",
    "from sklearn.decomposition import TruncatedSVD"
   ]
  },
  {
   "cell_type": "code",
   "execution_count": 2,
   "id": "414cf55f",
   "metadata": {},
   "outputs": [],
   "source": [
    "label1 = pd.read_csv('../data/preliminary_train_label_dataset.csv')\n",
    "label2 = pd.read_csv('../data/preliminary_train_label_dataset_s.csv')\n",
    "label_df = pd.concat([label1, label2]).reset_index(drop=True)\n",
    "label_df = label_df.drop_duplicates().reset_index(drop=True)"
   ]
  },
  {
   "cell_type": "code",
   "execution_count": 3,
   "id": "40f1fbb3",
   "metadata": {},
   "outputs": [],
   "source": [
    "submit_df = pd.read_csv('../data/preliminary_submit_dataset_b.csv')"
   ]
  },
  {
   "cell_type": "code",
   "execution_count": 4,
   "id": "e99d7a47",
   "metadata": {},
   "outputs": [],
   "source": [
    "log_df = pd.read_csv('./log_template.csv')"
   ]
  },
  {
   "cell_type": "code",
   "execution_count": 5,
   "id": "8f8c8cd4",
   "metadata": {},
   "outputs": [],
   "source": [
    "log_df['time'] = pd.to_datetime(log_df['time'])\n",
    "label_df['fault_time'] = pd.to_datetime(label_df['fault_time'])\n",
    "submit_df['fault_time'] = pd.to_datetime(submit_df['fault_time'])\n",
    "\n",
    "log_df['time_ts'] = log_df[\"time\"].values.astype(np.int64) // 10 ** 9\n",
    "label_df['fault_time_ts'] = label_df[\"fault_time\"].values.astype(np.int64) // 10 ** 9\n",
    "submit_df['fault_time_ts'] = submit_df[\"fault_time\"].values.astype(np.int64) // 10 ** 9"
   ]
  },
  {
   "cell_type": "code",
   "execution_count": 6,
   "id": "633d9a95",
   "metadata": {},
   "outputs": [],
   "source": [
    "label_df = label_df.merge(log_df[['sn', 'server_model']].drop_duplicates(), on=['sn'], how='left')\n",
    "submit_df = submit_df.merge(log_df[['sn', 'server_model']].drop_duplicates(), on=['sn'], how='left')"
   ]
  },
  {
   "cell_type": "code",
   "execution_count": 7,
   "id": "6b78112b",
   "metadata": {},
   "outputs": [],
   "source": [
    "def make_dataset(dataset, data_type='train'):\n",
    "    ret = []\n",
    "    for idx in tqdm(range(dataset.shape[0])):\n",
    "        row = dataset.iloc[idx]\n",
    "        sn = row['sn']\n",
    "        fault_time = row['fault_time']\n",
    "        fault_time_ts = row['fault_time_ts']\n",
    "        server_model = row['server_model']\n",
    "        sub_log = log_df[(log_df['sn'] == sn) & (log_df['time_ts'] <= fault_time_ts)]\n",
    "        sub_log = sub_log.sort_values(by='time')\n",
    "\n",
    "        df_tmp1 = sub_log[sub_log['time_ts'] - fault_time_ts >= -60 * 60 * 2]\n",
    "        template_counter = Counter()\n",
    "        template_counter.update(df_tmp1['template_id'].values)\n",
    "        template_counter = [(l,k) for k,l in sorted([(j,i) for i,j in template_counter.items()], reverse=True)]\n",
    "        \n",
    "        msg_counter = Counter()\n",
    "        msg_counter.update(df_tmp1['msg_id'].values)\n",
    "        msg_counter = [(l,k) for k,l in sorted([(j,i) for i,j in msg_counter.items()], reverse=True)]\n",
    "        \n",
    "        max_time = 0\n",
    "        cur_time = 0\n",
    "        cur_msg = 'NULL'\n",
    "        for msg in df_tmp1['msg_id'].values:\n",
    "            if msg == cur_msg:\n",
    "                cur_time += 1\n",
    "                max_time = max((cur_time, max_time))\n",
    "            else:\n",
    "                cur_msg = msg\n",
    "                cur_time = 1\n",
    "        \n",
    "        data = {\n",
    "            'sn': sn,\n",
    "            'fault_time': fault_time,\n",
    "            'tmp_appearance_1': str(template_counter[0][0]) if len(template_counter) > 0 else 'NULL',\n",
    "            'tmp_appearance_1_percent': template_counter[0][1] / df_tmp1.shape[0] if len(template_counter) > 0 else 0,\n",
    "            'tmp_appearance_2': str(template_counter[1][0]) if len(template_counter) > 1 else 'NULL',\n",
    "            'tmp_appearance_2_percent': template_counter[1][1] / df_tmp1.shape[0] if len(template_counter) > 1 else 0,\n",
    "            'tmp_appearance_3': str(template_counter[2][0]) if len(template_counter) > 2 else 'NULL',\n",
    "            'tmp_appearance_3_percent': template_counter[2][1] / df_tmp1.shape[0] if len(template_counter) > 2 else 0,\n",
    "            'msg_appearance_1': str(msg_counter[0][0]) if len(msg_counter) > 0 else 'NULL',\n",
    "            'msg_appearance_1_percent': msg_counter[0][1] / df_tmp1.shape[0] if len(msg_counter) > 0 else 0,\n",
    "            'msg_appearance_2': str(msg_counter[1][0]) if len(msg_counter) > 1 else 'NULL',\n",
    "            'msg_appearance_2_percent': msg_counter[1][1] / df_tmp1.shape[0] if len(msg_counter) > 1 else 0,\n",
    "            'msg_appearance_3': str(msg_counter[2][0]) if len(msg_counter) > 2 else 'NULL',\n",
    "            'msg_appearance_3_percent': msg_counter[2][1] / df_tmp1.shape[0] if len(msg_counter) > 2 else 0,\n",
    "            'max_continuous_msg': cur_msg,\n",
    "            'max_continuous_time': max_time\n",
    "        }\n",
    "        \n",
    "        if data_type == 'train':\n",
    "            data['label'] = row['label']\n",
    "        ret.append(data)\n",
    "    return ret"
   ]
  },
  {
   "cell_type": "code",
   "execution_count": 8,
   "id": "7eedf822",
   "metadata": {},
   "outputs": [
    {
     "name": "stderr",
     "output_type": "stream",
     "text": [
      "100%|████████████████████████████████████████████████████████████████████████████████████████████████████████| 16604/16604 [09:07<00:00, 30.33it/s]\n"
     ]
    }
   ],
   "source": [
    "train = make_dataset(label_df, data_type='train')\n",
    "df_train = pd.DataFrame(train)"
   ]
  },
  {
   "cell_type": "code",
   "execution_count": 9,
   "id": "44ccf403",
   "metadata": {},
   "outputs": [
    {
     "name": "stderr",
     "output_type": "stream",
     "text": [
      "100%|██████████████████████████████████████████████████████████████████████████████████████████████████████████| 3030/3030 [01:44<00:00, 29.10it/s]\n"
     ]
    }
   ],
   "source": [
    "test = make_dataset(submit_df, data_type='test')\n",
    "df_test = pd.DataFrame(test)"
   ]
  },
  {
   "cell_type": "code",
   "execution_count": 10,
   "id": "5e049305",
   "metadata": {},
   "outputs": [],
   "source": [
    "df_train.to_csv('train2.csv', index=False)\n",
    "df_test.to_csv('test2.csv', index=False)"
   ]
  },
  {
   "cell_type": "code",
   "execution_count": null,
   "id": "83a8f3ca",
   "metadata": {},
   "outputs": [],
   "source": []
  }
 ],
 "metadata": {
  "kernelspec": {
   "display_name": "Python 3 (ipykernel)",
   "language": "python",
   "name": "python3"
  },
  "language_info": {
   "codemirror_mode": {
    "name": "ipython",
    "version": 3
   },
   "file_extension": ".py",
   "mimetype": "text/x-python",
   "name": "python",
   "nbconvert_exporter": "python",
   "pygments_lexer": "ipython3",
   "version": "3.7.8"
  }
 },
 "nbformat": 4,
 "nbformat_minor": 5
}
