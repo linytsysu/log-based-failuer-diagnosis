{
 "cells": [
  {
   "cell_type": "code",
   "execution_count": 1,
   "id": "062edf1a",
   "metadata": {},
   "outputs": [],
   "source": [
    "import os\n",
    "import json\n",
    "import numpy as np\n",
    "import pandas as pd\n",
    "from tqdm import tqdm\n",
    "from collections import Counter\n",
    "\n",
    "from gensim.models.word2vec import Word2Vec\n",
    "from sklearn.feature_extraction.text import TfidfVectorizer\n",
    "from sklearn.decomposition import TruncatedSVD"
   ]
  },
  {
   "cell_type": "code",
   "execution_count": 2,
   "id": "77ac46e5",
   "metadata": {},
   "outputs": [],
   "source": [
    "label1 = pd.read_csv('../data/preliminary_train_label_dataset.csv')\n",
    "label2 = pd.read_csv('../data/preliminary_train_label_dataset_s.csv')\n",
    "label_df = pd.concat([label1, label2]).reset_index(drop=True)\n",
    "label_df = label_df.drop_duplicates().reset_index(drop=True)"
   ]
  },
  {
   "cell_type": "code",
   "execution_count": 3,
   "id": "f97ff973",
   "metadata": {},
   "outputs": [],
   "source": [
    "submit_df = pd.read_csv('../data/preliminary_submit_dataset_b.csv')"
   ]
  },
  {
   "cell_type": "code",
   "execution_count": 4,
   "id": "c255a78e",
   "metadata": {},
   "outputs": [],
   "source": [
    "log_df = pd.read_csv('./log_template.csv')"
   ]
  },
  {
   "cell_type": "code",
   "execution_count": 5,
   "id": "9ce8e600",
   "metadata": {},
   "outputs": [],
   "source": [
    "log_df['time'] = pd.to_datetime(log_df['time'])\n",
    "label_df['fault_time'] = pd.to_datetime(label_df['fault_time'])\n",
    "submit_df['fault_time'] = pd.to_datetime(submit_df['fault_time'])\n",
    "\n",
    "log_df['time_ts'] = log_df[\"time\"].values.astype(np.int64) // 10 ** 9\n",
    "label_df['fault_time_ts'] = label_df[\"fault_time\"].values.astype(np.int64) // 10 ** 9\n",
    "submit_df['fault_time_ts'] = submit_df[\"fault_time\"].values.astype(np.int64) // 10 ** 9"
   ]
  },
  {
   "cell_type": "code",
   "execution_count": 6,
   "id": "ba4e5e20",
   "metadata": {},
   "outputs": [],
   "source": [
    "log_df['time_gap'] = log_df['time'].dt.ceil('2h')"
   ]
  },
  {
   "cell_type": "code",
   "execution_count": 7,
   "id": "5b924253",
   "metadata": {},
   "outputs": [],
   "source": [
    "sentences_list = list()\n",
    "for info, group in log_df.groupby(['sn', 'time_gap']):\n",
    "    group = group.sort_values(by='time')\n",
    "    sentences_list.append(\"\\n\".join(group['msg_lower'].values))"
   ]
  },
  {
   "cell_type": "code",
   "execution_count": 8,
   "id": "09c28616",
   "metadata": {},
   "outputs": [
    {
     "data": {
      "text/plain": [
       "TfidfVectorizer(max_features=50000, min_df=5, ngram_range=(1, 3))"
      ]
     },
     "execution_count": 8,
     "metadata": {},
     "output_type": "execute_result"
    }
   ],
   "source": [
    "tfv = TfidfVectorizer(ngram_range=(1,3), min_df=5, max_features=50000)\n",
    "tfv.fit(sentences_list)"
   ]
  },
  {
   "cell_type": "code",
   "execution_count": 9,
   "id": "1bb0362e",
   "metadata": {},
   "outputs": [
    {
     "data": {
      "text/plain": [
       "TruncatedSVD(n_components=16)"
      ]
     },
     "execution_count": 9,
     "metadata": {},
     "output_type": "execute_result"
    }
   ],
   "source": [
    "X_tfidf = tfv.transform(sentences_list)\n",
    "svd = TruncatedSVD(n_components=16)\n",
    "svd.fit(X_tfidf)"
   ]
  },
  {
   "cell_type": "code",
   "execution_count": 10,
   "id": "50d947ee",
   "metadata": {},
   "outputs": [],
   "source": [
    "def get_tfidf_svd(sentence, n_components=16):\n",
    "    X_tfidf = tfv.transform(sentence)\n",
    "    X_svd = svd.transform(X_tfidf)\n",
    "    return X_svd"
   ]
  },
  {
   "cell_type": "code",
   "execution_count": 11,
   "id": "1410dc16",
   "metadata": {},
   "outputs": [],
   "source": [
    "def make_dataset(dataset, data_type='train'):\n",
    "    ret = []\n",
    "    for idx in tqdm(range(dataset.shape[0])):\n",
    "        row = dataset.iloc[idx]\n",
    "        sn = row['sn']\n",
    "        fault_time = row['fault_time']\n",
    "        fault_time_ts = row['fault_time_ts']\n",
    "        sub_log = log_df[(log_df['sn'] == sn) & (log_df['time_ts'] <= fault_time_ts)]\n",
    "        sub_log = sub_log.sort_values(by='time')\n",
    "\n",
    "        df_tmp1 = sub_log[sub_log['time_ts'] - fault_time_ts >= -60 * 60 * 2]\n",
    "        \n",
    "        data = {\n",
    "            'sn': sn,\n",
    "            'fault_time': fault_time,\n",
    "        }\n",
    "        vec = get_tfidf_svd(['\\n'.join(df_tmp1['msg_lower'].values.astype(str))])[0]\n",
    "        for i in range(16):\n",
    "            data['tfv_%d'%i] = vec[i]\n",
    "        if data_type == 'train':\n",
    "            data['label'] = row['label']\n",
    "        ret.append(data)\n",
    "    return ret"
   ]
  },
  {
   "cell_type": "code",
   "execution_count": 12,
   "id": "7f200431",
   "metadata": {},
   "outputs": [
    {
     "name": "stderr",
     "output_type": "stream",
     "text": [
      "100%|████████████████████████████████████████████████████████████████████████████████████████████████████████| 16604/16604 [09:41<00:00, 28.56it/s]\n"
     ]
    }
   ],
   "source": [
    "train = make_dataset(label_df, data_type='train')\n",
    "df_train = pd.DataFrame(train)"
   ]
  },
  {
   "cell_type": "code",
   "execution_count": 13,
   "id": "13b69f63",
   "metadata": {},
   "outputs": [
    {
     "name": "stderr",
     "output_type": "stream",
     "text": [
      "100%|██████████████████████████████████████████████████████████████████████████████████████████████████████████| 3030/3030 [01:42<00:00, 29.69it/s]\n"
     ]
    }
   ],
   "source": [
    "test = make_dataset(submit_df, data_type='test')\n",
    "df_test = pd.DataFrame(test)"
   ]
  },
  {
   "cell_type": "code",
   "execution_count": 14,
   "id": "73f684ab",
   "metadata": {},
   "outputs": [],
   "source": [
    "df_train.to_csv('train5.csv', index=False)\n",
    "df_test.to_csv('test5.csv', index=False)"
   ]
  },
  {
   "cell_type": "code",
   "execution_count": null,
   "id": "2bb35938",
   "metadata": {},
   "outputs": [],
   "source": []
  }
 ],
 "metadata": {
  "kernelspec": {
   "display_name": "Python 3 (ipykernel)",
   "language": "python",
   "name": "python3"
  },
  "language_info": {
   "codemirror_mode": {
    "name": "ipython",
    "version": 3
   },
   "file_extension": ".py",
   "mimetype": "text/x-python",
   "name": "python",
   "nbconvert_exporter": "python",
   "pygments_lexer": "ipython3",
   "version": "3.7.8"
  }
 },
 "nbformat": 4,
 "nbformat_minor": 5
}
