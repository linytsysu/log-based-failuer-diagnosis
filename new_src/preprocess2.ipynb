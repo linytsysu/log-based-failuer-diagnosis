{
 "cells": [
  {
   "cell_type": "code",
   "execution_count": 1,
   "id": "13762f89",
   "metadata": {},
   "outputs": [],
   "source": [
    "import os\n",
    "import json\n",
    "import numpy as np\n",
    "import pandas as pd\n",
    "from tqdm import tqdm\n",
    "from collections import Counter"
   ]
  },
  {
   "cell_type": "code",
   "execution_count": 2,
   "id": "92e17cd9",
   "metadata": {},
   "outputs": [],
   "source": [
    "log_df = pd.read_csv('new_log.csv')"
   ]
  },
  {
   "cell_type": "code",
   "execution_count": 3,
   "id": "111a1663",
   "metadata": {},
   "outputs": [],
   "source": [
    "log_df = log_df.sort_values(by='msg_lower')"
   ]
  },
  {
   "cell_type": "code",
   "execution_count": 4,
   "id": "b631b00e",
   "metadata": {},
   "outputs": [],
   "source": [
    "from drain3 import TemplateMiner #开源在线日志解析框架\n",
    "from drain3.file_persistence import FilePersistence\n",
    "from drain3.template_miner_config import TemplateMinerConfig"
   ]
  },
  {
   "cell_type": "code",
   "execution_count": 5,
   "id": "5e65c4f3",
   "metadata": {},
   "outputs": [],
   "source": [
    "config = TemplateMinerConfig()\n",
    "config.load('./drain3.ini') ## 这个文件在drain3的github仓库里有\n",
    "config.profiling_enabled = False"
   ]
  },
  {
   "cell_type": "code",
   "execution_count": 6,
   "id": "0d3f9fc5",
   "metadata": {},
   "outputs": [],
   "source": [
    "drain_file = 'comp_a_sellog'\n",
    "persistence = FilePersistence(drain_file + '.bin')\n",
    "template_miner = TemplateMiner(persistence, config=config)"
   ]
  },
  {
   "cell_type": "code",
   "execution_count": 7,
   "id": "f15e5ad0",
   "metadata": {},
   "outputs": [],
   "source": [
    "for msg in log_df.msg_lower.tolist():\n",
    "    template_miner.add_log_message(msg)\n",
    "temp_count = len(template_miner.drain.clusters)"
   ]
  },
  {
   "cell_type": "code",
   "execution_count": 8,
   "id": "3557d2bb",
   "metadata": {},
   "outputs": [],
   "source": [
    "template_dic = {}\n",
    "\n",
    "for cluster in template_miner.drain.clusters:\n",
    "    template_dic[cluster.cluster_id] = cluster.size"
   ]
  },
  {
   "cell_type": "code",
   "execution_count": 9,
   "id": "b3bffc6c",
   "metadata": {},
   "outputs": [],
   "source": [
    "temp_count_f = len(template_dic)"
   ]
  },
  {
   "cell_type": "code",
   "execution_count": 10,
   "id": "864476a7",
   "metadata": {},
   "outputs": [
    {
     "data": {
      "text/plain": [
       "187"
      ]
     },
     "execution_count": 10,
     "metadata": {},
     "output_type": "execute_result"
    }
   ],
   "source": [
    "temp_count_f"
   ]
  },
  {
   "cell_type": "code",
   "execution_count": 11,
   "id": "29c6238b",
   "metadata": {},
   "outputs": [],
   "source": [
    "def match_template(df, template_miner, template_dic):\n",
    "    msg = df.msg_lower\n",
    "    cluster = template_miner.match(msg) # 匹配模板，由开源工具提供\n",
    "    if cluster and cluster.cluster_id in template_dic:\n",
    "        df['template_id'] = cluster.cluster_id # 模板id\n",
    "        df['template'] = cluster.get_template() # 具体模板\n",
    "    else:\n",
    "        df['template_id'] = 'None' # 没有匹配到模板的数据也会记录下来，之后也会用作一种特征。\n",
    "        df['template'] = 'None'\n",
    "    return df"
   ]
  },
  {
   "cell_type": "code",
   "execution_count": 12,
   "id": "f845e8cb",
   "metadata": {},
   "outputs": [],
   "source": [
    "log_df = log_df.apply(match_template, template_miner=template_miner, template_dic=template_dic, axis=1)"
   ]
  },
  {
   "cell_type": "code",
   "execution_count": 13,
   "id": "361f53a8",
   "metadata": {},
   "outputs": [],
   "source": [
    "log_df.to_csv('log_template.csv', index=False)"
   ]
  },
  {
   "cell_type": "code",
   "execution_count": null,
   "id": "bbad3a40",
   "metadata": {},
   "outputs": [],
   "source": []
  },
  {
   "cell_type": "code",
   "execution_count": null,
   "id": "d104de32",
   "metadata": {},
   "outputs": [],
   "source": []
  },
  {
   "cell_type": "code",
   "execution_count": null,
   "id": "b44f6771",
   "metadata": {},
   "outputs": [],
   "source": []
  }
 ],
 "metadata": {
  "kernelspec": {
   "display_name": "Python 3 (ipykernel)",
   "language": "python",
   "name": "python3"
  },
  "language_info": {
   "codemirror_mode": {
    "name": "ipython",
    "version": 3
   },
   "file_extension": ".py",
   "mimetype": "text/x-python",
   "name": "python",
   "nbconvert_exporter": "python",
   "pygments_lexer": "ipython3",
   "version": "3.7.8"
  }
 },
 "nbformat": 4,
 "nbformat_minor": 5
}
