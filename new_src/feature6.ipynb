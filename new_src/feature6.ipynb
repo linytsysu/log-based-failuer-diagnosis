{
 "cells": [
  {
   "cell_type": "code",
   "execution_count": 1,
   "id": "96802f58",
   "metadata": {},
   "outputs": [],
   "source": [
    "import os\n",
    "import json\n",
    "import numpy as np\n",
    "import pandas as pd\n",
    "from tqdm import tqdm\n",
    "from collections import Counter\n",
    "\n",
    "from gensim.models.word2vec import Word2Vec\n",
    "from sklearn.feature_extraction.text import TfidfVectorizer\n",
    "from sklearn.decomposition import TruncatedSVD"
   ]
  },
  {
   "cell_type": "code",
   "execution_count": 2,
   "id": "7a5342eb",
   "metadata": {},
   "outputs": [],
   "source": [
    "label1 = pd.read_csv('../data/preliminary_train_label_dataset.csv')\n",
    "label2 = pd.read_csv('../data/preliminary_train_label_dataset_s.csv')\n",
    "label_df = pd.concat([label1, label2]).reset_index(drop=True)\n",
    "label_df = label_df.drop_duplicates().reset_index(drop=True)"
   ]
  },
  {
   "cell_type": "code",
   "execution_count": 3,
   "id": "48cfd0cc",
   "metadata": {},
   "outputs": [],
   "source": [
    "submit_df = pd.read_csv('../data/preliminary_submit_dataset_a.csv')"
   ]
  },
  {
   "cell_type": "code",
   "execution_count": 4,
   "id": "846eb466",
   "metadata": {},
   "outputs": [],
   "source": [
    "log_df = pd.read_csv('./log_template.csv')"
   ]
  },
  {
   "cell_type": "code",
   "execution_count": 5,
   "id": "e9000a76",
   "metadata": {},
   "outputs": [],
   "source": [
    "log_df['time'] = pd.to_datetime(log_df['time'])\n",
    "label_df['fault_time'] = pd.to_datetime(label_df['fault_time'])\n",
    "submit_df['fault_time'] = pd.to_datetime(submit_df['fault_time'])\n",
    "\n",
    "log_df['time_ts'] = log_df[\"time\"].values.astype(np.int64) // 10 ** 9\n",
    "label_df['fault_time_ts'] = label_df[\"fault_time\"].values.astype(np.int64) // 10 ** 9\n",
    "submit_df['fault_time_ts'] = submit_df[\"fault_time\"].values.astype(np.int64) // 10 ** 9"
   ]
  },
  {
   "cell_type": "code",
   "execution_count": 6,
   "id": "2644f488",
   "metadata": {},
   "outputs": [],
   "source": [
    "label_df = label_df.merge(log_df[['sn', 'server_model']].drop_duplicates(), on=['sn'], how='left')\n",
    "submit_df = submit_df.merge(log_df[['sn', 'server_model']].drop_duplicates(), on=['sn'], how='left')"
   ]
  },
  {
   "cell_type": "code",
   "execution_count": 7,
   "id": "bdcd076a",
   "metadata": {},
   "outputs": [],
   "source": [
    "log_df['time_gap'] = log_df['time'].dt.ceil('2h')"
   ]
  },
  {
   "cell_type": "code",
   "execution_count": 8,
   "id": "18305232",
   "metadata": {},
   "outputs": [],
   "source": [
    "sentences_list = list()\n",
    "for info, group in log_df.groupby(['sn', 'time_gap']):\n",
    "    group = group.sort_values(by='time')\n",
    "    sentences_list.append(\" \".join(group['msg_id'].values.astype(str)))"
   ]
  },
  {
   "cell_type": "code",
   "execution_count": 9,
   "id": "7b297682",
   "metadata": {},
   "outputs": [],
   "source": [
    "sentences = list()\n",
    "for s in sentences_list:\n",
    "    sentences.append([w for w in s.split()])"
   ]
  },
  {
   "cell_type": "code",
   "execution_count": 10,
   "id": "4c23174e",
   "metadata": {},
   "outputs": [],
   "source": [
    "w2v_model = Word2Vec(sentences, vector_size=64, window=3, min_count=2, sg=0, hs=1, seed=2022)"
   ]
  },
  {
   "cell_type": "code",
   "execution_count": 11,
   "id": "00fdeac4",
   "metadata": {},
   "outputs": [],
   "source": [
    "def get_w2v_mean(sentences):\n",
    "    emb_matrix = list()\n",
    "    vec = list()\n",
    "    for w in sentences.split():\n",
    "        if w in w2v_model.wv:\n",
    "            vec.append(w2v_model.wv[w])\n",
    "    if len(vec) > 0:\n",
    "        emb_matrix.append(np.mean(vec, axis=0))\n",
    "    else:\n",
    "        emb_matrix.append([0] * w2v_model.vector_size)\n",
    "    return emb_matrix"
   ]
  },
  {
   "cell_type": "code",
   "execution_count": 12,
   "id": "c3b659e8",
   "metadata": {},
   "outputs": [],
   "source": [
    "def make_dataset(dataset, data_type='train'):\n",
    "    ret = []\n",
    "    for idx in tqdm(range(dataset.shape[0])):\n",
    "        row = dataset.iloc[idx]\n",
    "        sn = row['sn']\n",
    "        fault_time = row['fault_time']\n",
    "        fault_time_ts = row['fault_time_ts']\n",
    "        sub_log = log_df[(log_df['sn'] == sn) & (log_df['time_ts'] <= fault_time_ts)]\n",
    "        sub_log = sub_log.sort_values(by='time')\n",
    "\n",
    "        df_tmp1 = sub_log[sub_log['time_ts'] - fault_time_ts >= -60 * 60 * 2]\n",
    "        \n",
    "        data = {\n",
    "            'sn': sn,\n",
    "            'fault_time': fault_time,\n",
    "        }\n",
    "        vec = get_w2v_mean(' '.join(df_tmp1['msg_id'].values.astype(str)))[0]\n",
    "        for i in range(64):\n",
    "            data['msgid_w2v_%d'%i] = vec[i]\n",
    "        if data_type == 'train':\n",
    "            data['label'] = row['label']\n",
    "        ret.append(data)\n",
    "    return ret"
   ]
  },
  {
   "cell_type": "code",
   "execution_count": 13,
   "id": "a00c3a28",
   "metadata": {},
   "outputs": [
    {
     "name": "stderr",
     "output_type": "stream",
     "text": [
      "100%|████████████████████████████████████████████████████████████████████████████████████████████████████████████████| 16604/16604 [08:59<00:00, 30.76it/s]\n"
     ]
    }
   ],
   "source": [
    "train = make_dataset(label_df, data_type='train')\n",
    "df_train = pd.DataFrame(train)"
   ]
  },
  {
   "cell_type": "code",
   "execution_count": 14,
   "id": "bb2f23e1",
   "metadata": {},
   "outputs": [
    {
     "name": "stderr",
     "output_type": "stream",
     "text": [
      "100%|██████████████████████████████████████████████████████████████████████████████████████████████████████████████████| 3011/3011 [01:36<00:00, 31.15it/s]\n"
     ]
    }
   ],
   "source": [
    "test = make_dataset(submit_df, data_type='test')\n",
    "df_test = pd.DataFrame(test)"
   ]
  },
  {
   "cell_type": "code",
   "execution_count": 15,
   "id": "b0d9d7d8",
   "metadata": {},
   "outputs": [],
   "source": [
    "df_train.to_csv('train7.csv', index=False)\n",
    "df_test.to_csv('test7.csv', index=False)"
   ]
  },
  {
   "cell_type": "code",
   "execution_count": null,
   "id": "edc5c023",
   "metadata": {},
   "outputs": [],
   "source": []
  }
 ],
 "metadata": {
  "kernelspec": {
   "display_name": "Python 3 (ipykernel)",
   "language": "python",
   "name": "python3"
  },
  "language_info": {
   "codemirror_mode": {
    "name": "ipython",
    "version": 3
   },
   "file_extension": ".py",
   "mimetype": "text/x-python",
   "name": "python",
   "nbconvert_exporter": "python",
   "pygments_lexer": "ipython3",
   "version": "3.7.9"
  }
 },
 "nbformat": 4,
 "nbformat_minor": 5
}
