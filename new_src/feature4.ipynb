{
 "cells": [
  {
   "cell_type": "code",
   "execution_count": 1,
   "id": "1f66c2a1",
   "metadata": {},
   "outputs": [],
   "source": [
    "import os\n",
    "import json\n",
    "import numpy as np\n",
    "import pandas as pd\n",
    "from tqdm import tqdm\n",
    "from collections import Counter"
   ]
  },
  {
   "cell_type": "code",
   "execution_count": 2,
   "id": "30f9abbd",
   "metadata": {},
   "outputs": [],
   "source": [
    "label1 = pd.read_csv('../data/preliminary_train_label_dataset.csv')\n",
    "label2 = pd.read_csv('../data/preliminary_train_label_dataset_s.csv')\n",
    "label_df = pd.concat([label1, label2]).reset_index(drop=True)\n",
    "label_df = label_df.drop_duplicates().reset_index(drop=True)"
   ]
  },
  {
   "cell_type": "code",
   "execution_count": 3,
   "id": "0c2da6f9",
   "metadata": {},
   "outputs": [],
   "source": [
    "submit_df = pd.read_csv('../data/preliminary_submit_dataset_b.csv')"
   ]
  },
  {
   "cell_type": "code",
   "execution_count": 4,
   "id": "b4ed5dac",
   "metadata": {},
   "outputs": [],
   "source": [
    "log_df = pd.read_csv('./new_log.csv')"
   ]
  },
  {
   "cell_type": "code",
   "execution_count": 5,
   "id": "41e0c63c",
   "metadata": {},
   "outputs": [],
   "source": [
    "log_df['time'] = pd.to_datetime(log_df['time'])\n",
    "label_df['fault_time'] = pd.to_datetime(label_df['fault_time'])\n",
    "submit_df['fault_time'] = pd.to_datetime(submit_df['fault_time'])\n",
    "\n",
    "log_df['time_ts'] = log_df[\"time\"].values.astype(np.int64) // 10 ** 9\n",
    "label_df['fault_time_ts'] = label_df[\"fault_time\"].values.astype(np.int64) // 10 ** 9\n",
    "submit_df['fault_time_ts'] = submit_df[\"fault_time\"].values.astype(np.int64) // 10 ** 9"
   ]
  },
  {
   "cell_type": "code",
   "execution_count": 6,
   "id": "edafca90",
   "metadata": {},
   "outputs": [],
   "source": [
    "label_df = label_df.merge(log_df[['sn', 'server_model']].drop_duplicates(), on=['sn'], how='left')\n",
    "submit_df = submit_df.merge(log_df[['sn', 'server_model']].drop_duplicates(), on=['sn'], how='left')"
   ]
  },
  {
   "cell_type": "code",
   "execution_count": 7,
   "id": "78e99baf",
   "metadata": {},
   "outputs": [],
   "source": [
    "label_cnt_df = label_df.groupby('label').size().reset_index().rename({0: 'label_cnt'}, axis=1)\n",
    "\n",
    "label_model_cnt_df = label_df.groupby(['server_model', 'label']).size().reset_index()\\\n",
    "    .rename({0: 'label_model_cnt'}, axis=1)\n",
    "\n",
    "label_model_cnt_df = label_model_cnt_df.merge(label_cnt_df, on='label', how='left')\n",
    "\n",
    "label_model_cnt_df['model/label'] = label_model_cnt_df['label_model_cnt'] / label_model_cnt_df['label_cnt']"
   ]
  },
  {
   "cell_type": "code",
   "execution_count": 8,
   "id": "cecd15c9",
   "metadata": {},
   "outputs": [],
   "source": [
    "def make_dataset(dataset, data_type='train'):\n",
    "    ret = []\n",
    "    for idx, row in tqdm(dataset.iterrows()):\n",
    "        sn = row['sn']\n",
    "        fault_time = row['fault_time']\n",
    "        ts = row['fault_time_ts']\n",
    "        \n",
    "        if data_type == 'train':\n",
    "            label = row['label']\n",
    "\n",
    "        df = log_df[log_df['sn'] == sn].copy()\n",
    "        df = df[df['time_ts'] <= ts].copy()\n",
    "        df = df.sort_values(by='time_ts').reset_index(drop=True)\n",
    "        df = df.tail(20).copy()\n",
    "\n",
    "        if df.shape[0] > 0:\n",
    "            server_model = df['server_model'].values[0]\n",
    "            sub = label_model_cnt_df[label_model_cnt_df['server_model'] == server_model]\n",
    "            probas = [0, 0, 0, 0]\n",
    "            for item in sub.values:\n",
    "                probas[item[1]] = item[4]\n",
    "            server_model = int(server_model[2:])\n",
    "        else:\n",
    "            server_model = np.nan\n",
    "            probas = [0, 0, 0, 0]\n",
    "\n",
    "        if data_type == 'train':\n",
    "            ret.append([sn, fault_time] + probas + [label])\n",
    "        else:\n",
    "            ret.append([sn, fault_time] + probas)\n",
    "    return ret"
   ]
  },
  {
   "cell_type": "code",
   "execution_count": 9,
   "id": "279bfa52",
   "metadata": {},
   "outputs": [
    {
     "name": "stderr",
     "output_type": "stream",
     "text": [
      "16604it [09:03, 30.56it/s]\n"
     ]
    }
   ],
   "source": [
    "train = make_dataset(label_df, data_type='train')\n",
    "df_train = pd.DataFrame(train)"
   ]
  },
  {
   "cell_type": "code",
   "execution_count": 10,
   "id": "dcb938b7",
   "metadata": {},
   "outputs": [
    {
     "name": "stderr",
     "output_type": "stream",
     "text": [
      "3030it [01:41, 29.71it/s]\n"
     ]
    }
   ],
   "source": [
    "test = make_dataset(submit_df, data_type='test')\n",
    "df_test = pd.DataFrame(test)"
   ]
  },
  {
   "cell_type": "code",
   "execution_count": 11,
   "id": "119a593f",
   "metadata": {},
   "outputs": [],
   "source": [
    "df_train.columns = ['sn', 'fault_time', 'p0', 'p1', 'p2', 'p3', 'label']\n",
    "df_test.columns = ['sn', 'fault_time', 'p0', 'p1', 'p2', 'p3',]"
   ]
  },
  {
   "cell_type": "code",
   "execution_count": 12,
   "id": "b2a007ea",
   "metadata": {},
   "outputs": [],
   "source": [
    "df_train.to_csv('train4.csv', index=False)\n",
    "df_test.to_csv('test4.csv', index=False)"
   ]
  },
  {
   "cell_type": "code",
   "execution_count": null,
   "id": "c98e0b93",
   "metadata": {},
   "outputs": [],
   "source": []
  }
 ],
 "metadata": {
  "kernelspec": {
   "display_name": "Python 3 (ipykernel)",
   "language": "python",
   "name": "python3"
  },
  "language_info": {
   "codemirror_mode": {
    "name": "ipython",
    "version": 3
   },
   "file_extension": ".py",
   "mimetype": "text/x-python",
   "name": "python",
   "nbconvert_exporter": "python",
   "pygments_lexer": "ipython3",
   "version": "3.7.8"
  }
 },
 "nbformat": 4,
 "nbformat_minor": 5
}
