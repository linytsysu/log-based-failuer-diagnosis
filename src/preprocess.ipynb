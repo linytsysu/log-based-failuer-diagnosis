{
 "cells": [
  {
   "cell_type": "code",
   "execution_count": 1,
   "id": "4e653819",
   "metadata": {},
   "outputs": [],
   "source": [
    "import os\n",
    "import json\n",
    "import numpy as np\n",
    "import pandas as pd\n",
    "from tqdm import tqdm\n",
    "from collections import Counter"
   ]
  },
  {
   "cell_type": "code",
   "execution_count": 2,
   "id": "388e2d3c",
   "metadata": {},
   "outputs": [],
   "source": [
    "label1 = pd.read_csv('../data/preliminary_train_label_dataset.csv')\n",
    "label2 = pd.read_csv('../data/preliminary_train_label_dataset_s.csv')\n",
    "label_df = pd.concat([label1, label2]).reset_index(drop=True)"
   ]
  },
  {
   "cell_type": "code",
   "execution_count": 3,
   "id": "1ecd81fd",
   "metadata": {},
   "outputs": [],
   "source": [
    "train_log_df = pd.read_csv('../data/preliminary_sel_log_dataset.csv')\n",
    "test_log_df = pd.read_csv('../data/preliminary_sel_log_dataset_a.csv')\n",
    "\n",
    "log_df = pd.concat([train_log_df, test_log_df]).reset_index(drop=True)"
   ]
  },
  {
   "cell_type": "code",
   "execution_count": 4,
   "id": "32161534",
   "metadata": {},
   "outputs": [
    {
     "name": "stderr",
     "output_type": "stream",
     "text": [
      "100%|███████████████████████████████████████████████████████████████████████████████████████████████████████| 493527/493527 [00:30<00:00, 16165.28it/s]\n"
     ]
    }
   ],
   "source": [
    "data = []\n",
    "for i in tqdm(range(log_df.shape[0])):\n",
    "    row = log_df.iloc[i]\n",
    "    msg = row['msg'].strip().lower()\n",
    "    if msg.find('oem record') > 0:\n",
    "        msg = 'hex | oem record hex | seq'\n",
    "    if msg.startswith('oem record'):\n",
    "        msg = 'oem record | %s | seq'%(msg.split(' | ')[1])\n",
    "    if msg.startswith('temperature') and len(msg.split(' | ')) == 4:\n",
    "        msg = ' | '.join(msg.split(' | ')[:3])\n",
    "    if msg.startswith('temperature') and msg.split(' | ')[2].startswith('reading'):\n",
    "        msg = ' | '.join(msg.split(' | ')[:2]) + ' | seq'\n",
    "    if msg.startswith('memory dimm'):\n",
    "        msg = 'memory dimm | ' + ' | '.join(msg.split(' | ')[1:])\n",
    "    if msg.startswith('fan') and len(msg.split(' | ')) == 4:\n",
    "        msg = 'fan | ' + ' | '.join(msg.split(' | ')[1:3])\n",
    "    if msg.startswith('fan') and  msg.split(' | ')[2].startswith('reading'):\n",
    "        msg = 'fan | %s | seq'%(msg.split(' | ')[1])\n",
    "    if msg.startswith('memory #0x'):\n",
    "        msg = 'memory hex | ' + ' | '.join(msg.split(' | ')[1:])\n",
    "    if msg.startswith('drive slot hdd'):\n",
    "        msg = 'drive slot hdd | ' + ' | '.join(msg.split(' | ')[1:])\n",
    "    if msg.startswith('drive slot disk'):\n",
    "        msg = 'drive slot disk | ' + ' | '.join(msg.split(' | ')[1:])\n",
    "    if msg.startswith('drive slot / bay hdd'):\n",
    "        msg = 'drive slot / bay hdd | ' + ' | '.join(msg.split(' | ')[1:])\n",
    "    if msg.startswith('drive slot / bay disk'):\n",
    "        msg = 'drive slot / bay disk | ' + ' | '.join(msg.split(' | ')[1:])\n",
    "    if msg.startswith('drive slot / bay nvmessd'):\n",
    "        msg = 'drive slot / bay nvmessd | ' + ' | '.join(msg.split(' | ')[1:])\n",
    "    if msg.startswith('drive slot / bay bp'):\n",
    "        msg = 'drive slot / bay bp | ' + ' | '.join(msg.split(' | ')[1:])\n",
    "    if msg.startswith('drive slot / bay rear'):\n",
    "        msg = 'drive slot / bay rear | ' + ' | '.join(msg.split(' | ')[1:])\n",
    "    if msg.startswith('drive slot / bay front'):\n",
    "        msg = 'drive slot / bay front | ' + ' | '.join(msg.split(' | ')[1:])\n",
    "    if msg.startswith('drive slot / bay #0x'):\n",
    "        msg = 'drive slot / bay hex | ' + ' | '.join(msg.split(' | ')[1:])\n",
    "    if msg.startswith('power supply ps'):\n",
    "        msg = 'power supply ps | ' + ' | '.join(msg.split(' | ')[1:])\n",
    "    if msg.startswith('drive slot front'):\n",
    "        msg = 'drive slot front | ' + ' | '.join(msg.split(' | ')[1:])\n",
    "    if msg.startswith('processor #0x'):\n",
    "        msg = 'processor hex | ' + ' | '.join(msg.split(' | ')[1:])\n",
    "    if msg.startswith('memory cpu0_'):\n",
    "        msg = 'memory cpu0_hex | ' + ' | '.join(msg.split(' | ')[1:])\n",
    "    if msg.startswith('memory cpu1_'):\n",
    "        msg = 'memory cpu1_hex | ' + ' | '.join(msg.split(' | ')[1:])\n",
    "    if msg.startswith('drive slot #0'):\n",
    "        msg = 'drive slot hex | ' + ' | '.join(msg.split(' | ')[1:])\n",
    "    if msg.startswith('memory mem_ch'):\n",
    "        msg = 'memory mem_ch | ' + ' | '.join(msg.split(' | ')[1:])\n",
    "    if msg.startswith('power supply #0'):\n",
    "        msg = 'power supply hex | ' + ' | '.join(msg.split(' | ')[1:])\n",
    "    data.append(msg)"
   ]
  },
  {
   "cell_type": "code",
   "execution_count": 5,
   "id": "0a2f174e",
   "metadata": {},
   "outputs": [],
   "source": [
    "log_df['msg_lower'] = data"
   ]
  },
  {
   "cell_type": "code",
   "execution_count": 6,
   "id": "a4b7b2f4",
   "metadata": {},
   "outputs": [
    {
     "data": {
      "text/plain": [
       "range(0, 1121)"
      ]
     },
     "execution_count": 6,
     "metadata": {},
     "output_type": "execute_result"
    }
   ],
   "source": [
    "range(log_df['msg_lower'].unique().shape[0])"
   ]
  },
  {
   "cell_type": "code",
   "execution_count": 7,
   "id": "026c8a33",
   "metadata": {},
   "outputs": [],
   "source": [
    "msg_unique = log_df['msg_lower'].unique()"
   ]
  },
  {
   "cell_type": "code",
   "execution_count": 8,
   "id": "06b9e50a",
   "metadata": {},
   "outputs": [],
   "source": [
    "msg_map = {}\n",
    "for i in range(len(msg_unique)):\n",
    "    msg_map[msg_unique[i]] = i"
   ]
  },
  {
   "cell_type": "code",
   "execution_count": 9,
   "id": "2efc2aea",
   "metadata": {},
   "outputs": [],
   "source": [
    "log_df['msg_id'] = log_df['msg_lower'].apply(lambda x: msg_map[x])"
   ]
  },
  {
   "cell_type": "code",
   "execution_count": 10,
   "id": "3ed3228e",
   "metadata": {},
   "outputs": [],
   "source": [
    "log_df.to_csv('new_log.csv', index=False)"
   ]
  },
  {
   "cell_type": "code",
   "execution_count": null,
   "id": "ac3799c2",
   "metadata": {},
   "outputs": [],
   "source": []
  }
 ],
 "metadata": {
  "kernelspec": {
   "display_name": "Python 3 (ipykernel)",
   "language": "python",
   "name": "python3"
  },
  "language_info": {
   "codemirror_mode": {
    "name": "ipython",
    "version": 3
   },
   "file_extension": ".py",
   "mimetype": "text/x-python",
   "name": "python",
   "nbconvert_exporter": "python",
   "pygments_lexer": "ipython3",
   "version": "3.7.8"
  }
 },
 "nbformat": 4,
 "nbformat_minor": 5
}
