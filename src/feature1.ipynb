{
 "cells": [
  {
   "cell_type": "code",
   "execution_count": 1,
   "id": "7bc180fd",
   "metadata": {},
   "outputs": [],
   "source": [
    "import os\n",
    "import json\n",
    "import numpy as np\n",
    "import pandas as pd\n",
    "from tqdm import tqdm\n",
    "from collections import Counter\n",
    "\n",
    "from gensim.models.word2vec import Word2Vec\n",
    "from sklearn.feature_extraction.text import TfidfVectorizer\n",
    "from sklearn.decomposition import TruncatedSVD"
   ]
  },
  {
   "cell_type": "code",
   "execution_count": 2,
   "id": "300df59b",
   "metadata": {},
   "outputs": [],
   "source": [
    "label1 = pd.read_csv('../data/preliminary_train_label_dataset.csv')\n",
    "label2 = pd.read_csv('../data/preliminary_train_label_dataset_s.csv')\n",
    "label_df = pd.concat([label1, label2]).reset_index(drop=True)\n",
    "label_df = label_df.drop_duplicates().reset_index(drop=True)"
   ]
  },
  {
   "cell_type": "code",
   "execution_count": 3,
   "id": "50897e3e",
   "metadata": {},
   "outputs": [],
   "source": [
    "submit_df = pd.read_csv('../data/preliminary_submit_dataset_a.csv')"
   ]
  },
  {
   "cell_type": "code",
   "execution_count": 4,
   "id": "431f03e2",
   "metadata": {},
   "outputs": [],
   "source": [
    "log_df = pd.read_csv('./new_log.csv')"
   ]
  },
  {
   "cell_type": "code",
   "execution_count": 5,
   "id": "3e58eff7",
   "metadata": {},
   "outputs": [
    {
     "data": {
      "text/html": [
       "<div>\n",
       "<style scoped>\n",
       "    .dataframe tbody tr th:only-of-type {\n",
       "        vertical-align: middle;\n",
       "    }\n",
       "\n",
       "    .dataframe tbody tr th {\n",
       "        vertical-align: top;\n",
       "    }\n",
       "\n",
       "    .dataframe thead th {\n",
       "        text-align: right;\n",
       "    }\n",
       "</style>\n",
       "<table border=\"1\" class=\"dataframe\">\n",
       "  <thead>\n",
       "    <tr style=\"text-align: right;\">\n",
       "      <th></th>\n",
       "      <th>sn</th>\n",
       "      <th>time</th>\n",
       "      <th>msg</th>\n",
       "      <th>server_model</th>\n",
       "      <th>msg_lower</th>\n",
       "      <th>msg_id</th>\n",
       "    </tr>\n",
       "  </thead>\n",
       "  <tbody>\n",
       "    <tr>\n",
       "      <th>0</th>\n",
       "      <td>SERVER_25698</td>\n",
       "      <td>2020-10-09 08:32:21</td>\n",
       "      <td>System Boot Initiated BIOS_Boot_Up | State As...</td>\n",
       "      <td>SM0</td>\n",
       "      <td>system boot initiated bios_boot_up | state ass...</td>\n",
       "      <td>0</td>\n",
       "    </tr>\n",
       "    <tr>\n",
       "      <th>1</th>\n",
       "      <td>SERVER_25698</td>\n",
       "      <td>2020-10-09 07:43:48</td>\n",
       "      <td>System Boot Initiated BIOS_Boot_Up | State As...</td>\n",
       "      <td>SM0</td>\n",
       "      <td>system boot initiated bios_boot_up | state ass...</td>\n",
       "      <td>0</td>\n",
       "    </tr>\n",
       "    <tr>\n",
       "      <th>2</th>\n",
       "      <td>SERVER_25698</td>\n",
       "      <td>2020-10-09 08:16:22</td>\n",
       "      <td>System Boot Initiated BIOS_Boot_Up | State As...</td>\n",
       "      <td>SM0</td>\n",
       "      <td>system boot initiated bios_boot_up | state ass...</td>\n",
       "      <td>0</td>\n",
       "    </tr>\n",
       "    <tr>\n",
       "      <th>3</th>\n",
       "      <td>SERVER_25698</td>\n",
       "      <td>2020-10-09 05:46:41</td>\n",
       "      <td>System Boot Initiated BIOS_Boot_Up | State As...</td>\n",
       "      <td>SM0</td>\n",
       "      <td>system boot initiated bios_boot_up | state ass...</td>\n",
       "      <td>0</td>\n",
       "    </tr>\n",
       "    <tr>\n",
       "      <th>4</th>\n",
       "      <td>SERVER_25698</td>\n",
       "      <td>2020-10-09 12:59:13</td>\n",
       "      <td>System Boot Initiated BIOS_Boot_Up | State As...</td>\n",
       "      <td>SM0</td>\n",
       "      <td>system boot initiated bios_boot_up | state ass...</td>\n",
       "      <td>0</td>\n",
       "    </tr>\n",
       "    <tr>\n",
       "      <th>...</th>\n",
       "      <td>...</td>\n",
       "      <td>...</td>\n",
       "      <td>...</td>\n",
       "      <td>...</td>\n",
       "      <td>...</td>\n",
       "      <td>...</td>\n",
       "    </tr>\n",
       "    <tr>\n",
       "      <th>493522</th>\n",
       "      <td>fffd22fffe19</td>\n",
       "      <td>2020-01-21 19:16:01</td>\n",
       "      <td>Microcontroller/Coprocessor #0x16 | Transitio...</td>\n",
       "      <td>SM16</td>\n",
       "      <td>microcontroller/coprocessor #0x16 | transition...</td>\n",
       "      <td>243</td>\n",
       "    </tr>\n",
       "    <tr>\n",
       "      <th>493523</th>\n",
       "      <td>fffd22fffe19</td>\n",
       "      <td>2020-01-21 19:17:03</td>\n",
       "      <td>System Event #0x10 | Timestamp Clock Sync | A...</td>\n",
       "      <td>SM16</td>\n",
       "      <td>system event #0x10 | timestamp clock sync | as...</td>\n",
       "      <td>232</td>\n",
       "    </tr>\n",
       "    <tr>\n",
       "      <th>493524</th>\n",
       "      <td>fffd22fffe19</td>\n",
       "      <td>2020-01-21 18:32:59</td>\n",
       "      <td>Memory #0xf9 | Uncorrectable ECC | Asserted</td>\n",
       "      <td>SM16</td>\n",
       "      <td>memory hex | uncorrectable ecc | asserted</td>\n",
       "      <td>238</td>\n",
       "    </tr>\n",
       "    <tr>\n",
       "      <th>493525</th>\n",
       "      <td>fffd22fffe19</td>\n",
       "      <td>2020-01-21 19:18:14</td>\n",
       "      <td>System Boot Initiated BIOS_Boot_Up | Initiate...</td>\n",
       "      <td>SM16</td>\n",
       "      <td>system boot initiated bios_boot_up | initiated...</td>\n",
       "      <td>230</td>\n",
       "    </tr>\n",
       "    <tr>\n",
       "      <th>493526</th>\n",
       "      <td>fffd22fffe19</td>\n",
       "      <td>2020-01-21 19:16:51</td>\n",
       "      <td>System Event #0x10 | Timestamp Clock Sync | A...</td>\n",
       "      <td>SM16</td>\n",
       "      <td>system event #0x10 | timestamp clock sync | as...</td>\n",
       "      <td>232</td>\n",
       "    </tr>\n",
       "  </tbody>\n",
       "</table>\n",
       "<p>493527 rows × 6 columns</p>\n",
       "</div>"
      ],
      "text/plain": [
       "                  sn                 time  \\\n",
       "0       SERVER_25698  2020-10-09 08:32:21   \n",
       "1       SERVER_25698  2020-10-09 07:43:48   \n",
       "2       SERVER_25698  2020-10-09 08:16:22   \n",
       "3       SERVER_25698  2020-10-09 05:46:41   \n",
       "4       SERVER_25698  2020-10-09 12:59:13   \n",
       "...              ...                  ...   \n",
       "493522  fffd22fffe19  2020-01-21 19:16:01   \n",
       "493523  fffd22fffe19  2020-01-21 19:17:03   \n",
       "493524  fffd22fffe19  2020-01-21 18:32:59   \n",
       "493525  fffd22fffe19  2020-01-21 19:18:14   \n",
       "493526  fffd22fffe19  2020-01-21 19:16:51   \n",
       "\n",
       "                                                      msg server_model  \\\n",
       "0        System Boot Initiated BIOS_Boot_Up | State As...          SM0   \n",
       "1        System Boot Initiated BIOS_Boot_Up | State As...          SM0   \n",
       "2        System Boot Initiated BIOS_Boot_Up | State As...          SM0   \n",
       "3        System Boot Initiated BIOS_Boot_Up | State As...          SM0   \n",
       "4        System Boot Initiated BIOS_Boot_Up | State As...          SM0   \n",
       "...                                                   ...          ...   \n",
       "493522   Microcontroller/Coprocessor #0x16 | Transitio...         SM16   \n",
       "493523   System Event #0x10 | Timestamp Clock Sync | A...         SM16   \n",
       "493524        Memory #0xf9 | Uncorrectable ECC | Asserted         SM16   \n",
       "493525   System Boot Initiated BIOS_Boot_Up | Initiate...         SM16   \n",
       "493526   System Event #0x10 | Timestamp Clock Sync | A...         SM16   \n",
       "\n",
       "                                                msg_lower  msg_id  \n",
       "0       system boot initiated bios_boot_up | state ass...       0  \n",
       "1       system boot initiated bios_boot_up | state ass...       0  \n",
       "2       system boot initiated bios_boot_up | state ass...       0  \n",
       "3       system boot initiated bios_boot_up | state ass...       0  \n",
       "4       system boot initiated bios_boot_up | state ass...       0  \n",
       "...                                                   ...     ...  \n",
       "493522  microcontroller/coprocessor #0x16 | transition...     243  \n",
       "493523  system event #0x10 | timestamp clock sync | as...     232  \n",
       "493524          memory hex | uncorrectable ecc | asserted     238  \n",
       "493525  system boot initiated bios_boot_up | initiated...     230  \n",
       "493526  system event #0x10 | timestamp clock sync | as...     232  \n",
       "\n",
       "[493527 rows x 6 columns]"
      ]
     },
     "execution_count": 5,
     "metadata": {},
     "output_type": "execute_result"
    }
   ],
   "source": [
    "log_df"
   ]
  },
  {
   "cell_type": "code",
   "execution_count": 6,
   "id": "2cff5b81",
   "metadata": {
    "scrolled": true
   },
   "outputs": [
    {
     "data": {
      "text/plain": [
       "((16604, 3), (493527, 6), (3011, 2))"
      ]
     },
     "execution_count": 6,
     "metadata": {},
     "output_type": "execute_result"
    }
   ],
   "source": [
    "label_df.shape, log_df.shape, submit_df.shape"
   ]
  },
  {
   "cell_type": "code",
   "execution_count": 7,
   "id": "133e7271",
   "metadata": {},
   "outputs": [
    {
     "data": {
      "text/html": [
       "<div>\n",
       "<style scoped>\n",
       "    .dataframe tbody tr th:only-of-type {\n",
       "        vertical-align: middle;\n",
       "    }\n",
       "\n",
       "    .dataframe tbody tr th {\n",
       "        vertical-align: top;\n",
       "    }\n",
       "\n",
       "    .dataframe thead th {\n",
       "        text-align: right;\n",
       "    }\n",
       "</style>\n",
       "<table border=\"1\" class=\"dataframe\">\n",
       "  <thead>\n",
       "    <tr style=\"text-align: right;\">\n",
       "      <th></th>\n",
       "      <th>sn</th>\n",
       "      <th>time</th>\n",
       "      <th>msg</th>\n",
       "      <th>server_model</th>\n",
       "      <th>msg_lower</th>\n",
       "      <th>msg_id</th>\n",
       "    </tr>\n",
       "  </thead>\n",
       "  <tbody>\n",
       "    <tr>\n",
       "      <th>0</th>\n",
       "      <td>SERVER_25698</td>\n",
       "      <td>2020-10-09 08:32:21</td>\n",
       "      <td>System Boot Initiated BIOS_Boot_Up | State As...</td>\n",
       "      <td>SM0</td>\n",
       "      <td>system boot initiated bios_boot_up | state ass...</td>\n",
       "      <td>0</td>\n",
       "    </tr>\n",
       "    <tr>\n",
       "      <th>1</th>\n",
       "      <td>SERVER_25698</td>\n",
       "      <td>2020-10-09 07:43:48</td>\n",
       "      <td>System Boot Initiated BIOS_Boot_Up | State As...</td>\n",
       "      <td>SM0</td>\n",
       "      <td>system boot initiated bios_boot_up | state ass...</td>\n",
       "      <td>0</td>\n",
       "    </tr>\n",
       "    <tr>\n",
       "      <th>2</th>\n",
       "      <td>SERVER_25698</td>\n",
       "      <td>2020-10-09 08:16:22</td>\n",
       "      <td>System Boot Initiated BIOS_Boot_Up | State As...</td>\n",
       "      <td>SM0</td>\n",
       "      <td>system boot initiated bios_boot_up | state ass...</td>\n",
       "      <td>0</td>\n",
       "    </tr>\n",
       "    <tr>\n",
       "      <th>3</th>\n",
       "      <td>SERVER_25698</td>\n",
       "      <td>2020-10-09 05:46:41</td>\n",
       "      <td>System Boot Initiated BIOS_Boot_Up | State As...</td>\n",
       "      <td>SM0</td>\n",
       "      <td>system boot initiated bios_boot_up | state ass...</td>\n",
       "      <td>0</td>\n",
       "    </tr>\n",
       "    <tr>\n",
       "      <th>4</th>\n",
       "      <td>SERVER_25698</td>\n",
       "      <td>2020-10-09 12:59:13</td>\n",
       "      <td>System Boot Initiated BIOS_Boot_Up | State As...</td>\n",
       "      <td>SM0</td>\n",
       "      <td>system boot initiated bios_boot_up | state ass...</td>\n",
       "      <td>0</td>\n",
       "    </tr>\n",
       "  </tbody>\n",
       "</table>\n",
       "</div>"
      ],
      "text/plain": [
       "             sn                 time  \\\n",
       "0  SERVER_25698  2020-10-09 08:32:21   \n",
       "1  SERVER_25698  2020-10-09 07:43:48   \n",
       "2  SERVER_25698  2020-10-09 08:16:22   \n",
       "3  SERVER_25698  2020-10-09 05:46:41   \n",
       "4  SERVER_25698  2020-10-09 12:59:13   \n",
       "\n",
       "                                                 msg server_model  \\\n",
       "0   System Boot Initiated BIOS_Boot_Up | State As...          SM0   \n",
       "1   System Boot Initiated BIOS_Boot_Up | State As...          SM0   \n",
       "2   System Boot Initiated BIOS_Boot_Up | State As...          SM0   \n",
       "3   System Boot Initiated BIOS_Boot_Up | State As...          SM0   \n",
       "4   System Boot Initiated BIOS_Boot_Up | State As...          SM0   \n",
       "\n",
       "                                           msg_lower  msg_id  \n",
       "0  system boot initiated bios_boot_up | state ass...       0  \n",
       "1  system boot initiated bios_boot_up | state ass...       0  \n",
       "2  system boot initiated bios_boot_up | state ass...       0  \n",
       "3  system boot initiated bios_boot_up | state ass...       0  \n",
       "4  system boot initiated bios_boot_up | state ass...       0  "
      ]
     },
     "execution_count": 7,
     "metadata": {},
     "output_type": "execute_result"
    }
   ],
   "source": [
    "log_df.head()"
   ]
  },
  {
   "cell_type": "code",
   "execution_count": 8,
   "id": "9e274314",
   "metadata": {},
   "outputs": [],
   "source": [
    "log_df['time'] = pd.to_datetime(log_df['time'])\n",
    "log_df.sort_values(by=['sn', 'time'], inplace=True)\n",
    "log_df.reset_index(drop=True, inplace=True)"
   ]
  },
  {
   "cell_type": "code",
   "execution_count": 9,
   "id": "c752fdd3",
   "metadata": {},
   "outputs": [],
   "source": [
    "label_df['fault_time'] = pd.to_datetime(label_df['fault_time'])"
   ]
  },
  {
   "cell_type": "code",
   "execution_count": 10,
   "id": "790efc0a",
   "metadata": {},
   "outputs": [],
   "source": [
    "submit_df['fault_time'] = pd.to_datetime(submit_df['fault_time'])"
   ]
  },
  {
   "cell_type": "code",
   "execution_count": 11,
   "id": "96f771d7",
   "metadata": {},
   "outputs": [],
   "source": [
    "tmp = log_df.groupby(['sn'], as_index=False)['msg_lower'].agg(list)\n",
    "tmp['text'] = tmp['msg_lower'].apply(lambda x: (\"\\n\".join([i for i in x])))\n",
    "sentences_list = tmp['text'].values.tolist()\n",
    "\n",
    "sentences = list()\n",
    "for s in sentences_list:\n",
    "    sentences.append([w for w in s.split()])"
   ]
  },
  {
   "cell_type": "code",
   "execution_count": 12,
   "id": "6fe48084",
   "metadata": {},
   "outputs": [],
   "source": [
    "w2v_model = Word2Vec(sentences, vector_size=64, window=3, min_count=2, sg=0, hs=1, seed=2022)"
   ]
  },
  {
   "cell_type": "code",
   "execution_count": 13,
   "id": "2d4a9992",
   "metadata": {},
   "outputs": [],
   "source": [
    "def get_w2v_mean(sentences):\n",
    "    emb_matrix = list()\n",
    "    vec = list()\n",
    "    for w in sentences.split():\n",
    "        if w in w2v_model.wv:\n",
    "            vec.append(w2v_model.wv[w])\n",
    "    if len(vec) > 0:\n",
    "        emb_matrix.append(np.mean(vec, axis=0))\n",
    "    else:\n",
    "        emb_matrix.append([0] * model.vector_size)\n",
    "    return emb_matrix"
   ]
  },
  {
   "cell_type": "code",
   "execution_count": 14,
   "id": "3f44272b",
   "metadata": {},
   "outputs": [
    {
     "data": {
      "text/plain": [
       "TfidfVectorizer(max_features=50000, min_df=5, ngram_range=(1, 3))"
      ]
     },
     "execution_count": 14,
     "metadata": {},
     "output_type": "execute_result"
    }
   ],
   "source": [
    "X = list(tmp['text'].values)\n",
    "tfv = TfidfVectorizer(ngram_range=(1,3), min_df=5, max_features=50000)\n",
    "tfv.fit(X)"
   ]
  },
  {
   "cell_type": "code",
   "execution_count": 15,
   "id": "139a03df",
   "metadata": {},
   "outputs": [
    {
     "data": {
      "text/plain": [
       "TruncatedSVD(n_components=16)"
      ]
     },
     "execution_count": 15,
     "metadata": {},
     "output_type": "execute_result"
    }
   ],
   "source": [
    "X_tfidf = tfv.transform(X)\n",
    "svd = TruncatedSVD(n_components=16)\n",
    "svd.fit(X_tfidf)"
   ]
  },
  {
   "cell_type": "code",
   "execution_count": 16,
   "id": "9a96c70a",
   "metadata": {},
   "outputs": [],
   "source": [
    "def get_tfidf_svd(sentences, n_components=16):\n",
    "    X_tfidf = tfv.transform(sentences)\n",
    "    X_svd = svd.transform(X_tfidf)\n",
    "    return np.mean(X_svd, axis=0)"
   ]
  },
  {
   "cell_type": "code",
   "execution_count": 17,
   "id": "931e3fd1",
   "metadata": {},
   "outputs": [],
   "source": [
    "log_df['time_ts'] = log_df[\"time\"].values.astype(np.int64) // 10 ** 9\n",
    "label_df['fault_time_ts'] = label_df[\"fault_time\"].values.astype(np.int64) // 10 ** 9"
   ]
  },
  {
   "cell_type": "code",
   "execution_count": 18,
   "id": "eb7a068a",
   "metadata": {},
   "outputs": [],
   "source": [
    "cate_list = log_df['msg_lower'].apply(lambda x: x.split()[0]).unique()\n",
    "cate_map = {}\n",
    "for i in range(len(cate_list)):\n",
    "    cate_map[cate_list[i]] = i"
   ]
  },
  {
   "cell_type": "code",
   "execution_count": 19,
   "id": "1148cc0f",
   "metadata": {},
   "outputs": [],
   "source": [
    "def safe_split(strs, n, sep='|'):\n",
    "    str_li = strs.split(sep)\n",
    "    if len(str_li) >= n + 1:\n",
    "        return str_li[n]\n",
    "    else:\n",
    "        return ''\n",
    "\n",
    "log_df['msg_split_0'] = log_df['msg_lower'].apply(lambda x: safe_split(x, 0))\n",
    "log_df['msg_split_1'] = log_df['msg_lower'].apply(lambda x: safe_split(x, 1))\n",
    "log_df['msg_split_2'] = log_df['msg_lower'].apply(lambda x: safe_split(x, 2))\n",
    "\n",
    "log_df['category'] = log_df['msg_lower'].apply(lambda x: x.split()[0])"
   ]
  },
  {
   "cell_type": "code",
   "execution_count": 20,
   "id": "7c9c248b",
   "metadata": {},
   "outputs": [],
   "source": [
    "def make_dataset(dataset, data_type='train'):\n",
    "    ret = list()\n",
    "\n",
    "    for idx, row in tqdm(dataset.iterrows()):\n",
    "        sn = row['sn']\n",
    "        fault_time = row['fault_time']\n",
    "        ts = row['fault_time_ts']\n",
    "        \n",
    "        if data_type == 'train':\n",
    "            label = row['label']\n",
    "\n",
    "        df = log_df[log_df['sn'] == sn].copy()\n",
    "\n",
    "        df = df[df['time_ts'] <= ts].copy()\n",
    "        df = df.sort_values(by='time_ts').reset_index(drop=True)\n",
    "        df = df.tail(20).copy()\n",
    "\n",
    "        # make some features\n",
    "\n",
    "        logs_count = len(df)\n",
    "\n",
    "        if logs_count > 0:\n",
    "            msg_nunique = df['msg_lower'].nunique()\n",
    "            msg_category_nunique = df['category'].nunique()\n",
    "            msg_split_0_nunique = df['msg_split_0'].nunique()\n",
    "            msg_split_1_nunique = df['msg_split_1'].nunique()\n",
    "            msg_split_2_nunique = df['msg_split_2'].nunique()\n",
    "            last_category = df['category'].value_counts().index[0]\n",
    "            last_category = cate_map[last_category] if last_category in cate_map else len(cate_map)\n",
    "\n",
    "            s = df['time_ts'].values\n",
    "            if len(s) > 0:\n",
    "                seconds_span = s[-1] - s[0] \n",
    "            else:\n",
    "                seconds_span = 0\n",
    "\n",
    "            df['time_ts_shift_1'] = df['time_ts'].shift(1)\n",
    "            df['time_ts_diffs_1'] = df['time_ts'] - df['time_ts_shift_1']\n",
    "            s = df['time_ts_diffs_1'].values\n",
    "            if len(s) > 1:\n",
    "                log_time_diffs_avg = np.mean(s[1:])\n",
    "                log_time_diffs_max = np.max(s[1:])\n",
    "                log_time_diffs_min = np.min(s[1:])\n",
    "                log_time_diffs_std = np.std(s[1:])\n",
    "            else:\n",
    "                try:\n",
    "                    log_time_diffs_avg = log_time_diffs_max = log_time_diffs_min = s[0]\n",
    "                    log_time_diffs_std = 0\n",
    "                except:\n",
    "                    log_time_diffs_avg = log_time_diffs_max = log_time_diffs_min = log_time_diffs_std = 0\n",
    "\n",
    "            all_msg = \"\\n\".join(df['msg_lower'].values.tolist()).lower()\n",
    "            w2v_emb = get_w2v_mean(all_msg)[0]\n",
    "            tfv_emb = get_tfidf_svd([s.lower() for s in df['msg_lower'].values.tolist()])\n",
    "\n",
    "        else:\n",
    "            logs_count = 0\n",
    "            msg_nunique = 0\n",
    "            msg_category_nunique = 0\n",
    "            msg_split_0_nunique = 0\n",
    "            msg_split_1_nunique = 0\n",
    "            msg_split_2_nunique = 0\n",
    "            last_category = 0\n",
    "            seconds_span = 0\n",
    "            log_time_diffs_avg = 0\n",
    "            log_time_diffs_max = 0\n",
    "            log_time_diffs_min = 0\n",
    "            log_time_diffs_std = 0\n",
    "            w2v_emb = [0] * 64\n",
    "            tfv_emb = [0] * 16\n",
    "\n",
    "\n",
    "        # format dataset\n",
    "        data = {\n",
    "            'sn': sn,\n",
    "            'fault_time': fault_time,\n",
    "            'logs_count': logs_count,\n",
    "            'msg_nunique': msg_nunique,\n",
    "            'msg_category_nunique': msg_category_nunique,\n",
    "            'msg_split_0_nunique': msg_split_0_nunique,\n",
    "            'msg_split_1_nunique': msg_split_1_nunique,\n",
    "            'msg_split_2_nunique': msg_split_2_nunique,\n",
    "            'last_category': last_category,\n",
    "            'seconds_span': seconds_span,\n",
    "            'log_time_diffs_avg': log_time_diffs_avg,\n",
    "            'log_time_diffs_max': log_time_diffs_max,\n",
    "            'log_time_diffs_min': log_time_diffs_min,\n",
    "            'log_time_diffs_std': log_time_diffs_std,\n",
    "        }\n",
    "\n",
    "        for i in range(64):\n",
    "            data[f'msg_w2v_{i}'] = w2v_emb[i]\n",
    "        for i in range(16):\n",
    "            data[f'msg_tfv_{i}'] = tfv_emb[i]\n",
    "            \n",
    "        if data_type == 'train':\n",
    "            data['label'] = label\n",
    "\n",
    "        ret.append(data)\n",
    "        \n",
    "    return ret"
   ]
  },
  {
   "cell_type": "code",
   "execution_count": 21,
   "id": "2f430b6c",
   "metadata": {},
   "outputs": [
    {
     "name": "stderr",
     "output_type": "stream",
     "text": [
      "86it [00:03, 25.80it/s]\n"
     ]
    },
    {
     "ename": "KeyboardInterrupt",
     "evalue": "",
     "output_type": "error",
     "traceback": [
      "\u001b[0;31m---------------------------------------------------------------------------\u001b[0m",
      "\u001b[0;31mKeyboardInterrupt\u001b[0m                         Traceback (most recent call last)",
      "\u001b[0;32m/tmp/ipykernel_23678/2271791324.py\u001b[0m in \u001b[0;36m<module>\u001b[0;34m\u001b[0m\n\u001b[0;32m----> 1\u001b[0;31m \u001b[0mtrain\u001b[0m \u001b[0;34m=\u001b[0m \u001b[0mmake_dataset\u001b[0m\u001b[0;34m(\u001b[0m\u001b[0mlabel_df\u001b[0m\u001b[0;34m,\u001b[0m \u001b[0mdata_type\u001b[0m\u001b[0;34m=\u001b[0m\u001b[0;34m'train'\u001b[0m\u001b[0;34m)\u001b[0m\u001b[0;34m\u001b[0m\u001b[0;34m\u001b[0m\u001b[0m\n\u001b[0m\u001b[1;32m      2\u001b[0m \u001b[0mdf_train\u001b[0m \u001b[0;34m=\u001b[0m \u001b[0mpd\u001b[0m\u001b[0;34m.\u001b[0m\u001b[0mDataFrame\u001b[0m\u001b[0;34m(\u001b[0m\u001b[0mtrain\u001b[0m\u001b[0;34m)\u001b[0m\u001b[0;34m\u001b[0m\u001b[0;34m\u001b[0m\u001b[0m\n",
      "\u001b[0;32m/tmp/ipykernel_23678/4045873420.py\u001b[0m in \u001b[0;36mmake_dataset\u001b[0;34m(dataset, data_type)\u001b[0m\n\u001b[1;32m     10\u001b[0m             \u001b[0mlabel\u001b[0m \u001b[0;34m=\u001b[0m \u001b[0mrow\u001b[0m\u001b[0;34m[\u001b[0m\u001b[0;34m'label'\u001b[0m\u001b[0;34m]\u001b[0m\u001b[0;34m\u001b[0m\u001b[0;34m\u001b[0m\u001b[0m\n\u001b[1;32m     11\u001b[0m \u001b[0;34m\u001b[0m\u001b[0m\n\u001b[0;32m---> 12\u001b[0;31m         \u001b[0mdf\u001b[0m \u001b[0;34m=\u001b[0m \u001b[0mlog_df\u001b[0m\u001b[0;34m[\u001b[0m\u001b[0mlog_df\u001b[0m\u001b[0;34m[\u001b[0m\u001b[0;34m'sn'\u001b[0m\u001b[0;34m]\u001b[0m \u001b[0;34m==\u001b[0m \u001b[0msn\u001b[0m\u001b[0;34m]\u001b[0m\u001b[0;34m.\u001b[0m\u001b[0mcopy\u001b[0m\u001b[0;34m(\u001b[0m\u001b[0;34m)\u001b[0m\u001b[0;34m\u001b[0m\u001b[0;34m\u001b[0m\u001b[0m\n\u001b[0m\u001b[1;32m     13\u001b[0m \u001b[0;34m\u001b[0m\u001b[0m\n\u001b[1;32m     14\u001b[0m         \u001b[0mdf\u001b[0m \u001b[0;34m=\u001b[0m \u001b[0mdf\u001b[0m\u001b[0;34m[\u001b[0m\u001b[0mdf\u001b[0m\u001b[0;34m[\u001b[0m\u001b[0;34m'time_ts'\u001b[0m\u001b[0;34m]\u001b[0m \u001b[0;34m<=\u001b[0m \u001b[0mts\u001b[0m\u001b[0;34m]\u001b[0m\u001b[0;34m.\u001b[0m\u001b[0mcopy\u001b[0m\u001b[0;34m(\u001b[0m\u001b[0;34m)\u001b[0m\u001b[0;34m\u001b[0m\u001b[0;34m\u001b[0m\u001b[0m\n",
      "\u001b[0;32m/data/projects/log-based-failuer-diagnosis/env/lib/python3.7/site-packages/pandas/core/ops/common.py\u001b[0m in \u001b[0;36mnew_method\u001b[0;34m(self, other)\u001b[0m\n\u001b[1;32m     67\u001b[0m         \u001b[0mother\u001b[0m \u001b[0;34m=\u001b[0m \u001b[0mitem_from_zerodim\u001b[0m\u001b[0;34m(\u001b[0m\u001b[0mother\u001b[0m\u001b[0;34m)\u001b[0m\u001b[0;34m\u001b[0m\u001b[0;34m\u001b[0m\u001b[0m\n\u001b[1;32m     68\u001b[0m \u001b[0;34m\u001b[0m\u001b[0m\n\u001b[0;32m---> 69\u001b[0;31m         \u001b[0;32mreturn\u001b[0m \u001b[0mmethod\u001b[0m\u001b[0;34m(\u001b[0m\u001b[0mself\u001b[0m\u001b[0;34m,\u001b[0m \u001b[0mother\u001b[0m\u001b[0;34m)\u001b[0m\u001b[0;34m\u001b[0m\u001b[0;34m\u001b[0m\u001b[0m\n\u001b[0m\u001b[1;32m     70\u001b[0m \u001b[0;34m\u001b[0m\u001b[0m\n\u001b[1;32m     71\u001b[0m     \u001b[0;32mreturn\u001b[0m \u001b[0mnew_method\u001b[0m\u001b[0;34m\u001b[0m\u001b[0;34m\u001b[0m\u001b[0m\n",
      "\u001b[0;32m/data/projects/log-based-failuer-diagnosis/env/lib/python3.7/site-packages/pandas/core/arraylike.py\u001b[0m in \u001b[0;36m__eq__\u001b[0;34m(self, other)\u001b[0m\n\u001b[1;32m     30\u001b[0m     \u001b[0;34m@\u001b[0m\u001b[0munpack_zerodim_and_defer\u001b[0m\u001b[0;34m(\u001b[0m\u001b[0;34m\"__eq__\"\u001b[0m\u001b[0;34m)\u001b[0m\u001b[0;34m\u001b[0m\u001b[0;34m\u001b[0m\u001b[0m\n\u001b[1;32m     31\u001b[0m     \u001b[0;32mdef\u001b[0m \u001b[0m__eq__\u001b[0m\u001b[0;34m(\u001b[0m\u001b[0mself\u001b[0m\u001b[0;34m,\u001b[0m \u001b[0mother\u001b[0m\u001b[0;34m)\u001b[0m\u001b[0;34m:\u001b[0m\u001b[0;34m\u001b[0m\u001b[0;34m\u001b[0m\u001b[0m\n\u001b[0;32m---> 32\u001b[0;31m         \u001b[0;32mreturn\u001b[0m \u001b[0mself\u001b[0m\u001b[0;34m.\u001b[0m\u001b[0m_cmp_method\u001b[0m\u001b[0;34m(\u001b[0m\u001b[0mother\u001b[0m\u001b[0;34m,\u001b[0m \u001b[0moperator\u001b[0m\u001b[0;34m.\u001b[0m\u001b[0meq\u001b[0m\u001b[0;34m)\u001b[0m\u001b[0;34m\u001b[0m\u001b[0;34m\u001b[0m\u001b[0m\n\u001b[0m\u001b[1;32m     33\u001b[0m \u001b[0;34m\u001b[0m\u001b[0m\n\u001b[1;32m     34\u001b[0m     \u001b[0;34m@\u001b[0m\u001b[0munpack_zerodim_and_defer\u001b[0m\u001b[0;34m(\u001b[0m\u001b[0;34m\"__ne__\"\u001b[0m\u001b[0;34m)\u001b[0m\u001b[0;34m\u001b[0m\u001b[0;34m\u001b[0m\u001b[0m\n",
      "\u001b[0;32m/data/projects/log-based-failuer-diagnosis/env/lib/python3.7/site-packages/pandas/core/series.py\u001b[0m in \u001b[0;36m_cmp_method\u001b[0;34m(self, other, op)\u001b[0m\n\u001b[1;32m   5500\u001b[0m \u001b[0;34m\u001b[0m\u001b[0m\n\u001b[1;32m   5501\u001b[0m         \u001b[0;32mwith\u001b[0m \u001b[0mnp\u001b[0m\u001b[0;34m.\u001b[0m\u001b[0merrstate\u001b[0m\u001b[0;34m(\u001b[0m\u001b[0mall\u001b[0m\u001b[0;34m=\u001b[0m\u001b[0;34m\"ignore\"\u001b[0m\u001b[0;34m)\u001b[0m\u001b[0;34m:\u001b[0m\u001b[0;34m\u001b[0m\u001b[0;34m\u001b[0m\u001b[0m\n\u001b[0;32m-> 5502\u001b[0;31m             \u001b[0mres_values\u001b[0m \u001b[0;34m=\u001b[0m \u001b[0mops\u001b[0m\u001b[0;34m.\u001b[0m\u001b[0mcomparison_op\u001b[0m\u001b[0;34m(\u001b[0m\u001b[0mlvalues\u001b[0m\u001b[0;34m,\u001b[0m \u001b[0mrvalues\u001b[0m\u001b[0;34m,\u001b[0m \u001b[0mop\u001b[0m\u001b[0;34m)\u001b[0m\u001b[0;34m\u001b[0m\u001b[0;34m\u001b[0m\u001b[0m\n\u001b[0m\u001b[1;32m   5503\u001b[0m \u001b[0;34m\u001b[0m\u001b[0m\n\u001b[1;32m   5504\u001b[0m         \u001b[0;32mreturn\u001b[0m \u001b[0mself\u001b[0m\u001b[0;34m.\u001b[0m\u001b[0m_construct_result\u001b[0m\u001b[0;34m(\u001b[0m\u001b[0mres_values\u001b[0m\u001b[0;34m,\u001b[0m \u001b[0mname\u001b[0m\u001b[0;34m=\u001b[0m\u001b[0mres_name\u001b[0m\u001b[0;34m)\u001b[0m\u001b[0;34m\u001b[0m\u001b[0;34m\u001b[0m\u001b[0m\n",
      "\u001b[0;32m/data/projects/log-based-failuer-diagnosis/env/lib/python3.7/site-packages/pandas/core/ops/array_ops.py\u001b[0m in \u001b[0;36mcomparison_op\u001b[0;34m(left, right, op)\u001b[0m\n\u001b[1;32m    282\u001b[0m \u001b[0;34m\u001b[0m\u001b[0m\n\u001b[1;32m    283\u001b[0m     \u001b[0;32melif\u001b[0m \u001b[0mis_object_dtype\u001b[0m\u001b[0;34m(\u001b[0m\u001b[0mlvalues\u001b[0m\u001b[0;34m.\u001b[0m\u001b[0mdtype\u001b[0m\u001b[0;34m)\u001b[0m \u001b[0;32mor\u001b[0m \u001b[0misinstance\u001b[0m\u001b[0;34m(\u001b[0m\u001b[0mrvalues\u001b[0m\u001b[0;34m,\u001b[0m \u001b[0mstr\u001b[0m\u001b[0;34m)\u001b[0m\u001b[0;34m:\u001b[0m\u001b[0;34m\u001b[0m\u001b[0;34m\u001b[0m\u001b[0m\n\u001b[0;32m--> 284\u001b[0;31m         \u001b[0mres_values\u001b[0m \u001b[0;34m=\u001b[0m \u001b[0mcomp_method_OBJECT_ARRAY\u001b[0m\u001b[0;34m(\u001b[0m\u001b[0mop\u001b[0m\u001b[0;34m,\u001b[0m \u001b[0mlvalues\u001b[0m\u001b[0;34m,\u001b[0m \u001b[0mrvalues\u001b[0m\u001b[0;34m)\u001b[0m\u001b[0;34m\u001b[0m\u001b[0;34m\u001b[0m\u001b[0m\n\u001b[0m\u001b[1;32m    285\u001b[0m \u001b[0;34m\u001b[0m\u001b[0m\n\u001b[1;32m    286\u001b[0m     \u001b[0;32melse\u001b[0m\u001b[0;34m:\u001b[0m\u001b[0;34m\u001b[0m\u001b[0;34m\u001b[0m\u001b[0m\n",
      "\u001b[0;32m/data/projects/log-based-failuer-diagnosis/env/lib/python3.7/site-packages/pandas/core/ops/array_ops.py\u001b[0m in \u001b[0;36mcomp_method_OBJECT_ARRAY\u001b[0;34m(op, x, y)\u001b[0m\n\u001b[1;32m     71\u001b[0m         \u001b[0mresult\u001b[0m \u001b[0;34m=\u001b[0m \u001b[0mlibops\u001b[0m\u001b[0;34m.\u001b[0m\u001b[0mvec_compare\u001b[0m\u001b[0;34m(\u001b[0m\u001b[0mx\u001b[0m\u001b[0;34m.\u001b[0m\u001b[0mravel\u001b[0m\u001b[0;34m(\u001b[0m\u001b[0;34m)\u001b[0m\u001b[0;34m,\u001b[0m \u001b[0my\u001b[0m\u001b[0;34m.\u001b[0m\u001b[0mravel\u001b[0m\u001b[0;34m(\u001b[0m\u001b[0;34m)\u001b[0m\u001b[0;34m,\u001b[0m \u001b[0mop\u001b[0m\u001b[0;34m)\u001b[0m\u001b[0;34m\u001b[0m\u001b[0;34m\u001b[0m\u001b[0m\n\u001b[1;32m     72\u001b[0m     \u001b[0;32melse\u001b[0m\u001b[0;34m:\u001b[0m\u001b[0;34m\u001b[0m\u001b[0;34m\u001b[0m\u001b[0m\n\u001b[0;32m---> 73\u001b[0;31m         \u001b[0mresult\u001b[0m \u001b[0;34m=\u001b[0m \u001b[0mlibops\u001b[0m\u001b[0;34m.\u001b[0m\u001b[0mscalar_compare\u001b[0m\u001b[0;34m(\u001b[0m\u001b[0mx\u001b[0m\u001b[0;34m.\u001b[0m\u001b[0mravel\u001b[0m\u001b[0;34m(\u001b[0m\u001b[0;34m)\u001b[0m\u001b[0;34m,\u001b[0m \u001b[0my\u001b[0m\u001b[0;34m,\u001b[0m \u001b[0mop\u001b[0m\u001b[0;34m)\u001b[0m\u001b[0;34m\u001b[0m\u001b[0;34m\u001b[0m\u001b[0m\n\u001b[0m\u001b[1;32m     74\u001b[0m     \u001b[0;32mreturn\u001b[0m \u001b[0mresult\u001b[0m\u001b[0;34m.\u001b[0m\u001b[0mreshape\u001b[0m\u001b[0;34m(\u001b[0m\u001b[0mx\u001b[0m\u001b[0;34m.\u001b[0m\u001b[0mshape\u001b[0m\u001b[0;34m)\u001b[0m\u001b[0;34m\u001b[0m\u001b[0;34m\u001b[0m\u001b[0m\n\u001b[1;32m     75\u001b[0m \u001b[0;34m\u001b[0m\u001b[0m\n",
      "\u001b[0;31mKeyboardInterrupt\u001b[0m: "
     ]
    }
   ],
   "source": [
    "train = make_dataset(label_df, data_type='train')\n",
    "df_train = pd.DataFrame(train)"
   ]
  },
  {
   "cell_type": "code",
   "execution_count": 22,
   "id": "e03a8777",
   "metadata": {},
   "outputs": [
    {
     "name": "stderr",
     "output_type": "stream",
     "text": [
      "3011it [01:38, 30.56it/s]\n"
     ]
    }
   ],
   "source": [
    "submit_df['fault_time_ts'] = submit_df[\"fault_time\"].values.astype(np.int64) // 10 ** 9\n",
    "test = make_dataset(submit_df, data_type='test')\n",
    "df_test = pd.DataFrame(test)"
   ]
  },
  {
   "cell_type": "code",
   "execution_count": 23,
   "id": "df58c9e3",
   "metadata": {},
   "outputs": [],
   "source": [
    "df_train.to_csv('train1.csv', index=False)\n",
    "df_test.to_csv('test1.csv', index=False)"
   ]
  },
  {
   "cell_type": "code",
   "execution_count": null,
   "id": "6939fe15",
   "metadata": {},
   "outputs": [],
   "source": []
  }
 ],
 "metadata": {
  "kernelspec": {
   "display_name": "Python 3 (ipykernel)",
   "language": "python",
   "name": "python3"
  },
  "language_info": {
   "codemirror_mode": {
    "name": "ipython",
    "version": 3
   },
   "file_extension": ".py",
   "mimetype": "text/x-python",
   "name": "python",
   "nbconvert_exporter": "python",
   "pygments_lexer": "ipython3",
   "version": "3.7.8"
  }
 },
 "nbformat": 4,
 "nbformat_minor": 5
}
