{
 "cells": [
  {
   "cell_type": "code",
   "execution_count": 1,
   "id": "d7c59046",
   "metadata": {},
   "outputs": [],
   "source": [
    "import pandas as pd\n",
    "import numpy as np\n",
    "from collections import Counter\n",
    "from tqdm import tqdm"
   ]
  },
  {
   "cell_type": "code",
   "execution_count": 2,
   "id": "5e59a597",
   "metadata": {},
   "outputs": [],
   "source": [
    "label1 = pd.read_csv('../data/preliminary_train_label_dataset.csv')\n",
    "label2 = pd.read_csv('../data/preliminary_train_label_dataset_s.csv')\n",
    "label_df = pd.concat([label1, label2]).reset_index(drop=True)\n",
    "label_df = label_df.drop_duplicates().reset_index(drop=True)"
   ]
  },
  {
   "cell_type": "code",
   "execution_count": 3,
   "id": "5fe4204e",
   "metadata": {},
   "outputs": [],
   "source": [
    "log_df = pd.read_csv('./log_template.csv')"
   ]
  },
  {
   "cell_type": "code",
   "execution_count": 4,
   "id": "7d0f42bc",
   "metadata": {},
   "outputs": [],
   "source": [
    "submit_df = pd.read_csv('../data/preliminary_submit_dataset_a.csv')"
   ]
  },
  {
   "cell_type": "code",
   "execution_count": 5,
   "id": "1287b768",
   "metadata": {},
   "outputs": [],
   "source": [
    "log_df['time'] = pd.to_datetime(log_df['time'])\n",
    "label_df['fault_time'] = pd.to_datetime(label_df['fault_time'])\n",
    "submit_df['fault_time'] = pd.to_datetime(submit_df['fault_time'])\n",
    "\n",
    "log_df['time_ts'] = log_df[\"time\"].values.astype(np.int64) // 10 ** 9\n",
    "label_df['fault_time_ts'] = label_df[\"fault_time\"].values.astype(np.int64) // 10 ** 9\n",
    "submit_df['fault_time_ts'] = submit_df[\"fault_time\"].values.astype(np.int64) // 10 ** 9"
   ]
  },
  {
   "cell_type": "code",
   "execution_count": 6,
   "id": "2312e1a2",
   "metadata": {},
   "outputs": [
    {
     "data": {
      "text/plain": [
       "((493527, 9), (16604, 4), (3011, 3))"
      ]
     },
     "execution_count": 6,
     "metadata": {},
     "output_type": "execute_result"
    }
   ],
   "source": [
    "log_df.shape, label_df.shape, submit_df.shape"
   ]
  },
  {
   "cell_type": "code",
   "execution_count": 7,
   "id": "ea56446c",
   "metadata": {},
   "outputs": [],
   "source": [
    "log_df.sort_values(by=['sn', 'time'], inplace=True)"
   ]
  },
  {
   "cell_type": "code",
   "execution_count": 8,
   "id": "2ee170c4",
   "metadata": {},
   "outputs": [],
   "source": [
    "key_words = ['memory', 'processor', 'disabled', 'failure', 'cpu1_status', 'cpu0_status',\n",
    "             'shutdown', '-', 'ecc', 'down', 'timestamp', 'cpu0_proc_hot', 'oem_ps1_temp']"
   ]
  },
  {
   "cell_type": "code",
   "execution_count": 9,
   "id": "de215fe9",
   "metadata": {},
   "outputs": [],
   "source": [
    "def make_dataset(dataset, data_type='train'):\n",
    "    ret = []\n",
    "    for idx, row in tqdm(dataset.iterrows()):\n",
    "        sn = row['sn']\n",
    "        fault_time = row['fault_time']\n",
    "        ts = row['fault_time_ts']\n",
    "        \n",
    "        if data_type == 'train':\n",
    "            label = row['label']\n",
    "\n",
    "        df = log_df[log_df['sn'] == sn].copy()\n",
    "\n",
    "        df = df[df['time_ts'] <= ts].copy()\n",
    "        df = df.sort_values(by='time_ts').reset_index(drop=True)\n",
    "        df = df.tail(50).copy()\n",
    "        \n",
    "        feature = np.zeros((len(key_words), ))\n",
    "        for i in range(len(key_words)):\n",
    "            for msglist in df['msg_lower'].str.split(' '):\n",
    "                if key_words[i] in msglist:\n",
    "                    feature[i] += 1\n",
    "                    \n",
    "        feature2 = feature\n",
    "        if df.shape[0] > 0:\n",
    "            feature2 /= df.shape[0]\n",
    "        if data_type == 'train':\n",
    "            ret.append([sn, fault_time] + feature.tolist() + [label])\n",
    "        else:\n",
    "            ret.append([sn, fault_time] + feature.tolist())\n",
    "    return ret"
   ]
  },
  {
   "cell_type": "code",
   "execution_count": 10,
   "id": "c67b315c",
   "metadata": {},
   "outputs": [
    {
     "name": "stderr",
     "output_type": "stream",
     "text": [
      "16604it [08:38, 32.02it/s]\n"
     ]
    }
   ],
   "source": [
    "train = make_dataset(label_df, data_type='train')\n",
    "df_train = pd.DataFrame(train)"
   ]
  },
  {
   "cell_type": "code",
   "execution_count": 11,
   "id": "5ca40500",
   "metadata": {},
   "outputs": [
    {
     "name": "stderr",
     "output_type": "stream",
     "text": [
      "3011it [01:35, 31.45it/s]\n"
     ]
    }
   ],
   "source": [
    "test = make_dataset(submit_df, data_type='test')\n",
    "df_test = pd.DataFrame(test)"
   ]
  },
  {
   "cell_type": "code",
   "execution_count": 12,
   "id": "45936a50",
   "metadata": {},
   "outputs": [],
   "source": [
    "# columns = ['%s_cnt'%kw for kw in key_words] + ['%s_proba'%kw for kw in key_words]\n",
    "columns = ['%s_cnt'%kw for kw in key_words]"
   ]
  },
  {
   "cell_type": "code",
   "execution_count": 13,
   "id": "04199e7d",
   "metadata": {},
   "outputs": [],
   "source": [
    "df_train.columns = ['sn', 'fault_time'] + columns + ['label']\n",
    "df_test.columns = ['sn', 'fault_time'] + columns"
   ]
  },
  {
   "cell_type": "code",
   "execution_count": 14,
   "id": "47f0d22c",
   "metadata": {},
   "outputs": [],
   "source": [
    "df_train.to_csv('train5.csv', index=False)\n",
    "df_test.to_csv('test5.csv', index=False)"
   ]
  },
  {
   "cell_type": "code",
   "execution_count": null,
   "id": "e30b9817",
   "metadata": {},
   "outputs": [],
   "source": []
  },
  {
   "cell_type": "code",
   "execution_count": null,
   "id": "a2c469bd",
   "metadata": {},
   "outputs": [],
   "source": []
  }
 ],
 "metadata": {
  "kernelspec": {
   "display_name": "Python 3 (ipykernel)",
   "language": "python",
   "name": "python3"
  },
  "language_info": {
   "codemirror_mode": {
    "name": "ipython",
    "version": 3
   },
   "file_extension": ".py",
   "mimetype": "text/x-python",
   "name": "python",
   "nbconvert_exporter": "python",
   "pygments_lexer": "ipython3",
   "version": "3.7.8"
  }
 },
 "nbformat": 4,
 "nbformat_minor": 5
}
