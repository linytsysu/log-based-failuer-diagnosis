{
 "cells": [
  {
   "cell_type": "code",
   "execution_count": 1,
   "id": "ca10c481",
   "metadata": {},
   "outputs": [],
   "source": [
    "import os\n",
    "import json\n",
    "import numpy as np\n",
    "import pandas as pd\n",
    "from tqdm import tqdm\n",
    "from collections import Counter\n",
    "\n",
    "from gensim.models.word2vec import Word2Vec\n",
    "from sklearn.feature_extraction.text import TfidfVectorizer\n",
    "from sklearn.decomposition import TruncatedSVD"
   ]
  },
  {
   "cell_type": "code",
   "execution_count": 2,
   "id": "273420ec",
   "metadata": {},
   "outputs": [],
   "source": [
    "label1 = pd.read_csv('../data/preliminary_train_label_dataset.csv')\n",
    "label2 = pd.read_csv('../data/preliminary_train_label_dataset_s.csv')\n",
    "label_df = pd.concat([label1, label2]).reset_index(drop=True)\n",
    "label_df = label_df.drop_duplicates().reset_index(drop=True)"
   ]
  },
  {
   "cell_type": "code",
   "execution_count": 3,
   "id": "eab90b02",
   "metadata": {},
   "outputs": [],
   "source": [
    "submit_df = pd.read_csv('../data/preliminary_submit_dataset_a.csv')"
   ]
  },
  {
   "cell_type": "code",
   "execution_count": 4,
   "id": "7cd63b3b",
   "metadata": {},
   "outputs": [],
   "source": [
    "log_df = pd.read_csv('./log_template.csv')"
   ]
  },
  {
   "cell_type": "code",
   "execution_count": 5,
   "id": "42ae82bf",
   "metadata": {},
   "outputs": [
    {
     "data": {
      "text/plain": [
       "((16604, 3), (493527, 8), (3011, 2))"
      ]
     },
     "execution_count": 5,
     "metadata": {},
     "output_type": "execute_result"
    }
   ],
   "source": [
    "label_df.shape, log_df.shape, submit_df.shape"
   ]
  },
  {
   "cell_type": "code",
   "execution_count": 6,
   "id": "ad72e775",
   "metadata": {},
   "outputs": [],
   "source": [
    "log_df['time'] = pd.to_datetime(log_df['time'])\n",
    "log_df.sort_values(by=['sn', 'time'], inplace=True)\n",
    "log_df.reset_index(drop=True, inplace=True)"
   ]
  },
  {
   "cell_type": "code",
   "execution_count": 7,
   "id": "15e0adaf",
   "metadata": {},
   "outputs": [],
   "source": [
    "label_df['fault_time'] = pd.to_datetime(label_df['fault_time'])"
   ]
  },
  {
   "cell_type": "code",
   "execution_count": 8,
   "id": "ca6b7a7b",
   "metadata": {},
   "outputs": [],
   "source": [
    "submit_df['fault_time'] = pd.to_datetime(submit_df['fault_time'])"
   ]
  },
  {
   "cell_type": "code",
   "execution_count": 9,
   "id": "d61a6d0b",
   "metadata": {},
   "outputs": [],
   "source": [
    "log_df['time_ts'] = log_df[\"time\"].values.astype(np.int64) // 10 ** 9"
   ]
  },
  {
   "cell_type": "code",
   "execution_count": 10,
   "id": "ff5c0aca",
   "metadata": {},
   "outputs": [],
   "source": [
    "label_df['fault_time_ts'] = label_df[\"fault_time\"].values.astype(np.int64) // 10 ** 9"
   ]
  },
  {
   "cell_type": "code",
   "execution_count": 11,
   "id": "1b2d7390",
   "metadata": {},
   "outputs": [],
   "source": [
    "submit_df['fault_time_ts'] = submit_df[\"fault_time\"].values.astype(np.int64) // 10 ** 9"
   ]
  },
  {
   "cell_type": "code",
   "execution_count": 12,
   "id": "da55b1a6",
   "metadata": {},
   "outputs": [],
   "source": [
    "dummy_list = set(log_df.template_id.unique())\n",
    "dummy_col = ['template_id_' + str(x) for x in dummy_list]"
   ]
  },
  {
   "cell_type": "code",
   "execution_count": 13,
   "id": "af09e974",
   "metadata": {},
   "outputs": [],
   "source": [
    "def make_dataset2(dataset, data_type='train'):\n",
    "    ret = []\n",
    "    for idx, row in tqdm(dataset.iterrows()):\n",
    "        sn = row['sn']\n",
    "        fault_time = row['fault_time']\n",
    "        ts = row['fault_time_ts']\n",
    "        \n",
    "        if data_type == 'train':\n",
    "            label = row['label']\n",
    "\n",
    "        df = log_df[log_df['sn'] == sn].copy()\n",
    "\n",
    "        df = df[df['time_ts'] <= ts].copy()\n",
    "        df = df.sort_values(by='time_ts').reset_index(drop=True)\n",
    "        df = df.tail(50).copy()\n",
    "        \n",
    "        data = np.zeros(len(dummy_list))\n",
    "        for item in df.groupby('template_id').size().reset_index().values:\n",
    "            data[np.where(np.array(dummy_col) == 'template_id_%s'%item[0])[0][0]] = item[1]\n",
    "        \n",
    "        if data_type == 'train':\n",
    "            ret.append([sn, fault_time] + data.tolist() + [label])\n",
    "        else:\n",
    "            ret.append([sn, fault_time] + data.tolist())\n",
    "    return ret"
   ]
  },
  {
   "cell_type": "code",
   "execution_count": 14,
   "id": "a9f62f5b",
   "metadata": {},
   "outputs": [
    {
     "name": "stderr",
     "output_type": "stream",
     "text": [
      "16604it [08:27, 32.71it/s]\n"
     ]
    }
   ],
   "source": [
    "train = make_dataset2(label_df, data_type='train')\n",
    "df_train = pd.DataFrame(train)"
   ]
  },
  {
   "cell_type": "code",
   "execution_count": 15,
   "id": "82431bee",
   "metadata": {},
   "outputs": [
    {
     "name": "stderr",
     "output_type": "stream",
     "text": [
      "3011it [01:34, 31.98it/s]\n"
     ]
    }
   ],
   "source": [
    "test = make_dataset2(submit_df, data_type='test')\n",
    "df_test = pd.DataFrame(test)"
   ]
  },
  {
   "cell_type": "code",
   "execution_count": 16,
   "id": "f93b5ca8",
   "metadata": {},
   "outputs": [],
   "source": [
    "df_train.columns = ['sn', 'fault_time'] + dummy_col + ['label']"
   ]
  },
  {
   "cell_type": "code",
   "execution_count": 17,
   "id": "fbd3b1cf",
   "metadata": {},
   "outputs": [],
   "source": [
    "df_test.columns = ['sn', 'fault_time'] + dummy_col"
   ]
  },
  {
   "cell_type": "code",
   "execution_count": 18,
   "id": "4062d845",
   "metadata": {},
   "outputs": [
    {
     "data": {
      "text/plain": [
       "((16604, 190), (3011, 189))"
      ]
     },
     "execution_count": 18,
     "metadata": {},
     "output_type": "execute_result"
    }
   ],
   "source": [
    "df_train.shape, df_test.shape"
   ]
  },
  {
   "cell_type": "code",
   "execution_count": 19,
   "id": "cde13061",
   "metadata": {},
   "outputs": [],
   "source": [
    "df_train.to_csv('train6.csv', index=False)\n",
    "df_test.to_csv('test6.csv', index=False)"
   ]
  },
  {
   "cell_type": "code",
   "execution_count": null,
   "id": "df26b8ed",
   "metadata": {},
   "outputs": [],
   "source": []
  }
 ],
 "metadata": {
  "kernelspec": {
   "display_name": "Python 3 (ipykernel)",
   "language": "python",
   "name": "python3"
  },
  "language_info": {
   "codemirror_mode": {
    "name": "ipython",
    "version": 3
   },
   "file_extension": ".py",
   "mimetype": "text/x-python",
   "name": "python",
   "nbconvert_exporter": "python",
   "pygments_lexer": "ipython3",
   "version": "3.7.8"
  }
 },
 "nbformat": 4,
 "nbformat_minor": 5
}
