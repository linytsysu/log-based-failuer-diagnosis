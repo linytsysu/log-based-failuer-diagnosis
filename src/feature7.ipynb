{
 "cells": [
  {
   "cell_type": "code",
   "execution_count": 2,
   "id": "f4969e7b",
   "metadata": {},
   "outputs": [],
   "source": [
    "import os\n",
    "import json\n",
    "import numpy as np\n",
    "import pandas as pd\n",
    "from tqdm import tqdm\n",
    "from collections import Counter\n",
    "\n",
    "from nltk.tokenize import word_tokenize\n",
    "from gensim.models.doc2vec import Doc2Vec, TaggedDocument"
   ]
  },
  {
   "cell_type": "code",
   "execution_count": 3,
   "id": "bd4b5abd",
   "metadata": {},
   "outputs": [],
   "source": [
    "label1 = pd.read_csv('../data/preliminary_train_label_dataset.csv')\n",
    "label2 = pd.read_csv('../data/preliminary_train_label_dataset_s.csv')\n",
    "label_df = pd.concat([label1, label2]).reset_index(drop=True)\n",
    "label_df = label_df.drop_duplicates().reset_index(drop=True)"
   ]
  },
  {
   "cell_type": "code",
   "execution_count": 4,
   "id": "897b853e",
   "metadata": {},
   "outputs": [],
   "source": [
    "submit_df = pd.read_csv('../data/preliminary_submit_dataset_a.csv')"
   ]
  },
  {
   "cell_type": "code",
   "execution_count": 5,
   "id": "9e03b0b0",
   "metadata": {},
   "outputs": [],
   "source": [
    "log_df = pd.read_csv('./log_template.csv')"
   ]
  },
  {
   "cell_type": "code",
   "execution_count": 8,
   "id": "55a4d504",
   "metadata": {},
   "outputs": [],
   "source": [
    "log_df['time'] = pd.to_datetime(log_df['time'])\n",
    "label_df['fault_time'] = pd.to_datetime(label_df['fault_time'])\n",
    "submit_df['fault_time'] = pd.to_datetime(submit_df['fault_time'])\n",
    "\n",
    "log_df['time_ts'] = log_df[\"time\"].values.astype(np.int64) // 10 ** 9\n",
    "label_df['fault_time_ts'] = label_df[\"fault_time\"].values.astype(np.int64) // 10 ** 9\n",
    "submit_df['fault_time_ts'] = submit_df[\"fault_time\"].values.astype(np.int64) // 10 ** 9"
   ]
  },
  {
   "cell_type": "code",
   "execution_count": 9,
   "id": "7b8b386a",
   "metadata": {},
   "outputs": [
    {
     "name": "stderr",
     "output_type": "stream",
     "text": [
      "100%|█████████████████████████████████████████████████████████████████████████████████████████████████████████████████████████████████████████████████████| 16604/16604 [08:29<00:00, 32.56it/s]\n"
     ]
    }
   ],
   "source": [
    "data = []\n",
    "for i in tqdm(range(label_df.shape[0])):\n",
    "    row = label_df.iloc[i]\n",
    "    sn = row['sn']\n",
    "    fault_time = row['fault_time']\n",
    "    tmp = log_df[log_df['sn'] == sn]\n",
    "    tmp = tmp[(tmp['time'] <= fault_time)].tail(10).sort_values(by='time', ascending=False)\n",
    "    data.append(tmp['msg_lower'].values.tolist())"
   ]
  },
  {
   "cell_type": "code",
   "execution_count": 10,
   "id": "170c528a",
   "metadata": {},
   "outputs": [
    {
     "name": "stderr",
     "output_type": "stream",
     "text": [
      "100%|███████████████████████████████████████████████████████████████████████████████████████████████████████████████████████████████████████████████████████| 3011/3011 [01:33<00:00, 32.36it/s]\n"
     ]
    }
   ],
   "source": [
    "for i in tqdm(range(submit_df.shape[0])):\n",
    "    row = submit_df.iloc[i]\n",
    "    sn = row['sn']\n",
    "    fault_time = row['fault_time']\n",
    "    tmp = log_df[log_df['sn'] == sn]\n",
    "    tmp = tmp[(tmp['time'] <= fault_time)].tail(10).sort_values(by='time', ascending=False)\n",
    "    data.append(tmp['msg_lower'].values.tolist())"
   ]
  },
  {
   "cell_type": "code",
   "execution_count": 11,
   "id": "57866cfb",
   "metadata": {},
   "outputs": [],
   "source": [
    "data = ['.'.join(msg) for msg in data]"
   ]
  },
  {
   "cell_type": "code",
   "execution_count": 13,
   "id": "161bf3fb",
   "metadata": {},
   "outputs": [],
   "source": [
    "tokenized_sent = [word_tokenize(s) for s in data]"
   ]
  },
  {
   "cell_type": "code",
   "execution_count": 14,
   "id": "dd195e97",
   "metadata": {},
   "outputs": [],
   "source": [
    "tagged_data = [TaggedDocument(d, [i]) for i, d in enumerate(tokenized_sent)]\n",
    "model = Doc2Vec(tagged_data, vector_size=64, window=2, min_count=1, epochs=10)"
   ]
  },
  {
   "cell_type": "code",
   "execution_count": 20,
   "id": "64b73a5e",
   "metadata": {},
   "outputs": [
    {
     "name": "stderr",
     "output_type": "stream",
     "text": [
      "100%|█████████████████████████████████████████████████████████████████████████████████████████████████████████████████████████████████████████████████████| 16604/16604 [08:46<00:00, 31.56it/s]\n"
     ]
    }
   ],
   "source": [
    "tr_data = []\n",
    "\n",
    "for i in tqdm(range(label_df.shape[0])):\n",
    "    tr_data.append([])\n",
    "    row = label_df.iloc[i]\n",
    "    sn = row['sn']\n",
    "    fault_time = row['fault_time']\n",
    "    tmp = log_df[log_df['sn'] == sn]\n",
    "    tmp = tmp[(tmp['time'] <= fault_time)].tail(10).sort_values(by='time', ascending=False)\n",
    "    \n",
    "    vec = model.infer_vector(word_tokenize('.'.join(tmp['msg_lower'])))\n",
    "    tr_data[-1] += vec.tolist() + [row['sn'], row['fault_time'], row['label']]"
   ]
  },
  {
   "cell_type": "code",
   "execution_count": 21,
   "id": "5b065c45",
   "metadata": {},
   "outputs": [
    {
     "name": "stderr",
     "output_type": "stream",
     "text": [
      "100%|███████████████████████████████████████████████████████████████████████████████████████████████████████████████████████████████████████████████████████| 3011/3011 [01:34<00:00, 31.88it/s]\n"
     ]
    }
   ],
   "source": [
    "te_data = []\n",
    "\n",
    "for i in tqdm(range(submit_df.shape[0])):\n",
    "    te_data.append([])\n",
    "    row = submit_df.iloc[i]\n",
    "    sn = row['sn']\n",
    "    fault_time = row['fault_time']\n",
    "    tmp = log_df[log_df['sn'] == sn]\n",
    "    tmp = tmp[(tmp['time'] <= fault_time)].tail(10).sort_values(by='time', ascending=False)\n",
    "    \n",
    "    vec = model.infer_vector(word_tokenize('.'.join(tmp['msg_lower'])))\n",
    "    te_data[-1] += vec.tolist() + [row['sn'], row['fault_time']]"
   ]
  },
  {
   "cell_type": "code",
   "execution_count": 29,
   "id": "eb8d4cd3",
   "metadata": {},
   "outputs": [],
   "source": [
    "columns = ['doc_vec_%d'%i for i in range(64)] + ['sn', 'fault_time', 'label']"
   ]
  },
  {
   "cell_type": "code",
   "execution_count": 30,
   "id": "3cbefda5",
   "metadata": {},
   "outputs": [],
   "source": [
    "train_df = pd.DataFrame(tr_data)\n",
    "train_df.columns = columns"
   ]
  },
  {
   "cell_type": "code",
   "execution_count": 31,
   "id": "4f6897c8",
   "metadata": {},
   "outputs": [],
   "source": [
    "test_df = pd.DataFrame(te_data)\n",
    "test_df.columns = columns[:-1]"
   ]
  },
  {
   "cell_type": "code",
   "execution_count": 32,
   "id": "7cd88c92",
   "metadata": {},
   "outputs": [],
   "source": [
    "train_df.to_csv('train7.csv', index=False)\n",
    "test_df.to_csv('test7.csv', index=False)"
   ]
  },
  {
   "cell_type": "code",
   "execution_count": null,
   "id": "5e029530",
   "metadata": {},
   "outputs": [],
   "source": []
  }
 ],
 "metadata": {
  "kernelspec": {
   "display_name": "Python 3 (ipykernel)",
   "language": "python",
   "name": "python3"
  },
  "language_info": {
   "codemirror_mode": {
    "name": "ipython",
    "version": 3
   },
   "file_extension": ".py",
   "mimetype": "text/x-python",
   "name": "python",
   "nbconvert_exporter": "python",
   "pygments_lexer": "ipython3",
   "version": "3.7.8"
  }
 },
 "nbformat": 4,
 "nbformat_minor": 5
}
