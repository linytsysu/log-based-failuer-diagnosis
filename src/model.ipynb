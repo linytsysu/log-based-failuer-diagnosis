{
 "cells": [
  {
   "cell_type": "code",
   "execution_count": 1,
   "id": "ccc8a2aa",
   "metadata": {},
   "outputs": [],
   "source": [
    "import gc\n",
    "import numpy as np\n",
    "import pandas as pd\n",
    "from gensim.models.word2vec import Word2Vec\n",
    "from sklearn.feature_extraction.text import TfidfVectorizer\n",
    "from sklearn.decomposition import TruncatedSVD\n",
    "from sklearn.metrics import f1_score, accuracy_score\n",
    "from sklearn.model_selection import KFold, GroupKFold, StratifiedKFold\n",
    "from sklearn.utils.class_weight import compute_class_weight\n",
    "from catboost import CatBoostClassifier\n",
    "import lightgbm as lgb\n",
    "from tqdm import tqdm\n",
    "\n",
    "import optuna\n",
    "import warnings\n",
    "\n",
    "warnings.filterwarnings(\"ignore\", category=UserWarning)"
   ]
  },
  {
   "cell_type": "code",
   "execution_count": 2,
   "id": "fa696a25",
   "metadata": {},
   "outputs": [],
   "source": [
    "df_train1 = pd.read_csv('train1.csv')\n",
    "df_test1 = pd.read_csv('test1.csv')\n",
    "\n",
    "df_train2 = pd.read_csv('train2.csv')\n",
    "df_test2 = pd.read_csv('test2.csv')\n",
    "\n",
    "df_train3 = pd.read_csv('train3.csv')\n",
    "df_test3 = pd.read_csv('test3.csv')\n",
    "\n",
    "df_train4 = pd.read_csv('train4.csv')\n",
    "df_test4 = pd.read_csv('test4.csv')\n",
    "\n",
    "# df_train5 = pd.read_csv('train6.csv')\n",
    "# df_test5 = pd.read_csv('test6.csv')\n",
    "\n",
    "# df_train = pd.merge(df_train1, df_train2, on=['sn', 'fault_time', 'label'])\\\n",
    "#     .merge(df_train3, on=['sn', 'fault_time', 'label'])\\\n",
    "#     .merge(df_train4, on=['sn', 'fault_time', 'label'])\\\n",
    "#     .merge(df_train5, on=['sn', 'fault_time', 'label'])\n",
    "# df_test = pd.merge(df_test1, df_test2, on=['sn', 'fault_time'])\\\n",
    "#     .merge(df_test3, on=['sn', 'fault_time'])\\\n",
    "#     .merge(df_test4, on=['sn', 'fault_time'])\\\n",
    "#     .merge(df_test5, on=['sn', 'fault_time'])\n",
    "\n",
    "df_train = pd.merge(df_train1, df_train2, on=['sn', 'fault_time', 'label'])\\\n",
    "    .merge(df_train3, on=['sn', 'fault_time', 'label'])\\\n",
    "    .merge(df_train4, on=['sn', 'fault_time', 'label'])\n",
    "df_test = pd.merge(df_test1, df_test2, on=['sn', 'fault_time'])\\\n",
    "    .merge(df_test3, on=['sn', 'fault_time'])\\\n",
    "    .merge(df_test4, on=['sn', 'fault_time'])"
   ]
  },
  {
   "cell_type": "code",
   "execution_count": 3,
   "id": "eac379fc",
   "metadata": {},
   "outputs": [],
   "source": [
    "df_train = df_train.drop('server_model', axis=1)\n",
    "df_test = df_test.drop('server_model', axis=1)"
   ]
  },
  {
   "cell_type": "code",
   "execution_count": 4,
   "id": "8dbc72ae",
   "metadata": {},
   "outputs": [],
   "source": [
    "df_train1 = pd.read_csv('../new_src/train1.csv', dtype={'server_model': 'str',\n",
    "                                             'last_msg_id': 'str',\n",
    "                                             'last_template_id': 'str'})\n",
    "df_test1 = pd.read_csv('../new_src/test1.csv', dtype={'server_model': 'str',\n",
    "                                             'last_msg_id': 'str',\n",
    "                                             'last_template_id': 'str'})"
   ]
  },
  {
   "cell_type": "code",
   "execution_count": 5,
   "id": "c3e9f0b6",
   "metadata": {},
   "outputs": [],
   "source": [
    "df_train = df_train.merge(df_train1, on=['sn', 'fault_time', 'label'])\n",
    "df_test = df_test.merge(df_test1, on=['sn', 'fault_time'])"
   ]
  },
  {
   "cell_type": "code",
   "execution_count": 6,
   "id": "38b09a99",
   "metadata": {},
   "outputs": [],
   "source": [
    "df_train1 = pd.read_csv('../new_src/train4.csv')\n",
    "df_test1 = pd.read_csv('../new_src/test4.csv')\n",
    "\n",
    "df_train = df_train.merge(df_train1, on=['sn', 'fault_time', 'label'])\n",
    "df_test = df_test.merge(df_test1, on=['sn', 'fault_time'])"
   ]
  },
  {
   "cell_type": "code",
   "execution_count": 7,
   "id": "db98082c",
   "metadata": {},
   "outputs": [],
   "source": [
    "bert_train = pd.read_csv('../bert/train.csv')\n",
    "bert_test = pd.read_csv('../bert/test.csv')"
   ]
  },
  {
   "cell_type": "code",
   "execution_count": 8,
   "id": "378ab118",
   "metadata": {},
   "outputs": [],
   "source": [
    "df_train = pd.concat([df_train, bert_train.iloc[:, 9:]], axis=1)\n",
    "df_test = pd.concat([df_test, bert_test.iloc[:, 9:]], axis=1)"
   ]
  },
  {
   "cell_type": "code",
   "execution_count": 9,
   "id": "56f284d2",
   "metadata": {},
   "outputs": [],
   "source": [
    "# tr_proba_df = pd.read_csv('./tr_proba_df.csv')\n",
    "# te_proba_df = pd.read_csv('./te_proba_df.csv')"
   ]
  },
  {
   "cell_type": "code",
   "execution_count": 10,
   "id": "b27db470",
   "metadata": {},
   "outputs": [],
   "source": [
    "# df_train = pd.merge(df_train, tr_proba_df, on=['sn', 'fault_time', 'label'])\n",
    "# df_test = pd.merge(df_test, te_proba_df, on=['sn', 'fault_time'])"
   ]
  },
  {
   "cell_type": "code",
   "execution_count": 11,
   "id": "d48db357",
   "metadata": {},
   "outputs": [],
   "source": [
    "# df_train = pd.read_csv('../train.csv')\n",
    "# df_test = pd.read_csv('../test.csv')"
   ]
  },
  {
   "cell_type": "code",
   "execution_count": 12,
   "id": "1db03ccf",
   "metadata": {},
   "outputs": [],
   "source": [
    "# tr_proba_df = pd.read_csv('../tr_proba_df.csv')\n",
    "# te_proba_df = pd.read_csv('../te_proba_df.csv')"
   ]
  },
  {
   "cell_type": "code",
   "execution_count": 13,
   "id": "11f25a8f",
   "metadata": {},
   "outputs": [],
   "source": [
    "# df_train = pd.concat([df_train, tr_proba_df], axis=1)\n",
    "# df_test = pd.concat([df_test, te_proba_df], axis=1)"
   ]
  },
  {
   "cell_type": "code",
   "execution_count": 14,
   "id": "a1709904",
   "metadata": {},
   "outputs": [
    {
     "data": {
      "text/plain": [
       "((16604, 1685), (3011, 1684))"
      ]
     },
     "execution_count": 14,
     "metadata": {},
     "output_type": "execute_result"
    }
   ],
   "source": [
    "df_train.shape, df_test.shape"
   ]
  },
  {
   "cell_type": "code",
   "execution_count": 15,
   "id": "3155407c",
   "metadata": {},
   "outputs": [],
   "source": [
    "classes = np.unique(df_train['label'])\n",
    "weights = compute_class_weight(class_weight='balanced', classes=classes, y=df_train['label'])\n",
    "class_weights = dict(zip(classes, weights))"
   ]
  },
  {
   "cell_type": "code",
   "execution_count": 16,
   "id": "4dc2203f",
   "metadata": {},
   "outputs": [],
   "source": [
    "def macro_f1(y_true, y_pred) -> float:\n",
    "    \"\"\"\n",
    "    计算得分\n",
    "    :param target_df: [sn,fault_time,label]\n",
    "    :param submit_df: [sn,fault_time,label]\n",
    "    :return:\n",
    "    \"\"\"\n",
    "    weights =  [3  /  7,  2  /  7,  1  /  7,  1  /  7]\n",
    "    overall_df = pd.DataFrame([y_true, y_pred]).T\n",
    "    overall_df.columns = ['label_gt', 'label_pr']\n",
    "\n",
    "    macro_F1 =  0.\n",
    "    for i in  range(len(weights)):\n",
    "        TP =  len(overall_df[(overall_df['label_gt'] == i) & (overall_df['label_pr'] == i)])\n",
    "        FP =  len(overall_df[(overall_df['label_gt'] != i) & (overall_df['label_pr'] == i)])\n",
    "        FN =  len(overall_df[(overall_df['label_gt'] == i) & (overall_df['label_pr'] != i)])\n",
    "        precision = TP /  (TP + FP)  if  (TP + FP)  >  0  else  0\n",
    "        recall = TP /  (TP + FN)  if  (TP + FP)  >  0  else  0\n",
    "        F1 =  2  * precision * recall /  (precision + recall)  if  (precision + recall)  >  0  else  0\n",
    "        macro_F1 += weights[i]  * F1\n",
    "    return macro_F1"
   ]
  },
  {
   "cell_type": "code",
   "execution_count": 17,
   "id": "fccae1f5",
   "metadata": {},
   "outputs": [],
   "source": [
    "df_train['last_msg_id'] = df_train['last_msg_id'].fillna('NULL')\n",
    "df_train['last_template_id'] = df_train['last_template_id'].fillna('NULL')\n",
    "\n",
    "df_test['last_msg_id'] = df_test['last_msg_id'].fillna('NULL')\n",
    "df_test['last_template_id'] = df_test['last_template_id'].fillna('NULL')"
   ]
  },
  {
   "cell_type": "code",
   "execution_count": 18,
   "id": "0863aeff",
   "metadata": {},
   "outputs": [],
   "source": [
    "NUM_CLASSES = df_train['label'].nunique()\n",
    "FOLDS = 10\n",
    "TARGET = 'label'\n",
    "use_features = [col for col in df_train.columns if col not in ['sn', 'fault_time', TARGET]]\n",
    "\n",
    "def run_ctb(df_train, df_test, use_features):\n",
    "    target = TARGET\n",
    "    oof_pred = np.zeros((len(df_train), NUM_CLASSES))\n",
    "    y_pred = np.zeros((len(df_test), NUM_CLASSES))\n",
    "    \n",
    "    folds = GroupKFold(n_splits=FOLDS)\n",
    "    for fold, (tr_ind, val_ind) in enumerate(folds.split(df_train, df_train[TARGET], df_train['sn'])):\n",
    "        print(f'Fold {fold + 1}')\n",
    "        x_train, x_val = df_train[use_features].iloc[tr_ind], df_train[use_features].iloc[val_ind] \n",
    "        y_train, y_val = df_train[target].iloc[tr_ind], df_train[target].iloc[val_ind]\n",
    "\n",
    "        params = { \n",
    "            'task_type': 'GPU',\n",
    "            'bootstrap_type': 'Bayesian',\n",
    "            'learning_rate': 0.03, \n",
    "            'eval_metric': 'MultiClass', \n",
    "            'loss_function': 'MultiClass', \n",
    "            'classes_count': NUM_CLASSES, \n",
    "            'iterations': 10000,\n",
    "            'random_state': 42,\n",
    "            'depth': 8,\n",
    "            'leaf_estimation_iterations': 16,\n",
    "            'reg_lambda': 5,\n",
    "            'class_weights': class_weights,\n",
    "            'early_stopping_rounds': 100,\n",
    "            'cat_features': ['server_model', 'last_msg_id', 'last_template_id'],\n",
    "        }\n",
    "        model = CatBoostClassifier(**params)\n",
    "        \n",
    "        model.fit(x_train, \n",
    "                  y_train, \n",
    "                  eval_set=(x_val, y_val), \n",
    "                  verbose=100) \n",
    "        oof_pred[val_ind] = model.predict_proba(x_val) \n",
    "        y_pred += model.predict_proba(df_test[use_features]) / folds.n_splits\n",
    "        \n",
    "        score = f1_score(y_val, oof_pred[val_ind].argmax(axis=1), average='macro')\n",
    "        print(f'F1 score: {score}')\n",
    "        \n",
    "        print(\"Features importance...\")\n",
    "        feat_imp = pd.DataFrame({'imp': model.feature_importances_, 'feature': use_features})\n",
    "        feat_imp.sort_values(by='imp').to_csv('%d_imp.csv'%fold, index=False)\n",
    "        print(feat_imp.sort_values(by='imp').reset_index(drop=True))\n",
    "        \n",
    "        del x_train, x_val, y_train, y_val\n",
    "        gc.collect()\n",
    "        \n",
    "    return y_pred, oof_pred"
   ]
  },
  {
   "cell_type": "code",
   "execution_count": 19,
   "id": "a32ada75",
   "metadata": {
    "scrolled": true
   },
   "outputs": [
    {
     "name": "stdout",
     "output_type": "stream",
     "text": [
      "Fold 1\n",
      "0:\tlearn: 1.3348487\ttest: 1.3358912\tbest: 1.3358912 (0)\ttotal: 275ms\tremaining: 45m 49s\n",
      "100:\tlearn: 0.4885029\ttest: 0.5965707\tbest: 0.5965707 (100)\ttotal: 24.7s\tremaining: 40m 20s\n",
      "200:\tlearn: 0.3972062\ttest: 0.5677962\tbest: 0.5677962 (200)\ttotal: 47.5s\tremaining: 38m 34s\n",
      "300:\tlearn: 0.3408203\ttest: 0.5582896\tbest: 0.5581989 (297)\ttotal: 1m 9s\tremaining: 37m 29s\n",
      "400:\tlearn: 0.3031201\ttest: 0.5550179\tbest: 0.5550179 (400)\ttotal: 1m 31s\tremaining: 36m 30s\n",
      "500:\tlearn: 0.2710425\ttest: 0.5541181\tbest: 0.5540655 (498)\ttotal: 1m 53s\tremaining: 35m 53s\n",
      "bestTest = 0.5540655327\n",
      "bestIteration = 498\n",
      "Shrink model to first 499 iterations.\n",
      "F1 score: 0.747944077012585\n",
      "Features importance...\n",
      "           imp         feature\n",
      "0     0.000000      msg_id_507\n",
      "1     0.000000      msg_id_681\n",
      "2     0.000000      msg_id_682\n",
      "3     0.000000      msg_id_683\n",
      "4     0.000000      msg_id_684\n",
      "...        ...             ...\n",
      "1677  2.220330  msg_nunique_2h\n",
      "1678  2.300893      msg_w2v_27\n",
      "1679  3.178258              p1\n",
      "1680  4.271213              20\n",
      "1681  6.040096              11\n",
      "\n",
      "[1682 rows x 2 columns]\n",
      "Fold 2\n",
      "0:\tlearn: 1.3306410\ttest: 1.3314944\tbest: 1.3314944 (0)\ttotal: 272ms\tremaining: 45m 18s\n",
      "100:\tlearn: 0.4875678\ttest: 0.6095165\tbest: 0.6095165 (100)\ttotal: 24.8s\tremaining: 40m 30s\n",
      "200:\tlearn: 0.3970042\ttest: 0.5847027\tbest: 0.5845393 (199)\ttotal: 47.6s\tremaining: 38m 38s\n",
      "300:\tlearn: 0.3434894\ttest: 0.5764761\tbest: 0.5763692 (299)\ttotal: 1m 9s\tremaining: 37m 22s\n",
      "400:\tlearn: 0.3024585\ttest: 0.5712966\tbest: 0.5712966 (400)\ttotal: 1m 31s\tremaining: 36m 33s\n",
      "500:\tlearn: 0.2715046\ttest: 0.5669549\tbest: 0.5668678 (499)\ttotal: 1m 53s\tremaining: 35m 51s\n",
      "600:\tlearn: 0.2458117\ttest: 0.5657523\tbest: 0.5657043 (598)\ttotal: 2m 15s\tremaining: 35m 16s\n",
      "700:\tlearn: 0.2230191\ttest: 0.5666780\tbest: 0.5652633 (626)\ttotal: 2m 37s\tremaining: 34m 46s\n",
      "bestTest = 0.5652633283\n",
      "bestIteration = 626\n",
      "Shrink model to first 627 iterations.\n",
      "F1 score: 0.7364389073487587\n",
      "Features importance...\n",
      "           imp     feature\n",
      "0     0.000000  msg_id_748\n",
      "1     0.000000  msg_id_686\n",
      "2     0.000000  msg_id_687\n",
      "3     0.000000  msg_id_688\n",
      "4     0.000000  msg_id_689\n",
      "...        ...         ...\n",
      "1677  2.085619  msg_w2v_44\n",
      "1678  2.100533  msg_w2v_27\n",
      "1679  3.068297          p1\n",
      "1680  3.312716          20\n",
      "1681  5.437103          11\n",
      "\n",
      "[1682 rows x 2 columns]\n",
      "Fold 3\n",
      "0:\tlearn: 1.3353009\ttest: 1.3373623\tbest: 1.3373623 (0)\ttotal: 269ms\tremaining: 44m 45s\n",
      "100:\tlearn: 0.4866545\ttest: 0.6319797\tbest: 0.6319797 (100)\ttotal: 24.8s\tremaining: 40m 30s\n",
      "200:\tlearn: 0.3984982\ttest: 0.6093516\tbest: 0.6093513 (199)\ttotal: 47.3s\tremaining: 38m 27s\n",
      "300:\tlearn: 0.3443186\ttest: 0.6019707\tbest: 0.6016843 (299)\ttotal: 1m 10s\tremaining: 37m 37s\n",
      "400:\tlearn: 0.3017600\ttest: 0.5985883\tbest: 0.5985825 (399)\ttotal: 1m 32s\tremaining: 36m 53s\n",
      "500:\tlearn: 0.2702235\ttest: 0.6008190\tbest: 0.5981700 (401)\ttotal: 1m 54s\tremaining: 36m 10s\n",
      "bestTest = 0.5981700243\n",
      "bestIteration = 401\n",
      "Shrink model to first 402 iterations.\n",
      "F1 score: 0.7365073012757277\n",
      "Features importance...\n",
      "           imp         feature\n",
      "0     0.000000      msg_id_748\n",
      "1     0.000000      msg_id_679\n",
      "2     0.000000      msg_id_680\n",
      "3     0.000000      msg_id_681\n",
      "4     0.000000      msg_id_682\n",
      "...        ...             ...\n",
      "1677  2.074296  msg_nunique_2h\n",
      "1678  2.188031      msg_w2v_44\n",
      "1679  3.312884              p1\n",
      "1680  4.076455              20\n",
      "1681  6.020491              11\n",
      "\n",
      "[1682 rows x 2 columns]\n",
      "Fold 4\n",
      "0:\tlearn: 1.3336008\ttest: 1.3357359\tbest: 1.3357359 (0)\ttotal: 271ms\tremaining: 45m 12s\n",
      "100:\tlearn: 0.4847861\ttest: 0.6150715\tbest: 0.6150715 (100)\ttotal: 25.3s\tremaining: 41m 21s\n",
      "200:\tlearn: 0.3961088\ttest: 0.5889940\tbest: 0.5889940 (200)\ttotal: 48.4s\tremaining: 39m 18s\n",
      "300:\tlearn: 0.3410002\ttest: 0.5846244\tbest: 0.5838921 (272)\ttotal: 1m 11s\tremaining: 38m 16s\n",
      "400:\tlearn: 0.3016460\ttest: 0.5856539\tbest: 0.5835048 (367)\ttotal: 1m 33s\tremaining: 37m 22s\n",
      "bestTest = 0.5835047884\n",
      "bestIteration = 367\n",
      "Shrink model to first 368 iterations.\n",
      "F1 score: 0.7497311674242946\n",
      "Features importance...\n",
      "           imp     feature\n",
      "0     0.000000  msg_id_748\n",
      "1     0.000000  msg_id_612\n",
      "2     0.000000  msg_id_613\n",
      "3     0.000000  msg_id_615\n",
      "4     0.000000  msg_id_616\n",
      "...        ...         ...\n",
      "1677  2.358522   msg_tfv_4\n",
      "1678  2.687679  msg_w2v_27\n",
      "1679  2.893647          p1\n",
      "1680  3.759959          20\n",
      "1681  6.592927          11\n",
      "\n",
      "[1682 rows x 2 columns]\n",
      "Fold 5\n",
      "0:\tlearn: 1.3331216\ttest: 1.3351970\tbest: 1.3351970 (0)\ttotal: 267ms\tremaining: 44m 32s\n",
      "100:\tlearn: 0.4873960\ttest: 0.6013791\tbest: 0.6013791 (100)\ttotal: 25.4s\tremaining: 41m 24s\n",
      "200:\tlearn: 0.3973844\ttest: 0.5787438\tbest: 0.5786253 (196)\ttotal: 48.5s\tremaining: 39m 26s\n",
      "300:\tlearn: 0.3436037\ttest: 0.5726978\tbest: 0.5726156 (294)\ttotal: 1m 11s\tremaining: 38m 16s\n",
      "400:\tlearn: 0.2990991\ttest: 0.5679297\tbest: 0.5674680 (391)\ttotal: 1m 34s\tremaining: 37m 33s\n",
      "bestTest = 0.5674680455\n",
      "bestIteration = 391\n",
      "Shrink model to first 392 iterations.\n",
      "F1 score: 0.741359286666632\n",
      "Features importance...\n",
      "           imp         feature\n",
      "0     0.000000      msg_id_524\n",
      "1     0.000000      msg_id_609\n",
      "2     0.000000      msg_id_610\n",
      "3     0.000000      msg_id_611\n",
      "4     0.000000      msg_id_612\n",
      "...        ...             ...\n",
      "1677  2.276693      msg_w2v_27\n",
      "1678  2.440760  msg_nunique_2h\n",
      "1679  3.238242              p1\n",
      "1680  4.099215              20\n",
      "1681  6.203442              11\n",
      "\n",
      "[1682 rows x 2 columns]\n",
      "Fold 6\n",
      "0:\tlearn: 1.3356523\ttest: 1.3387451\tbest: 1.3387451 (0)\ttotal: 265ms\tremaining: 44m 6s\n",
      "100:\tlearn: 0.4926179\ttest: 0.6235476\tbest: 0.6235476 (100)\ttotal: 24.7s\tremaining: 40m 22s\n",
      "200:\tlearn: 0.4000750\ttest: 0.5991249\tbest: 0.5991249 (200)\ttotal: 47.5s\tremaining: 38m 37s\n",
      "300:\tlearn: 0.3456678\ttest: 0.5957869\tbest: 0.5954450 (270)\ttotal: 1m 9s\tremaining: 37m 26s\n",
      "400:\tlearn: 0.3023555\ttest: 0.5931268\tbest: 0.5922366 (380)\ttotal: 1m 31s\tremaining: 36m 40s\n",
      "500:\tlearn: 0.2690619\ttest: 0.5928683\tbest: 0.5916881 (455)\ttotal: 1m 54s\tremaining: 36m 6s\n",
      "bestTest = 0.5916881326\n",
      "bestIteration = 455\n",
      "Shrink model to first 456 iterations.\n",
      "F1 score: 0.7307518243158483\n",
      "Features importance...\n",
      "           imp     feature\n",
      "0     0.000000  msg_id_748\n",
      "1     0.000000  msg_id_654\n",
      "2     0.000000  msg_id_655\n",
      "3     0.000000  msg_id_656\n",
      "4     0.000000  msg_id_657\n",
      "...        ...         ...\n",
      "1677  2.114006  msg_w2v_27\n",
      "1678  2.392510   msg_tfv_4\n",
      "1679  2.813194          p1\n",
      "1680  3.785342          20\n",
      "1681  5.863730          11\n",
      "\n",
      "[1682 rows x 2 columns]\n",
      "Fold 7\n",
      "0:\tlearn: 1.3351875\ttest: 1.3379064\tbest: 1.3379064 (0)\ttotal: 272ms\tremaining: 45m 20s\n",
      "100:\tlearn: 0.4852898\ttest: 0.6138711\tbest: 0.6138711 (100)\ttotal: 25.1s\tremaining: 40m 56s\n",
      "200:\tlearn: 0.3980762\ttest: 0.5878030\tbest: 0.5878030 (200)\ttotal: 47.9s\tremaining: 38m 54s\n",
      "300:\tlearn: 0.3435332\ttest: 0.5788497\tbest: 0.5784396 (294)\ttotal: 1m 10s\tremaining: 37m 50s\n",
      "400:\tlearn: 0.3027428\ttest: 0.5786562\tbest: 0.5772690 (369)\ttotal: 1m 32s\tremaining: 37m 5s\n",
      "bestTest = 0.5772689634\n",
      "bestIteration = 369\n",
      "Shrink model to first 370 iterations.\n",
      "F1 score: 0.7323706975936016\n",
      "Features importance...\n",
      "           imp     feature\n",
      "0     0.000000  msg_id_548\n",
      "1     0.000000  msg_id_586\n",
      "2     0.000000  msg_id_587\n",
      "3     0.000000  msg_id_588\n",
      "4     0.000000  msg_id_589\n",
      "...        ...         ...\n",
      "1677  2.345551   msg_tfv_4\n",
      "1678  2.639666  msg_w2v_27\n",
      "1679  3.539612          p1\n",
      "1680  4.285653          20\n",
      "1681  6.619433          11\n",
      "\n",
      "[1682 rows x 2 columns]\n",
      "Fold 8\n",
      "0:\tlearn: 1.3308185\ttest: 1.3315496\tbest: 1.3315496 (0)\ttotal: 268ms\tremaining: 44m 36s\n",
      "100:\tlearn: 0.4895037\ttest: 0.5972653\tbest: 0.5972653 (100)\ttotal: 25.3s\tremaining: 41m 19s\n",
      "200:\tlearn: 0.3967999\ttest: 0.5638319\tbest: 0.5638319 (200)\ttotal: 48.7s\tremaining: 39m 33s\n",
      "300:\tlearn: 0.3435877\ttest: 0.5523446\tbest: 0.5519678 (298)\ttotal: 1m 11s\tremaining: 38m 19s\n",
      "400:\tlearn: 0.3054895\ttest: 0.5455010\tbest: 0.5454529 (396)\ttotal: 1m 33s\tremaining: 37m 16s\n",
      "500:\tlearn: 0.2743415\ttest: 0.5436384\tbest: 0.5429941 (458)\ttotal: 1m 55s\tremaining: 36m 30s\n",
      "bestTest = 0.5429941128\n",
      "bestIteration = 458\n",
      "Shrink model to first 459 iterations.\n",
      "F1 score: 0.7590123702415705\n",
      "Features importance...\n",
      "           imp         feature\n",
      "0     0.000000      msg_id_748\n",
      "1     0.000000      msg_id_704\n",
      "2     0.000000      msg_id_703\n",
      "3     0.000000      msg_id_701\n",
      "4     0.000000      msg_id_700\n",
      "...        ...             ...\n",
      "1677  2.329917      msg_w2v_44\n",
      "1678  2.456860  msg_nunique_2h\n",
      "1679  2.944534              p1\n",
      "1680  4.179657              20\n",
      "1681  6.706741              11\n",
      "\n",
      "[1682 rows x 2 columns]\n",
      "Fold 9\n"
     ]
    },
    {
     "name": "stdout",
     "output_type": "stream",
     "text": [
      "0:\tlearn: 1.3329752\ttest: 1.3359733\tbest: 1.3359733 (0)\ttotal: 274ms\tremaining: 45m 39s\n",
      "100:\tlearn: 0.4854706\ttest: 0.6395293\tbest: 0.6395293 (100)\ttotal: 25s\tremaining: 40m 45s\n",
      "200:\tlearn: 0.3990136\ttest: 0.6107168\tbest: 0.6107168 (200)\ttotal: 47.7s\tremaining: 38m 47s\n",
      "300:\tlearn: 0.3447900\ttest: 0.6020791\tbest: 0.6020791 (300)\ttotal: 1m 10s\tremaining: 37m 42s\n",
      "400:\tlearn: 0.3045876\ttest: 0.6000405\tbest: 0.5992145 (391)\ttotal: 1m 32s\tremaining: 36m 53s\n",
      "500:\tlearn: 0.2707626\ttest: 0.6019944\tbest: 0.5991719 (440)\ttotal: 1m 54s\tremaining: 36m 17s\n",
      "bestTest = 0.5991718714\n",
      "bestIteration = 440\n",
      "Shrink model to first 441 iterations.\n",
      "F1 score: 0.7535258854424287\n",
      "Features importance...\n",
      "           imp     feature\n",
      "0     0.000000  msg_id_593\n",
      "1     0.000000  msg_id_560\n",
      "2     0.000000  msg_id_561\n",
      "3     0.000000  msg_id_562\n",
      "4     0.000000  msg_id_563\n",
      "...        ...         ...\n",
      "1677  2.326708  msg_w2v_44\n",
      "1678  2.513897   msg_tfv_4\n",
      "1679  3.107176          p1\n",
      "1680  4.543391          20\n",
      "1681  5.478466          11\n",
      "\n",
      "[1682 rows x 2 columns]\n",
      "Fold 10\n",
      "0:\tlearn: 1.3355973\ttest: 1.3358904\tbest: 1.3358904 (0)\ttotal: 272ms\tremaining: 45m 24s\n",
      "100:\tlearn: 0.4911084\ttest: 0.6110780\tbest: 0.6110780 (100)\ttotal: 24.9s\tremaining: 40m 40s\n",
      "200:\tlearn: 0.4011769\ttest: 0.5840382\tbest: 0.5840382 (200)\ttotal: 48s\tremaining: 38m 59s\n",
      "300:\tlearn: 0.3419397\ttest: 0.5735159\tbest: 0.5724451 (284)\ttotal: 1m 10s\tremaining: 38m 3s\n",
      "400:\tlearn: 0.2992442\ttest: 0.5710825\tbest: 0.5707894 (391)\ttotal: 1m 33s\tremaining: 37m 20s\n",
      "500:\tlearn: 0.2656300\ttest: 0.5714003\tbest: 0.5704406 (478)\ttotal: 1m 56s\tremaining: 36m 45s\n",
      "bestTest = 0.5704405866\n",
      "bestIteration = 478\n",
      "Shrink model to first 479 iterations.\n",
      "F1 score: 0.7416561043753571\n",
      "Features importance...\n",
      "           imp     feature\n",
      "0     0.000000  msg_id_748\n",
      "1     0.000000  msg_id_650\n",
      "2     0.000000  msg_id_651\n",
      "3     0.000000  msg_id_653\n",
      "4     0.000000  msg_id_654\n",
      "...        ...         ...\n",
      "1677  2.271823  msg_w2v_44\n",
      "1678  2.328795   msg_tfv_4\n",
      "1679  2.644978          p1\n",
      "1680  3.900309          20\n",
      "1681  5.612278          11\n",
      "\n",
      "[1682 rows x 2 columns]\n"
     ]
    }
   ],
   "source": [
    "y_pred, oof_pred = run_ctb(df_train, df_test, use_features)"
   ]
  },
  {
   "cell_type": "code",
   "execution_count": 20,
   "id": "415674aa",
   "metadata": {},
   "outputs": [
    {
     "name": "stdout",
     "output_type": "stream",
     "text": [
      "0.6576120056779414\n"
     ]
    }
   ],
   "source": [
    "print(macro_f1(df_train[TARGET], np.argmax(oof_pred, axis=1)))"
   ]
  },
  {
   "cell_type": "code",
   "execution_count": 21,
   "id": "d3f7092a",
   "metadata": {},
   "outputs": [],
   "source": [
    "submit_df = pd.read_csv('../data/preliminary_submit_dataset_a.csv')"
   ]
  },
  {
   "cell_type": "code",
   "execution_count": 22,
   "id": "73f5f22c",
   "metadata": {},
   "outputs": [
    {
     "data": {
      "text/html": [
       "<div>\n",
       "<style scoped>\n",
       "    .dataframe tbody tr th:only-of-type {\n",
       "        vertical-align: middle;\n",
       "    }\n",
       "\n",
       "    .dataframe tbody tr th {\n",
       "        vertical-align: top;\n",
       "    }\n",
       "\n",
       "    .dataframe thead th {\n",
       "        text-align: right;\n",
       "    }\n",
       "</style>\n",
       "<table border=\"1\" class=\"dataframe\">\n",
       "  <thead>\n",
       "    <tr style=\"text-align: right;\">\n",
       "      <th></th>\n",
       "      <th>sn</th>\n",
       "      <th>fault_time</th>\n",
       "      <th>label</th>\n",
       "    </tr>\n",
       "  </thead>\n",
       "  <tbody>\n",
       "    <tr>\n",
       "      <th>0</th>\n",
       "      <td>000d33b21436</td>\n",
       "      <td>2020-09-02 16:42:54</td>\n",
       "      <td>3</td>\n",
       "    </tr>\n",
       "    <tr>\n",
       "      <th>1</th>\n",
       "      <td>005c5a9218ba</td>\n",
       "      <td>2020-06-28 19:05:16</td>\n",
       "      <td>2</td>\n",
       "    </tr>\n",
       "    <tr>\n",
       "      <th>2</th>\n",
       "      <td>0079283bde6e</td>\n",
       "      <td>2020-04-26 21:32:44</td>\n",
       "      <td>3</td>\n",
       "    </tr>\n",
       "    <tr>\n",
       "      <th>3</th>\n",
       "      <td>007bdf23b62f</td>\n",
       "      <td>2020-06-16 18:40:39</td>\n",
       "      <td>2</td>\n",
       "    </tr>\n",
       "    <tr>\n",
       "      <th>4</th>\n",
       "      <td>00a577a8e54f</td>\n",
       "      <td>2020-04-07 07:16:55</td>\n",
       "      <td>2</td>\n",
       "    </tr>\n",
       "  </tbody>\n",
       "</table>\n",
       "</div>"
      ],
      "text/plain": [
       "             sn           fault_time  label\n",
       "0  000d33b21436  2020-09-02 16:42:54      3\n",
       "1  005c5a9218ba  2020-06-28 19:05:16      2\n",
       "2  0079283bde6e  2020-04-26 21:32:44      3\n",
       "3  007bdf23b62f  2020-06-16 18:40:39      2\n",
       "4  00a577a8e54f  2020-04-07 07:16:55      2"
      ]
     },
     "metadata": {},
     "output_type": "display_data"
    },
    {
     "data": {
      "text/plain": [
       "2    0.544337\n",
       "3    0.186981\n",
       "1    0.179010\n",
       "0    0.089671\n",
       "Name: label, dtype: float64"
      ]
     },
     "execution_count": 22,
     "metadata": {},
     "output_type": "execute_result"
    }
   ],
   "source": [
    "sub = submit_df[['sn', 'fault_time']].copy()\n",
    "sub['label'] = y_pred.argmax(axis=1)\n",
    "display(sub.head())\n",
    "sub['label'].value_counts() / sub.shape[0]"
   ]
  },
  {
   "cell_type": "code",
   "execution_count": 23,
   "id": "161a1247",
   "metadata": {},
   "outputs": [],
   "source": [
    "sub.to_csv('baseline3_gkf_sn.csv', index=False)"
   ]
  },
  {
   "cell_type": "code",
   "execution_count": 24,
   "id": "21606d9e",
   "metadata": {},
   "outputs": [
    {
     "data": {
      "text/plain": [
       "2    0.561311\n",
       "1    0.203987\n",
       "3    0.145808\n",
       "0    0.088894\n",
       "Name: label, dtype: float64"
      ]
     },
     "execution_count": 24,
     "metadata": {},
     "output_type": "execute_result"
    }
   ],
   "source": [
    "label1 = pd.read_csv('../data/preliminary_train_label_dataset.csv')\n",
    "label2 = pd.read_csv('../data/preliminary_train_label_dataset_s.csv')\n",
    "label_df = pd.concat([label1, label2]).reset_index(drop=True)\n",
    "label_df = label_df.drop_duplicates().reset_index(drop=True)\n",
    "\n",
    "label_df['label'].value_counts() / label_df.shape[0]"
   ]
  },
  {
   "cell_type": "code",
   "execution_count": 25,
   "id": "1c7a6661",
   "metadata": {},
   "outputs": [
    {
     "data": {
      "text/plain": [
       "(0.6425479819983193, 0.703)"
      ]
     },
     "execution_count": 25,
     "metadata": {},
     "output_type": "execute_result"
    }
   ],
   "source": [
    "0.6425479819983193, 0.7030"
   ]
  },
  {
   "cell_type": "code",
   "execution_count": 26,
   "id": "45637928",
   "metadata": {},
   "outputs": [
    {
     "data": {
      "text/plain": [
       "(0.6433593099900003, 0.6425804458852135)"
      ]
     },
     "execution_count": 26,
     "metadata": {},
     "output_type": "execute_result"
    }
   ],
   "source": [
    "0.6433593099900003, 0.6425804458852135"
   ]
  },
  {
   "cell_type": "code",
   "execution_count": null,
   "id": "7bc319c1",
   "metadata": {},
   "outputs": [],
   "source": []
  },
  {
   "cell_type": "code",
   "execution_count": null,
   "id": "bb7bc207",
   "metadata": {},
   "outputs": [],
   "source": []
  },
  {
   "cell_type": "code",
   "execution_count": null,
   "id": "bbd74a92",
   "metadata": {},
   "outputs": [],
   "source": []
  },
  {
   "cell_type": "code",
   "execution_count": null,
   "id": "8d4d10ce",
   "metadata": {},
   "outputs": [],
   "source": []
  }
 ],
 "metadata": {
  "kernelspec": {
   "display_name": "Python 3 (ipykernel)",
   "language": "python",
   "name": "python3"
  },
  "language_info": {
   "codemirror_mode": {
    "name": "ipython",
    "version": 3
   },
   "file_extension": ".py",
   "mimetype": "text/x-python",
   "name": "python",
   "nbconvert_exporter": "python",
   "pygments_lexer": "ipython3",
   "version": "3.7.8"
  }
 },
 "nbformat": 4,
 "nbformat_minor": 5
}
