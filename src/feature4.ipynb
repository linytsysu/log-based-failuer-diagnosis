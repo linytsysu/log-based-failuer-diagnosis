{
 "cells": [
  {
   "cell_type": "code",
   "execution_count": 1,
   "id": "78552a74",
   "metadata": {},
   "outputs": [],
   "source": [
    "import pandas as pd\n",
    "import numpy as np\n",
    "from collections import Counter\n",
    "from tqdm import tqdm"
   ]
  },
  {
   "cell_type": "code",
   "execution_count": 2,
   "id": "a61e4182",
   "metadata": {},
   "outputs": [],
   "source": [
    "label1 = pd.read_csv('../data/preliminary_train_label_dataset.csv')\n",
    "label2 = pd.read_csv('../data/preliminary_train_label_dataset_s.csv')\n",
    "label_df = pd.concat([label1, label2]).reset_index(drop=True)\n",
    "label_df = label_df.drop_duplicates().reset_index(drop=True)"
   ]
  },
  {
   "cell_type": "code",
   "execution_count": 3,
   "id": "1cc4efbc",
   "metadata": {},
   "outputs": [],
   "source": [
    "log_df = pd.read_csv('./log_template.csv')"
   ]
  },
  {
   "cell_type": "code",
   "execution_count": 4,
   "id": "455910e5",
   "metadata": {},
   "outputs": [],
   "source": [
    "submit_df = pd.read_csv('../data/preliminary_submit_dataset_a.csv')"
   ]
  },
  {
   "cell_type": "code",
   "execution_count": 5,
   "id": "fc6763a5",
   "metadata": {},
   "outputs": [],
   "source": [
    "log_df['time'] = pd.to_datetime(log_df['time'])\n",
    "label_df['fault_time'] = pd.to_datetime(label_df['fault_time'])\n",
    "submit_df['fault_time'] = pd.to_datetime(submit_df['fault_time'])\n",
    "\n",
    "log_df['time_ts'] = log_df[\"time\"].values.astype(np.int64) // 10 ** 9\n",
    "label_df['fault_time_ts'] = label_df[\"fault_time\"].values.astype(np.int64) // 10 ** 9\n",
    "submit_df['fault_time_ts'] = submit_df[\"fault_time\"].values.astype(np.int64) // 10 ** 9"
   ]
  },
  {
   "cell_type": "code",
   "execution_count": 6,
   "id": "2edafd2f",
   "metadata": {},
   "outputs": [
    {
     "data": {
      "text/plain": [
       "((493527, 9), (16604, 4), (3011, 3))"
      ]
     },
     "execution_count": 6,
     "metadata": {},
     "output_type": "execute_result"
    }
   ],
   "source": [
    "log_df.shape, label_df.shape, submit_df.shape"
   ]
  },
  {
   "cell_type": "code",
   "execution_count": 7,
   "id": "6972077b",
   "metadata": {},
   "outputs": [],
   "source": [
    "log_df.sort_values(by=['sn', 'time'], inplace=True)"
   ]
  },
  {
   "cell_type": "code",
   "execution_count": 8,
   "id": "8855c96e",
   "metadata": {},
   "outputs": [
    {
     "name": "stderr",
     "output_type": "stream",
     "text": [
      "100%|█████████████████████████████████████████████████████████████████████████████████████████████████████████| 16604/16604 [08:07<00:00, 34.09it/s]\n"
     ]
    }
   ],
   "source": [
    "data = []\n",
    "for i in tqdm(range(label_df.shape[0])):\n",
    "    row = label_df.iloc[i]\n",
    "    sn = row['sn']\n",
    "    fault_time = row['fault_time']\n",
    "    tmp = log_df[log_df['sn'] == sn]\n",
    "    tmp = tmp[(tmp['time'] <= fault_time)].sort_values(by='time', ascending=False).tail(50)\n",
    "    data.append(np.unique(tmp['template_id'].values.tolist()))"
   ]
  },
  {
   "cell_type": "code",
   "execution_count": 9,
   "id": "e7f52b77",
   "metadata": {},
   "outputs": [],
   "source": [
    "label_df['template_ids'] = data"
   ]
  },
  {
   "cell_type": "code",
   "execution_count": 10,
   "id": "faf3d185",
   "metadata": {},
   "outputs": [],
   "source": [
    "label_cnt_df = label_df.groupby('label').size().reset_index().rename({0:'label_cnt'},axis=1)"
   ]
  },
  {
   "cell_type": "code",
   "execution_count": 11,
   "id": "2e1a41fe",
   "metadata": {},
   "outputs": [],
   "source": [
    "from collections import Counter\n",
    "\n",
    "counters = []\n",
    "for label, group in label_df.groupby('label'):\n",
    "    token2count = Counter()\n",
    "    for i in range(group.shape[0]):\n",
    "        token2count.update(group.iloc[i]['template_ids'])\n",
    "    counters.append(token2count)"
   ]
  },
  {
   "cell_type": "code",
   "execution_count": 12,
   "id": "70685f46",
   "metadata": {},
   "outputs": [
    {
     "name": "stderr",
     "output_type": "stream",
     "text": [
      "100%|███████████████████████████████████████████████████████████████████████████████████████████████████████| 16604/16604 [00:07<00:00, 2359.53it/s]\n"
     ]
    }
   ],
   "source": [
    "tr_data = []\n",
    "for i in tqdm(range(label_df.shape[0])):\n",
    "    tr_data.append([])\n",
    "    row = label_df.iloc[i]\n",
    "    templates = row['template_ids']\n",
    "    tr_data[-1] += [row['sn'], row['fault_time'], row['label']]\n",
    "    for label in range(4):\n",
    "        probas = [(counters[label][tid] / label_cnt_df.values[label][1]) for tid in templates]\n",
    "        if len(probas) > 0:\n",
    "            tr_data[-1] += [np.mean(probas), np.sum(probas), np.max(probas)]\n",
    "        if len(probas) == 0:\n",
    "            tr_data[-1] += [0, 0, 0]"
   ]
  },
  {
   "cell_type": "code",
   "execution_count": 13,
   "id": "cf1803d3",
   "metadata": {},
   "outputs": [],
   "source": [
    "tr_proba_df = pd.DataFrame(tr_data)"
   ]
  },
  {
   "cell_type": "code",
   "execution_count": 14,
   "id": "005b9a96",
   "metadata": {},
   "outputs": [
    {
     "name": "stderr",
     "output_type": "stream",
     "text": [
      "100%|███████████████████████████████████████████████████████████████████████████████████████████████████████████| 3011/3011 [01:30<00:00, 33.31it/s]\n"
     ]
    }
   ],
   "source": [
    "submit_df['fault_time'] = pd.to_datetime(submit_df['fault_time'])\n",
    "data = []\n",
    "for i in tqdm(range(submit_df.shape[0])):\n",
    "    row = submit_df.iloc[i]\n",
    "    sn = row['sn']\n",
    "    fault_time = row['fault_time']\n",
    "    tmp = log_df[log_df['sn'] == sn]\n",
    "    tmp = tmp[(tmp['time'] <= fault_time)].sort_values(by='time', ascending=False).tail(50)\n",
    "    data.append(np.unique(tmp['template_id'].values.tolist()))"
   ]
  },
  {
   "cell_type": "code",
   "execution_count": 15,
   "id": "b7dce82d",
   "metadata": {},
   "outputs": [],
   "source": [
    "submit_df['template_ids'] = data"
   ]
  },
  {
   "cell_type": "code",
   "execution_count": 16,
   "id": "b6e99014",
   "metadata": {},
   "outputs": [
    {
     "name": "stderr",
     "output_type": "stream",
     "text": [
      "100%|█████████████████████████████████████████████████████████████████████████████████████████████████████████| 3011/3011 [00:01<00:00, 2666.12it/s]\n"
     ]
    }
   ],
   "source": [
    "te_data = []\n",
    "for i in tqdm(range(submit_df.shape[0])):\n",
    "    te_data.append([])\n",
    "    row = submit_df.iloc[i]\n",
    "    te_data[-1] += [row['sn'], row['fault_time']]\n",
    "    templates = row['template_ids']\n",
    "    for label in range(4):\n",
    "        probas = [(counters[label][tid] / label_cnt_df.values[label][1]) for tid in templates]\n",
    "        if len(probas) > 0:\n",
    "            te_data[-1] += [np.mean(probas), np.sum(probas), np.max(probas)]\n",
    "        if len(probas) == 0:\n",
    "            te_data[-1] += [0, 0, 0]"
   ]
  },
  {
   "cell_type": "code",
   "execution_count": 17,
   "id": "ea2820f4",
   "metadata": {},
   "outputs": [],
   "source": [
    "te_proba_df = pd.DataFrame(te_data)"
   ]
  },
  {
   "cell_type": "code",
   "execution_count": 18,
   "id": "aecd62b9",
   "metadata": {},
   "outputs": [],
   "source": [
    "te_proba_df = pd.DataFrame(te_data)"
   ]
  },
  {
   "cell_type": "code",
   "execution_count": 19,
   "id": "54246ae5",
   "metadata": {},
   "outputs": [],
   "source": [
    "columns = ['mean_proba_0', 'sum_proba_0', 'max_proba_0',\n",
    "           'mean_proba_1', 'sum_proba_1', 'max_proba_1',\n",
    "           'mean_proba_2', 'sum_proba_2', 'max_proba_2',\n",
    "           'mean_proba_3', 'sum_proba_3', 'max_proba_3']"
   ]
  },
  {
   "cell_type": "code",
   "execution_count": 20,
   "id": "1455c8f2",
   "metadata": {},
   "outputs": [],
   "source": [
    "tr_proba_df.columns = ['sn', 'fault_time', 'label'] + columns"
   ]
  },
  {
   "cell_type": "code",
   "execution_count": 21,
   "id": "70870b30",
   "metadata": {},
   "outputs": [],
   "source": [
    "te_proba_df.columns = ['sn', 'fault_time'] + columns"
   ]
  },
  {
   "cell_type": "code",
   "execution_count": 22,
   "id": "339697a3",
   "metadata": {},
   "outputs": [],
   "source": [
    "tr_proba_df.to_csv('train4.csv', index=False)\n",
    "te_proba_df.to_csv('test4.csv', index=False)"
   ]
  },
  {
   "cell_type": "code",
   "execution_count": null,
   "id": "eedea620",
   "metadata": {},
   "outputs": [],
   "source": []
  },
  {
   "cell_type": "code",
   "execution_count": null,
   "id": "cbf9eb92",
   "metadata": {},
   "outputs": [],
   "source": []
  },
  {
   "cell_type": "code",
   "execution_count": null,
   "id": "4c4a3ebc",
   "metadata": {},
   "outputs": [],
   "source": []
  },
  {
   "cell_type": "code",
   "execution_count": 1,
   "id": "22be9a80",
   "metadata": {},
   "outputs": [],
   "source": [
    "import pandas as pd\n",
    "import numpy as np\n",
    "from collections import Counter\n",
    "from tqdm import tqdm"
   ]
  },
  {
   "cell_type": "code",
   "execution_count": 2,
   "id": "58f48e85",
   "metadata": {},
   "outputs": [],
   "source": [
    "label1 = pd.read_csv('../data/preliminary_train_label_dataset.csv')\n",
    "label2 = pd.read_csv('../data/preliminary_train_label_dataset_s.csv')\n",
    "label_df = pd.concat([label1, label2]).reset_index(drop=True)\n",
    "label_df = label_df.drop_duplicates().reset_index(drop=True)"
   ]
  },
  {
   "cell_type": "code",
   "execution_count": 3,
   "id": "e5c0946d",
   "metadata": {},
   "outputs": [],
   "source": [
    "log_df = pd.read_csv('./new_log.csv')"
   ]
  },
  {
   "cell_type": "code",
   "execution_count": 4,
   "id": "75c9f7bf",
   "metadata": {},
   "outputs": [],
   "source": [
    "submit_df = pd.read_csv('../data/preliminary_submit_dataset_a.csv')"
   ]
  },
  {
   "cell_type": "code",
   "execution_count": 5,
   "id": "e9ec12d5",
   "metadata": {},
   "outputs": [],
   "source": [
    "log_df['time'] = pd.to_datetime(log_df['time'])\n",
    "label_df['fault_time'] = pd.to_datetime(label_df['fault_time'])\n",
    "submit_df['fault_time'] = pd.to_datetime(submit_df['fault_time'])\n",
    "\n",
    "log_df['time_ts'] = log_df[\"time\"].values.astype(np.int64) // 10 ** 9\n",
    "label_df['fault_time_ts'] = label_df[\"fault_time\"].values.astype(np.int64) // 10 ** 9\n",
    "submit_df['fault_time_ts'] = submit_df[\"fault_time\"].values.astype(np.int64) // 10 ** 9"
   ]
  },
  {
   "cell_type": "code",
   "execution_count": 6,
   "id": "3cf71900",
   "metadata": {},
   "outputs": [
    {
     "data": {
      "text/plain": [
       "((493527, 7), (16604, 4), (3011, 3))"
      ]
     },
     "execution_count": 6,
     "metadata": {},
     "output_type": "execute_result"
    }
   ],
   "source": [
    "log_df.shape, label_df.shape, submit_df.shape"
   ]
  },
  {
   "cell_type": "code",
   "execution_count": 7,
   "id": "7ffb9cb2",
   "metadata": {},
   "outputs": [],
   "source": [
    "log_df.sort_values(by=['sn', 'time'], inplace=True)"
   ]
  },
  {
   "cell_type": "code",
   "execution_count": 8,
   "id": "a025987d",
   "metadata": {},
   "outputs": [
    {
     "name": "stderr",
     "output_type": "stream",
     "text": [
      "100%|████████████████████████████████████████████████████████████████████████████████████████████████████████████████████████████████████████████████████████| 16604/16604 [07:55<00:00, 34.91it/s]\n"
     ]
    }
   ],
   "source": [
    "data = []\n",
    "for i in tqdm(range(label_df.shape[0])):\n",
    "    row = label_df.iloc[i]\n",
    "    sn = row['sn']\n",
    "    fault_time = row['fault_time']\n",
    "    tmp = log_df[log_df['sn'] == sn]\n",
    "    tmp = tmp[(tmp['time'] <= fault_time)].tail(10).sort_values(by='time', ascending=False)\n",
    "    data.append(np.unique(tmp['msg_id'].values.tolist()))"
   ]
  },
  {
   "cell_type": "code",
   "execution_count": 9,
   "id": "809ef975",
   "metadata": {},
   "outputs": [],
   "source": [
    "label_df['msg_ids'] = data"
   ]
  },
  {
   "cell_type": "code",
   "execution_count": 10,
   "id": "56ab38c4",
   "metadata": {},
   "outputs": [],
   "source": [
    "label_cnt_df = label_df.groupby('label').size().reset_index().rename({0:'label_cnt'},axis=1)"
   ]
  },
  {
   "cell_type": "code",
   "execution_count": 11,
   "id": "2708c708",
   "metadata": {},
   "outputs": [],
   "source": [
    "from collections import Counter\n",
    "\n",
    "counters = []\n",
    "for label, group in label_df.groupby('label'):\n",
    "    token2count = Counter()\n",
    "    for i in range(group.shape[0]):\n",
    "        token2count.update(group.iloc[i]['msg_ids'])\n",
    "    counters.append(token2count)"
   ]
  },
  {
   "cell_type": "code",
   "execution_count": 12,
   "id": "9c284361",
   "metadata": {},
   "outputs": [
    {
     "name": "stderr",
     "output_type": "stream",
     "text": [
      "100%|██████████████████████████████████████████████████████████████████████████████████████████████████████████████████████████████████████████████████████| 16604/16604 [00:06<00:00, 2717.20it/s]\n"
     ]
    }
   ],
   "source": [
    "tr_data = []\n",
    "for i in tqdm(range(label_df.shape[0])):\n",
    "    tr_data.append([])\n",
    "    row = label_df.iloc[i]\n",
    "    templates = row['msg_ids']\n",
    "    tr_data[-1] += [row['sn'], row['fault_time'], row['label']]\n",
    "    for label in range(4):\n",
    "        probas = [(counters[label][tid] / label_cnt_df.values[label][1]) for tid in templates]\n",
    "        if len(probas) > 0:\n",
    "            tr_data[-1] += [np.mean(probas), np.sum(probas), np.max(probas)]\n",
    "        if len(probas) == 0:\n",
    "            tr_data[-1] += [0, 0, 0]"
   ]
  },
  {
   "cell_type": "code",
   "execution_count": 13,
   "id": "9080c7da",
   "metadata": {},
   "outputs": [],
   "source": [
    "tr_proba_df = pd.DataFrame(tr_data)"
   ]
  },
  {
   "cell_type": "code",
   "execution_count": 14,
   "id": "55bb4439",
   "metadata": {},
   "outputs": [
    {
     "name": "stderr",
     "output_type": "stream",
     "text": [
      "100%|██████████████████████████████████████████████████████████████████████████████████████████████████████████████████████████████████████████████████████████| 3011/3011 [01:28<00:00, 33.84it/s]\n"
     ]
    }
   ],
   "source": [
    "submit_df['fault_time'] = pd.to_datetime(submit_df['fault_time'])\n",
    "data = []\n",
    "for i in tqdm(range(submit_df.shape[0])):\n",
    "    row = submit_df.iloc[i]\n",
    "    sn = row['sn']\n",
    "    fault_time = row['fault_time']\n",
    "    tmp = log_df[log_df['sn'] == sn]\n",
    "    tmp = tmp[(tmp['time'] <= fault_time)].tail(10).sort_values(by='time', ascending=False)\n",
    "    data.append(np.unique(tmp['msg_id'].values.tolist()))"
   ]
  },
  {
   "cell_type": "code",
   "execution_count": 15,
   "id": "c3aea811",
   "metadata": {},
   "outputs": [],
   "source": [
    "submit_df['msg_ids'] = data"
   ]
  },
  {
   "cell_type": "code",
   "execution_count": 16,
   "id": "1e771ecf",
   "metadata": {},
   "outputs": [
    {
     "name": "stderr",
     "output_type": "stream",
     "text": [
      "100%|████████████████████████████████████████████████████████████████████████████████████████████████████████████████████████████████████████████████████████| 3011/3011 [00:01<00:00, 2962.28it/s]\n"
     ]
    }
   ],
   "source": [
    "te_data = []\n",
    "for i in tqdm(range(submit_df.shape[0])):\n",
    "    te_data.append([])\n",
    "    row = submit_df.iloc[i]\n",
    "    te_data[-1] += [row['sn'], row['fault_time']]\n",
    "    templates = row['msg_ids']\n",
    "    for label in range(4):\n",
    "        probas = [(counters[label][tid] / label_cnt_df.values[label][1]) for tid in templates]\n",
    "        if len(probas) > 0:\n",
    "            te_data[-1] += [np.mean(probas), np.sum(probas), np.max(probas)]\n",
    "        if len(probas) == 0:\n",
    "            te_data[-1] += [0, 0, 0]"
   ]
  },
  {
   "cell_type": "code",
   "execution_count": 17,
   "id": "aafdef09",
   "metadata": {},
   "outputs": [],
   "source": [
    "te_proba_df = pd.DataFrame(te_data)"
   ]
  },
  {
   "cell_type": "code",
   "execution_count": 18,
   "id": "741f4151",
   "metadata": {},
   "outputs": [],
   "source": [
    "columns = ['mean_proba_0', 'sum_proba_0', 'max_proba_0',\n",
    "           'mean_proba_1', 'sum_proba_1', 'max_proba_1',\n",
    "           'mean_proba_2', 'sum_proba_2', 'max_proba_2',\n",
    "           'mean_proba_3', 'sum_proba_3', 'max_proba_3']"
   ]
  },
  {
   "cell_type": "code",
   "execution_count": 19,
   "id": "761f5eda",
   "metadata": {},
   "outputs": [],
   "source": [
    "tr_proba_df.columns = ['sn', 'fault_time', 'label'] + columns"
   ]
  },
  {
   "cell_type": "code",
   "execution_count": 20,
   "id": "170209a2",
   "metadata": {},
   "outputs": [],
   "source": [
    "te_proba_df.columns = ['sn', 'fault_time'] + columns"
   ]
  },
  {
   "cell_type": "code",
   "execution_count": 25,
   "id": "13a49f29",
   "metadata": {},
   "outputs": [],
   "source": [
    "tr_proba_df.to_csv('train4.csv', index=False)\n",
    "te_proba_df.to_csv('test4.csv', index=False)"
   ]
  },
  {
   "cell_type": "code",
   "execution_count": 21,
   "id": "9f02b90d",
   "metadata": {},
   "outputs": [
    {
     "data": {
      "text/html": [
       "<div>\n",
       "<style scoped>\n",
       "    .dataframe tbody tr th:only-of-type {\n",
       "        vertical-align: middle;\n",
       "    }\n",
       "\n",
       "    .dataframe tbody tr th {\n",
       "        vertical-align: top;\n",
       "    }\n",
       "\n",
       "    .dataframe thead th {\n",
       "        text-align: right;\n",
       "    }\n",
       "</style>\n",
       "<table border=\"1\" class=\"dataframe\">\n",
       "  <thead>\n",
       "    <tr style=\"text-align: right;\">\n",
       "      <th></th>\n",
       "      <th>sn</th>\n",
       "      <th>fault_time</th>\n",
       "      <th>label</th>\n",
       "      <th>mean_proba_0</th>\n",
       "      <th>sum_proba_0</th>\n",
       "      <th>max_proba_0</th>\n",
       "      <th>mean_proba_1</th>\n",
       "      <th>sum_proba_1</th>\n",
       "      <th>max_proba_1</th>\n",
       "      <th>mean_proba_2</th>\n",
       "      <th>sum_proba_2</th>\n",
       "      <th>max_proba_2</th>\n",
       "      <th>mean_proba_3</th>\n",
       "      <th>sum_proba_3</th>\n",
       "      <th>max_proba_3</th>\n",
       "    </tr>\n",
       "  </thead>\n",
       "  <tbody>\n",
       "    <tr>\n",
       "      <th>0</th>\n",
       "      <td>SERVER_25698</td>\n",
       "      <td>2020-10-09 13:43:00</td>\n",
       "      <td>0</td>\n",
       "      <td>0.000678</td>\n",
       "      <td>0.000678</td>\n",
       "      <td>0.000678</td>\n",
       "      <td>0.000000</td>\n",
       "      <td>0.00000</td>\n",
       "      <td>0.000000</td>\n",
       "      <td>0.000000</td>\n",
       "      <td>0.000000</td>\n",
       "      <td>0.000000</td>\n",
       "      <td>0.000000</td>\n",
       "      <td>0.000000</td>\n",
       "      <td>0.000000</td>\n",
       "    </tr>\n",
       "    <tr>\n",
       "      <th>1</th>\n",
       "      <td>SERVER_25699</td>\n",
       "      <td>2020-08-25 18:50:00</td>\n",
       "      <td>0</td>\n",
       "      <td>0.002258</td>\n",
       "      <td>0.006775</td>\n",
       "      <td>0.003388</td>\n",
       "      <td>0.000197</td>\n",
       "      <td>0.00059</td>\n",
       "      <td>0.000295</td>\n",
       "      <td>0.000680</td>\n",
       "      <td>0.002039</td>\n",
       "      <td>0.001073</td>\n",
       "      <td>0.000688</td>\n",
       "      <td>0.002065</td>\n",
       "      <td>0.001652</td>\n",
       "    </tr>\n",
       "    <tr>\n",
       "      <th>2</th>\n",
       "      <td>SERVER_25712</td>\n",
       "      <td>2020-03-16 13:20:00</td>\n",
       "      <td>0</td>\n",
       "      <td>0.002439</td>\n",
       "      <td>0.012195</td>\n",
       "      <td>0.003388</td>\n",
       "      <td>0.000118</td>\n",
       "      <td>0.00059</td>\n",
       "      <td>0.000295</td>\n",
       "      <td>0.000773</td>\n",
       "      <td>0.003863</td>\n",
       "      <td>0.001502</td>\n",
       "      <td>0.001652</td>\n",
       "      <td>0.008261</td>\n",
       "      <td>0.003304</td>\n",
       "    </tr>\n",
       "    <tr>\n",
       "      <th>3</th>\n",
       "      <td>SERVER_25708</td>\n",
       "      <td>2020-07-25 12:44:00</td>\n",
       "      <td>0</td>\n",
       "      <td>0.002710</td>\n",
       "      <td>0.005420</td>\n",
       "      <td>0.003388</td>\n",
       "      <td>0.000000</td>\n",
       "      <td>0.00000</td>\n",
       "      <td>0.000000</td>\n",
       "      <td>0.000912</td>\n",
       "      <td>0.001824</td>\n",
       "      <td>0.001502</td>\n",
       "      <td>0.003098</td>\n",
       "      <td>0.006196</td>\n",
       "      <td>0.003304</td>\n",
       "    </tr>\n",
       "    <tr>\n",
       "      <th>4</th>\n",
       "      <td>SERVER_25711</td>\n",
       "      <td>2020-03-16 16:51:00</td>\n",
       "      <td>0</td>\n",
       "      <td>0.002258</td>\n",
       "      <td>0.006775</td>\n",
       "      <td>0.003388</td>\n",
       "      <td>0.000197</td>\n",
       "      <td>0.00059</td>\n",
       "      <td>0.000295</td>\n",
       "      <td>0.000715</td>\n",
       "      <td>0.002146</td>\n",
       "      <td>0.001073</td>\n",
       "      <td>0.000688</td>\n",
       "      <td>0.002065</td>\n",
       "      <td>0.001652</td>\n",
       "    </tr>\n",
       "    <tr>\n",
       "      <th>...</th>\n",
       "      <td>...</td>\n",
       "      <td>...</td>\n",
       "      <td>...</td>\n",
       "      <td>...</td>\n",
       "      <td>...</td>\n",
       "      <td>...</td>\n",
       "      <td>...</td>\n",
       "      <td>...</td>\n",
       "      <td>...</td>\n",
       "      <td>...</td>\n",
       "      <td>...</td>\n",
       "      <td>...</td>\n",
       "      <td>...</td>\n",
       "      <td>...</td>\n",
       "      <td>...</td>\n",
       "    </tr>\n",
       "    <tr>\n",
       "      <th>16599</th>\n",
       "      <td>SERVER_24971</td>\n",
       "      <td>2020-03-04 21:09:00</td>\n",
       "      <td>3</td>\n",
       "      <td>0.000000</td>\n",
       "      <td>0.000000</td>\n",
       "      <td>0.000000</td>\n",
       "      <td>0.000000</td>\n",
       "      <td>0.00000</td>\n",
       "      <td>0.000000</td>\n",
       "      <td>0.000000</td>\n",
       "      <td>0.000000</td>\n",
       "      <td>0.000000</td>\n",
       "      <td>0.003924</td>\n",
       "      <td>0.007848</td>\n",
       "      <td>0.004131</td>\n",
       "    </tr>\n",
       "    <tr>\n",
       "      <th>16600</th>\n",
       "      <td>SERVER_24971</td>\n",
       "      <td>2020-11-12 20:49:00</td>\n",
       "      <td>3</td>\n",
       "      <td>0.000000</td>\n",
       "      <td>0.000000</td>\n",
       "      <td>0.000000</td>\n",
       "      <td>0.000000</td>\n",
       "      <td>0.00000</td>\n",
       "      <td>0.000000</td>\n",
       "      <td>0.000000</td>\n",
       "      <td>0.000000</td>\n",
       "      <td>0.000000</td>\n",
       "      <td>0.003924</td>\n",
       "      <td>0.007848</td>\n",
       "      <td>0.004131</td>\n",
       "    </tr>\n",
       "    <tr>\n",
       "      <th>16601</th>\n",
       "      <td>SERVER_24962</td>\n",
       "      <td>2020-09-12 12:18:00</td>\n",
       "      <td>3</td>\n",
       "      <td>0.000000</td>\n",
       "      <td>0.000000</td>\n",
       "      <td>0.000000</td>\n",
       "      <td>0.000000</td>\n",
       "      <td>0.00000</td>\n",
       "      <td>0.000000</td>\n",
       "      <td>0.000000</td>\n",
       "      <td>0.000000</td>\n",
       "      <td>0.000000</td>\n",
       "      <td>0.000826</td>\n",
       "      <td>0.001652</td>\n",
       "      <td>0.000826</td>\n",
       "    </tr>\n",
       "    <tr>\n",
       "      <th>16602</th>\n",
       "      <td>SERVER_24971</td>\n",
       "      <td>2020-10-04 17:41:00</td>\n",
       "      <td>3</td>\n",
       "      <td>0.000000</td>\n",
       "      <td>0.000000</td>\n",
       "      <td>0.000000</td>\n",
       "      <td>0.000000</td>\n",
       "      <td>0.00000</td>\n",
       "      <td>0.000000</td>\n",
       "      <td>0.000000</td>\n",
       "      <td>0.000000</td>\n",
       "      <td>0.000000</td>\n",
       "      <td>0.003924</td>\n",
       "      <td>0.007848</td>\n",
       "      <td>0.004131</td>\n",
       "    </tr>\n",
       "    <tr>\n",
       "      <th>16603</th>\n",
       "      <td>SERVER_24971</td>\n",
       "      <td>2020-10-26 01:41:00</td>\n",
       "      <td>3</td>\n",
       "      <td>0.000000</td>\n",
       "      <td>0.000000</td>\n",
       "      <td>0.000000</td>\n",
       "      <td>0.000000</td>\n",
       "      <td>0.00000</td>\n",
       "      <td>0.000000</td>\n",
       "      <td>0.000000</td>\n",
       "      <td>0.000000</td>\n",
       "      <td>0.000000</td>\n",
       "      <td>0.003924</td>\n",
       "      <td>0.007848</td>\n",
       "      <td>0.004131</td>\n",
       "    </tr>\n",
       "  </tbody>\n",
       "</table>\n",
       "<p>16604 rows × 15 columns</p>\n",
       "</div>"
      ],
      "text/plain": [
       "                 sn          fault_time  label  mean_proba_0  sum_proba_0  \\\n",
       "0      SERVER_25698 2020-10-09 13:43:00      0      0.000678     0.000678   \n",
       "1      SERVER_25699 2020-08-25 18:50:00      0      0.002258     0.006775   \n",
       "2      SERVER_25712 2020-03-16 13:20:00      0      0.002439     0.012195   \n",
       "3      SERVER_25708 2020-07-25 12:44:00      0      0.002710     0.005420   \n",
       "4      SERVER_25711 2020-03-16 16:51:00      0      0.002258     0.006775   \n",
       "...             ...                 ...    ...           ...          ...   \n",
       "16599  SERVER_24971 2020-03-04 21:09:00      3      0.000000     0.000000   \n",
       "16600  SERVER_24971 2020-11-12 20:49:00      3      0.000000     0.000000   \n",
       "16601  SERVER_24962 2020-09-12 12:18:00      3      0.000000     0.000000   \n",
       "16602  SERVER_24971 2020-10-04 17:41:00      3      0.000000     0.000000   \n",
       "16603  SERVER_24971 2020-10-26 01:41:00      3      0.000000     0.000000   \n",
       "\n",
       "       max_proba_0  mean_proba_1  sum_proba_1  max_proba_1  mean_proba_2  \\\n",
       "0         0.000678      0.000000      0.00000     0.000000      0.000000   \n",
       "1         0.003388      0.000197      0.00059     0.000295      0.000680   \n",
       "2         0.003388      0.000118      0.00059     0.000295      0.000773   \n",
       "3         0.003388      0.000000      0.00000     0.000000      0.000912   \n",
       "4         0.003388      0.000197      0.00059     0.000295      0.000715   \n",
       "...            ...           ...          ...          ...           ...   \n",
       "16599     0.000000      0.000000      0.00000     0.000000      0.000000   \n",
       "16600     0.000000      0.000000      0.00000     0.000000      0.000000   \n",
       "16601     0.000000      0.000000      0.00000     0.000000      0.000000   \n",
       "16602     0.000000      0.000000      0.00000     0.000000      0.000000   \n",
       "16603     0.000000      0.000000      0.00000     0.000000      0.000000   \n",
       "\n",
       "       sum_proba_2  max_proba_2  mean_proba_3  sum_proba_3  max_proba_3  \n",
       "0         0.000000     0.000000      0.000000     0.000000     0.000000  \n",
       "1         0.002039     0.001073      0.000688     0.002065     0.001652  \n",
       "2         0.003863     0.001502      0.001652     0.008261     0.003304  \n",
       "3         0.001824     0.001502      0.003098     0.006196     0.003304  \n",
       "4         0.002146     0.001073      0.000688     0.002065     0.001652  \n",
       "...            ...          ...           ...          ...          ...  \n",
       "16599     0.000000     0.000000      0.003924     0.007848     0.004131  \n",
       "16600     0.000000     0.000000      0.003924     0.007848     0.004131  \n",
       "16601     0.000000     0.000000      0.000826     0.001652     0.000826  \n",
       "16602     0.000000     0.000000      0.003924     0.007848     0.004131  \n",
       "16603     0.000000     0.000000      0.003924     0.007848     0.004131  \n",
       "\n",
       "[16604 rows x 15 columns]"
      ]
     },
     "execution_count": 21,
     "metadata": {},
     "output_type": "execute_result"
    }
   ],
   "source": [
    "tr_proba_df"
   ]
  },
  {
   "cell_type": "code",
   "execution_count": 22,
   "id": "1f086b87",
   "metadata": {},
   "outputs": [
    {
     "data": {
      "text/html": [
       "<div>\n",
       "<style scoped>\n",
       "    .dataframe tbody tr th:only-of-type {\n",
       "        vertical-align: middle;\n",
       "    }\n",
       "\n",
       "    .dataframe tbody tr th {\n",
       "        vertical-align: top;\n",
       "    }\n",
       "\n",
       "    .dataframe thead th {\n",
       "        text-align: right;\n",
       "    }\n",
       "</style>\n",
       "<table border=\"1\" class=\"dataframe\">\n",
       "  <thead>\n",
       "    <tr style=\"text-align: right;\">\n",
       "      <th></th>\n",
       "      <th>sn</th>\n",
       "      <th>fault_time</th>\n",
       "      <th>mean_proba_0</th>\n",
       "      <th>sum_proba_0</th>\n",
       "      <th>max_proba_0</th>\n",
       "      <th>mean_proba_1</th>\n",
       "      <th>sum_proba_1</th>\n",
       "      <th>max_proba_1</th>\n",
       "      <th>mean_proba_2</th>\n",
       "      <th>sum_proba_2</th>\n",
       "      <th>max_proba_2</th>\n",
       "      <th>mean_proba_3</th>\n",
       "      <th>sum_proba_3</th>\n",
       "      <th>max_proba_3</th>\n",
       "    </tr>\n",
       "  </thead>\n",
       "  <tbody>\n",
       "    <tr>\n",
       "      <th>0</th>\n",
       "      <td>000d33b21436</td>\n",
       "      <td>2020-09-02 16:42:54</td>\n",
       "      <td>0.251694</td>\n",
       "      <td>0.503388</td>\n",
       "      <td>0.268293</td>\n",
       "      <td>0.267198</td>\n",
       "      <td>0.534396</td>\n",
       "      <td>0.337762</td>\n",
       "      <td>0.108369</td>\n",
       "      <td>0.216738</td>\n",
       "      <td>0.115343</td>\n",
       "      <td>0.145808</td>\n",
       "      <td>0.291615</td>\n",
       "      <td>0.176373</td>\n",
       "    </tr>\n",
       "    <tr>\n",
       "      <th>1</th>\n",
       "      <td>005c5a9218ba</td>\n",
       "      <td>2020-06-28 19:05:16</td>\n",
       "      <td>0.078930</td>\n",
       "      <td>0.315718</td>\n",
       "      <td>0.235095</td>\n",
       "      <td>0.052332</td>\n",
       "      <td>0.209330</td>\n",
       "      <td>0.196634</td>\n",
       "      <td>0.033101</td>\n",
       "      <td>0.132403</td>\n",
       "      <td>0.101395</td>\n",
       "      <td>0.030256</td>\n",
       "      <td>0.121024</td>\n",
       "      <td>0.115242</td>\n",
       "    </tr>\n",
       "    <tr>\n",
       "      <th>2</th>\n",
       "      <td>0079283bde6e</td>\n",
       "      <td>2020-04-26 21:32:44</td>\n",
       "      <td>0.000678</td>\n",
       "      <td>0.000678</td>\n",
       "      <td>0.000678</td>\n",
       "      <td>0.001181</td>\n",
       "      <td>0.001181</td>\n",
       "      <td>0.001181</td>\n",
       "      <td>0.000107</td>\n",
       "      <td>0.000107</td>\n",
       "      <td>0.000107</td>\n",
       "      <td>0.104502</td>\n",
       "      <td>0.104502</td>\n",
       "      <td>0.104502</td>\n",
       "    </tr>\n",
       "    <tr>\n",
       "      <th>3</th>\n",
       "      <td>007bdf23b62f</td>\n",
       "      <td>2020-06-16 18:40:39</td>\n",
       "      <td>0.146206</td>\n",
       "      <td>0.731030</td>\n",
       "      <td>0.310298</td>\n",
       "      <td>0.157603</td>\n",
       "      <td>0.788013</td>\n",
       "      <td>0.371715</td>\n",
       "      <td>0.095944</td>\n",
       "      <td>0.479721</td>\n",
       "      <td>0.281974</td>\n",
       "      <td>0.106237</td>\n",
       "      <td>0.531185</td>\n",
       "      <td>0.243701</td>\n",
       "    </tr>\n",
       "    <tr>\n",
       "      <th>4</th>\n",
       "      <td>00a577a8e54f</td>\n",
       "      <td>2020-04-07 07:16:55</td>\n",
       "      <td>0.000790</td>\n",
       "      <td>0.004743</td>\n",
       "      <td>0.001355</td>\n",
       "      <td>0.006840</td>\n",
       "      <td>0.041039</td>\n",
       "      <td>0.011810</td>\n",
       "      <td>0.050733</td>\n",
       "      <td>0.304399</td>\n",
       "      <td>0.072639</td>\n",
       "      <td>0.037037</td>\n",
       "      <td>0.222222</td>\n",
       "      <td>0.068980</td>\n",
       "    </tr>\n",
       "    <tr>\n",
       "      <th>...</th>\n",
       "      <td>...</td>\n",
       "      <td>...</td>\n",
       "      <td>...</td>\n",
       "      <td>...</td>\n",
       "      <td>...</td>\n",
       "      <td>...</td>\n",
       "      <td>...</td>\n",
       "      <td>...</td>\n",
       "      <td>...</td>\n",
       "      <td>...</td>\n",
       "      <td>...</td>\n",
       "      <td>...</td>\n",
       "      <td>...</td>\n",
       "      <td>...</td>\n",
       "    </tr>\n",
       "    <tr>\n",
       "      <th>3006</th>\n",
       "      <td>ffbf46b4af21</td>\n",
       "      <td>2019-12-28 20:10:01</td>\n",
       "      <td>0.002033</td>\n",
       "      <td>0.002033</td>\n",
       "      <td>0.002033</td>\n",
       "      <td>0.004724</td>\n",
       "      <td>0.004724</td>\n",
       "      <td>0.004724</td>\n",
       "      <td>0.014485</td>\n",
       "      <td>0.014485</td>\n",
       "      <td>0.014485</td>\n",
       "      <td>0.000413</td>\n",
       "      <td>0.000413</td>\n",
       "      <td>0.000413</td>\n",
       "    </tr>\n",
       "    <tr>\n",
       "      <th>3007</th>\n",
       "      <td>ffc229b6cd9a</td>\n",
       "      <td>2020-06-27 02:39:08</td>\n",
       "      <td>0.054878</td>\n",
       "      <td>0.054878</td>\n",
       "      <td>0.054878</td>\n",
       "      <td>0.036315</td>\n",
       "      <td>0.036315</td>\n",
       "      <td>0.036315</td>\n",
       "      <td>0.281974</td>\n",
       "      <td>0.281974</td>\n",
       "      <td>0.281974</td>\n",
       "      <td>0.011152</td>\n",
       "      <td>0.011152</td>\n",
       "      <td>0.011152</td>\n",
       "    </tr>\n",
       "    <tr>\n",
       "      <th>3008</th>\n",
       "      <td>ffd44698a52b</td>\n",
       "      <td>2020-01-21 15:46:56</td>\n",
       "      <td>0.176152</td>\n",
       "      <td>0.352304</td>\n",
       "      <td>0.301491</td>\n",
       "      <td>0.189253</td>\n",
       "      <td>0.378506</td>\n",
       "      <td>0.364334</td>\n",
       "      <td>0.051073</td>\n",
       "      <td>0.102146</td>\n",
       "      <td>0.075751</td>\n",
       "      <td>0.135068</td>\n",
       "      <td>0.270136</td>\n",
       "      <td>0.212722</td>\n",
       "    </tr>\n",
       "    <tr>\n",
       "      <th>3009</th>\n",
       "      <td>fff73a9e5bd5</td>\n",
       "      <td>2020-03-01 22:43:43</td>\n",
       "      <td>0.054878</td>\n",
       "      <td>0.054878</td>\n",
       "      <td>0.054878</td>\n",
       "      <td>0.036315</td>\n",
       "      <td>0.036315</td>\n",
       "      <td>0.036315</td>\n",
       "      <td>0.281974</td>\n",
       "      <td>0.281974</td>\n",
       "      <td>0.281974</td>\n",
       "      <td>0.011152</td>\n",
       "      <td>0.011152</td>\n",
       "      <td>0.011152</td>\n",
       "    </tr>\n",
       "    <tr>\n",
       "      <th>3010</th>\n",
       "      <td>fffd22fffe19</td>\n",
       "      <td>2020-01-21 19:22:56</td>\n",
       "      <td>0.130909</td>\n",
       "      <td>1.178184</td>\n",
       "      <td>0.310298</td>\n",
       "      <td>0.174688</td>\n",
       "      <td>1.572188</td>\n",
       "      <td>0.371715</td>\n",
       "      <td>0.049320</td>\n",
       "      <td>0.443884</td>\n",
       "      <td>0.115343</td>\n",
       "      <td>0.100647</td>\n",
       "      <td>0.905824</td>\n",
       "      <td>0.243701</td>\n",
       "    </tr>\n",
       "  </tbody>\n",
       "</table>\n",
       "<p>3011 rows × 14 columns</p>\n",
       "</div>"
      ],
      "text/plain": [
       "                sn          fault_time  mean_proba_0  sum_proba_0  \\\n",
       "0     000d33b21436 2020-09-02 16:42:54      0.251694     0.503388   \n",
       "1     005c5a9218ba 2020-06-28 19:05:16      0.078930     0.315718   \n",
       "2     0079283bde6e 2020-04-26 21:32:44      0.000678     0.000678   \n",
       "3     007bdf23b62f 2020-06-16 18:40:39      0.146206     0.731030   \n",
       "4     00a577a8e54f 2020-04-07 07:16:55      0.000790     0.004743   \n",
       "...            ...                 ...           ...          ...   \n",
       "3006  ffbf46b4af21 2019-12-28 20:10:01      0.002033     0.002033   \n",
       "3007  ffc229b6cd9a 2020-06-27 02:39:08      0.054878     0.054878   \n",
       "3008  ffd44698a52b 2020-01-21 15:46:56      0.176152     0.352304   \n",
       "3009  fff73a9e5bd5 2020-03-01 22:43:43      0.054878     0.054878   \n",
       "3010  fffd22fffe19 2020-01-21 19:22:56      0.130909     1.178184   \n",
       "\n",
       "      max_proba_0  mean_proba_1  sum_proba_1  max_proba_1  mean_proba_2  \\\n",
       "0        0.268293      0.267198     0.534396     0.337762      0.108369   \n",
       "1        0.235095      0.052332     0.209330     0.196634      0.033101   \n",
       "2        0.000678      0.001181     0.001181     0.001181      0.000107   \n",
       "3        0.310298      0.157603     0.788013     0.371715      0.095944   \n",
       "4        0.001355      0.006840     0.041039     0.011810      0.050733   \n",
       "...           ...           ...          ...          ...           ...   \n",
       "3006     0.002033      0.004724     0.004724     0.004724      0.014485   \n",
       "3007     0.054878      0.036315     0.036315     0.036315      0.281974   \n",
       "3008     0.301491      0.189253     0.378506     0.364334      0.051073   \n",
       "3009     0.054878      0.036315     0.036315     0.036315      0.281974   \n",
       "3010     0.310298      0.174688     1.572188     0.371715      0.049320   \n",
       "\n",
       "      sum_proba_2  max_proba_2  mean_proba_3  sum_proba_3  max_proba_3  \n",
       "0        0.216738     0.115343      0.145808     0.291615     0.176373  \n",
       "1        0.132403     0.101395      0.030256     0.121024     0.115242  \n",
       "2        0.000107     0.000107      0.104502     0.104502     0.104502  \n",
       "3        0.479721     0.281974      0.106237     0.531185     0.243701  \n",
       "4        0.304399     0.072639      0.037037     0.222222     0.068980  \n",
       "...           ...          ...           ...          ...          ...  \n",
       "3006     0.014485     0.014485      0.000413     0.000413     0.000413  \n",
       "3007     0.281974     0.281974      0.011152     0.011152     0.011152  \n",
       "3008     0.102146     0.075751      0.135068     0.270136     0.212722  \n",
       "3009     0.281974     0.281974      0.011152     0.011152     0.011152  \n",
       "3010     0.443884     0.115343      0.100647     0.905824     0.243701  \n",
       "\n",
       "[3011 rows x 14 columns]"
      ]
     },
     "execution_count": 22,
     "metadata": {},
     "output_type": "execute_result"
    }
   ],
   "source": [
    "te_proba_df"
   ]
  },
  {
   "cell_type": "code",
   "execution_count": null,
   "id": "bfc20d79",
   "metadata": {},
   "outputs": [],
   "source": []
  },
  {
   "cell_type": "code",
   "execution_count": null,
   "id": "918e3c87",
   "metadata": {},
   "outputs": [],
   "source": []
  },
  {
   "cell_type": "code",
   "execution_count": null,
   "id": "a82d686c",
   "metadata": {},
   "outputs": [],
   "source": []
  },
  {
   "cell_type": "code",
   "execution_count": 8,
   "id": "61259ded",
   "metadata": {},
   "outputs": [],
   "source": [
    "data = []\n",
    "for idx, row in label_df.iterrows():\n",
    "    sn = row['sn']\n",
    "    fault_time = row['fault_time']\n",
    "    ts = row['fault_time_ts']\n",
    "    df = log_df[log_df['sn'] == sn].copy()\n",
    "    df = df[df['time_ts'] <= ts].copy()\n",
    "    df = df.sort_values(by='time_ts').reset_index(drop=True).tail(5)\n",
    "    text = '\\n'.join(df['msg_lower'].values)\n",
    "    data.append(text)"
   ]
  },
  {
   "cell_type": "code",
   "execution_count": 9,
   "id": "f29c0cad",
   "metadata": {},
   "outputs": [],
   "source": [
    "label_df['text'] = data"
   ]
  },
  {
   "cell_type": "code",
   "execution_count": 10,
   "id": "78dcdeeb",
   "metadata": {},
   "outputs": [],
   "source": [
    "data = []\n",
    "for idx, row in submit_df.iterrows():\n",
    "    sn = row['sn']\n",
    "    fault_time = row['fault_time']\n",
    "    ts = row['fault_time_ts']\n",
    "    df = log_df[log_df['sn'] == sn].copy()\n",
    "    df = df[df['time_ts'] <= ts].copy()\n",
    "    df = df.sort_values(by='time_ts').reset_index(drop=True).tail(5)\n",
    "    text = '\\n'.join(df['msg_lower'].values)\n",
    "    data.append(text)"
   ]
  },
  {
   "cell_type": "code",
   "execution_count": 11,
   "id": "e0678dfd",
   "metadata": {},
   "outputs": [],
   "source": [
    "submit_df['text'] = data"
   ]
  },
  {
   "cell_type": "code",
   "execution_count": null,
   "id": "2855cae7",
   "metadata": {},
   "outputs": [],
   "source": []
  },
  {
   "cell_type": "code",
   "execution_count": 12,
   "id": "19227902",
   "metadata": {},
   "outputs": [],
   "source": [
    "label_cnt_df = label_df.groupby('label').size().reset_index().rename({0: 'label_cnt'}, axis=1)"
   ]
  },
  {
   "cell_type": "code",
   "execution_count": 13,
   "id": "422a3796",
   "metadata": {},
   "outputs": [
    {
     "data": {
      "text/plain": [
       "((16604, 6), (3011, 5))"
      ]
     },
     "execution_count": 13,
     "metadata": {},
     "output_type": "execute_result"
    }
   ],
   "source": [
    "label_df['text_list'] = label_df['text'].str.split()\n",
    "submit_df['text_list'] = submit_df['text'].str.split()\n",
    "label_df.shape, submit_df.shape"
   ]
  },
  {
   "cell_type": "code",
   "execution_count": 14,
   "id": "a5d3e74a",
   "metadata": {},
   "outputs": [
    {
     "data": {
      "text/plain": [
       "((225493, 6), (32474, 5))"
      ]
     },
     "execution_count": 14,
     "metadata": {},
     "output_type": "execute_result"
    }
   ],
   "source": [
    "exp_label_df = label_df.explode('text_list').reset_index(drop=True).drop_duplicates()\n",
    "exp_submit_df = submit_df.explode('text_list').reset_index(drop=True).drop_duplicates()\n",
    "exp_label_df.shape, exp_submit_df.shape"
   ]
  },
  {
   "cell_type": "code",
   "execution_count": 15,
   "id": "aad2aae5",
   "metadata": {},
   "outputs": [
    {
     "data": {
      "text/html": [
       "<div>\n",
       "<style scoped>\n",
       "    .dataframe tbody tr th:only-of-type {\n",
       "        vertical-align: middle;\n",
       "    }\n",
       "\n",
       "    .dataframe tbody tr th {\n",
       "        vertical-align: top;\n",
       "    }\n",
       "\n",
       "    .dataframe thead th {\n",
       "        text-align: right;\n",
       "    }\n",
       "</style>\n",
       "<table border=\"1\" class=\"dataframe\">\n",
       "  <thead>\n",
       "    <tr style=\"text-align: right;\">\n",
       "      <th></th>\n",
       "      <th>sn</th>\n",
       "      <th>fault_time</th>\n",
       "      <th>label</th>\n",
       "      <th>fault_time_ts</th>\n",
       "      <th>text</th>\n",
       "      <th>text_list</th>\n",
       "    </tr>\n",
       "  </thead>\n",
       "  <tbody>\n",
       "    <tr>\n",
       "      <th>0</th>\n",
       "      <td>SERVER_25698</td>\n",
       "      <td>2020-10-09 13:43:00</td>\n",
       "      <td>0</td>\n",
       "      <td>1602250980</td>\n",
       "      <td>system boot initiated bios_boot_up | state ass...</td>\n",
       "      <td>system</td>\n",
       "    </tr>\n",
       "    <tr>\n",
       "      <th>1</th>\n",
       "      <td>SERVER_25698</td>\n",
       "      <td>2020-10-09 13:43:00</td>\n",
       "      <td>0</td>\n",
       "      <td>1602250980</td>\n",
       "      <td>system boot initiated bios_boot_up | state ass...</td>\n",
       "      <td>boot</td>\n",
       "    </tr>\n",
       "    <tr>\n",
       "      <th>2</th>\n",
       "      <td>SERVER_25698</td>\n",
       "      <td>2020-10-09 13:43:00</td>\n",
       "      <td>0</td>\n",
       "      <td>1602250980</td>\n",
       "      <td>system boot initiated bios_boot_up | state ass...</td>\n",
       "      <td>initiated</td>\n",
       "    </tr>\n",
       "    <tr>\n",
       "      <th>3</th>\n",
       "      <td>SERVER_25698</td>\n",
       "      <td>2020-10-09 13:43:00</td>\n",
       "      <td>0</td>\n",
       "      <td>1602250980</td>\n",
       "      <td>system boot initiated bios_boot_up | state ass...</td>\n",
       "      <td>bios_boot_up</td>\n",
       "    </tr>\n",
       "    <tr>\n",
       "      <th>4</th>\n",
       "      <td>SERVER_25698</td>\n",
       "      <td>2020-10-09 13:43:00</td>\n",
       "      <td>0</td>\n",
       "      <td>1602250980</td>\n",
       "      <td>system boot initiated bios_boot_up | state ass...</td>\n",
       "      <td>|</td>\n",
       "    </tr>\n",
       "  </tbody>\n",
       "</table>\n",
       "</div>"
      ],
      "text/plain": [
       "             sn          fault_time  label  fault_time_ts  \\\n",
       "0  SERVER_25698 2020-10-09 13:43:00      0     1602250980   \n",
       "1  SERVER_25698 2020-10-09 13:43:00      0     1602250980   \n",
       "2  SERVER_25698 2020-10-09 13:43:00      0     1602250980   \n",
       "3  SERVER_25698 2020-10-09 13:43:00      0     1602250980   \n",
       "4  SERVER_25698 2020-10-09 13:43:00      0     1602250980   \n",
       "\n",
       "                                                text     text_list  \n",
       "0  system boot initiated bios_boot_up | state ass...        system  \n",
       "1  system boot initiated bios_boot_up | state ass...          boot  \n",
       "2  system boot initiated bios_boot_up | state ass...     initiated  \n",
       "3  system boot initiated bios_boot_up | state ass...  bios_boot_up  \n",
       "4  system boot initiated bios_boot_up | state ass...             |  "
      ]
     },
     "execution_count": 15,
     "metadata": {},
     "output_type": "execute_result"
    }
   ],
   "source": [
    "exp_label_df.head()"
   ]
  },
  {
   "cell_type": "code",
   "execution_count": 16,
   "id": "e4abb265",
   "metadata": {},
   "outputs": [
    {
     "data": {
      "text/plain": [
       "(1149, 3)"
      ]
     },
     "execution_count": 16,
     "metadata": {},
     "output_type": "execute_result"
    }
   ],
   "source": [
    "label_word_cnt_df = exp_label_df.groupby(['label', 'text_list']).size().reset_index()\\\n",
    "    .rename({0: 'label_word_cnt'}, axis=1)\n",
    "label_word_cnt_df.shape"
   ]
  },
  {
   "cell_type": "code",
   "execution_count": 17,
   "id": "13a3019d",
   "metadata": {},
   "outputs": [
    {
     "data": {
      "text/plain": [
       "(1149, 4)"
      ]
     },
     "execution_count": 17,
     "metadata": {},
     "output_type": "execute_result"
    }
   ],
   "source": [
    "label_word_cnt_df = label_word_cnt_df.merge(label_cnt_df, how='left', on='label')\n",
    "label_word_cnt_df.shape"
   ]
  },
  {
   "cell_type": "code",
   "execution_count": 18,
   "id": "611e0124",
   "metadata": {},
   "outputs": [
    {
     "data": {
      "text/plain": [
       "(1149, 5)"
      ]
     },
     "execution_count": 18,
     "metadata": {},
     "output_type": "execute_result"
    }
   ],
   "source": [
    "label_word_cnt_df['p(label_word_cnt|label_cnt)'] = \\\n",
    "    label_word_cnt_df['label_word_cnt'] / label_word_cnt_df['label_cnt']\n",
    "label_word_cnt_df.shape"
   ]
  },
  {
   "cell_type": "code",
   "execution_count": 19,
   "id": "33e64210",
   "metadata": {},
   "outputs": [
    {
     "data": {
      "text/html": [
       "<div>\n",
       "<style scoped>\n",
       "    .dataframe tbody tr th:only-of-type {\n",
       "        vertical-align: middle;\n",
       "    }\n",
       "\n",
       "    .dataframe tbody tr th {\n",
       "        vertical-align: top;\n",
       "    }\n",
       "\n",
       "    .dataframe thead th {\n",
       "        text-align: right;\n",
       "    }\n",
       "</style>\n",
       "<table border=\"1\" class=\"dataframe\">\n",
       "  <thead>\n",
       "    <tr style=\"text-align: right;\">\n",
       "      <th></th>\n",
       "      <th>label</th>\n",
       "      <th>text_list</th>\n",
       "      <th>label_word_cnt</th>\n",
       "      <th>label_cnt</th>\n",
       "      <th>p(label_word_cnt|label_cnt)</th>\n",
       "    </tr>\n",
       "  </thead>\n",
       "  <tbody>\n",
       "    <tr>\n",
       "      <th>0</th>\n",
       "      <td>0</td>\n",
       "      <td>#0x04</td>\n",
       "      <td>1</td>\n",
       "      <td>1476</td>\n",
       "      <td>0.000678</td>\n",
       "    </tr>\n",
       "    <tr>\n",
       "      <th>1</th>\n",
       "      <td>0</td>\n",
       "      <td>#0x07</td>\n",
       "      <td>4</td>\n",
       "      <td>1476</td>\n",
       "      <td>0.002710</td>\n",
       "    </tr>\n",
       "    <tr>\n",
       "      <th>2</th>\n",
       "      <td>0</td>\n",
       "      <td>#0x10</td>\n",
       "      <td>54</td>\n",
       "      <td>1476</td>\n",
       "      <td>0.036585</td>\n",
       "    </tr>\n",
       "    <tr>\n",
       "      <th>3</th>\n",
       "      <td>0</td>\n",
       "      <td>#0x16</td>\n",
       "      <td>41</td>\n",
       "      <td>1476</td>\n",
       "      <td>0.027778</td>\n",
       "    </tr>\n",
       "    <tr>\n",
       "      <th>4</th>\n",
       "      <td>0</td>\n",
       "      <td>#0x17</td>\n",
       "      <td>71</td>\n",
       "      <td>1476</td>\n",
       "      <td>0.048103</td>\n",
       "    </tr>\n",
       "  </tbody>\n",
       "</table>\n",
       "</div>"
      ],
      "text/plain": [
       "   label text_list  label_word_cnt  label_cnt  p(label_word_cnt|label_cnt)\n",
       "0      0     #0x04               1       1476                     0.000678\n",
       "1      0     #0x07               4       1476                     0.002710\n",
       "2      0     #0x10              54       1476                     0.036585\n",
       "3      0     #0x16              41       1476                     0.027778\n",
       "4      0     #0x17              71       1476                     0.048103"
      ]
     },
     "execution_count": 19,
     "metadata": {},
     "output_type": "execute_result"
    }
   ],
   "source": [
    "label_word_cnt_df.head()"
   ]
  },
  {
   "cell_type": "code",
   "execution_count": null,
   "id": "9f4b73d2",
   "metadata": {},
   "outputs": [],
   "source": []
  },
  {
   "cell_type": "code",
   "execution_count": null,
   "id": "58a3b4d4",
   "metadata": {},
   "outputs": [],
   "source": []
  },
  {
   "cell_type": "code",
   "execution_count": 24,
   "id": "022ebf40",
   "metadata": {},
   "outputs": [],
   "source": [
    "feature_df = None\n",
    "for i in range(4):\n",
    "    exp_label_df['label'] = i\n",
    "    tmp = exp_label_df.merge(label_word_cnt_df, how='left', on=['label', 'text_list']).fillna(0)\n",
    "    tmp = tmp.groupby(['sn', 'fault_time', 'label'])['p(label_word_cnt|label_cnt)']\n",
    "    tmp = tmp.agg([np.mean, np.sum, np.max]).reset_index()\n",
    "    tmp = tmp[['sn', 'fault_time', 'mean', 'sum', 'amax']].rename({\n",
    "        'mean': 'mean_%d'%i,\n",
    "        'sum': 'sum_%d'%i,\n",
    "        'amax': 'amax_%d'%i\n",
    "    }, axis=1)\n",
    "    if feature_df is None:\n",
    "        feature_df = tmp\n",
    "    else:\n",
    "        feature_df = feature_df.merge(tmp, on=['sn', 'fault_time'])"
   ]
  },
  {
   "cell_type": "code",
   "execution_count": 25,
   "id": "0d1b3ae1",
   "metadata": {},
   "outputs": [],
   "source": [
    "label_df = label_df.merge(feature_df, on=['sn', 'fault_time'])"
   ]
  },
  {
   "cell_type": "code",
   "execution_count": 26,
   "id": "f0c0e450",
   "metadata": {},
   "outputs": [],
   "source": [
    "feature_df = None\n",
    "for i in range(4):\n",
    "    exp_submit_df['label'] = i\n",
    "    tmp = exp_submit_df.merge(label_word_cnt_df, how='left', on=['label', 'text_list']).fillna(0)\n",
    "    tmp = tmp.groupby(['sn', 'fault_time', 'label'])['p(label_word_cnt|label_cnt)']\n",
    "    tmp = tmp.agg([np.mean, np.sum, np.max]).reset_index()\n",
    "    tmp = tmp[['sn', 'fault_time', 'mean', 'sum', 'amax']].rename({\n",
    "        'mean': 'mean_%d'%i,\n",
    "        'sum': 'sum_%d'%i,\n",
    "        'amax': 'amax_%d'%i\n",
    "    }, axis=1)\n",
    "    if feature_df is None:\n",
    "        feature_df = tmp\n",
    "    else:\n",
    "        feature_df = feature_df.merge(tmp, on=['sn', 'fault_time'])"
   ]
  },
  {
   "cell_type": "code",
   "execution_count": 27,
   "id": "19a3b099",
   "metadata": {},
   "outputs": [],
   "source": [
    "submit_df = submit_df.merge(feature_df, on=['sn', 'fault_time'])"
   ]
  },
  {
   "cell_type": "code",
   "execution_count": 28,
   "id": "c9a6d646",
   "metadata": {},
   "outputs": [
    {
     "data": {
      "text/plain": [
       "(16604, 18)"
      ]
     },
     "execution_count": 28,
     "metadata": {},
     "output_type": "execute_result"
    }
   ],
   "source": [
    "label_df.shape"
   ]
  },
  {
   "cell_type": "code",
   "execution_count": 29,
   "id": "206b8ef2",
   "metadata": {},
   "outputs": [
    {
     "data": {
      "text/plain": [
       "(3011, 17)"
      ]
     },
     "execution_count": 29,
     "metadata": {},
     "output_type": "execute_result"
    }
   ],
   "source": [
    "submit_df.shape"
   ]
  },
  {
   "cell_type": "code",
   "execution_count": 30,
   "id": "1aa8b8ae",
   "metadata": {},
   "outputs": [],
   "source": [
    "features = []\n",
    "for i in range(4):\n",
    "    features += ['mean_%d'%i, 'sum_%d'%i, 'amax_%d'%i,]"
   ]
  },
  {
   "cell_type": "code",
   "execution_count": 32,
   "id": "08308cb7",
   "metadata": {},
   "outputs": [],
   "source": [
    "label_df = label_df[['sn', 'fault_time', 'label'] + features]\n",
    "submit_df = submit_df[['sn', 'fault_time'] + features]"
   ]
  },
  {
   "cell_type": "code",
   "execution_count": 23,
   "id": "87e036da",
   "metadata": {},
   "outputs": [],
   "source": [
    "label_df.to_csv('train4.csv', index=False)\n",
    "submit_df.to_csv('test4.csv', index=False)"
   ]
  },
  {
   "cell_type": "code",
   "execution_count": null,
   "id": "511c7a09",
   "metadata": {},
   "outputs": [],
   "source": []
  }
 ],
 "metadata": {
  "kernelspec": {
   "display_name": "Python 3 (ipykernel)",
   "language": "python",
   "name": "python3"
  },
  "language_info": {
   "codemirror_mode": {
    "name": "ipython",
    "version": 3
   },
   "file_extension": ".py",
   "mimetype": "text/x-python",
   "name": "python",
   "nbconvert_exporter": "python",
   "pygments_lexer": "ipython3",
   "version": "3.7.8"
  }
 },
 "nbformat": 4,
 "nbformat_minor": 5
}
