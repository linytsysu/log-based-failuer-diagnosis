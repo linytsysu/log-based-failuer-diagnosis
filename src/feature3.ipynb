{
 "cells": [
  {
   "cell_type": "code",
   "execution_count": 1,
   "id": "1f66c2a1",
   "metadata": {},
   "outputs": [],
   "source": [
    "import os\n",
    "import json\n",
    "import numpy as np\n",
    "import pandas as pd\n",
    "from tqdm import tqdm\n",
    "from collections import Counter"
   ]
  },
  {
   "cell_type": "code",
   "execution_count": 2,
   "id": "30f9abbd",
   "metadata": {},
   "outputs": [],
   "source": [
    "label1 = pd.read_csv('../data/preliminary_train_label_dataset.csv')\n",
    "label2 = pd.read_csv('../data/preliminary_train_label_dataset_s.csv')\n",
    "label_df = pd.concat([label1, label2]).reset_index(drop=True)\n",
    "label_df = label_df.drop_duplicates().reset_index(drop=True)"
   ]
  },
  {
   "cell_type": "code",
   "execution_count": 3,
   "id": "0c2da6f9",
   "metadata": {},
   "outputs": [],
   "source": [
    "submit_df = pd.read_csv('../data/preliminary_submit_dataset_a.csv')"
   ]
  },
  {
   "cell_type": "code",
   "execution_count": 4,
   "id": "b4ed5dac",
   "metadata": {},
   "outputs": [],
   "source": [
    "log_df = pd.read_csv('./new_log.csv')"
   ]
  },
  {
   "cell_type": "code",
   "execution_count": 5,
   "id": "41e0c63c",
   "metadata": {},
   "outputs": [],
   "source": [
    "log_df['time'] = pd.to_datetime(log_df['time'])\n",
    "label_df['fault_time'] = pd.to_datetime(label_df['fault_time'])\n",
    "submit_df['fault_time'] = pd.to_datetime(submit_df['fault_time'])\n",
    "\n",
    "log_df['time_ts'] = log_df[\"time\"].values.astype(np.int64) // 10 ** 9\n",
    "label_df['fault_time_ts'] = label_df[\"fault_time\"].values.astype(np.int64) // 10 ** 9\n",
    "submit_df['fault_time_ts'] = submit_df[\"fault_time\"].values.astype(np.int64) // 10 ** 9"
   ]
  },
  {
   "cell_type": "code",
   "execution_count": 6,
   "id": "edafca90",
   "metadata": {},
   "outputs": [],
   "source": [
    "label_df = label_df.merge(log_df[['sn', 'server_model']].drop_duplicates(), on=['sn'], how='left')\n",
    "submit_df = submit_df.merge(log_df[['sn', 'server_model']].drop_duplicates(), on=['sn'], how='left')"
   ]
  },
  {
   "cell_type": "code",
   "execution_count": 7,
   "id": "78e99baf",
   "metadata": {},
   "outputs": [],
   "source": [
    "label_cnt_df = label_df.groupby('label').size().reset_index().rename({0: 'label_cnt'}, axis=1)\n",
    "\n",
    "label_model_cnt_df = label_df.groupby(['server_model', 'label']).size().reset_index()\\\n",
    "    .rename({0: 'label_model_cnt'}, axis=1)\n",
    "\n",
    "label_model_cnt_df = label_model_cnt_df.merge(label_cnt_df, on='label', how='left')\n",
    "\n",
    "label_model_cnt_df['model/label'] = label_model_cnt_df['label_model_cnt'] / label_model_cnt_df['label_cnt']"
   ]
  },
  {
   "cell_type": "code",
   "execution_count": 8,
   "id": "cecd15c9",
   "metadata": {},
   "outputs": [],
   "source": [
    "def make_dataset(dataset, data_type='train'):\n",
    "    ret = []\n",
    "    for idx, row in tqdm(dataset.iterrows()):\n",
    "        sn = row['sn']\n",
    "        fault_time = row['fault_time']\n",
    "        ts = row['fault_time_ts']\n",
    "        \n",
    "        if data_type == 'train':\n",
    "            label = row['label']\n",
    "\n",
    "        df = log_df[log_df['sn'] == sn].copy()\n",
    "        df = df[df['time_ts'] <= ts].copy()\n",
    "        df = df.sort_values(by='time_ts').reset_index(drop=True)\n",
    "        df = df.tail(20).copy()\n",
    "\n",
    "        if df.shape[0] > 0:\n",
    "            server_model = df['server_model'].values[0]\n",
    "            sub = label_model_cnt_df[label_model_cnt_df['server_model'] == server_model]\n",
    "            probas = [0, 0, 0, 0]\n",
    "            for item in sub.values:\n",
    "                probas[item[1]] = item[4]\n",
    "            server_model = int(server_model[2:])\n",
    "        else:\n",
    "            server_model = np.nan\n",
    "            probas = [0, 0, 0, 0]\n",
    "\n",
    "        if data_type == 'train':\n",
    "            ret.append([sn, fault_time] + [server_model] + probas + [label])\n",
    "        else:\n",
    "            ret.append([sn, fault_time] + [server_model] + probas)\n",
    "    return ret"
   ]
  },
  {
   "cell_type": "code",
   "execution_count": 9,
   "id": "279bfa52",
   "metadata": {},
   "outputs": [
    {
     "name": "stderr",
     "output_type": "stream",
     "text": [
      "16604it [08:39, 31.94it/s]\n"
     ]
    }
   ],
   "source": [
    "train = make_dataset(label_df, data_type='train')\n",
    "df_train = pd.DataFrame(train)"
   ]
  },
  {
   "cell_type": "code",
   "execution_count": 10,
   "id": "dcb938b7",
   "metadata": {},
   "outputs": [
    {
     "name": "stderr",
     "output_type": "stream",
     "text": [
      "3011it [01:34, 32.00it/s]\n"
     ]
    }
   ],
   "source": [
    "test = make_dataset(submit_df, data_type='test')\n",
    "df_test = pd.DataFrame(test)"
   ]
  },
  {
   "cell_type": "code",
   "execution_count": 11,
   "id": "119a593f",
   "metadata": {},
   "outputs": [],
   "source": [
    "df_train.columns = ['sn', 'fault_time', 'server_model', 'p0', 'p1', 'p2', 'p3', 'label']\n",
    "df_test.columns = ['sn', 'fault_time', 'server_model', 'p0', 'p1', 'p2', 'p3',]"
   ]
  },
  {
   "cell_type": "code",
   "execution_count": 12,
   "id": "b2a007ea",
   "metadata": {},
   "outputs": [],
   "source": [
    "df_train.to_csv('train3.csv', index=False)\n",
    "df_test.to_csv('test3.csv', index=False)"
   ]
  },
  {
   "cell_type": "code",
   "execution_count": 13,
   "id": "8d6527d9",
   "metadata": {},
   "outputs": [
    {
     "data": {
      "text/html": [
       "<div>\n",
       "<style scoped>\n",
       "    .dataframe tbody tr th:only-of-type {\n",
       "        vertical-align: middle;\n",
       "    }\n",
       "\n",
       "    .dataframe tbody tr th {\n",
       "        vertical-align: top;\n",
       "    }\n",
       "\n",
       "    .dataframe thead th {\n",
       "        text-align: right;\n",
       "    }\n",
       "</style>\n",
       "<table border=\"1\" class=\"dataframe\">\n",
       "  <thead>\n",
       "    <tr style=\"text-align: right;\">\n",
       "      <th></th>\n",
       "      <th>sn</th>\n",
       "      <th>fault_time</th>\n",
       "      <th>server_model</th>\n",
       "      <th>p0</th>\n",
       "      <th>p1</th>\n",
       "      <th>p2</th>\n",
       "      <th>p3</th>\n",
       "      <th>label</th>\n",
       "    </tr>\n",
       "  </thead>\n",
       "  <tbody>\n",
       "    <tr>\n",
       "      <th>0</th>\n",
       "      <td>SERVER_25698</td>\n",
       "      <td>2020-10-09 13:43:00</td>\n",
       "      <td>0.0</td>\n",
       "      <td>0.000678</td>\n",
       "      <td>0.000000</td>\n",
       "      <td>0.000000</td>\n",
       "      <td>0.000000</td>\n",
       "      <td>0</td>\n",
       "    </tr>\n",
       "    <tr>\n",
       "      <th>1</th>\n",
       "      <td>SERVER_25699</td>\n",
       "      <td>2020-08-25 18:50:00</td>\n",
       "      <td>3.0</td>\n",
       "      <td>0.000678</td>\n",
       "      <td>0.000295</td>\n",
       "      <td>0.000215</td>\n",
       "      <td>0.000000</td>\n",
       "      <td>0</td>\n",
       "    </tr>\n",
       "    <tr>\n",
       "      <th>2</th>\n",
       "      <td>SERVER_25712</td>\n",
       "      <td>2020-03-16 13:20:00</td>\n",
       "      <td>4.0</td>\n",
       "      <td>0.006098</td>\n",
       "      <td>0.000000</td>\n",
       "      <td>0.002253</td>\n",
       "      <td>0.003717</td>\n",
       "      <td>0</td>\n",
       "    </tr>\n",
       "    <tr>\n",
       "      <th>3</th>\n",
       "      <td>SERVER_25708</td>\n",
       "      <td>2020-07-25 12:44:00</td>\n",
       "      <td>4.0</td>\n",
       "      <td>0.006098</td>\n",
       "      <td>0.000000</td>\n",
       "      <td>0.002253</td>\n",
       "      <td>0.003717</td>\n",
       "      <td>0</td>\n",
       "    </tr>\n",
       "    <tr>\n",
       "      <th>4</th>\n",
       "      <td>SERVER_25711</td>\n",
       "      <td>2020-03-16 16:51:00</td>\n",
       "      <td>4.0</td>\n",
       "      <td>0.006098</td>\n",
       "      <td>0.000000</td>\n",
       "      <td>0.002253</td>\n",
       "      <td>0.003717</td>\n",
       "      <td>0</td>\n",
       "    </tr>\n",
       "    <tr>\n",
       "      <th>...</th>\n",
       "      <td>...</td>\n",
       "      <td>...</td>\n",
       "      <td>...</td>\n",
       "      <td>...</td>\n",
       "      <td>...</td>\n",
       "      <td>...</td>\n",
       "      <td>...</td>\n",
       "      <td>...</td>\n",
       "    </tr>\n",
       "    <tr>\n",
       "      <th>16599</th>\n",
       "      <td>SERVER_24971</td>\n",
       "      <td>2020-03-04 21:09:00</td>\n",
       "      <td>102.0</td>\n",
       "      <td>0.000000</td>\n",
       "      <td>0.000000</td>\n",
       "      <td>0.000000</td>\n",
       "      <td>0.005783</td>\n",
       "      <td>3</td>\n",
       "    </tr>\n",
       "    <tr>\n",
       "      <th>16600</th>\n",
       "      <td>SERVER_24971</td>\n",
       "      <td>2020-11-12 20:49:00</td>\n",
       "      <td>102.0</td>\n",
       "      <td>0.000000</td>\n",
       "      <td>0.000000</td>\n",
       "      <td>0.000000</td>\n",
       "      <td>0.005783</td>\n",
       "      <td>3</td>\n",
       "    </tr>\n",
       "    <tr>\n",
       "      <th>16601</th>\n",
       "      <td>SERVER_24962</td>\n",
       "      <td>2020-09-12 12:18:00</td>\n",
       "      <td>102.0</td>\n",
       "      <td>0.000000</td>\n",
       "      <td>0.000000</td>\n",
       "      <td>0.000000</td>\n",
       "      <td>0.005783</td>\n",
       "      <td>3</td>\n",
       "    </tr>\n",
       "    <tr>\n",
       "      <th>16602</th>\n",
       "      <td>SERVER_24971</td>\n",
       "      <td>2020-10-04 17:41:00</td>\n",
       "      <td>102.0</td>\n",
       "      <td>0.000000</td>\n",
       "      <td>0.000000</td>\n",
       "      <td>0.000000</td>\n",
       "      <td>0.005783</td>\n",
       "      <td>3</td>\n",
       "    </tr>\n",
       "    <tr>\n",
       "      <th>16603</th>\n",
       "      <td>SERVER_24971</td>\n",
       "      <td>2020-10-26 01:41:00</td>\n",
       "      <td>102.0</td>\n",
       "      <td>0.000000</td>\n",
       "      <td>0.000000</td>\n",
       "      <td>0.000000</td>\n",
       "      <td>0.005783</td>\n",
       "      <td>3</td>\n",
       "    </tr>\n",
       "  </tbody>\n",
       "</table>\n",
       "<p>16604 rows × 8 columns</p>\n",
       "</div>"
      ],
      "text/plain": [
       "                 sn          fault_time  server_model        p0        p1  \\\n",
       "0      SERVER_25698 2020-10-09 13:43:00           0.0  0.000678  0.000000   \n",
       "1      SERVER_25699 2020-08-25 18:50:00           3.0  0.000678  0.000295   \n",
       "2      SERVER_25712 2020-03-16 13:20:00           4.0  0.006098  0.000000   \n",
       "3      SERVER_25708 2020-07-25 12:44:00           4.0  0.006098  0.000000   \n",
       "4      SERVER_25711 2020-03-16 16:51:00           4.0  0.006098  0.000000   \n",
       "...             ...                 ...           ...       ...       ...   \n",
       "16599  SERVER_24971 2020-03-04 21:09:00         102.0  0.000000  0.000000   \n",
       "16600  SERVER_24971 2020-11-12 20:49:00         102.0  0.000000  0.000000   \n",
       "16601  SERVER_24962 2020-09-12 12:18:00         102.0  0.000000  0.000000   \n",
       "16602  SERVER_24971 2020-10-04 17:41:00         102.0  0.000000  0.000000   \n",
       "16603  SERVER_24971 2020-10-26 01:41:00         102.0  0.000000  0.000000   \n",
       "\n",
       "             p2        p3  label  \n",
       "0      0.000000  0.000000      0  \n",
       "1      0.000215  0.000000      0  \n",
       "2      0.002253  0.003717      0  \n",
       "3      0.002253  0.003717      0  \n",
       "4      0.002253  0.003717      0  \n",
       "...         ...       ...    ...  \n",
       "16599  0.000000  0.005783      3  \n",
       "16600  0.000000  0.005783      3  \n",
       "16601  0.000000  0.005783      3  \n",
       "16602  0.000000  0.005783      3  \n",
       "16603  0.000000  0.005783      3  \n",
       "\n",
       "[16604 rows x 8 columns]"
      ]
     },
     "execution_count": 13,
     "metadata": {},
     "output_type": "execute_result"
    }
   ],
   "source": [
    "df_train"
   ]
  },
  {
   "cell_type": "code",
   "execution_count": null,
   "id": "c98e0b93",
   "metadata": {},
   "outputs": [],
   "source": []
  }
 ],
 "metadata": {
  "kernelspec": {
   "display_name": "Python 3 (ipykernel)",
   "language": "python",
   "name": "python3"
  },
  "language_info": {
   "codemirror_mode": {
    "name": "ipython",
    "version": 3
   },
   "file_extension": ".py",
   "mimetype": "text/x-python",
   "name": "python",
   "nbconvert_exporter": "python",
   "pygments_lexer": "ipython3",
   "version": "3.7.8"
  }
 },
 "nbformat": 4,
 "nbformat_minor": 5
}
