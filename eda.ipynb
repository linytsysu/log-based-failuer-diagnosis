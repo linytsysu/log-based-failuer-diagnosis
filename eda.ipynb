{
 "cells": [
  {
   "cell_type": "code",
   "execution_count": 1,
   "id": "58dfb42c",
   "metadata": {},
   "outputs": [],
   "source": [
    "import os\n",
    "os.environ['TF_KERAS'] = '1'"
   ]
  },
  {
   "cell_type": "code",
   "execution_count": 2,
   "id": "a14653bf",
   "metadata": {},
   "outputs": [
    {
     "name": "stderr",
     "output_type": "stream",
     "text": [
      "2022-04-11 16:31:01.194624: I tensorflow/stream_executor/platform/default/dso_loader.cc:49] Successfully opened dynamic library libcudart.so.11.0\n"
     ]
    }
   ],
   "source": [
    "import numpy as np\n",
    "from bert4keras.backend import keras\n",
    "from bert4keras.models import build_transformer_model\n",
    "from bert4keras.tokenizers import Tokenizer\n",
    "from bert4keras.snippets import to_array"
   ]
  },
  {
   "cell_type": "code",
   "execution_count": 3,
   "id": "b44507ab",
   "metadata": {},
   "outputs": [],
   "source": [
    "config_path = './user_data/NEZHA-Base/bert_config.json'\n",
    "checkpoint_path = './user_data/NEZHA-Base/model.ckpt-900000'\n",
    "dict_path = './user_data/NEZHA-Base/vocab.txt'"
   ]
  },
  {
   "cell_type": "code",
   "execution_count": 5,
   "id": "ed99253a",
   "metadata": {},
   "outputs": [],
   "source": [
    "tokenizer = Tokenizer(dict_path, do_lower_case=True)  # 建立分词器\n",
    "model = build_transformer_model(config_path, checkpoint_path, model='nezha')  # 建立模型，加载权重"
   ]
  },
  {
   "cell_type": "code",
   "execution_count": 9,
   "id": "8202254e",
   "metadata": {},
   "outputs": [],
   "source": [
    "token_ids, segment_ids = tokenizer.encode('system')\n",
    "token_ids, segment_ids = to_array([token_ids], [segment_ids])"
   ]
  },
  {
   "cell_type": "code",
   "execution_count": 11,
   "id": "666e5559",
   "metadata": {},
   "outputs": [
    {
     "data": {
      "text/plain": [
       "(1, 3, 768)"
      ]
     },
     "execution_count": 11,
     "metadata": {},
     "output_type": "execute_result"
    }
   ],
   "source": [
    "model.predict([token_ids, segment_ids]).shape"
   ]
  },
  {
   "cell_type": "code",
   "execution_count": null,
   "id": "c6187318",
   "metadata": {},
   "outputs": [],
   "source": []
  },
  {
   "cell_type": "code",
   "execution_count": null,
   "id": "27363bda",
   "metadata": {},
   "outputs": [],
   "source": []
  },
  {
   "cell_type": "code",
   "execution_count": null,
   "id": "4a043c0f",
   "metadata": {},
   "outputs": [],
   "source": []
  },
  {
   "cell_type": "code",
   "execution_count": null,
   "id": "13c8cf90",
   "metadata": {},
   "outputs": [],
   "source": []
  },
  {
   "cell_type": "code",
   "execution_count": null,
   "id": "0c4c79f0",
   "metadata": {},
   "outputs": [],
   "source": []
  },
  {
   "cell_type": "code",
   "execution_count": 2,
   "id": "13762f89",
   "metadata": {},
   "outputs": [],
   "source": [
    "import os\n",
    "import json\n",
    "import numpy as np\n",
    "import pandas as pd\n",
    "from tqdm import tqdm\n",
    "from collections import Counter"
   ]
  },
  {
   "cell_type": "code",
   "execution_count": 3,
   "id": "92e17cd9",
   "metadata": {},
   "outputs": [],
   "source": [
    "log_df = pd.read_csv('./src/new_log.csv')"
   ]
  },
  {
   "cell_type": "code",
   "execution_count": 6,
   "id": "111a1663",
   "metadata": {},
   "outputs": [],
   "source": [
    "log_df = log_df.sort_values(by='msg_lower')"
   ]
  },
  {
   "cell_type": "code",
   "execution_count": 7,
   "id": "b631b00e",
   "metadata": {},
   "outputs": [],
   "source": [
    "from drain3 import TemplateMiner #开源在线日志解析框架\n",
    "from drain3.file_persistence import FilePersistence\n",
    "from drain3.template_miner_config import TemplateMinerConfig"
   ]
  },
  {
   "cell_type": "code",
   "execution_count": null,
   "id": "0db1feae",
   "metadata": {},
   "outputs": [],
   "source": []
  },
  {
   "cell_type": "code",
   "execution_count": 8,
   "id": "5e65c4f3",
   "metadata": {},
   "outputs": [],
   "source": [
    "config = TemplateMinerConfig()\n",
    "config.load('./drain3.ini') ## 这个文件在drain3的github仓库里有\n",
    "config.profiling_enabled = False"
   ]
  },
  {
   "cell_type": "code",
   "execution_count": 9,
   "id": "0d3f9fc5",
   "metadata": {},
   "outputs": [],
   "source": [
    "drain_file = 'comp_a_sellog'\n",
    "persistence = FilePersistence(drain_file + '.bin')\n",
    "template_miner = TemplateMiner(persistence, config=config)"
   ]
  },
  {
   "cell_type": "code",
   "execution_count": 12,
   "id": "f15e5ad0",
   "metadata": {},
   "outputs": [],
   "source": [
    "for msg in log_df.msg_lower.tolist():\n",
    "    template_miner.add_log_message(msg)\n",
    "temp_count = len(template_miner.drain.clusters)"
   ]
  },
  {
   "cell_type": "code",
   "execution_count": 13,
   "id": "3557d2bb",
   "metadata": {},
   "outputs": [],
   "source": [
    "template_dic = {}\n",
    "\n",
    "for cluster in template_miner.drain.clusters:\n",
    "    template_dic[cluster.cluster_id] = cluster.size"
   ]
  },
  {
   "cell_type": "code",
   "execution_count": 14,
   "id": "b3bffc6c",
   "metadata": {},
   "outputs": [],
   "source": [
    "temp_count_f = len(template_dic)"
   ]
  },
  {
   "cell_type": "code",
   "execution_count": 15,
   "id": "864476a7",
   "metadata": {},
   "outputs": [
    {
     "data": {
      "text/plain": [
       "187"
      ]
     },
     "execution_count": 15,
     "metadata": {},
     "output_type": "execute_result"
    }
   ],
   "source": [
    "temp_count_f"
   ]
  },
  {
   "cell_type": "code",
   "execution_count": 16,
   "id": "29c6238b",
   "metadata": {},
   "outputs": [],
   "source": [
    "def match_template(df, template_miner, template_dic):\n",
    "    msg = df.msg_lower\n",
    "    cluster = template_miner.match(msg) # 匹配模板，由开源工具提供\n",
    "    if cluster and cluster.cluster_id in template_dic:\n",
    "        df['template_id'] = cluster.cluster_id # 模板id\n",
    "        df['template'] = cluster.get_template() # 具体模板\n",
    "    else:\n",
    "        df['template_id'] = 'None' # 没有匹配到模板的数据也会记录下来，之后也会用作一种特征。\n",
    "        df['template'] = 'None'\n",
    "    return df"
   ]
  },
  {
   "cell_type": "code",
   "execution_count": 17,
   "id": "f845e8cb",
   "metadata": {},
   "outputs": [],
   "source": [
    "log_df = log_df.apply(match_template, template_miner=template_miner, template_dic=template_dic, axis=1)"
   ]
  },
  {
   "cell_type": "code",
   "execution_count": null,
   "id": "6dd2fe88",
   "metadata": {},
   "outputs": [],
   "source": []
  },
  {
   "cell_type": "code",
   "execution_count": 18,
   "id": "361f53a8",
   "metadata": {},
   "outputs": [],
   "source": [
    "log_df.to_csv('./src/log_template.csv', index=False)"
   ]
  },
  {
   "cell_type": "code",
   "execution_count": 19,
   "id": "74bf76cc",
   "metadata": {},
   "outputs": [
    {
     "data": {
      "text/html": [
       "<div>\n",
       "<style scoped>\n",
       "    .dataframe tbody tr th:only-of-type {\n",
       "        vertical-align: middle;\n",
       "    }\n",
       "\n",
       "    .dataframe tbody tr th {\n",
       "        vertical-align: top;\n",
       "    }\n",
       "\n",
       "    .dataframe thead th {\n",
       "        text-align: right;\n",
       "    }\n",
       "</style>\n",
       "<table border=\"1\" class=\"dataframe\">\n",
       "  <thead>\n",
       "    <tr style=\"text-align: right;\">\n",
       "      <th></th>\n",
       "      <th>sn</th>\n",
       "      <th>time</th>\n",
       "      <th>msg</th>\n",
       "      <th>server_model</th>\n",
       "      <th>msg_lower</th>\n",
       "      <th>msg_id</th>\n",
       "      <th>template_id</th>\n",
       "      <th>template</th>\n",
       "    </tr>\n",
       "  </thead>\n",
       "  <tbody>\n",
       "    <tr>\n",
       "      <th>266</th>\n",
       "      <td>SERVER_12</td>\n",
       "      <td>2020-06-11 10:23:43</td>\n",
       "      <td>Add-in Card #0x1b | Device Present</td>\n",
       "      <td>SM3</td>\n",
       "      <td>add-in card #0x1b | device present</td>\n",
       "      <td>8</td>\n",
       "      <td>1</td>\n",
       "      <td>add-in card #&lt;:HEX:&gt; | device present</td>\n",
       "    </tr>\n",
       "    <tr>\n",
       "      <th>874</th>\n",
       "      <td>SERVER_481</td>\n",
       "      <td>2020-08-18 11:02:55</td>\n",
       "      <td>Add-in Card #0x1b | Device Present | Asserted</td>\n",
       "      <td>SM4</td>\n",
       "      <td>add-in card #0x1b | device present | asserted</td>\n",
       "      <td>29</td>\n",
       "      <td>2</td>\n",
       "      <td>add-in card #&lt;:HEX:&gt; | device present | asserted</td>\n",
       "    </tr>\n",
       "    <tr>\n",
       "      <th>461193</th>\n",
       "      <td>SERVER_25703</td>\n",
       "      <td>2020-10-20 11:10:01</td>\n",
       "      <td>Add-in Card #0x1b | Device Present | Asserted</td>\n",
       "      <td>SM4</td>\n",
       "      <td>add-in card #0x1b | device present | asserted</td>\n",
       "      <td>29</td>\n",
       "      <td>2</td>\n",
       "      <td>add-in card #&lt;:HEX:&gt; | device present | asserted</td>\n",
       "    </tr>\n",
       "    <tr>\n",
       "      <th>461190</th>\n",
       "      <td>SERVER_35</td>\n",
       "      <td>2020-08-20 08:32:13</td>\n",
       "      <td>Add-in Card #0x1b | Device Present | Asserted</td>\n",
       "      <td>SM4</td>\n",
       "      <td>add-in card #0x1b | device present | asserted</td>\n",
       "      <td>29</td>\n",
       "      <td>2</td>\n",
       "      <td>add-in card #&lt;:HEX:&gt; | device present | asserted</td>\n",
       "    </tr>\n",
       "    <tr>\n",
       "      <th>856</th>\n",
       "      <td>SERVER_25708</td>\n",
       "      <td>2020-07-25 12:43:19</td>\n",
       "      <td>Add-in Card #0x1b | Device Present | Asserted</td>\n",
       "      <td>SM4</td>\n",
       "      <td>add-in card #0x1b | device present | asserted</td>\n",
       "      <td>29</td>\n",
       "      <td>2</td>\n",
       "      <td>add-in card #&lt;:HEX:&gt; | device present | asserted</td>\n",
       "    </tr>\n",
       "    <tr>\n",
       "      <th>...</th>\n",
       "      <td>...</td>\n",
       "      <td>...</td>\n",
       "      <td>...</td>\n",
       "      <td>...</td>\n",
       "      <td>...</td>\n",
       "      <td>...</td>\n",
       "      <td>...</td>\n",
       "      <td>...</td>\n",
       "    </tr>\n",
       "    <tr>\n",
       "      <th>92403</th>\n",
       "      <td>SERVER_13653</td>\n",
       "      <td>2020-06-05 11:45:49</td>\n",
       "      <td>Watchdog2 IPMI_Watchdog | Timer expired | Ass...</td>\n",
       "      <td>SM13</td>\n",
       "      <td>watchdog2 ipmi_watchdog | timer expired | asse...</td>\n",
       "      <td>296</td>\n",
       "      <td>187</td>\n",
       "      <td>watchdog2 ipmi watchdog | &lt;:*:&gt; &lt;:*:&gt; | &lt;:*:&gt;</td>\n",
       "    </tr>\n",
       "    <tr>\n",
       "      <th>484491</th>\n",
       "      <td>2deae48ca05d</td>\n",
       "      <td>2020-07-07 08:36:04</td>\n",
       "      <td>Watchdog2 IPMI_Watchdog | Timer expired | Ass...</td>\n",
       "      <td>SM13</td>\n",
       "      <td>watchdog2 ipmi_watchdog | timer expired | asse...</td>\n",
       "      <td>296</td>\n",
       "      <td>187</td>\n",
       "      <td>watchdog2 ipmi watchdog | &lt;:*:&gt; &lt;:*:&gt; | &lt;:*:&gt;</td>\n",
       "    </tr>\n",
       "    <tr>\n",
       "      <th>338244</th>\n",
       "      <td>SERVER_26643</td>\n",
       "      <td>2020-04-19 01:04:19</td>\n",
       "      <td>Watchdog2 IPMI_Watchdog | Timer interrupt | A...</td>\n",
       "      <td>SM59</td>\n",
       "      <td>watchdog2 ipmi_watchdog | timer interrupt | as...</td>\n",
       "      <td>708</td>\n",
       "      <td>187</td>\n",
       "      <td>watchdog2 ipmi watchdog | &lt;:*:&gt; &lt;:*:&gt; | &lt;:*:&gt;</td>\n",
       "    </tr>\n",
       "    <tr>\n",
       "      <th>338179</th>\n",
       "      <td>SERVER_12218</td>\n",
       "      <td>2020-05-12 12:43:50</td>\n",
       "      <td>Watchdog2 IPMI_Watchdog | Timer interrupt | A...</td>\n",
       "      <td>SM59</td>\n",
       "      <td>watchdog2 ipmi_watchdog | timer interrupt | as...</td>\n",
       "      <td>708</td>\n",
       "      <td>187</td>\n",
       "      <td>watchdog2 ipmi watchdog | &lt;:*:&gt; &lt;:*:&gt; | &lt;:*:&gt;</td>\n",
       "    </tr>\n",
       "    <tr>\n",
       "      <th>341223</th>\n",
       "      <td>SERVER_12218</td>\n",
       "      <td>2020-05-12 12:58:26</td>\n",
       "      <td>Watchdog2 IPMI_Watchdog | Timer interrupt | A...</td>\n",
       "      <td>SM59</td>\n",
       "      <td>watchdog2 ipmi_watchdog | timer interrupt | as...</td>\n",
       "      <td>708</td>\n",
       "      <td>187</td>\n",
       "      <td>watchdog2 ipmi watchdog | &lt;:*:&gt; &lt;:*:&gt; | &lt;:*:&gt;</td>\n",
       "    </tr>\n",
       "  </tbody>\n",
       "</table>\n",
       "<p>493527 rows × 8 columns</p>\n",
       "</div>"
      ],
      "text/plain": [
       "                  sn                 time  \\\n",
       "266        SERVER_12  2020-06-11 10:23:43   \n",
       "874       SERVER_481  2020-08-18 11:02:55   \n",
       "461193  SERVER_25703  2020-10-20 11:10:01   \n",
       "461190     SERVER_35  2020-08-20 08:32:13   \n",
       "856     SERVER_25708  2020-07-25 12:43:19   \n",
       "...              ...                  ...   \n",
       "92403   SERVER_13653  2020-06-05 11:45:49   \n",
       "484491  2deae48ca05d  2020-07-07 08:36:04   \n",
       "338244  SERVER_26643  2020-04-19 01:04:19   \n",
       "338179  SERVER_12218  2020-05-12 12:43:50   \n",
       "341223  SERVER_12218  2020-05-12 12:58:26   \n",
       "\n",
       "                                                      msg server_model  \\\n",
       "266                    Add-in Card #0x1b | Device Present          SM3   \n",
       "874         Add-in Card #0x1b | Device Present | Asserted          SM4   \n",
       "461193      Add-in Card #0x1b | Device Present | Asserted          SM4   \n",
       "461190      Add-in Card #0x1b | Device Present | Asserted          SM4   \n",
       "856         Add-in Card #0x1b | Device Present | Asserted          SM4   \n",
       "...                                                   ...          ...   \n",
       "92403    Watchdog2 IPMI_Watchdog | Timer expired | Ass...         SM13   \n",
       "484491   Watchdog2 IPMI_Watchdog | Timer expired | Ass...         SM13   \n",
       "338244   Watchdog2 IPMI_Watchdog | Timer interrupt | A...         SM59   \n",
       "338179   Watchdog2 IPMI_Watchdog | Timer interrupt | A...         SM59   \n",
       "341223   Watchdog2 IPMI_Watchdog | Timer interrupt | A...         SM59   \n",
       "\n",
       "                                                msg_lower  msg_id  \\\n",
       "266                    add-in card #0x1b | device present       8   \n",
       "874         add-in card #0x1b | device present | asserted      29   \n",
       "461193      add-in card #0x1b | device present | asserted      29   \n",
       "461190      add-in card #0x1b | device present | asserted      29   \n",
       "856         add-in card #0x1b | device present | asserted      29   \n",
       "...                                                   ...     ...   \n",
       "92403   watchdog2 ipmi_watchdog | timer expired | asse...     296   \n",
       "484491  watchdog2 ipmi_watchdog | timer expired | asse...     296   \n",
       "338244  watchdog2 ipmi_watchdog | timer interrupt | as...     708   \n",
       "338179  watchdog2 ipmi_watchdog | timer interrupt | as...     708   \n",
       "341223  watchdog2 ipmi_watchdog | timer interrupt | as...     708   \n",
       "\n",
       "        template_id                                          template  \n",
       "266               1             add-in card #<:HEX:> | device present  \n",
       "874               2  add-in card #<:HEX:> | device present | asserted  \n",
       "461193            2  add-in card #<:HEX:> | device present | asserted  \n",
       "461190            2  add-in card #<:HEX:> | device present | asserted  \n",
       "856               2  add-in card #<:HEX:> | device present | asserted  \n",
       "...             ...                                               ...  \n",
       "92403           187     watchdog2 ipmi watchdog | <:*:> <:*:> | <:*:>  \n",
       "484491          187     watchdog2 ipmi watchdog | <:*:> <:*:> | <:*:>  \n",
       "338244          187     watchdog2 ipmi watchdog | <:*:> <:*:> | <:*:>  \n",
       "338179          187     watchdog2 ipmi watchdog | <:*:> <:*:> | <:*:>  \n",
       "341223          187     watchdog2 ipmi watchdog | <:*:> <:*:> | <:*:>  \n",
       "\n",
       "[493527 rows x 8 columns]"
      ]
     },
     "execution_count": 19,
     "metadata": {},
     "output_type": "execute_result"
    }
   ],
   "source": [
    "log_df"
   ]
  },
  {
   "cell_type": "code",
   "execution_count": null,
   "id": "bbad3a40",
   "metadata": {},
   "outputs": [],
   "source": []
  },
  {
   "cell_type": "code",
   "execution_count": null,
   "id": "d104de32",
   "metadata": {},
   "outputs": [],
   "source": []
  },
  {
   "cell_type": "code",
   "execution_count": null,
   "id": "b44f6771",
   "metadata": {},
   "outputs": [],
   "source": []
  },
  {
   "cell_type": "code",
   "execution_count": 49,
   "id": "4bd05509",
   "metadata": {},
   "outputs": [
    {
     "data": {
      "text/html": [
       "<div>\n",
       "<style scoped>\n",
       "    .dataframe tbody tr th:only-of-type {\n",
       "        vertical-align: middle;\n",
       "    }\n",
       "\n",
       "    .dataframe tbody tr th {\n",
       "        vertical-align: top;\n",
       "    }\n",
       "\n",
       "    .dataframe thead th {\n",
       "        text-align: right;\n",
       "    }\n",
       "</style>\n",
       "<table border=\"1\" class=\"dataframe\">\n",
       "  <thead>\n",
       "    <tr style=\"text-align: right;\">\n",
       "      <th></th>\n",
       "      <th>sn</th>\n",
       "      <th>time</th>\n",
       "      <th>msg</th>\n",
       "      <th>server_model</th>\n",
       "      <th>new_msg</th>\n",
       "      <th>template_id</th>\n",
       "      <th>template</th>\n",
       "    </tr>\n",
       "  </thead>\n",
       "  <tbody>\n",
       "    <tr>\n",
       "      <th>369063</th>\n",
       "      <td>SERVER_19566</td>\n",
       "      <td>2020-07-06 11:54:40</td>\n",
       "      <td>Reserved |</td>\n",
       "      <td>SM39</td>\n",
       "      <td>reserved |</td>\n",
       "      <td>165</td>\n",
       "      <td>reserved</td>\n",
       "    </tr>\n",
       "  </tbody>\n",
       "</table>\n",
       "</div>"
      ],
      "text/plain": [
       "                  sn                 time          msg server_model  \\\n",
       "369063  SERVER_19566  2020-07-06 11:54:40   Reserved |         SM39   \n",
       "\n",
       "           new_msg  template_id  template  \n",
       "369063  reserved |          165  reserved  "
      ]
     },
     "execution_count": 49,
     "metadata": {},
     "output_type": "execute_result"
    }
   ],
   "source": [
    "log_df[log_df['template'].apply(lambda x: len(x.split(' '))) == 1]"
   ]
  },
  {
   "cell_type": "code",
   "execution_count": null,
   "id": "80369ec4",
   "metadata": {},
   "outputs": [],
   "source": []
  },
  {
   "cell_type": "code",
   "execution_count": null,
   "id": "33008aee",
   "metadata": {},
   "outputs": [],
   "source": []
  },
  {
   "cell_type": "code",
   "execution_count": null,
   "id": "1375456b",
   "metadata": {},
   "outputs": [],
   "source": []
  },
  {
   "cell_type": "code",
   "execution_count": null,
   "id": "1c80bf98",
   "metadata": {},
   "outputs": [],
   "source": []
  },
  {
   "cell_type": "code",
   "execution_count": null,
   "id": "e994af39",
   "metadata": {},
   "outputs": [],
   "source": []
  },
  {
   "cell_type": "code",
   "execution_count": 19,
   "id": "4450ef52",
   "metadata": {},
   "outputs": [],
   "source": [
    "label1 = pd.read_csv('./data/preliminary_train_label_dataset.csv')\n",
    "label2 = pd.read_csv('./data/preliminary_train_label_dataset_s.csv')\n",
    "label_df = pd.concat([label1, label2]).reset_index(drop=True)"
   ]
  },
  {
   "cell_type": "code",
   "execution_count": 20,
   "id": "827ef77f",
   "metadata": {},
   "outputs": [],
   "source": [
    "label_df = label_df.drop_duplicates().reset_index(drop=True)"
   ]
  },
  {
   "cell_type": "code",
   "execution_count": 21,
   "id": "53e8bff9",
   "metadata": {},
   "outputs": [],
   "source": [
    "label_df['fault_time'] = pd.to_datetime(label_df['fault_time'])\n",
    "log_df['time'] = pd.to_datetime(log_df['time'])"
   ]
  },
  {
   "cell_type": "code",
   "execution_count": null,
   "id": "e63821c4",
   "metadata": {},
   "outputs": [],
   "source": []
  },
  {
   "cell_type": "code",
   "execution_count": 22,
   "id": "69320f02",
   "metadata": {},
   "outputs": [
    {
     "name": "stderr",
     "output_type": "stream",
     "text": [
      "  9%|██████████▏                                                                                                  | 1554/16604 [00:47<07:41, 32.60it/s]\n"
     ]
    },
    {
     "ename": "KeyboardInterrupt",
     "evalue": "",
     "output_type": "error",
     "traceback": [
      "\u001b[0;31m---------------------------------------------------------------------------\u001b[0m",
      "\u001b[0;31mKeyboardInterrupt\u001b[0m                         Traceback (most recent call last)",
      "\u001b[0;32m/tmp/ipykernel_24779/2542560686.py\u001b[0m in \u001b[0;36m<module>\u001b[0;34m\u001b[0m\n\u001b[1;32m      6\u001b[0m     \u001b[0mstart_fault_time\u001b[0m \u001b[0;34m=\u001b[0m \u001b[0mrow\u001b[0m\u001b[0;34m[\u001b[0m\u001b[0;34m'start_fault_time'\u001b[0m\u001b[0;34m]\u001b[0m\u001b[0;34m\u001b[0m\u001b[0;34m\u001b[0m\u001b[0m\n\u001b[1;32m      7\u001b[0m     \u001b[0mfault_time\u001b[0m \u001b[0;34m=\u001b[0m \u001b[0mrow\u001b[0m\u001b[0;34m[\u001b[0m\u001b[0;34m'fault_time'\u001b[0m\u001b[0;34m]\u001b[0m\u001b[0;34m\u001b[0m\u001b[0;34m\u001b[0m\u001b[0m\n\u001b[0;32m----> 8\u001b[0;31m     \u001b[0mtmp\u001b[0m \u001b[0;34m=\u001b[0m \u001b[0mlog_df\u001b[0m\u001b[0;34m[\u001b[0m\u001b[0mlog_df\u001b[0m\u001b[0;34m[\u001b[0m\u001b[0;34m'sn'\u001b[0m\u001b[0;34m]\u001b[0m \u001b[0;34m==\u001b[0m \u001b[0msn\u001b[0m\u001b[0;34m]\u001b[0m\u001b[0;34m\u001b[0m\u001b[0;34m\u001b[0m\u001b[0m\n\u001b[0m\u001b[1;32m      9\u001b[0m     \u001b[0mtmp\u001b[0m \u001b[0;34m=\u001b[0m \u001b[0mtmp\u001b[0m\u001b[0;34m[\u001b[0m\u001b[0;34m(\u001b[0m\u001b[0mtmp\u001b[0m\u001b[0;34m[\u001b[0m\u001b[0;34m'time'\u001b[0m\u001b[0;34m]\u001b[0m \u001b[0;34m>=\u001b[0m \u001b[0mstart_fault_time\u001b[0m\u001b[0;34m)\u001b[0m \u001b[0;34m&\u001b[0m \u001b[0;34m(\u001b[0m\u001b[0mtmp\u001b[0m\u001b[0;34m[\u001b[0m\u001b[0;34m'time'\u001b[0m\u001b[0;34m]\u001b[0m \u001b[0;34m<=\u001b[0m \u001b[0mfault_time\u001b[0m\u001b[0;34m)\u001b[0m\u001b[0;34m]\u001b[0m\u001b[0;34m.\u001b[0m\u001b[0msort_values\u001b[0m\u001b[0;34m(\u001b[0m\u001b[0mby\u001b[0m\u001b[0;34m=\u001b[0m\u001b[0;34m'time'\u001b[0m\u001b[0;34m,\u001b[0m \u001b[0mascending\u001b[0m\u001b[0;34m=\u001b[0m\u001b[0;32mFalse\u001b[0m\u001b[0;34m)\u001b[0m\u001b[0;34m\u001b[0m\u001b[0;34m\u001b[0m\u001b[0m\n\u001b[1;32m     10\u001b[0m     \u001b[0mdata\u001b[0m\u001b[0;34m.\u001b[0m\u001b[0mappend\u001b[0m\u001b[0;34m(\u001b[0m\u001b[0mnp\u001b[0m\u001b[0;34m.\u001b[0m\u001b[0munique\u001b[0m\u001b[0;34m(\u001b[0m\u001b[0mtmp\u001b[0m\u001b[0;34m[\u001b[0m\u001b[0;34m'template_id'\u001b[0m\u001b[0;34m]\u001b[0m\u001b[0;34m.\u001b[0m\u001b[0mvalues\u001b[0m\u001b[0;34m.\u001b[0m\u001b[0mtolist\u001b[0m\u001b[0;34m(\u001b[0m\u001b[0;34m)\u001b[0m\u001b[0;34m)\u001b[0m\u001b[0;34m)\u001b[0m\u001b[0;34m\u001b[0m\u001b[0;34m\u001b[0m\u001b[0m\n",
      "\u001b[0;32m/data/projects/log-based-failuer-diagnosis/env/lib/python3.7/site-packages/pandas/core/ops/common.py\u001b[0m in \u001b[0;36mnew_method\u001b[0;34m(self, other)\u001b[0m\n\u001b[1;32m     67\u001b[0m         \u001b[0mother\u001b[0m \u001b[0;34m=\u001b[0m \u001b[0mitem_from_zerodim\u001b[0m\u001b[0;34m(\u001b[0m\u001b[0mother\u001b[0m\u001b[0;34m)\u001b[0m\u001b[0;34m\u001b[0m\u001b[0;34m\u001b[0m\u001b[0m\n\u001b[1;32m     68\u001b[0m \u001b[0;34m\u001b[0m\u001b[0m\n\u001b[0;32m---> 69\u001b[0;31m         \u001b[0;32mreturn\u001b[0m \u001b[0mmethod\u001b[0m\u001b[0;34m(\u001b[0m\u001b[0mself\u001b[0m\u001b[0;34m,\u001b[0m \u001b[0mother\u001b[0m\u001b[0;34m)\u001b[0m\u001b[0;34m\u001b[0m\u001b[0;34m\u001b[0m\u001b[0m\n\u001b[0m\u001b[1;32m     70\u001b[0m \u001b[0;34m\u001b[0m\u001b[0m\n\u001b[1;32m     71\u001b[0m     \u001b[0;32mreturn\u001b[0m \u001b[0mnew_method\u001b[0m\u001b[0;34m\u001b[0m\u001b[0;34m\u001b[0m\u001b[0m\n",
      "\u001b[0;32m/data/projects/log-based-failuer-diagnosis/env/lib/python3.7/site-packages/pandas/core/arraylike.py\u001b[0m in \u001b[0;36m__eq__\u001b[0;34m(self, other)\u001b[0m\n\u001b[1;32m     30\u001b[0m     \u001b[0;34m@\u001b[0m\u001b[0munpack_zerodim_and_defer\u001b[0m\u001b[0;34m(\u001b[0m\u001b[0;34m\"__eq__\"\u001b[0m\u001b[0;34m)\u001b[0m\u001b[0;34m\u001b[0m\u001b[0;34m\u001b[0m\u001b[0m\n\u001b[1;32m     31\u001b[0m     \u001b[0;32mdef\u001b[0m \u001b[0m__eq__\u001b[0m\u001b[0;34m(\u001b[0m\u001b[0mself\u001b[0m\u001b[0;34m,\u001b[0m \u001b[0mother\u001b[0m\u001b[0;34m)\u001b[0m\u001b[0;34m:\u001b[0m\u001b[0;34m\u001b[0m\u001b[0;34m\u001b[0m\u001b[0m\n\u001b[0;32m---> 32\u001b[0;31m         \u001b[0;32mreturn\u001b[0m \u001b[0mself\u001b[0m\u001b[0;34m.\u001b[0m\u001b[0m_cmp_method\u001b[0m\u001b[0;34m(\u001b[0m\u001b[0mother\u001b[0m\u001b[0;34m,\u001b[0m \u001b[0moperator\u001b[0m\u001b[0;34m.\u001b[0m\u001b[0meq\u001b[0m\u001b[0;34m)\u001b[0m\u001b[0;34m\u001b[0m\u001b[0;34m\u001b[0m\u001b[0m\n\u001b[0m\u001b[1;32m     33\u001b[0m \u001b[0;34m\u001b[0m\u001b[0m\n\u001b[1;32m     34\u001b[0m     \u001b[0;34m@\u001b[0m\u001b[0munpack_zerodim_and_defer\u001b[0m\u001b[0;34m(\u001b[0m\u001b[0;34m\"__ne__\"\u001b[0m\u001b[0;34m)\u001b[0m\u001b[0;34m\u001b[0m\u001b[0;34m\u001b[0m\u001b[0m\n",
      "\u001b[0;32m/data/projects/log-based-failuer-diagnosis/env/lib/python3.7/site-packages/pandas/core/series.py\u001b[0m in \u001b[0;36m_cmp_method\u001b[0;34m(self, other, op)\u001b[0m\n\u001b[1;32m   5500\u001b[0m \u001b[0;34m\u001b[0m\u001b[0m\n\u001b[1;32m   5501\u001b[0m         \u001b[0;32mwith\u001b[0m \u001b[0mnp\u001b[0m\u001b[0;34m.\u001b[0m\u001b[0merrstate\u001b[0m\u001b[0;34m(\u001b[0m\u001b[0mall\u001b[0m\u001b[0;34m=\u001b[0m\u001b[0;34m\"ignore\"\u001b[0m\u001b[0;34m)\u001b[0m\u001b[0;34m:\u001b[0m\u001b[0;34m\u001b[0m\u001b[0;34m\u001b[0m\u001b[0m\n\u001b[0;32m-> 5502\u001b[0;31m             \u001b[0mres_values\u001b[0m \u001b[0;34m=\u001b[0m \u001b[0mops\u001b[0m\u001b[0;34m.\u001b[0m\u001b[0mcomparison_op\u001b[0m\u001b[0;34m(\u001b[0m\u001b[0mlvalues\u001b[0m\u001b[0;34m,\u001b[0m \u001b[0mrvalues\u001b[0m\u001b[0;34m,\u001b[0m \u001b[0mop\u001b[0m\u001b[0;34m)\u001b[0m\u001b[0;34m\u001b[0m\u001b[0;34m\u001b[0m\u001b[0m\n\u001b[0m\u001b[1;32m   5503\u001b[0m \u001b[0;34m\u001b[0m\u001b[0m\n\u001b[1;32m   5504\u001b[0m         \u001b[0;32mreturn\u001b[0m \u001b[0mself\u001b[0m\u001b[0;34m.\u001b[0m\u001b[0m_construct_result\u001b[0m\u001b[0;34m(\u001b[0m\u001b[0mres_values\u001b[0m\u001b[0;34m,\u001b[0m \u001b[0mname\u001b[0m\u001b[0;34m=\u001b[0m\u001b[0mres_name\u001b[0m\u001b[0;34m)\u001b[0m\u001b[0;34m\u001b[0m\u001b[0;34m\u001b[0m\u001b[0m\n",
      "\u001b[0;32m/data/projects/log-based-failuer-diagnosis/env/lib/python3.7/site-packages/pandas/core/ops/array_ops.py\u001b[0m in \u001b[0;36mcomparison_op\u001b[0;34m(left, right, op)\u001b[0m\n\u001b[1;32m    282\u001b[0m \u001b[0;34m\u001b[0m\u001b[0m\n\u001b[1;32m    283\u001b[0m     \u001b[0;32melif\u001b[0m \u001b[0mis_object_dtype\u001b[0m\u001b[0;34m(\u001b[0m\u001b[0mlvalues\u001b[0m\u001b[0;34m.\u001b[0m\u001b[0mdtype\u001b[0m\u001b[0;34m)\u001b[0m \u001b[0;32mor\u001b[0m \u001b[0misinstance\u001b[0m\u001b[0;34m(\u001b[0m\u001b[0mrvalues\u001b[0m\u001b[0;34m,\u001b[0m \u001b[0mstr\u001b[0m\u001b[0;34m)\u001b[0m\u001b[0;34m:\u001b[0m\u001b[0;34m\u001b[0m\u001b[0;34m\u001b[0m\u001b[0m\n\u001b[0;32m--> 284\u001b[0;31m         \u001b[0mres_values\u001b[0m \u001b[0;34m=\u001b[0m \u001b[0mcomp_method_OBJECT_ARRAY\u001b[0m\u001b[0;34m(\u001b[0m\u001b[0mop\u001b[0m\u001b[0;34m,\u001b[0m \u001b[0mlvalues\u001b[0m\u001b[0;34m,\u001b[0m \u001b[0mrvalues\u001b[0m\u001b[0;34m)\u001b[0m\u001b[0;34m\u001b[0m\u001b[0;34m\u001b[0m\u001b[0m\n\u001b[0m\u001b[1;32m    285\u001b[0m \u001b[0;34m\u001b[0m\u001b[0m\n\u001b[1;32m    286\u001b[0m     \u001b[0;32melse\u001b[0m\u001b[0;34m:\u001b[0m\u001b[0;34m\u001b[0m\u001b[0;34m\u001b[0m\u001b[0m\n",
      "\u001b[0;32m/data/projects/log-based-failuer-diagnosis/env/lib/python3.7/site-packages/pandas/core/ops/array_ops.py\u001b[0m in \u001b[0;36mcomp_method_OBJECT_ARRAY\u001b[0;34m(op, x, y)\u001b[0m\n\u001b[1;32m     71\u001b[0m         \u001b[0mresult\u001b[0m \u001b[0;34m=\u001b[0m \u001b[0mlibops\u001b[0m\u001b[0;34m.\u001b[0m\u001b[0mvec_compare\u001b[0m\u001b[0;34m(\u001b[0m\u001b[0mx\u001b[0m\u001b[0;34m.\u001b[0m\u001b[0mravel\u001b[0m\u001b[0;34m(\u001b[0m\u001b[0;34m)\u001b[0m\u001b[0;34m,\u001b[0m \u001b[0my\u001b[0m\u001b[0;34m.\u001b[0m\u001b[0mravel\u001b[0m\u001b[0;34m(\u001b[0m\u001b[0;34m)\u001b[0m\u001b[0;34m,\u001b[0m \u001b[0mop\u001b[0m\u001b[0;34m)\u001b[0m\u001b[0;34m\u001b[0m\u001b[0;34m\u001b[0m\u001b[0m\n\u001b[1;32m     72\u001b[0m     \u001b[0;32melse\u001b[0m\u001b[0;34m:\u001b[0m\u001b[0;34m\u001b[0m\u001b[0;34m\u001b[0m\u001b[0m\n\u001b[0;32m---> 73\u001b[0;31m         \u001b[0mresult\u001b[0m \u001b[0;34m=\u001b[0m \u001b[0mlibops\u001b[0m\u001b[0;34m.\u001b[0m\u001b[0mscalar_compare\u001b[0m\u001b[0;34m(\u001b[0m\u001b[0mx\u001b[0m\u001b[0;34m.\u001b[0m\u001b[0mravel\u001b[0m\u001b[0;34m(\u001b[0m\u001b[0;34m)\u001b[0m\u001b[0;34m,\u001b[0m \u001b[0my\u001b[0m\u001b[0;34m,\u001b[0m \u001b[0mop\u001b[0m\u001b[0;34m)\u001b[0m\u001b[0;34m\u001b[0m\u001b[0;34m\u001b[0m\u001b[0m\n\u001b[0m\u001b[1;32m     74\u001b[0m     \u001b[0;32mreturn\u001b[0m \u001b[0mresult\u001b[0m\u001b[0;34m.\u001b[0m\u001b[0mreshape\u001b[0m\u001b[0;34m(\u001b[0m\u001b[0mx\u001b[0m\u001b[0;34m.\u001b[0m\u001b[0mshape\u001b[0m\u001b[0;34m)\u001b[0m\u001b[0;34m\u001b[0m\u001b[0;34m\u001b[0m\u001b[0m\n\u001b[1;32m     75\u001b[0m \u001b[0;34m\u001b[0m\u001b[0m\n",
      "\u001b[0;31mKeyboardInterrupt\u001b[0m: "
     ]
    }
   ],
   "source": [
    "label_df['start_fault_time'] = label_df['fault_time'] - pd.Timedelta(pd.offsets.Hour(3))\n",
    "data = []\n",
    "for i in tqdm(range(label_df.shape[0])):\n",
    "    row = label_df.iloc[i]\n",
    "    sn = row['sn']\n",
    "    start_fault_time = row['start_fault_time']\n",
    "    fault_time = row['fault_time']\n",
    "    tmp = log_df[log_df['sn'] == sn]\n",
    "    tmp = tmp[(tmp['time'] >= start_fault_time) & (tmp['time'] <= fault_time)].sort_values(by='time', ascending=False)\n",
    "    data.append(np.unique(tmp['template_id'].values.tolist()))"
   ]
  },
  {
   "cell_type": "code",
   "execution_count": null,
   "id": "4e838e72",
   "metadata": {},
   "outputs": [],
   "source": []
  },
  {
   "cell_type": "code",
   "execution_count": null,
   "id": "bbe75023",
   "metadata": {},
   "outputs": [],
   "source": []
  },
  {
   "cell_type": "code",
   "execution_count": null,
   "id": "4fb47b85",
   "metadata": {},
   "outputs": [],
   "source": []
  },
  {
   "cell_type": "code",
   "execution_count": null,
   "id": "6bee218a",
   "metadata": {},
   "outputs": [],
   "source": []
  },
  {
   "cell_type": "code",
   "execution_count": null,
   "id": "082962e8",
   "metadata": {},
   "outputs": [],
   "source": []
  },
  {
   "cell_type": "code",
   "execution_count": 17,
   "id": "48b269df",
   "metadata": {},
   "outputs": [],
   "source": [
    "import os\n",
    "import numpy as np\n",
    "import pandas as pd\n",
    "from tqdm import tqdm\n",
    "from collections import Counter"
   ]
  },
  {
   "cell_type": "code",
   "execution_count": 18,
   "id": "254cca9e",
   "metadata": {},
   "outputs": [
    {
     "data": {
      "text/plain": [
       "((493527, 7), 493527)"
      ]
     },
     "execution_count": 18,
     "metadata": {},
     "output_type": "execute_result"
    }
   ],
   "source": [
    "log_df.shape, test_log_df.shape[0] + train_log_df.shape[0]"
   ]
  },
  {
   "cell_type": "code",
   "execution_count": 19,
   "id": "f160d8f9",
   "metadata": {},
   "outputs": [],
   "source": [
    "token2count = Counter()\n",
    "token2count.update(log_df.iloc[:train_log_df.shape[0]]['template_id'].values)"
   ]
  },
  {
   "cell_type": "code",
   "execution_count": 24,
   "id": "0c3ce210",
   "metadata": {},
   "outputs": [
    {
     "data": {
      "text/plain": [
       "0.009023160966228426"
      ]
     },
     "execution_count": 24,
     "metadata": {},
     "output_type": "execute_result"
    }
   ],
   "source": [
    "token2count[207] / train_log_df.shape[0]"
   ]
  },
  {
   "cell_type": "code",
   "execution_count": 21,
   "id": "031c46cb",
   "metadata": {},
   "outputs": [],
   "source": [
    "token2count2 = Counter()\n",
    "token2count2.update(log_df.iloc[train_log_df.shape[0]:]['template_id'].values)"
   ]
  },
  {
   "cell_type": "code",
   "execution_count": 25,
   "id": "79dac8bb",
   "metadata": {},
   "outputs": [
    {
     "data": {
      "text/plain": [
       "0.026021290146483488"
      ]
     },
     "execution_count": 25,
     "metadata": {},
     "output_type": "execute_result"
    }
   ],
   "source": [
    "token2count2[207] / test_log_df.shape[0]"
   ]
  },
  {
   "cell_type": "code",
   "execution_count": 27,
   "id": "7f37cdba",
   "metadata": {},
   "outputs": [
    {
     "data": {
      "text/plain": [
       "Counter({207: 4354,\n",
       "         208: 3481,\n",
       "         209: 111453,\n",
       "         210: 631,\n",
       "         211: 10,\n",
       "         212: 2,\n",
       "         213: 785,\n",
       "         214: 83,\n",
       "         215: 193,\n",
       "         268: 3820,\n",
       "         217: 273,\n",
       "         218: 4,\n",
       "         270: 967,\n",
       "         220: 3,\n",
       "         221: 98,\n",
       "         222: 3988,\n",
       "         223: 45,\n",
       "         216: 5,\n",
       "         224: 6,\n",
       "         219: 4,\n",
       "         225: 4,\n",
       "         226: 29,\n",
       "         317: 6624,\n",
       "         227: 2666,\n",
       "         228: 2549,\n",
       "         229: 3574,\n",
       "         230: 96,\n",
       "         231: 49,\n",
       "         232: 207,\n",
       "         233: 3530,\n",
       "         234: 21079,\n",
       "         235: 88,\n",
       "         236: 1164,\n",
       "         237: 17387,\n",
       "         238: 1412,\n",
       "         239: 22,\n",
       "         240: 1526,\n",
       "         241: 7824,\n",
       "         242: 1911,\n",
       "         243: 50,\n",
       "         244: 357,\n",
       "         245: 833,\n",
       "         246: 633,\n",
       "         247: 19,\n",
       "         248: 11,\n",
       "         249: 158,\n",
       "         250: 37,\n",
       "         251: 4,\n",
       "         252: 973,\n",
       "         253: 874,\n",
       "         254: 93,\n",
       "         255: 136,\n",
       "         256: 1,\n",
       "         257: 2,\n",
       "         258: 293,\n",
       "         259: 2330,\n",
       "         260: 7,\n",
       "         261: 501,\n",
       "         262: 795,\n",
       "         263: 2,\n",
       "         264: 9,\n",
       "         265: 2,\n",
       "         266: 1773,\n",
       "         267: 5412,\n",
       "         269: 8,\n",
       "         271: 133,\n",
       "         272: 1278,\n",
       "         273: 717,\n",
       "         274: 8,\n",
       "         275: 25,\n",
       "         276: 239,\n",
       "         277: 11,\n",
       "         278: 950,\n",
       "         279: 315,\n",
       "         280: 2279,\n",
       "         281: 17209,\n",
       "         282: 27,\n",
       "         283: 706,\n",
       "         284: 4657,\n",
       "         285: 10,\n",
       "         286: 1,\n",
       "         287: 10412,\n",
       "         288: 3851,\n",
       "         289: 127021,\n",
       "         290: 15171,\n",
       "         291: 390,\n",
       "         292: 415,\n",
       "         293: 1530,\n",
       "         92: 319,\n",
       "         294: 62,\n",
       "         295: 3751,\n",
       "         296: 1027,\n",
       "         297: 3210,\n",
       "         298: 4094,\n",
       "         299: 25,\n",
       "         300: 77,\n",
       "         301: 4199,\n",
       "         302: 1075,\n",
       "         303: 206,\n",
       "         304: 5,\n",
       "         305: 17,\n",
       "         306: 10,\n",
       "         307: 721,\n",
       "         308: 26,\n",
       "         309: 10129,\n",
       "         310: 1,\n",
       "         311: 46,\n",
       "         312: 5853,\n",
       "         313: 979,\n",
       "         314: 1096,\n",
       "         315: 704,\n",
       "         316: 228,\n",
       "         318: 1,\n",
       "         319: 76,\n",
       "         320: 1,\n",
       "         321: 1,\n",
       "         322: 3,\n",
       "         323: 77,\n",
       "         324: 244,\n",
       "         325: 3147,\n",
       "         326: 426,\n",
       "         327: 64,\n",
       "         328: 13,\n",
       "         329: 121,\n",
       "         330: 3,\n",
       "         127: 49,\n",
       "         128: 1,\n",
       "         331: 3280,\n",
       "         332: 2140,\n",
       "         333: 21,\n",
       "         334: 814,\n",
       "         335: 1,\n",
       "         336: 5671,\n",
       "         337: 21,\n",
       "         338: 249,\n",
       "         339: 4,\n",
       "         340: 65,\n",
       "         341: 58,\n",
       "         342: 64,\n",
       "         343: 4,\n",
       "         344: 31,\n",
       "         345: 1037,\n",
       "         346: 24,\n",
       "         147: 36,\n",
       "         347: 4,\n",
       "         348: 9,\n",
       "         349: 1,\n",
       "         350: 2,\n",
       "         351: 6416,\n",
       "         352: 6,\n",
       "         353: 104,\n",
       "         354: 222,\n",
       "         355: 2,\n",
       "         356: 432,\n",
       "         357: 5897,\n",
       "         358: 2323,\n",
       "         359: 1917,\n",
       "         360: 127,\n",
       "         361: 8,\n",
       "         362: 24,\n",
       "         363: 63,\n",
       "         364: 14,\n",
       "         365: 23,\n",
       "         366: 197,\n",
       "         367: 28,\n",
       "         368: 19,\n",
       "         369: 3,\n",
       "         370: 1,\n",
       "         371: 570,\n",
       "         174: 256,\n",
       "         372: 215,\n",
       "         373: 94,\n",
       "         374: 21,\n",
       "         375: 8,\n",
       "         376: 12,\n",
       "         377: 4,\n",
       "         378: 59,\n",
       "         379: 2051,\n",
       "         380: 48,\n",
       "         381: 5,\n",
       "         382: 24,\n",
       "         185: 2,\n",
       "         383: 3,\n",
       "         384: 687,\n",
       "         385: 120,\n",
       "         386: 64,\n",
       "         387: 23,\n",
       "         388: 22,\n",
       "         389: 85,\n",
       "         390: 1,\n",
       "         391: 4,\n",
       "         392: 1,\n",
       "         393: 49,\n",
       "         394: 15,\n",
       "         395: 2,\n",
       "         396: 2,\n",
       "         397: 2,\n",
       "         398: 2,\n",
       "         399: 6,\n",
       "         400: 4,\n",
       "         401: 4,\n",
       "         402: 3,\n",
       "         403: 1,\n",
       "         404: 4})"
      ]
     },
     "execution_count": 27,
     "metadata": {},
     "output_type": "execute_result"
    }
   ],
   "source": [
    "token2count"
   ]
  },
  {
   "cell_type": "code",
   "execution_count": null,
   "id": "66342888",
   "metadata": {},
   "outputs": [],
   "source": []
  },
  {
   "cell_type": "code",
   "execution_count": null,
   "id": "bece548e",
   "metadata": {},
   "outputs": [],
   "source": []
  },
  {
   "cell_type": "code",
   "execution_count": null,
   "id": "0aae518c",
   "metadata": {},
   "outputs": [],
   "source": []
  },
  {
   "cell_type": "code",
   "execution_count": 1,
   "id": "e014432b",
   "metadata": {},
   "outputs": [],
   "source": [
    "import os\n",
    "import numpy as np\n",
    "import pandas as pd\n",
    "from tqdm import tqdm\n",
    "from collections import Counter"
   ]
  },
  {
   "cell_type": "code",
   "execution_count": 2,
   "id": "ef3521c8",
   "metadata": {},
   "outputs": [],
   "source": [
    "label1 = pd.read_csv('./data/preliminary_train_label_dataset.csv')\n",
    "label2 = pd.read_csv('./data/preliminary_train_label_dataset_s.csv')\n",
    "label_df = pd.concat([label1, label2]).reset_index(drop=True)"
   ]
  },
  {
   "cell_type": "code",
   "execution_count": 3,
   "id": "99d74d32",
   "metadata": {},
   "outputs": [],
   "source": [
    "train_log_df = pd.read_csv('./data/preliminary_sel_log_dataset.csv')\n",
    "test_log_df = pd.read_csv('./data/preliminary_sel_log_dataset_a.csv')\n",
    "\n",
    "log_df = pd.concat([train_log_df, test_log_df]).reset_index(drop=True)"
   ]
  },
  {
   "cell_type": "code",
   "execution_count": 4,
   "id": "c0a1f97b",
   "metadata": {},
   "outputs": [],
   "source": [
    "submit_df = pd.read_csv('./data/preliminary_submit_dataset_a.csv')"
   ]
  },
  {
   "cell_type": "code",
   "execution_count": 5,
   "id": "d69059e9",
   "metadata": {},
   "outputs": [],
   "source": [
    "log_df['time'] = pd.to_datetime(log_df['time'])"
   ]
  },
  {
   "cell_type": "code",
   "execution_count": 8,
   "id": "eb4c3c2f",
   "metadata": {},
   "outputs": [],
   "source": [
    "label_df['fault_time'] = pd.to_datetime(label_df['fault_time'])"
   ]
  },
  {
   "cell_type": "code",
   "execution_count": 13,
   "id": "135d65eb",
   "metadata": {},
   "outputs": [
    {
     "data": {
      "text/html": [
       "<div>\n",
       "<style scoped>\n",
       "    .dataframe tbody tr th:only-of-type {\n",
       "        vertical-align: middle;\n",
       "    }\n",
       "\n",
       "    .dataframe tbody tr th {\n",
       "        vertical-align: top;\n",
       "    }\n",
       "\n",
       "    .dataframe thead th {\n",
       "        text-align: right;\n",
       "    }\n",
       "</style>\n",
       "<table border=\"1\" class=\"dataframe\">\n",
       "  <thead>\n",
       "    <tr style=\"text-align: right;\">\n",
       "      <th></th>\n",
       "      <th>sn</th>\n",
       "      <th>fault_time</th>\n",
       "      <th>label</th>\n",
       "    </tr>\n",
       "  </thead>\n",
       "  <tbody>\n",
       "    <tr>\n",
       "      <th>0</th>\n",
       "      <td>SERVER_25698</td>\n",
       "      <td>2020-10-09 13:43:00</td>\n",
       "      <td>0</td>\n",
       "    </tr>\n",
       "    <tr>\n",
       "      <th>1</th>\n",
       "      <td>SERVER_25699</td>\n",
       "      <td>2020-08-25 18:50:00</td>\n",
       "      <td>0</td>\n",
       "    </tr>\n",
       "    <tr>\n",
       "      <th>2</th>\n",
       "      <td>SERVER_25712</td>\n",
       "      <td>2020-03-16 13:20:00</td>\n",
       "      <td>0</td>\n",
       "    </tr>\n",
       "    <tr>\n",
       "      <th>3</th>\n",
       "      <td>SERVER_25708</td>\n",
       "      <td>2020-07-25 12:44:00</td>\n",
       "      <td>0</td>\n",
       "    </tr>\n",
       "    <tr>\n",
       "      <th>4</th>\n",
       "      <td>SERVER_25711</td>\n",
       "      <td>2020-03-16 16:51:00</td>\n",
       "      <td>0</td>\n",
       "    </tr>\n",
       "  </tbody>\n",
       "</table>\n",
       "</div>"
      ],
      "text/plain": [
       "             sn          fault_time  label\n",
       "0  SERVER_25698 2020-10-09 13:43:00      0\n",
       "1  SERVER_25699 2020-08-25 18:50:00      0\n",
       "2  SERVER_25712 2020-03-16 13:20:00      0\n",
       "3  SERVER_25708 2020-07-25 12:44:00      0\n",
       "4  SERVER_25711 2020-03-16 16:51:00      0"
      ]
     },
     "execution_count": 13,
     "metadata": {},
     "output_type": "execute_result"
    }
   ],
   "source": [
    "label_df.head()"
   ]
  },
  {
   "cell_type": "code",
   "execution_count": 28,
   "id": "38f6e6ad",
   "metadata": {},
   "outputs": [],
   "source": []
  },
  {
   "cell_type": "code",
   "execution_count": 31,
   "id": "738c633b",
   "metadata": {},
   "outputs": [
    {
     "name": "stderr",
     "output_type": "stream",
     "text": [
      "100%|█████████████████████████████████████████████████████████████████████████████████████████████████████████████████████████████████████| 16669/16669 [08:28<00:00, 32.79it/s]\n"
     ]
    }
   ],
   "source": [
    "for i in tqdm(range(label_df.shape[0])):\n",
    "    row = label_df.iloc[i]\n",
    "    sn = row['sn']\n",
    "    start_fault_time = row['start_fault_time']\n",
    "    fault_time = row['fault_time']\n",
    "    tmp = log_df[log_df['sn'] == sn]\n",
    "    tmp = tmp[(tmp['time'] >= start_fault_time) & (tmp['time'] <= fault_time)].sort_values(by='time')\n"
   ]
  },
  {
   "cell_type": "code",
   "execution_count": 32,
   "id": "fb5a88b7",
   "metadata": {},
   "outputs": [],
   "source": [
    "from drain3 import TemplateMiner #开源在线日志解析框架\n",
    "from drain3.file_persistence import FilePersistence\n",
    "from drain3.template_miner_config import TemplateMinerConfig"
   ]
  },
  {
   "cell_type": "code",
   "execution_count": 33,
   "id": "662b1848",
   "metadata": {},
   "outputs": [],
   "source": [
    "config = TemplateMinerConfig()\n",
    "config.load('./drain3.ini') ## 这个文件在drain3的github仓库里有\n",
    "config.profiling_enabled = False"
   ]
  },
  {
   "cell_type": "code",
   "execution_count": 34,
   "id": "6794d820",
   "metadata": {},
   "outputs": [],
   "source": [
    "drain_file = 'comp_a_sellog'\n",
    "persistence = FilePersistence(drain_file + '.bin')\n",
    "template_miner = TemplateMiner(persistence, config=config)"
   ]
  },
  {
   "cell_type": "code",
   "execution_count": 35,
   "id": "7468e2f4",
   "metadata": {},
   "outputs": [],
   "source": [
    "for msg in log_df.msg.tolist():\n",
    "    template_miner.add_log_message(msg)\n",
    "temp_count = len(template_miner.drain.clusters)"
   ]
  },
  {
   "cell_type": "code",
   "execution_count": 36,
   "id": "d81e1370",
   "metadata": {},
   "outputs": [],
   "source": [
    "template_dic = {}\n",
    "size_list = []\n",
    "for cluster in template_miner.drain.clusters:\n",
    "    size_list.append(cluster.size)"
   ]
  },
  {
   "cell_type": "code",
   "execution_count": 41,
   "id": "39f0fdee",
   "metadata": {},
   "outputs": [],
   "source": [
    "for cluster in template_miner.drain.clusters: ## 把符合要求的模板存下来\n",
    "    template_dic[cluster.cluster_id] = cluster.size"
   ]
  },
  {
   "cell_type": "code",
   "execution_count": 43,
   "id": "b0a5d329",
   "metadata": {},
   "outputs": [],
   "source": [
    "temp_count_f = len(template_dic)"
   ]
  },
  {
   "cell_type": "code",
   "execution_count": 44,
   "id": "101f0708",
   "metadata": {},
   "outputs": [],
   "source": [
    "def match_template(df, template_miner, template_dic):\n",
    "    msg = df.msg\n",
    "    cluster = template_miner.match(msg) # 匹配模板，由开源工具提供\n",
    "    if cluster and cluster.cluster_id in template_dic:\n",
    "        df['template_id'] = cluster.cluster_id # 模板id\n",
    "        df['template'] = cluster.get_template() # 具体模板\n",
    "    else:\n",
    "        df['template_id'] = 'None' # 没有匹配到模板的数据也会记录下来，之后也会用作一种特征。\n",
    "        df['template'] = 'None'\n",
    "    return df"
   ]
  },
  {
   "cell_type": "code",
   "execution_count": 45,
   "id": "b595cc46",
   "metadata": {},
   "outputs": [],
   "source": [
    "log_df = log_df.apply(match_template, template_miner=template_miner, template_dic=template_dic, axis=1)"
   ]
  },
  {
   "cell_type": "code",
   "execution_count": 49,
   "id": "e5d4902f",
   "metadata": {},
   "outputs": [],
   "source": [
    "log_df.to_csv('./log_template.csv', index=False)"
   ]
  },
  {
   "cell_type": "code",
   "execution_count": 48,
   "id": "82ee6412",
   "metadata": {},
   "outputs": [
    {
     "name": "stdout",
     "output_type": "stream",
     "text": [
      "               sn                time  \\\n",
      "129  SERVER_25698 2020-10-09 10:45:41   \n",
      "75   SERVER_25698 2020-10-09 10:48:56   \n",
      "5    SERVER_25698 2020-10-09 10:52:10   \n",
      "124  SERVER_25698 2020-10-09 10:55:24   \n",
      "223  SERVER_25698 2020-10-09 10:58:44   \n",
      "158  SERVER_25698 2020-10-09 11:01:57   \n",
      "236  SERVER_25698 2020-10-09 11:05:14   \n",
      "246  SERVER_25698 2020-10-09 11:08:36   \n",
      "7    SERVER_25698 2020-10-09 11:11:53   \n",
      "169  SERVER_25698 2020-10-09 11:15:07   \n",
      "177  SERVER_25698 2020-10-09 11:18:26   \n",
      "201  SERVER_25698 2020-10-09 11:21:43   \n",
      "153  SERVER_25698 2020-10-09 11:24:59   \n",
      "64   SERVER_25698 2020-10-09 11:28:13   \n",
      "40   SERVER_25698 2020-10-09 11:31:25   \n",
      "258  SERVER_25698 2020-10-09 11:34:34   \n",
      "99   SERVER_25698 2020-10-09 11:37:45   \n",
      "175  SERVER_25698 2020-10-09 11:41:01   \n",
      "13   SERVER_25698 2020-10-09 11:44:10   \n",
      "254  SERVER_25698 2020-10-09 11:47:21   \n",
      "15   SERVER_25698 2020-10-09 11:50:38   \n",
      "145  SERVER_25698 2020-10-09 11:53:53   \n",
      "182  SERVER_25698 2020-10-09 11:57:06   \n",
      "66   SERVER_25698 2020-10-09 12:00:43   \n",
      "25   SERVER_25698 2020-10-09 12:04:02   \n",
      "53   SERVER_25698 2020-10-09 12:07:13   \n",
      "152  SERVER_25698 2020-10-09 12:10:23   \n",
      "224  SERVER_25698 2020-10-09 12:13:44   \n",
      "46   SERVER_25698 2020-10-09 12:16:39   \n",
      "211  SERVER_25698 2020-10-09 12:19:57   \n",
      "128  SERVER_25698 2020-10-09 12:23:12   \n",
      "131  SERVER_25698 2020-10-09 12:26:28   \n",
      "232  SERVER_25698 2020-10-09 12:29:39   \n",
      "180  SERVER_25698 2020-10-09 12:32:52   \n",
      "174  SERVER_25698 2020-10-09 12:36:09   \n",
      "52   SERVER_25698 2020-10-09 12:39:27   \n",
      "248  SERVER_25698 2020-10-09 12:42:53   \n",
      "166  SERVER_25698 2020-10-09 12:46:07   \n",
      "80   SERVER_25698 2020-10-09 12:49:29   \n",
      "98   SERVER_25698 2020-10-09 12:52:41   \n",
      "16   SERVER_25698 2020-10-09 12:55:57   \n",
      "4    SERVER_25698 2020-10-09 12:59:13   \n",
      "137  SERVER_25698 2020-10-09 13:02:27   \n",
      "117  SERVER_25698 2020-10-09 13:05:40   \n",
      "102  SERVER_25698 2020-10-09 13:08:53   \n",
      "83   SERVER_25698 2020-10-09 13:12:06   \n",
      "240  SERVER_25698 2020-10-09 13:15:26   \n",
      "65   SERVER_25698 2020-10-09 13:18:50   \n",
      "247  SERVER_25698 2020-10-09 13:22:04   \n",
      "157  SERVER_25698 2020-10-09 13:25:16   \n",
      "238  SERVER_25698 2020-10-09 13:28:41   \n",
      "228  SERVER_25698 2020-10-09 13:31:58   \n",
      "185  SERVER_25698 2020-10-09 13:35:14   \n",
      "212  SERVER_25698 2020-10-09 13:38:37   \n",
      "209  SERVER_25698 2020-10-09 13:41:50   \n",
      "\n",
      "                                                   msg server_model  \\\n",
      "129   System Boot Initiated BIOS_Boot_Up | State As...          SM0   \n",
      "75    System Boot Initiated BIOS_Boot_Up | State As...          SM0   \n",
      "5     System Boot Initiated BIOS_Boot_Up | State As...          SM0   \n",
      "124   System Boot Initiated BIOS_Boot_Up | State As...          SM0   \n",
      "223   System Boot Initiated BIOS_Boot_Up | State As...          SM0   \n",
      "158   System Boot Initiated BIOS_Boot_Up | State As...          SM0   \n",
      "236   System Boot Initiated BIOS_Boot_Up | State As...          SM0   \n",
      "246   System Boot Initiated BIOS_Boot_Up | State As...          SM0   \n",
      "7     System Boot Initiated BIOS_Boot_Up | State As...          SM0   \n",
      "169   System Boot Initiated BIOS_Boot_Up | State As...          SM0   \n",
      "177   System Boot Initiated BIOS_Boot_Up | State As...          SM0   \n",
      "201   System Boot Initiated BIOS_Boot_Up | State As...          SM0   \n",
      "153   System Boot Initiated BIOS_Boot_Up | State As...          SM0   \n",
      "64    System Boot Initiated BIOS_Boot_Up | State As...          SM0   \n",
      "40    System Boot Initiated BIOS_Boot_Up | State As...          SM0   \n",
      "258   System Boot Initiated BIOS_Boot_Up | State As...          SM0   \n",
      "99    System Boot Initiated BIOS_Boot_Up | State As...          SM0   \n",
      "175   System Boot Initiated BIOS_Boot_Up | State As...          SM0   \n",
      "13    System Boot Initiated BIOS_Boot_Up | State As...          SM0   \n",
      "254   System Boot Initiated BIOS_Boot_Up | State As...          SM0   \n",
      "15    System Boot Initiated BIOS_Boot_Up | State As...          SM0   \n",
      "145   System Boot Initiated BIOS_Boot_Up | State As...          SM0   \n",
      "182   System Boot Initiated BIOS_Boot_Up | State As...          SM0   \n",
      "66    System Boot Initiated BIOS_Boot_Up | State As...          SM0   \n",
      "25    System Boot Initiated BIOS_Boot_Up | State As...          SM0   \n",
      "53    System Boot Initiated BIOS_Boot_Up | State As...          SM0   \n",
      "152   System Boot Initiated BIOS_Boot_Up | State As...          SM0   \n",
      "224   System Boot Initiated BIOS_Boot_Up | State As...          SM0   \n",
      "46    System Boot Initiated BIOS_Boot_Up | State As...          SM0   \n",
      "211   System Boot Initiated BIOS_Boot_Up | State As...          SM0   \n",
      "128   System Boot Initiated BIOS_Boot_Up | State As...          SM0   \n",
      "131   System Boot Initiated BIOS_Boot_Up | State As...          SM0   \n",
      "232   System Boot Initiated BIOS_Boot_Up | State As...          SM0   \n",
      "180   System Boot Initiated BIOS_Boot_Up | State As...          SM0   \n",
      "174   System Boot Initiated BIOS_Boot_Up | State As...          SM0   \n",
      "52    System Boot Initiated BIOS_Boot_Up | State As...          SM0   \n",
      "248   System Boot Initiated BIOS_Boot_Up | State As...          SM0   \n",
      "166   System Boot Initiated BIOS_Boot_Up | State As...          SM0   \n",
      "80    System Boot Initiated BIOS_Boot_Up | State As...          SM0   \n",
      "98    System Boot Initiated BIOS_Boot_Up | State As...          SM0   \n",
      "16    System Boot Initiated BIOS_Boot_Up | State As...          SM0   \n",
      "4     System Boot Initiated BIOS_Boot_Up | State As...          SM0   \n",
      "137   System Boot Initiated BIOS_Boot_Up | State As...          SM0   \n",
      "117   System Boot Initiated BIOS_Boot_Up | State As...          SM0   \n",
      "102   System Boot Initiated BIOS_Boot_Up | State As...          SM0   \n",
      "83    System Boot Initiated BIOS_Boot_Up | State As...          SM0   \n",
      "240   System Boot Initiated BIOS_Boot_Up | State As...          SM0   \n",
      "65    System Boot Initiated BIOS_Boot_Up | State As...          SM0   \n",
      "247   System Boot Initiated BIOS_Boot_Up | State As...          SM0   \n",
      "157   System Boot Initiated BIOS_Boot_Up | State As...          SM0   \n",
      "238   System Boot Initiated BIOS_Boot_Up | State As...          SM0   \n",
      "228   System Boot Initiated BIOS_Boot_Up | State As...          SM0   \n",
      "185   System Boot Initiated BIOS_Boot_Up | State As...          SM0   \n",
      "212   System Boot Initiated BIOS_Boot_Up | State As...          SM0   \n",
      "209   System Boot Initiated BIOS_Boot_Up | State As...          SM0   \n",
      "\n",
      "     template_id                                           template  \n",
      "129            1  System Boot Initiated <:*:> <:*:> <:*:> <:*:> ...  \n",
      "75             1  System Boot Initiated <:*:> <:*:> <:*:> <:*:> ...  \n",
      "5              1  System Boot Initiated <:*:> <:*:> <:*:> <:*:> ...  \n",
      "124            1  System Boot Initiated <:*:> <:*:> <:*:> <:*:> ...  \n",
      "223            1  System Boot Initiated <:*:> <:*:> <:*:> <:*:> ...  \n",
      "158            1  System Boot Initiated <:*:> <:*:> <:*:> <:*:> ...  \n",
      "236            1  System Boot Initiated <:*:> <:*:> <:*:> <:*:> ...  \n",
      "246            1  System Boot Initiated <:*:> <:*:> <:*:> <:*:> ...  \n",
      "7              1  System Boot Initiated <:*:> <:*:> <:*:> <:*:> ...  \n",
      "169            1  System Boot Initiated <:*:> <:*:> <:*:> <:*:> ...  \n",
      "177            1  System Boot Initiated <:*:> <:*:> <:*:> <:*:> ...  \n",
      "201            1  System Boot Initiated <:*:> <:*:> <:*:> <:*:> ...  \n",
      "153            1  System Boot Initiated <:*:> <:*:> <:*:> <:*:> ...  \n",
      "64             1  System Boot Initiated <:*:> <:*:> <:*:> <:*:> ...  \n",
      "40             1  System Boot Initiated <:*:> <:*:> <:*:> <:*:> ...  \n",
      "258            1  System Boot Initiated <:*:> <:*:> <:*:> <:*:> ...  \n",
      "99             1  System Boot Initiated <:*:> <:*:> <:*:> <:*:> ...  \n",
      "175            1  System Boot Initiated <:*:> <:*:> <:*:> <:*:> ...  \n",
      "13             1  System Boot Initiated <:*:> <:*:> <:*:> <:*:> ...  \n",
      "254            1  System Boot Initiated <:*:> <:*:> <:*:> <:*:> ...  \n",
      "15             1  System Boot Initiated <:*:> <:*:> <:*:> <:*:> ...  \n",
      "145            1  System Boot Initiated <:*:> <:*:> <:*:> <:*:> ...  \n",
      "182            1  System Boot Initiated <:*:> <:*:> <:*:> <:*:> ...  \n",
      "66             1  System Boot Initiated <:*:> <:*:> <:*:> <:*:> ...  \n",
      "25             1  System Boot Initiated <:*:> <:*:> <:*:> <:*:> ...  \n",
      "53             1  System Boot Initiated <:*:> <:*:> <:*:> <:*:> ...  \n",
      "152            1  System Boot Initiated <:*:> <:*:> <:*:> <:*:> ...  \n",
      "224            1  System Boot Initiated <:*:> <:*:> <:*:> <:*:> ...  \n",
      "46             1  System Boot Initiated <:*:> <:*:> <:*:> <:*:> ...  \n",
      "211            1  System Boot Initiated <:*:> <:*:> <:*:> <:*:> ...  \n",
      "128            1  System Boot Initiated <:*:> <:*:> <:*:> <:*:> ...  \n",
      "131            1  System Boot Initiated <:*:> <:*:> <:*:> <:*:> ...  \n",
      "232            1  System Boot Initiated <:*:> <:*:> <:*:> <:*:> ...  \n",
      "180            1  System Boot Initiated <:*:> <:*:> <:*:> <:*:> ...  \n",
      "174            1  System Boot Initiated <:*:> <:*:> <:*:> <:*:> ...  \n",
      "52             1  System Boot Initiated <:*:> <:*:> <:*:> <:*:> ...  \n",
      "248            1  System Boot Initiated <:*:> <:*:> <:*:> <:*:> ...  \n",
      "166            1  System Boot Initiated <:*:> <:*:> <:*:> <:*:> ...  \n",
      "80             1  System Boot Initiated <:*:> <:*:> <:*:> <:*:> ...  \n",
      "98             1  System Boot Initiated <:*:> <:*:> <:*:> <:*:> ...  \n",
      "16             1  System Boot Initiated <:*:> <:*:> <:*:> <:*:> ...  \n",
      "4              1  System Boot Initiated <:*:> <:*:> <:*:> <:*:> ...  \n",
      "137            1  System Boot Initiated <:*:> <:*:> <:*:> <:*:> ...  \n",
      "117            1  System Boot Initiated <:*:> <:*:> <:*:> <:*:> ...  \n",
      "102            1  System Boot Initiated <:*:> <:*:> <:*:> <:*:> ...  \n",
      "83             1  System Boot Initiated <:*:> <:*:> <:*:> <:*:> ...  \n",
      "240            1  System Boot Initiated <:*:> <:*:> <:*:> <:*:> ...  \n",
      "65             1  System Boot Initiated <:*:> <:*:> <:*:> <:*:> ...  \n",
      "247            1  System Boot Initiated <:*:> <:*:> <:*:> <:*:> ...  \n",
      "157            1  System Boot Initiated <:*:> <:*:> <:*:> <:*:> ...  \n",
      "238            1  System Boot Initiated <:*:> <:*:> <:*:> <:*:> ...  \n",
      "228            1  System Boot Initiated <:*:> <:*:> <:*:> <:*:> ...  \n",
      "185            1  System Boot Initiated <:*:> <:*:> <:*:> <:*:> ...  \n",
      "212            1  System Boot Initiated <:*:> <:*:> <:*:> <:*:> ...  \n",
      "209            1  System Boot Initiated <:*:> <:*:> <:*:> <:*:> ...  \n"
     ]
    }
   ],
   "source": [
    "label_df['start_fault_time'] = label_df['fault_time'] - pd.Timedelta(pd.offsets.Hour(3))\n",
    "\n",
    "for i in range(label_df.shape[0]):\n",
    "    row = label_df.iloc[i]\n",
    "    sn = row['sn']\n",
    "    start_fault_time = row['start_fault_time']\n",
    "    fault_time = row['fault_time']\n",
    "    tmp = log_df[log_df['sn'] == sn]\n",
    "    tmp = tmp[(tmp['time'] >= start_fault_time) & (tmp['time'] <= fault_time)].sort_values(by='time')\n",
    "    print(tmp)\n",
    "    break"
   ]
  },
  {
   "cell_type": "code",
   "execution_count": null,
   "id": "2e724bb1",
   "metadata": {},
   "outputs": [],
   "source": []
  },
  {
   "cell_type": "code",
   "execution_count": null,
   "id": "750dcbe1",
   "metadata": {},
   "outputs": [],
   "source": []
  },
  {
   "cell_type": "code",
   "execution_count": null,
   "id": "c0e99501",
   "metadata": {},
   "outputs": [],
   "source": []
  },
  {
   "cell_type": "code",
   "execution_count": 1,
   "id": "2da5050b",
   "metadata": {},
   "outputs": [],
   "source": [
    "import os\n",
    "import numpy as np\n",
    "import pandas as pd\n",
    "from tqdm import tqdm\n",
    "from collections import Counter"
   ]
  },
  {
   "cell_type": "code",
   "execution_count": 2,
   "id": "66028d5e",
   "metadata": {},
   "outputs": [],
   "source": [
    "train_log_df = pd.read_csv('./data/preliminary_sel_log_dataset.csv')\n",
    "test_log_df = pd.read_csv('./data/preliminary_sel_log_dataset_a.csv')\n",
    "add_log_df = pd.read_csv('./data/additional_sel_log_dataset.csv')"
   ]
  },
  {
   "cell_type": "code",
   "execution_count": 3,
   "id": "cab426cf",
   "metadata": {},
   "outputs": [],
   "source": [
    "label1 = pd.read_csv('./data/preliminary_train_label_dataset.csv')\n",
    "label2 = pd.read_csv('./data/preliminary_train_label_dataset_s.csv')\n",
    "\n",
    "label_df = pd.concat([label1, label2]).reset_index(drop=True)"
   ]
  },
  {
   "cell_type": "code",
   "execution_count": 4,
   "id": "ae8b4184",
   "metadata": {},
   "outputs": [],
   "source": [
    "log_df = pd.concat([train_log_df, test_log_df, add_log_df]).reset_index(drop=True)"
   ]
  },
  {
   "cell_type": "code",
   "execution_count": 5,
   "id": "37c90e28",
   "metadata": {},
   "outputs": [
    {
     "name": "stderr",
     "output_type": "stream",
     "text": [
      "100%|████████████████████████████████████████████████████████████████████████████████████████████████████| 1226201/1226201 [01:37<00:00, 12529.42it/s]\n"
     ]
    }
   ],
   "source": [
    "data = []\n",
    "for i in tqdm(range(log_df.shape[0])):\n",
    "    msg = [item.strip() for item in log_df.iloc[i]['msg'].lower().strip().split(' ')]\n",
    "    new_msg = []\n",
    "    for item in msg:\n",
    "        new_msg += item.split('_')\n",
    "    msg = new_msg\n",
    "    new_msg = []\n",
    "    for item in msg:\n",
    "        new_msg += item.split(':')\n",
    "    msg = new_msg\n",
    "    new_msg = []\n",
    "    for item in msg:\n",
    "        new_msg += item.split('/')\n",
    "    msg = new_msg\n",
    "    for kw in ['hdd', 'disk', 'cpu', 'fan', 'dimm']:\n",
    "        new_msg = []\n",
    "        for item in msg:\n",
    "            if item.startswith(kw):\n",
    "                new_msg += [kw, item[len(kw):]]\n",
    "            else:\n",
    "                new_msg += [item]\n",
    "        msg = new_msg\n",
    "    msg = list(filter(lambda x: len(x) > 0, msg))\n",
    "    data.append(msg)"
   ]
  },
  {
   "cell_type": "code",
   "execution_count": 19,
   "id": "22e56ede",
   "metadata": {},
   "outputs": [
    {
     "data": {
      "text/plain": [
       "25"
      ]
     },
     "execution_count": 19,
     "metadata": {},
     "output_type": "execute_result"
    }
   ],
   "source": [
    "maxlen = 0\n",
    "msg = ''\n",
    "for item in data:\n",
    "    if len(item) > maxlen and len(item) < 30:\n",
    "        msg = item\n",
    "        maxlen = len(item)\n",
    "maxlen"
   ]
  },
  {
   "cell_type": "code",
   "execution_count": 21,
   "id": "7608dba5",
   "metadata": {},
   "outputs": [
    {
     "data": {
      "text/plain": [
       "sn\n",
       "000d33b21436     2\n",
       "005c5a9218ba    10\n",
       "0079283bde6e     1\n",
       "007bdf23b62f    19\n",
       "00a577a8e54f     6\n",
       "                ..\n",
       "ffbf46b4af21     3\n",
       "ffc229b6cd9a     2\n",
       "ffd44698a52b     2\n",
       "fff73a9e5bd5     6\n",
       "fffd22fffe19    17\n",
       "Length: 28237, dtype: int64"
      ]
     },
     "execution_count": 21,
     "metadata": {},
     "output_type": "execute_result"
    }
   ],
   "source": [
    "log_df.groupby('sn').size()"
   ]
  },
  {
   "cell_type": "code",
   "execution_count": 7,
   "id": "6db60a8d",
   "metadata": {},
   "outputs": [
    {
     "name": "stdout",
     "output_type": "stream",
     "text": [
      "                       time                                                msg\n",
      "322999  2020-06-16 02:01:59   Memory CPU1D0_DIMM_Stat | Correctable ECC | A...\n",
      "323317  2020-06-16 02:03:25   Memory CPU1D0_DIMM_Stat | Correctable ECC | A...\n",
      "323378  2020-06-16 02:05:39   Memory CPU1D0_DIMM_Stat | Correctable ECC | A...\n",
      "324291  2020-06-16 02:06:10   Memory CPU1D0_DIMM_Stat | Correctable ECC | A...\n",
      "325751  2020-06-16 02:06:56   Memory CPU1D0_DIMM_Stat | Correctable ECC | A...\n",
      "...                     ...                                                ...\n",
      "325960  2020-06-16 15:21:57   Processor CPU1_Status | Configuration Error |...\n",
      "325220  2020-06-16 15:21:57   Memory CPU1D0_DIMM_Stat | Uncorrectable ECC |...\n",
      "323370  2020-06-16 15:50:06   Memory CPU1D0_DIMM_Stat | Correctable ECC | A...\n",
      "323897  2020-06-16 16:39:44   Memory CPU1D0_DIMM_Stat | Correctable ECC | A...\n",
      "322526  2020-06-16 16:48:04   System ACPI Power State ACPI_PWR_Status | S4/...\n",
      "\n",
      "[1078 rows x 2 columns]\n",
      "                sn           fault_time  label\n",
      "8673  SERVER_10067  2020-06-16 02:06:00      2\n",
      "8636  SERVER_10067  2020-06-16 16:58:00      1\n"
     ]
    }
   ],
   "source": [
    "cnt = 0\n",
    "for sn, group in log_df.groupby('sn'):\n",
    "    group = group.sort_values(by='time')\n",
    "    sub_label_df = label_df[label_df['sn'] == sn].sort_values(by='fault_time')\n",
    "    if group.shape[0] > 200:\n",
    "        print(group[['time', 'msg']])\n",
    "        print(sub_label_df)\n",
    "        break"
   ]
  },
  {
   "cell_type": "code",
   "execution_count": null,
   "id": "06447d8e",
   "metadata": {},
   "outputs": [],
   "source": []
  },
  {
   "cell_type": "code",
   "execution_count": 22,
   "id": "f1b57eeb",
   "metadata": {},
   "outputs": [
    {
     "data": {
      "text/html": [
       "<div>\n",
       "<style scoped>\n",
       "    .dataframe tbody tr th:only-of-type {\n",
       "        vertical-align: middle;\n",
       "    }\n",
       "\n",
       "    .dataframe tbody tr th {\n",
       "        vertical-align: top;\n",
       "    }\n",
       "\n",
       "    .dataframe thead th {\n",
       "        text-align: right;\n",
       "    }\n",
       "</style>\n",
       "<table border=\"1\" class=\"dataframe\">\n",
       "  <thead>\n",
       "    <tr style=\"text-align: right;\">\n",
       "      <th></th>\n",
       "      <th>sn</th>\n",
       "      <th>time</th>\n",
       "      <th>msg</th>\n",
       "      <th>server_model</th>\n",
       "    </tr>\n",
       "  </thead>\n",
       "  <tbody>\n",
       "    <tr>\n",
       "      <th>0</th>\n",
       "      <td>SERVER_25698</td>\n",
       "      <td>2020-10-09 08:32:21</td>\n",
       "      <td>System Boot Initiated BIOS_Boot_Up | State As...</td>\n",
       "      <td>SM0</td>\n",
       "    </tr>\n",
       "    <tr>\n",
       "      <th>1</th>\n",
       "      <td>SERVER_25698</td>\n",
       "      <td>2020-10-09 07:43:48</td>\n",
       "      <td>System Boot Initiated BIOS_Boot_Up | State As...</td>\n",
       "      <td>SM0</td>\n",
       "    </tr>\n",
       "    <tr>\n",
       "      <th>2</th>\n",
       "      <td>SERVER_25698</td>\n",
       "      <td>2020-10-09 08:16:22</td>\n",
       "      <td>System Boot Initiated BIOS_Boot_Up | State As...</td>\n",
       "      <td>SM0</td>\n",
       "    </tr>\n",
       "    <tr>\n",
       "      <th>3</th>\n",
       "      <td>SERVER_25698</td>\n",
       "      <td>2020-10-09 05:46:41</td>\n",
       "      <td>System Boot Initiated BIOS_Boot_Up | State As...</td>\n",
       "      <td>SM0</td>\n",
       "    </tr>\n",
       "    <tr>\n",
       "      <th>4</th>\n",
       "      <td>SERVER_25698</td>\n",
       "      <td>2020-10-09 12:59:13</td>\n",
       "      <td>System Boot Initiated BIOS_Boot_Up | State As...</td>\n",
       "      <td>SM0</td>\n",
       "    </tr>\n",
       "    <tr>\n",
       "      <th>...</th>\n",
       "      <td>...</td>\n",
       "      <td>...</td>\n",
       "      <td>...</td>\n",
       "      <td>...</td>\n",
       "    </tr>\n",
       "    <tr>\n",
       "      <th>482531</th>\n",
       "      <td>SERVER_24971</td>\n",
       "      <td>2020-10-04 14:48:11</td>\n",
       "      <td>Drive Slot / Bay BP2_HDD13_Status | Predictiv...</td>\n",
       "      <td>SM102</td>\n",
       "    </tr>\n",
       "    <tr>\n",
       "      <th>482532</th>\n",
       "      <td>SERVER_24971</td>\n",
       "      <td>2020-11-12 02:15:25</td>\n",
       "      <td>Drive Slot / Bay BP2_HDD25_Status | Predictiv...</td>\n",
       "      <td>SM102</td>\n",
       "    </tr>\n",
       "    <tr>\n",
       "      <th>482533</th>\n",
       "      <td>SERVER_24971</td>\n",
       "      <td>2020-11-12 17:10:34</td>\n",
       "      <td>Drive Slot / Bay BP2_HDD25_Status | Predictiv...</td>\n",
       "      <td>SM102</td>\n",
       "    </tr>\n",
       "    <tr>\n",
       "      <th>482534</th>\n",
       "      <td>SERVER_24971</td>\n",
       "      <td>2020-11-12 18:17:57</td>\n",
       "      <td>Drive Slot / Bay BP1_HDD27_Status | Predictiv...</td>\n",
       "      <td>SM102</td>\n",
       "    </tr>\n",
       "    <tr>\n",
       "      <th>482535</th>\n",
       "      <td>SERVER_24971</td>\n",
       "      <td>2020-11-12 17:22:04</td>\n",
       "      <td>Drive Slot / Bay BP1_HDD27_Status | Predictiv...</td>\n",
       "      <td>SM102</td>\n",
       "    </tr>\n",
       "  </tbody>\n",
       "</table>\n",
       "<p>482536 rows × 4 columns</p>\n",
       "</div>"
      ],
      "text/plain": [
       "                  sn                 time  \\\n",
       "0       SERVER_25698  2020-10-09 08:32:21   \n",
       "1       SERVER_25698  2020-10-09 07:43:48   \n",
       "2       SERVER_25698  2020-10-09 08:16:22   \n",
       "3       SERVER_25698  2020-10-09 05:46:41   \n",
       "4       SERVER_25698  2020-10-09 12:59:13   \n",
       "...              ...                  ...   \n",
       "482531  SERVER_24971  2020-10-04 14:48:11   \n",
       "482532  SERVER_24971  2020-11-12 02:15:25   \n",
       "482533  SERVER_24971  2020-11-12 17:10:34   \n",
       "482534  SERVER_24971  2020-11-12 18:17:57   \n",
       "482535  SERVER_24971  2020-11-12 17:22:04   \n",
       "\n",
       "                                                      msg server_model  \n",
       "0        System Boot Initiated BIOS_Boot_Up | State As...          SM0  \n",
       "1        System Boot Initiated BIOS_Boot_Up | State As...          SM0  \n",
       "2        System Boot Initiated BIOS_Boot_Up | State As...          SM0  \n",
       "3        System Boot Initiated BIOS_Boot_Up | State As...          SM0  \n",
       "4        System Boot Initiated BIOS_Boot_Up | State As...          SM0  \n",
       "...                                                   ...          ...  \n",
       "482531   Drive Slot / Bay BP2_HDD13_Status | Predictiv...        SM102  \n",
       "482532   Drive Slot / Bay BP2_HDD25_Status | Predictiv...        SM102  \n",
       "482533   Drive Slot / Bay BP2_HDD25_Status | Predictiv...        SM102  \n",
       "482534   Drive Slot / Bay BP1_HDD27_Status | Predictiv...        SM102  \n",
       "482535   Drive Slot / Bay BP1_HDD27_Status | Predictiv...        SM102  \n",
       "\n",
       "[482536 rows x 4 columns]"
      ]
     },
     "execution_count": 22,
     "metadata": {},
     "output_type": "execute_result"
    }
   ],
   "source": [
    "train_log_df"
   ]
  },
  {
   "cell_type": "code",
   "execution_count": null,
   "id": "28c0a484",
   "metadata": {},
   "outputs": [],
   "source": []
  },
  {
   "cell_type": "code",
   "execution_count": null,
   "id": "3a62db93",
   "metadata": {},
   "outputs": [],
   "source": []
  },
  {
   "cell_type": "code",
   "execution_count": 8,
   "id": "a00d35ce",
   "metadata": {},
   "outputs": [],
   "source": [
    "import os\n",
    "import numpy as np\n",
    "import pandas as pd\n",
    "import matplotlib.pyplot as plt"
   ]
  },
  {
   "cell_type": "code",
   "execution_count": 9,
   "id": "d2e75fab",
   "metadata": {},
   "outputs": [],
   "source": [
    "log_df = pd.read_csv('./data/preliminary_sel_log_dataset.csv')\n",
    "test_log_df = pd.read_csv('./data/preliminary_sel_log_dataset_a.csv')"
   ]
  },
  {
   "cell_type": "code",
   "execution_count": 10,
   "id": "839540c9",
   "metadata": {},
   "outputs": [],
   "source": [
    "log_df = pd.concat([log_df, test_log_df]).reset_index(drop=True)"
   ]
  },
  {
   "cell_type": "code",
   "execution_count": 11,
   "id": "0d1075bd",
   "metadata": {},
   "outputs": [],
   "source": [
    "for sn, group in log_df.groupby('sn'):\n",
    "    if np.unique(group['server_model'].values).shape[0] > 1:\n",
    "        print(sn, np.unique(group['server_model'].values))"
   ]
  },
  {
   "cell_type": "code",
   "execution_count": 12,
   "id": "def4ad52",
   "metadata": {},
   "outputs": [
    {
     "data": {
      "text/plain": [
       "array(['SM0', 'SM100', 'SM102', 'SM103', 'SM106', 'SM107', 'SM109',\n",
       "       'SM11', 'SM12', 'SM13', 'SM14', 'SM15', 'SM16', 'SM17', 'SM18',\n",
       "       'SM19', 'SM20', 'SM21', 'SM22', 'SM23', 'SM24', 'SM25', 'SM26',\n",
       "       'SM27', 'SM28', 'SM29', 'SM3', 'SM30', 'SM31', 'SM32', 'SM33',\n",
       "       'SM34', 'SM35', 'SM36', 'SM37', 'SM38', 'SM39', 'SM4', 'SM40',\n",
       "       'SM41', 'SM45', 'SM46', 'SM49', 'SM5', 'SM50', 'SM51', 'SM52',\n",
       "       'SM53', 'SM54', 'SM55', 'SM56', 'SM57', 'SM58', 'SM59', 'SM6',\n",
       "       'SM60', 'SM61', 'SM63', 'SM65', 'SM66', 'SM67', 'SM68', 'SM69',\n",
       "       'SM70', 'SM71', 'SM73', 'SM74', 'SM75', 'SM76', 'SM77', 'SM78',\n",
       "       'SM79', 'SM8', 'SM82', 'SM83', 'SM85', 'SM87', 'SM88', 'SM9',\n",
       "       'SM91', 'SM92', 'SM93', 'SM94', 'SM95', 'SM96', 'SM98', 'SM99'],\n",
       "      dtype=object)"
      ]
     },
     "execution_count": 12,
     "metadata": {},
     "output_type": "execute_result"
    }
   ],
   "source": [
    "np.unique(log_df['server_model'])"
   ]
  },
  {
   "cell_type": "code",
   "execution_count": null,
   "id": "fea19b50",
   "metadata": {},
   "outputs": [],
   "source": []
  },
  {
   "cell_type": "code",
   "execution_count": 13,
   "id": "f486fe42",
   "metadata": {},
   "outputs": [],
   "source": [
    "label1 = pd.read_csv('./data/preliminary_train_label_dataset.csv')\n",
    "label2 = pd.read_csv('./data/preliminary_train_label_dataset_s.csv')"
   ]
  },
  {
   "cell_type": "code",
   "execution_count": 14,
   "id": "9266070a",
   "metadata": {},
   "outputs": [],
   "source": [
    "label_df = pd.concat([label1, label2]).reset_index(drop=True)"
   ]
  },
  {
   "cell_type": "code",
   "execution_count": 15,
   "id": "bfd3dee8",
   "metadata": {},
   "outputs": [
    {
     "name": "stdout",
     "output_type": "stream",
     "text": [
      "1476\n",
      "3387\n",
      "9343\n",
      "2463\n"
     ]
    }
   ],
   "source": [
    "for i in range(4):\n",
    "    print(label_df[label_df['label'] == i].shape[0])"
   ]
  },
  {
   "cell_type": "code",
   "execution_count": 16,
   "id": "feba89aa",
   "metadata": {},
   "outputs": [],
   "source": [
    "pred_df = pd.read_csv('./preliminary_pred_a.csv')"
   ]
  },
  {
   "cell_type": "code",
   "execution_count": 17,
   "id": "ef3632fe",
   "metadata": {},
   "outputs": [
    {
     "name": "stdout",
     "output_type": "stream",
     "text": [
      "74\n",
      "710\n",
      "1748\n",
      "479\n"
     ]
    }
   ],
   "source": [
    "for i in range(4):\n",
    "    print(pred_df[pred_df['label'] == i].shape[0])"
   ]
  },
  {
   "cell_type": "code",
   "execution_count": null,
   "id": "2655ea51",
   "metadata": {},
   "outputs": [],
   "source": []
  }
 ],
 "metadata": {
  "kernelspec": {
   "display_name": "Python 3 (ipykernel)",
   "language": "python",
   "name": "python3"
  },
  "language_info": {
   "codemirror_mode": {
    "name": "ipython",
    "version": 3
   },
   "file_extension": ".py",
   "mimetype": "text/x-python",
   "name": "python",
   "nbconvert_exporter": "python",
   "pygments_lexer": "ipython3",
   "version": "3.7.8"
  }
 },
 "nbformat": 4,
 "nbformat_minor": 5
}
