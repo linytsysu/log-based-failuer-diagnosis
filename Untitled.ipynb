{
 "cells": [
  {
   "cell_type": "code",
   "execution_count": 1,
   "id": "77cd7cb0",
   "metadata": {},
   "outputs": [],
   "source": [
    "import pandas as pd\n",
    "import numpy as np\n",
    "from tqdm import tqdm"
   ]
  },
  {
   "cell_type": "code",
   "execution_count": 2,
   "id": "22b4ca84",
   "metadata": {},
   "outputs": [],
   "source": [
    "label1 = pd.read_csv('./data/preliminary_train_label_dataset.csv')\n",
    "label2 = pd.read_csv('./data/preliminary_train_label_dataset_s.csv')\n",
    "label_df = pd.concat([label1, label2]).reset_index(drop=True)"
   ]
  },
  {
   "cell_type": "code",
   "execution_count": 3,
   "id": "4bdbab24",
   "metadata": {},
   "outputs": [],
   "source": [
    "label_df = label_df.drop_duplicates().reset_index(drop=True)"
   ]
  },
  {
   "cell_type": "code",
   "execution_count": 4,
   "id": "ff034366",
   "metadata": {},
   "outputs": [],
   "source": [
    "log_df = pd.read_csv('new_log.csv')"
   ]
  },
  {
   "cell_type": "code",
   "execution_count": 5,
   "id": "72a58440",
   "metadata": {},
   "outputs": [
    {
     "data": {
      "text/html": [
       "<div>\n",
       "<style scoped>\n",
       "    .dataframe tbody tr th:only-of-type {\n",
       "        vertical-align: middle;\n",
       "    }\n",
       "\n",
       "    .dataframe tbody tr th {\n",
       "        vertical-align: top;\n",
       "    }\n",
       "\n",
       "    .dataframe thead th {\n",
       "        text-align: right;\n",
       "    }\n",
       "</style>\n",
       "<table border=\"1\" class=\"dataframe\">\n",
       "  <thead>\n",
       "    <tr style=\"text-align: right;\">\n",
       "      <th></th>\n",
       "      <th>sn</th>\n",
       "      <th>time</th>\n",
       "      <th>msg</th>\n",
       "      <th>server_model</th>\n",
       "      <th>msg_lower</th>\n",
       "      <th>msg_id</th>\n",
       "    </tr>\n",
       "  </thead>\n",
       "  <tbody>\n",
       "    <tr>\n",
       "      <th>0</th>\n",
       "      <td>SERVER_25698</td>\n",
       "      <td>2020-10-09 08:32:21</td>\n",
       "      <td>System Boot Initiated BIOS_Boot_Up | State As...</td>\n",
       "      <td>SM0</td>\n",
       "      <td>system boot initiated bios_boot_up | state ass...</td>\n",
       "      <td>0</td>\n",
       "    </tr>\n",
       "    <tr>\n",
       "      <th>1</th>\n",
       "      <td>SERVER_25698</td>\n",
       "      <td>2020-10-09 07:43:48</td>\n",
       "      <td>System Boot Initiated BIOS_Boot_Up | State As...</td>\n",
       "      <td>SM0</td>\n",
       "      <td>system boot initiated bios_boot_up | state ass...</td>\n",
       "      <td>0</td>\n",
       "    </tr>\n",
       "    <tr>\n",
       "      <th>2</th>\n",
       "      <td>SERVER_25698</td>\n",
       "      <td>2020-10-09 08:16:22</td>\n",
       "      <td>System Boot Initiated BIOS_Boot_Up | State As...</td>\n",
       "      <td>SM0</td>\n",
       "      <td>system boot initiated bios_boot_up | state ass...</td>\n",
       "      <td>0</td>\n",
       "    </tr>\n",
       "    <tr>\n",
       "      <th>3</th>\n",
       "      <td>SERVER_25698</td>\n",
       "      <td>2020-10-09 05:46:41</td>\n",
       "      <td>System Boot Initiated BIOS_Boot_Up | State As...</td>\n",
       "      <td>SM0</td>\n",
       "      <td>system boot initiated bios_boot_up | state ass...</td>\n",
       "      <td>0</td>\n",
       "    </tr>\n",
       "    <tr>\n",
       "      <th>4</th>\n",
       "      <td>SERVER_25698</td>\n",
       "      <td>2020-10-09 12:59:13</td>\n",
       "      <td>System Boot Initiated BIOS_Boot_Up | State As...</td>\n",
       "      <td>SM0</td>\n",
       "      <td>system boot initiated bios_boot_up | state ass...</td>\n",
       "      <td>0</td>\n",
       "    </tr>\n",
       "  </tbody>\n",
       "</table>\n",
       "</div>"
      ],
      "text/plain": [
       "             sn                 time  \\\n",
       "0  SERVER_25698  2020-10-09 08:32:21   \n",
       "1  SERVER_25698  2020-10-09 07:43:48   \n",
       "2  SERVER_25698  2020-10-09 08:16:22   \n",
       "3  SERVER_25698  2020-10-09 05:46:41   \n",
       "4  SERVER_25698  2020-10-09 12:59:13   \n",
       "\n",
       "                                                 msg server_model  \\\n",
       "0   System Boot Initiated BIOS_Boot_Up | State As...          SM0   \n",
       "1   System Boot Initiated BIOS_Boot_Up | State As...          SM0   \n",
       "2   System Boot Initiated BIOS_Boot_Up | State As...          SM0   \n",
       "3   System Boot Initiated BIOS_Boot_Up | State As...          SM0   \n",
       "4   System Boot Initiated BIOS_Boot_Up | State As...          SM0   \n",
       "\n",
       "                                           msg_lower  msg_id  \n",
       "0  system boot initiated bios_boot_up | state ass...       0  \n",
       "1  system boot initiated bios_boot_up | state ass...       0  \n",
       "2  system boot initiated bios_boot_up | state ass...       0  \n",
       "3  system boot initiated bios_boot_up | state ass...       0  \n",
       "4  system boot initiated bios_boot_up | state ass...       0  "
      ]
     },
     "execution_count": 5,
     "metadata": {},
     "output_type": "execute_result"
    }
   ],
   "source": [
    "log_df.head()"
   ]
  },
  {
   "cell_type": "code",
   "execution_count": 5,
   "id": "9a007c3a",
   "metadata": {},
   "outputs": [],
   "source": [
    "label_df['fault_time'] = pd.to_datetime(label_df['fault_time'])\n",
    "log_df['time'] = pd.to_datetime(log_df['time'])"
   ]
  },
  {
   "cell_type": "code",
   "execution_count": 7,
   "id": "580faef7",
   "metadata": {},
   "outputs": [
    {
     "data": {
      "text/plain": [
       "(1121,)"
      ]
     },
     "execution_count": 7,
     "metadata": {},
     "output_type": "execute_result"
    }
   ],
   "source": [
    "log_df['msg_id'].unique().shape"
   ]
  },
  {
   "cell_type": "code",
   "execution_count": 6,
   "id": "0e0944f5",
   "metadata": {},
   "outputs": [
    {
     "name": "stderr",
     "output_type": "stream",
     "text": [
      " 20%|█████████████████████▌                                                                                       | 3289/16604 [01:38<06:40, 33.26it/s]\n"
     ]
    },
    {
     "ename": "KeyboardInterrupt",
     "evalue": "",
     "output_type": "error",
     "traceback": [
      "\u001b[0;31m---------------------------------------------------------------------------\u001b[0m",
      "\u001b[0;31mKeyboardInterrupt\u001b[0m                         Traceback (most recent call last)",
      "\u001b[0;32m/tmp/ipykernel_1251/484386647.py\u001b[0m in \u001b[0;36m<module>\u001b[0;34m\u001b[0m\n\u001b[1;32m      4\u001b[0m     \u001b[0msn\u001b[0m \u001b[0;34m=\u001b[0m \u001b[0mrow\u001b[0m\u001b[0;34m[\u001b[0m\u001b[0;34m'sn'\u001b[0m\u001b[0;34m]\u001b[0m\u001b[0;34m\u001b[0m\u001b[0;34m\u001b[0m\u001b[0m\n\u001b[1;32m      5\u001b[0m     \u001b[0mfault_time\u001b[0m \u001b[0;34m=\u001b[0m \u001b[0mrow\u001b[0m\u001b[0;34m[\u001b[0m\u001b[0;34m'fault_time'\u001b[0m\u001b[0;34m]\u001b[0m\u001b[0;34m\u001b[0m\u001b[0;34m\u001b[0m\u001b[0m\n\u001b[0;32m----> 6\u001b[0;31m     \u001b[0mtmp\u001b[0m \u001b[0;34m=\u001b[0m \u001b[0mlog_df\u001b[0m\u001b[0;34m[\u001b[0m\u001b[0mlog_df\u001b[0m\u001b[0;34m[\u001b[0m\u001b[0;34m'sn'\u001b[0m\u001b[0;34m]\u001b[0m \u001b[0;34m==\u001b[0m \u001b[0msn\u001b[0m\u001b[0;34m]\u001b[0m\u001b[0;34m\u001b[0m\u001b[0;34m\u001b[0m\u001b[0m\n\u001b[0m\u001b[1;32m      7\u001b[0m     \u001b[0mtmp\u001b[0m \u001b[0;34m=\u001b[0m \u001b[0mtmp\u001b[0m\u001b[0;34m[\u001b[0m\u001b[0;34m(\u001b[0m\u001b[0mtmp\u001b[0m\u001b[0;34m[\u001b[0m\u001b[0;34m'time'\u001b[0m\u001b[0;34m]\u001b[0m \u001b[0;34m<=\u001b[0m \u001b[0mfault_time\u001b[0m\u001b[0;34m)\u001b[0m\u001b[0;34m]\u001b[0m\u001b[0;34m.\u001b[0m\u001b[0mtail\u001b[0m\u001b[0;34m(\u001b[0m\u001b[0;36m40\u001b[0m\u001b[0;34m)\u001b[0m\u001b[0;34m.\u001b[0m\u001b[0msort_values\u001b[0m\u001b[0;34m(\u001b[0m\u001b[0mby\u001b[0m\u001b[0;34m=\u001b[0m\u001b[0;34m'time'\u001b[0m\u001b[0;34m,\u001b[0m \u001b[0mascending\u001b[0m\u001b[0;34m=\u001b[0m\u001b[0;32mFalse\u001b[0m\u001b[0;34m)\u001b[0m\u001b[0;34m\u001b[0m\u001b[0;34m\u001b[0m\u001b[0m\n\u001b[1;32m      8\u001b[0m     \u001b[0mdata\u001b[0m\u001b[0;34m.\u001b[0m\u001b[0mappend\u001b[0m\u001b[0;34m(\u001b[0m\u001b[0mnp\u001b[0m\u001b[0;34m.\u001b[0m\u001b[0munique\u001b[0m\u001b[0;34m(\u001b[0m\u001b[0mtmp\u001b[0m\u001b[0;34m[\u001b[0m\u001b[0;34m'msg_id'\u001b[0m\u001b[0;34m]\u001b[0m\u001b[0;34m.\u001b[0m\u001b[0mvalues\u001b[0m\u001b[0;34m.\u001b[0m\u001b[0mtolist\u001b[0m\u001b[0;34m(\u001b[0m\u001b[0;34m)\u001b[0m\u001b[0;34m)\u001b[0m\u001b[0;34m)\u001b[0m\u001b[0;34m\u001b[0m\u001b[0;34m\u001b[0m\u001b[0m\n",
      "\u001b[0;32m/data/projects/log-based-failuer-diagnosis/env/lib/python3.7/site-packages/pandas/core/ops/common.py\u001b[0m in \u001b[0;36mnew_method\u001b[0;34m(self, other)\u001b[0m\n\u001b[1;32m     67\u001b[0m         \u001b[0mother\u001b[0m \u001b[0;34m=\u001b[0m \u001b[0mitem_from_zerodim\u001b[0m\u001b[0;34m(\u001b[0m\u001b[0mother\u001b[0m\u001b[0;34m)\u001b[0m\u001b[0;34m\u001b[0m\u001b[0;34m\u001b[0m\u001b[0m\n\u001b[1;32m     68\u001b[0m \u001b[0;34m\u001b[0m\u001b[0m\n\u001b[0;32m---> 69\u001b[0;31m         \u001b[0;32mreturn\u001b[0m \u001b[0mmethod\u001b[0m\u001b[0;34m(\u001b[0m\u001b[0mself\u001b[0m\u001b[0;34m,\u001b[0m \u001b[0mother\u001b[0m\u001b[0;34m)\u001b[0m\u001b[0;34m\u001b[0m\u001b[0;34m\u001b[0m\u001b[0m\n\u001b[0m\u001b[1;32m     70\u001b[0m \u001b[0;34m\u001b[0m\u001b[0m\n\u001b[1;32m     71\u001b[0m     \u001b[0;32mreturn\u001b[0m \u001b[0mnew_method\u001b[0m\u001b[0;34m\u001b[0m\u001b[0;34m\u001b[0m\u001b[0m\n",
      "\u001b[0;32m/data/projects/log-based-failuer-diagnosis/env/lib/python3.7/site-packages/pandas/core/arraylike.py\u001b[0m in \u001b[0;36m__eq__\u001b[0;34m(self, other)\u001b[0m\n\u001b[1;32m     30\u001b[0m     \u001b[0;34m@\u001b[0m\u001b[0munpack_zerodim_and_defer\u001b[0m\u001b[0;34m(\u001b[0m\u001b[0;34m\"__eq__\"\u001b[0m\u001b[0;34m)\u001b[0m\u001b[0;34m\u001b[0m\u001b[0;34m\u001b[0m\u001b[0m\n\u001b[1;32m     31\u001b[0m     \u001b[0;32mdef\u001b[0m \u001b[0m__eq__\u001b[0m\u001b[0;34m(\u001b[0m\u001b[0mself\u001b[0m\u001b[0;34m,\u001b[0m \u001b[0mother\u001b[0m\u001b[0;34m)\u001b[0m\u001b[0;34m:\u001b[0m\u001b[0;34m\u001b[0m\u001b[0;34m\u001b[0m\u001b[0m\n\u001b[0;32m---> 32\u001b[0;31m         \u001b[0;32mreturn\u001b[0m \u001b[0mself\u001b[0m\u001b[0;34m.\u001b[0m\u001b[0m_cmp_method\u001b[0m\u001b[0;34m(\u001b[0m\u001b[0mother\u001b[0m\u001b[0;34m,\u001b[0m \u001b[0moperator\u001b[0m\u001b[0;34m.\u001b[0m\u001b[0meq\u001b[0m\u001b[0;34m)\u001b[0m\u001b[0;34m\u001b[0m\u001b[0;34m\u001b[0m\u001b[0m\n\u001b[0m\u001b[1;32m     33\u001b[0m \u001b[0;34m\u001b[0m\u001b[0m\n\u001b[1;32m     34\u001b[0m     \u001b[0;34m@\u001b[0m\u001b[0munpack_zerodim_and_defer\u001b[0m\u001b[0;34m(\u001b[0m\u001b[0;34m\"__ne__\"\u001b[0m\u001b[0;34m)\u001b[0m\u001b[0;34m\u001b[0m\u001b[0;34m\u001b[0m\u001b[0m\n",
      "\u001b[0;32m/data/projects/log-based-failuer-diagnosis/env/lib/python3.7/site-packages/pandas/core/series.py\u001b[0m in \u001b[0;36m_cmp_method\u001b[0;34m(self, other, op)\u001b[0m\n\u001b[1;32m   5500\u001b[0m \u001b[0;34m\u001b[0m\u001b[0m\n\u001b[1;32m   5501\u001b[0m         \u001b[0;32mwith\u001b[0m \u001b[0mnp\u001b[0m\u001b[0;34m.\u001b[0m\u001b[0merrstate\u001b[0m\u001b[0;34m(\u001b[0m\u001b[0mall\u001b[0m\u001b[0;34m=\u001b[0m\u001b[0;34m\"ignore\"\u001b[0m\u001b[0;34m)\u001b[0m\u001b[0;34m:\u001b[0m\u001b[0;34m\u001b[0m\u001b[0;34m\u001b[0m\u001b[0m\n\u001b[0;32m-> 5502\u001b[0;31m             \u001b[0mres_values\u001b[0m \u001b[0;34m=\u001b[0m \u001b[0mops\u001b[0m\u001b[0;34m.\u001b[0m\u001b[0mcomparison_op\u001b[0m\u001b[0;34m(\u001b[0m\u001b[0mlvalues\u001b[0m\u001b[0;34m,\u001b[0m \u001b[0mrvalues\u001b[0m\u001b[0;34m,\u001b[0m \u001b[0mop\u001b[0m\u001b[0;34m)\u001b[0m\u001b[0;34m\u001b[0m\u001b[0;34m\u001b[0m\u001b[0m\n\u001b[0m\u001b[1;32m   5503\u001b[0m \u001b[0;34m\u001b[0m\u001b[0m\n\u001b[1;32m   5504\u001b[0m         \u001b[0;32mreturn\u001b[0m \u001b[0mself\u001b[0m\u001b[0;34m.\u001b[0m\u001b[0m_construct_result\u001b[0m\u001b[0;34m(\u001b[0m\u001b[0mres_values\u001b[0m\u001b[0;34m,\u001b[0m \u001b[0mname\u001b[0m\u001b[0;34m=\u001b[0m\u001b[0mres_name\u001b[0m\u001b[0;34m)\u001b[0m\u001b[0;34m\u001b[0m\u001b[0;34m\u001b[0m\u001b[0m\n",
      "\u001b[0;32m/data/projects/log-based-failuer-diagnosis/env/lib/python3.7/site-packages/pandas/core/ops/array_ops.py\u001b[0m in \u001b[0;36mcomparison_op\u001b[0;34m(left, right, op)\u001b[0m\n\u001b[1;32m    282\u001b[0m \u001b[0;34m\u001b[0m\u001b[0m\n\u001b[1;32m    283\u001b[0m     \u001b[0;32melif\u001b[0m \u001b[0mis_object_dtype\u001b[0m\u001b[0;34m(\u001b[0m\u001b[0mlvalues\u001b[0m\u001b[0;34m.\u001b[0m\u001b[0mdtype\u001b[0m\u001b[0;34m)\u001b[0m \u001b[0;32mor\u001b[0m \u001b[0misinstance\u001b[0m\u001b[0;34m(\u001b[0m\u001b[0mrvalues\u001b[0m\u001b[0;34m,\u001b[0m \u001b[0mstr\u001b[0m\u001b[0;34m)\u001b[0m\u001b[0;34m:\u001b[0m\u001b[0;34m\u001b[0m\u001b[0;34m\u001b[0m\u001b[0m\n\u001b[0;32m--> 284\u001b[0;31m         \u001b[0mres_values\u001b[0m \u001b[0;34m=\u001b[0m \u001b[0mcomp_method_OBJECT_ARRAY\u001b[0m\u001b[0;34m(\u001b[0m\u001b[0mop\u001b[0m\u001b[0;34m,\u001b[0m \u001b[0mlvalues\u001b[0m\u001b[0;34m,\u001b[0m \u001b[0mrvalues\u001b[0m\u001b[0;34m)\u001b[0m\u001b[0;34m\u001b[0m\u001b[0;34m\u001b[0m\u001b[0m\n\u001b[0m\u001b[1;32m    285\u001b[0m \u001b[0;34m\u001b[0m\u001b[0m\n\u001b[1;32m    286\u001b[0m     \u001b[0;32melse\u001b[0m\u001b[0;34m:\u001b[0m\u001b[0;34m\u001b[0m\u001b[0;34m\u001b[0m\u001b[0m\n",
      "\u001b[0;32m/data/projects/log-based-failuer-diagnosis/env/lib/python3.7/site-packages/pandas/core/ops/array_ops.py\u001b[0m in \u001b[0;36mcomp_method_OBJECT_ARRAY\u001b[0;34m(op, x, y)\u001b[0m\n\u001b[1;32m     71\u001b[0m         \u001b[0mresult\u001b[0m \u001b[0;34m=\u001b[0m \u001b[0mlibops\u001b[0m\u001b[0;34m.\u001b[0m\u001b[0mvec_compare\u001b[0m\u001b[0;34m(\u001b[0m\u001b[0mx\u001b[0m\u001b[0;34m.\u001b[0m\u001b[0mravel\u001b[0m\u001b[0;34m(\u001b[0m\u001b[0;34m)\u001b[0m\u001b[0;34m,\u001b[0m \u001b[0my\u001b[0m\u001b[0;34m.\u001b[0m\u001b[0mravel\u001b[0m\u001b[0;34m(\u001b[0m\u001b[0;34m)\u001b[0m\u001b[0;34m,\u001b[0m \u001b[0mop\u001b[0m\u001b[0;34m)\u001b[0m\u001b[0;34m\u001b[0m\u001b[0;34m\u001b[0m\u001b[0m\n\u001b[1;32m     72\u001b[0m     \u001b[0;32melse\u001b[0m\u001b[0;34m:\u001b[0m\u001b[0;34m\u001b[0m\u001b[0;34m\u001b[0m\u001b[0m\n\u001b[0;32m---> 73\u001b[0;31m         \u001b[0mresult\u001b[0m \u001b[0;34m=\u001b[0m \u001b[0mlibops\u001b[0m\u001b[0;34m.\u001b[0m\u001b[0mscalar_compare\u001b[0m\u001b[0;34m(\u001b[0m\u001b[0mx\u001b[0m\u001b[0;34m.\u001b[0m\u001b[0mravel\u001b[0m\u001b[0;34m(\u001b[0m\u001b[0;34m)\u001b[0m\u001b[0;34m,\u001b[0m \u001b[0my\u001b[0m\u001b[0;34m,\u001b[0m \u001b[0mop\u001b[0m\u001b[0;34m)\u001b[0m\u001b[0;34m\u001b[0m\u001b[0;34m\u001b[0m\u001b[0m\n\u001b[0m\u001b[1;32m     74\u001b[0m     \u001b[0;32mreturn\u001b[0m \u001b[0mresult\u001b[0m\u001b[0;34m.\u001b[0m\u001b[0mreshape\u001b[0m\u001b[0;34m(\u001b[0m\u001b[0mx\u001b[0m\u001b[0;34m.\u001b[0m\u001b[0mshape\u001b[0m\u001b[0;34m)\u001b[0m\u001b[0;34m\u001b[0m\u001b[0;34m\u001b[0m\u001b[0m\n\u001b[1;32m     75\u001b[0m \u001b[0;34m\u001b[0m\u001b[0m\n",
      "\u001b[0;31mKeyboardInterrupt\u001b[0m: "
     ]
    }
   ],
   "source": [
    "data = []\n",
    "for i in tqdm(range(label_df.shape[0])):\n",
    "    row = label_df.iloc[i]\n",
    "    sn = row['sn']\n",
    "    fault_time = row['fault_time']\n",
    "    tmp = log_df[log_df['sn'] == sn]\n",
    "    tmp = tmp[(tmp['time'] <= fault_time)].tail(40).sort_values(by='time', ascending=False)\n",
    "    data.append(np.unique(tmp['msg_id'].values.tolist()))"
   ]
  },
  {
   "cell_type": "code",
   "execution_count": null,
   "id": "3deadf5d",
   "metadata": {},
   "outputs": [],
   "source": [
    "len(label_df), len(data)"
   ]
  },
  {
   "cell_type": "code",
   "execution_count": null,
   "id": "8d3a3d8b",
   "metadata": {},
   "outputs": [],
   "source": [
    "label_df['msg_ids'] = data"
   ]
  },
  {
   "cell_type": "code",
   "execution_count": null,
   "id": "52e29e17",
   "metadata": {},
   "outputs": [],
   "source": [
    "label_cnt_df = label_df.groupby('label').size().reset_index().rename({0:'label_cnt'},axis=1)"
   ]
  },
  {
   "cell_type": "code",
   "execution_count": null,
   "id": "80c116be",
   "metadata": {},
   "outputs": [],
   "source": [
    "label_cnt_df.values[0][1]"
   ]
  },
  {
   "cell_type": "code",
   "execution_count": null,
   "id": "c529cc58",
   "metadata": {},
   "outputs": [],
   "source": [
    "from collections import Counter\n",
    "\n",
    "counters = []\n",
    "for label, group in label_df.groupby('label'):\n",
    "    token2count = Counter()\n",
    "    for i in range(group.shape[0]):\n",
    "        token2count.update(group.iloc[i]['msg_ids'])\n",
    "    counters.append(token2count)"
   ]
  },
  {
   "cell_type": "code",
   "execution_count": 14,
   "id": "8e0687cb",
   "metadata": {},
   "outputs": [
    {
     "name": "stderr",
     "output_type": "stream",
     "text": [
      "100%|██████████████████████████████████████████████████████████████████████████████████████████████████████████| 16604/16604 [00:06<00:00, 2703.61it/s]\n"
     ]
    }
   ],
   "source": [
    "tr_data = []\n",
    "for i in tqdm(range(label_df.shape[0])):\n",
    "    tr_data.append([])\n",
    "    row = label_df.iloc[i]\n",
    "    templates = row['msg_ids']\n",
    "    for label in range(4):\n",
    "        probas = [(counters[label][tid] / label_cnt_df.values[label][1]) for tid in templates]\n",
    "        if len(probas) > 0:\n",
    "            tr_data[-1] += [np.mean(probas), np.sum(probas), np.max(probas)]\n",
    "        if len(probas) == 0:\n",
    "            tr_data[-1] += [0, 0, 0]"
   ]
  },
  {
   "cell_type": "code",
   "execution_count": 15,
   "id": "13fb2411",
   "metadata": {},
   "outputs": [],
   "source": [
    "tr_proba_df = pd.DataFrame(tr_data)"
   ]
  },
  {
   "cell_type": "code",
   "execution_count": 19,
   "id": "e4e577c8",
   "metadata": {},
   "outputs": [],
   "source": [
    "columns = ['mean_proba_0', 'sum_proba_0', 'max_proba_0',\n",
    "           'mean_proba_1', 'sum_proba_1', 'max_proba_1',\n",
    "           'mean_proba_2', 'sum_proba_2', 'max_proba_2',\n",
    "           'mean_proba_3', 'sum_proba_3', 'max_proba_3']"
   ]
  },
  {
   "cell_type": "code",
   "execution_count": 20,
   "id": "8a58301e",
   "metadata": {},
   "outputs": [],
   "source": [
    "submit_df = pd.read_csv('./data/preliminary_submit_dataset_a.csv')"
   ]
  },
  {
   "cell_type": "code",
   "execution_count": 22,
   "id": "1951b3cd",
   "metadata": {},
   "outputs": [
    {
     "name": "stderr",
     "output_type": "stream",
     "text": [
      "100%|██████████████████████████████████████████████████████████████████████████████████████████████████████████████| 3011/3011 [01:31<00:00, 33.07it/s]\n"
     ]
    }
   ],
   "source": [
    "submit_df['fault_time'] = pd.to_datetime(submit_df['fault_time'])\n",
    "data = []\n",
    "for i in tqdm(range(submit_df.shape[0])):\n",
    "    row = submit_df.iloc[i]\n",
    "    sn = row['sn']\n",
    "    fault_time = row['fault_time']\n",
    "    tmp = log_df[log_df['sn'] == sn]\n",
    "    tmp = tmp[(tmp['time'] <= fault_time)].tail(40).sort_values(by='time', ascending=False)\n",
    "    data.append(np.unique(tmp['msg_id'].values.tolist()))"
   ]
  },
  {
   "cell_type": "code",
   "execution_count": 23,
   "id": "ded7d2cf",
   "metadata": {},
   "outputs": [],
   "source": [
    "submit_df['msg_ids'] = data"
   ]
  },
  {
   "cell_type": "code",
   "execution_count": 25,
   "id": "32ce6ad8",
   "metadata": {},
   "outputs": [
    {
     "name": "stderr",
     "output_type": "stream",
     "text": [
      "100%|████████████████████████████████████████████████████████████████████████████████████████████████████████████| 3011/3011 [00:00<00:00, 3075.07it/s]\n"
     ]
    }
   ],
   "source": [
    "te_data = []\n",
    "for i in tqdm(range(submit_df.shape[0])):\n",
    "    te_data.append([])\n",
    "    row = submit_df.iloc[i]\n",
    "    templates = row['msg_ids']\n",
    "    for label in range(4):\n",
    "        probas = [(counters[label][tid] / label_cnt_df.values[label][1]) for tid in templates]\n",
    "        if len(probas) > 0:\n",
    "            te_data[-1] += [np.mean(probas), np.sum(probas), np.max(probas)]\n",
    "        if len(probas) == 0:\n",
    "            te_data[-1] += [0, 0, 0]"
   ]
  },
  {
   "cell_type": "code",
   "execution_count": 26,
   "id": "67a637bb",
   "metadata": {},
   "outputs": [],
   "source": [
    "te_proba_df = pd.DataFrame(te_data)"
   ]
  },
  {
   "cell_type": "code",
   "execution_count": 27,
   "id": "043384af",
   "metadata": {},
   "outputs": [],
   "source": [
    "tr_proba_df.columns = columns"
   ]
  },
  {
   "cell_type": "code",
   "execution_count": 28,
   "id": "d3f1bcba",
   "metadata": {},
   "outputs": [],
   "source": [
    "te_proba_df.columns = columns"
   ]
  },
  {
   "cell_type": "code",
   "execution_count": 29,
   "id": "db247fe8",
   "metadata": {},
   "outputs": [
    {
     "data": {
      "text/plain": [
       "((16604, 12), (3011, 12))"
      ]
     },
     "execution_count": 29,
     "metadata": {},
     "output_type": "execute_result"
    }
   ],
   "source": [
    "tr_proba_df.shape, te_proba_df.shape"
   ]
  },
  {
   "cell_type": "code",
   "execution_count": 30,
   "id": "12ec80d4",
   "metadata": {},
   "outputs": [],
   "source": [
    "tr_proba_df.to_csv('tr_proba_df.csv', index=False)"
   ]
  },
  {
   "cell_type": "code",
   "execution_count": 31,
   "id": "f295d912",
   "metadata": {},
   "outputs": [],
   "source": [
    "te_proba_df.to_csv('te_proba_df.csv', index=False)"
   ]
  },
  {
   "cell_type": "code",
   "execution_count": 32,
   "id": "f43dcb07",
   "metadata": {
    "scrolled": true
   },
   "outputs": [
    {
     "data": {
      "text/html": [
       "<div>\n",
       "<style scoped>\n",
       "    .dataframe tbody tr th:only-of-type {\n",
       "        vertical-align: middle;\n",
       "    }\n",
       "\n",
       "    .dataframe tbody tr th {\n",
       "        vertical-align: top;\n",
       "    }\n",
       "\n",
       "    .dataframe thead th {\n",
       "        text-align: right;\n",
       "    }\n",
       "</style>\n",
       "<table border=\"1\" class=\"dataframe\">\n",
       "  <thead>\n",
       "    <tr style=\"text-align: right;\">\n",
       "      <th></th>\n",
       "      <th>mean_proba_0</th>\n",
       "      <th>sum_proba_0</th>\n",
       "      <th>max_proba_0</th>\n",
       "      <th>mean_proba_1</th>\n",
       "      <th>sum_proba_1</th>\n",
       "      <th>max_proba_1</th>\n",
       "      <th>mean_proba_2</th>\n",
       "      <th>sum_proba_2</th>\n",
       "      <th>max_proba_2</th>\n",
       "      <th>mean_proba_3</th>\n",
       "      <th>sum_proba_3</th>\n",
       "      <th>max_proba_3</th>\n",
       "    </tr>\n",
       "  </thead>\n",
       "  <tbody>\n",
       "    <tr>\n",
       "      <th>0</th>\n",
       "      <td>0.271341</td>\n",
       "      <td>0.542683</td>\n",
       "      <td>0.281165</td>\n",
       "      <td>0.277975</td>\n",
       "      <td>0.555949</td>\n",
       "      <td>0.347505</td>\n",
       "      <td>0.118830</td>\n",
       "      <td>0.237661</td>\n",
       "      <td>0.127361</td>\n",
       "      <td>0.147460</td>\n",
       "      <td>0.294919</td>\n",
       "      <td>0.177613</td>\n",
       "    </tr>\n",
       "    <tr>\n",
       "      <th>1</th>\n",
       "      <td>0.085874</td>\n",
       "      <td>0.343496</td>\n",
       "      <td>0.261518</td>\n",
       "      <td>0.055728</td>\n",
       "      <td>0.222911</td>\n",
       "      <td>0.208444</td>\n",
       "      <td>0.035810</td>\n",
       "      <td>0.143240</td>\n",
       "      <td>0.110300</td>\n",
       "      <td>0.030979</td>\n",
       "      <td>0.123916</td>\n",
       "      <td>0.117307</td>\n",
       "    </tr>\n",
       "    <tr>\n",
       "      <th>2</th>\n",
       "      <td>0.002033</td>\n",
       "      <td>0.002033</td>\n",
       "      <td>0.002033</td>\n",
       "      <td>0.001181</td>\n",
       "      <td>0.001181</td>\n",
       "      <td>0.001181</td>\n",
       "      <td>0.000429</td>\n",
       "      <td>0.000429</td>\n",
       "      <td>0.000429</td>\n",
       "      <td>0.103676</td>\n",
       "      <td>0.103676</td>\n",
       "      <td>0.103676</td>\n",
       "    </tr>\n",
       "    <tr>\n",
       "      <th>3</th>\n",
       "      <td>0.161382</td>\n",
       "      <td>0.806911</td>\n",
       "      <td>0.333333</td>\n",
       "      <td>0.171007</td>\n",
       "      <td>0.855034</td>\n",
       "      <td>0.397107</td>\n",
       "      <td>0.109034</td>\n",
       "      <td>0.545172</td>\n",
       "      <td>0.291845</td>\n",
       "      <td>0.114911</td>\n",
       "      <td>0.574556</td>\n",
       "      <td>0.257745</td>\n",
       "    </tr>\n",
       "    <tr>\n",
       "      <th>4</th>\n",
       "      <td>0.000790</td>\n",
       "      <td>0.004743</td>\n",
       "      <td>0.001355</td>\n",
       "      <td>0.007135</td>\n",
       "      <td>0.042811</td>\n",
       "      <td>0.012105</td>\n",
       "      <td>0.052593</td>\n",
       "      <td>0.315558</td>\n",
       "      <td>0.072961</td>\n",
       "      <td>0.037588</td>\n",
       "      <td>0.225527</td>\n",
       "      <td>0.068980</td>\n",
       "    </tr>\n",
       "    <tr>\n",
       "      <th>...</th>\n",
       "      <td>...</td>\n",
       "      <td>...</td>\n",
       "      <td>...</td>\n",
       "      <td>...</td>\n",
       "      <td>...</td>\n",
       "      <td>...</td>\n",
       "      <td>...</td>\n",
       "      <td>...</td>\n",
       "      <td>...</td>\n",
       "      <td>...</td>\n",
       "      <td>...</td>\n",
       "      <td>...</td>\n",
       "    </tr>\n",
       "    <tr>\n",
       "      <th>3006</th>\n",
       "      <td>0.003388</td>\n",
       "      <td>0.003388</td>\n",
       "      <td>0.003388</td>\n",
       "      <td>0.006495</td>\n",
       "      <td>0.006495</td>\n",
       "      <td>0.006495</td>\n",
       "      <td>0.016202</td>\n",
       "      <td>0.016202</td>\n",
       "      <td>0.016202</td>\n",
       "      <td>0.000413</td>\n",
       "      <td>0.000413</td>\n",
       "      <td>0.000413</td>\n",
       "    </tr>\n",
       "    <tr>\n",
       "      <th>3007</th>\n",
       "      <td>0.073171</td>\n",
       "      <td>0.073171</td>\n",
       "      <td>0.073171</td>\n",
       "      <td>0.044287</td>\n",
       "      <td>0.044287</td>\n",
       "      <td>0.044287</td>\n",
       "      <td>0.291845</td>\n",
       "      <td>0.291845</td>\n",
       "      <td>0.291845</td>\n",
       "      <td>0.016109</td>\n",
       "      <td>0.016109</td>\n",
       "      <td>0.016109</td>\n",
       "    </tr>\n",
       "    <tr>\n",
       "      <th>3008</th>\n",
       "      <td>0.193428</td>\n",
       "      <td>0.386856</td>\n",
       "      <td>0.333333</td>\n",
       "      <td>0.207411</td>\n",
       "      <td>0.414821</td>\n",
       "      <td>0.397107</td>\n",
       "      <td>0.067865</td>\n",
       "      <td>0.135730</td>\n",
       "      <td>0.101180</td>\n",
       "      <td>0.146840</td>\n",
       "      <td>0.293680</td>\n",
       "      <td>0.231309</td>\n",
       "    </tr>\n",
       "    <tr>\n",
       "      <th>3009</th>\n",
       "      <td>0.073171</td>\n",
       "      <td>0.073171</td>\n",
       "      <td>0.073171</td>\n",
       "      <td>0.044287</td>\n",
       "      <td>0.044287</td>\n",
       "      <td>0.044287</td>\n",
       "      <td>0.291845</td>\n",
       "      <td>0.291845</td>\n",
       "      <td>0.291845</td>\n",
       "      <td>0.016109</td>\n",
       "      <td>0.016109</td>\n",
       "      <td>0.016109</td>\n",
       "    </tr>\n",
       "    <tr>\n",
       "      <th>3010</th>\n",
       "      <td>0.113008</td>\n",
       "      <td>1.695122</td>\n",
       "      <td>0.333333</td>\n",
       "      <td>0.153784</td>\n",
       "      <td>2.306761</td>\n",
       "      <td>0.397107</td>\n",
       "      <td>0.052818</td>\n",
       "      <td>0.792275</td>\n",
       "      <td>0.175966</td>\n",
       "      <td>0.070660</td>\n",
       "      <td>1.059893</td>\n",
       "      <td>0.257745</td>\n",
       "    </tr>\n",
       "  </tbody>\n",
       "</table>\n",
       "<p>3011 rows × 12 columns</p>\n",
       "</div>"
      ],
      "text/plain": [
       "      mean_proba_0  sum_proba_0  max_proba_0  mean_proba_1  sum_proba_1  \\\n",
       "0         0.271341     0.542683     0.281165      0.277975     0.555949   \n",
       "1         0.085874     0.343496     0.261518      0.055728     0.222911   \n",
       "2         0.002033     0.002033     0.002033      0.001181     0.001181   \n",
       "3         0.161382     0.806911     0.333333      0.171007     0.855034   \n",
       "4         0.000790     0.004743     0.001355      0.007135     0.042811   \n",
       "...            ...          ...          ...           ...          ...   \n",
       "3006      0.003388     0.003388     0.003388      0.006495     0.006495   \n",
       "3007      0.073171     0.073171     0.073171      0.044287     0.044287   \n",
       "3008      0.193428     0.386856     0.333333      0.207411     0.414821   \n",
       "3009      0.073171     0.073171     0.073171      0.044287     0.044287   \n",
       "3010      0.113008     1.695122     0.333333      0.153784     2.306761   \n",
       "\n",
       "      max_proba_1  mean_proba_2  sum_proba_2  max_proba_2  mean_proba_3  \\\n",
       "0        0.347505      0.118830     0.237661     0.127361      0.147460   \n",
       "1        0.208444      0.035810     0.143240     0.110300      0.030979   \n",
       "2        0.001181      0.000429     0.000429     0.000429      0.103676   \n",
       "3        0.397107      0.109034     0.545172     0.291845      0.114911   \n",
       "4        0.012105      0.052593     0.315558     0.072961      0.037588   \n",
       "...           ...           ...          ...          ...           ...   \n",
       "3006     0.006495      0.016202     0.016202     0.016202      0.000413   \n",
       "3007     0.044287      0.291845     0.291845     0.291845      0.016109   \n",
       "3008     0.397107      0.067865     0.135730     0.101180      0.146840   \n",
       "3009     0.044287      0.291845     0.291845     0.291845      0.016109   \n",
       "3010     0.397107      0.052818     0.792275     0.175966      0.070660   \n",
       "\n",
       "      sum_proba_3  max_proba_3  \n",
       "0        0.294919     0.177613  \n",
       "1        0.123916     0.117307  \n",
       "2        0.103676     0.103676  \n",
       "3        0.574556     0.257745  \n",
       "4        0.225527     0.068980  \n",
       "...           ...          ...  \n",
       "3006     0.000413     0.000413  \n",
       "3007     0.016109     0.016109  \n",
       "3008     0.293680     0.231309  \n",
       "3009     0.016109     0.016109  \n",
       "3010     1.059893     0.257745  \n",
       "\n",
       "[3011 rows x 12 columns]"
      ]
     },
     "execution_count": 32,
     "metadata": {},
     "output_type": "execute_result"
    }
   ],
   "source": [
    "te_proba_df"
   ]
  },
  {
   "cell_type": "code",
   "execution_count": null,
   "id": "7b141042",
   "metadata": {},
   "outputs": [],
   "source": []
  },
  {
   "cell_type": "code",
   "execution_count": 11,
   "id": "382a7f57",
   "metadata": {},
   "outputs": [],
   "source": [
    "label_df = pd.concat([label1, label2]).reset_index(drop=True)\n",
    "label_df = label_df.drop_duplicates().reset_index(drop=True)"
   ]
  },
  {
   "cell_type": "code",
   "execution_count": 12,
   "id": "08727249",
   "metadata": {},
   "outputs": [
    {
     "data": {
      "text/html": [
       "<div>\n",
       "<style scoped>\n",
       "    .dataframe tbody tr th:only-of-type {\n",
       "        vertical-align: middle;\n",
       "    }\n",
       "\n",
       "    .dataframe tbody tr th {\n",
       "        vertical-align: top;\n",
       "    }\n",
       "\n",
       "    .dataframe thead th {\n",
       "        text-align: right;\n",
       "    }\n",
       "</style>\n",
       "<table border=\"1\" class=\"dataframe\">\n",
       "  <thead>\n",
       "    <tr style=\"text-align: right;\">\n",
       "      <th></th>\n",
       "      <th>sn</th>\n",
       "      <th>fault_time</th>\n",
       "      <th>label</th>\n",
       "    </tr>\n",
       "  </thead>\n",
       "  <tbody>\n",
       "    <tr>\n",
       "      <th>0</th>\n",
       "      <td>SERVER_25698</td>\n",
       "      <td>2020-10-09 13:43:00</td>\n",
       "      <td>0</td>\n",
       "    </tr>\n",
       "    <tr>\n",
       "      <th>1</th>\n",
       "      <td>SERVER_25699</td>\n",
       "      <td>2020-08-25 18:50:00</td>\n",
       "      <td>0</td>\n",
       "    </tr>\n",
       "    <tr>\n",
       "      <th>2</th>\n",
       "      <td>SERVER_25712</td>\n",
       "      <td>2020-03-16 13:20:00</td>\n",
       "      <td>0</td>\n",
       "    </tr>\n",
       "    <tr>\n",
       "      <th>3</th>\n",
       "      <td>SERVER_25708</td>\n",
       "      <td>2020-07-25 12:44:00</td>\n",
       "      <td>0</td>\n",
       "    </tr>\n",
       "    <tr>\n",
       "      <th>4</th>\n",
       "      <td>SERVER_25711</td>\n",
       "      <td>2020-03-16 16:51:00</td>\n",
       "      <td>0</td>\n",
       "    </tr>\n",
       "  </tbody>\n",
       "</table>\n",
       "</div>"
      ],
      "text/plain": [
       "             sn           fault_time  label\n",
       "0  SERVER_25698  2020-10-09 13:43:00      0\n",
       "1  SERVER_25699  2020-08-25 18:50:00      0\n",
       "2  SERVER_25712  2020-03-16 13:20:00      0\n",
       "3  SERVER_25708  2020-07-25 12:44:00      0\n",
       "4  SERVER_25711  2020-03-16 16:51:00      0"
      ]
     },
     "execution_count": 12,
     "metadata": {},
     "output_type": "execute_result"
    }
   ],
   "source": [
    "label_df.head()"
   ]
  },
  {
   "cell_type": "code",
   "execution_count": 13,
   "id": "f586550c",
   "metadata": {},
   "outputs": [],
   "source": [
    "tr_proba_df = pd.read_csv('tr_proba_df.csv')\n",
    "tr_proba_df['sn'] = label_df['sn']\n",
    "tr_proba_df['fault_time'] = label_df['fault_time']\n",
    "tr_proba_df['label'] = label_df['label']"
   ]
  },
  {
   "cell_type": "code",
   "execution_count": 14,
   "id": "711c08f9",
   "metadata": {},
   "outputs": [],
   "source": [
    "submit_df = pd.read_csv('./data/preliminary_submit_dataset_a.csv')"
   ]
  },
  {
   "cell_type": "code",
   "execution_count": 15,
   "id": "dba86224",
   "metadata": {},
   "outputs": [],
   "source": [
    "te_proba_df = pd.read_csv('te_proba_df.csv')\n",
    "te_proba_df['sn'] = submit_df['sn']\n",
    "te_proba_df['fault_time'] = submit_df['fault_time']"
   ]
  },
  {
   "cell_type": "code",
   "execution_count": 17,
   "id": "e11c2293",
   "metadata": {},
   "outputs": [],
   "source": [
    "tr_proba_df.to_csv('./src/tr_proba_df.csv', index=False)\n",
    "te_proba_df.to_csv('./src/te_proba_df.csv', index=False)"
   ]
  },
  {
   "cell_type": "code",
   "execution_count": null,
   "id": "a4d0e2a3",
   "metadata": {},
   "outputs": [],
   "source": []
  }
 ],
 "metadata": {
  "kernelspec": {
   "display_name": "Python 3 (ipykernel)",
   "language": "python",
   "name": "python3"
  },
  "language_info": {
   "codemirror_mode": {
    "name": "ipython",
    "version": 3
   },
   "file_extension": ".py",
   "mimetype": "text/x-python",
   "name": "python",
   "nbconvert_exporter": "python",
   "pygments_lexer": "ipython3",
   "version": "3.7.8"
  }
 },
 "nbformat": 4,
 "nbformat_minor": 5
}
