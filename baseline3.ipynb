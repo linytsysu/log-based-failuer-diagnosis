{
 "cells": [
  {
   "cell_type": "code",
   "execution_count": 1,
   "id": "8a1e81f5",
   "metadata": {},
   "outputs": [],
   "source": [
    "import gc\n",
    "import numpy as np\n",
    "import pandas as pd\n",
    "from gensim.models.word2vec import Word2Vec\n",
    "from sklearn.feature_extraction.text import TfidfVectorizer\n",
    "from sklearn.decomposition import TruncatedSVD\n",
    "from sklearn.metrics import f1_score, accuracy_score\n",
    "from sklearn.model_selection import KFold, GroupKFold, StratifiedKFold\n",
    "from sklearn.utils.class_weight import compute_class_weight\n",
    "from catboost import CatBoostClassifier\n",
    "import lightgbm as lgb\n",
    "from tqdm import tqdm"
   ]
  },
  {
   "cell_type": "code",
   "execution_count": 2,
   "id": "dacd9dfb",
   "metadata": {},
   "outputs": [],
   "source": [
    "label1 = pd.read_csv('./data/preliminary_train_label_dataset.csv')\n",
    "label2 = pd.read_csv('./data/preliminary_train_label_dataset_s.csv')\n",
    "label_df = pd.concat([label1, label2]).reset_index(drop=True)"
   ]
  },
  {
   "cell_type": "code",
   "execution_count": 3,
   "id": "87c0b334",
   "metadata": {},
   "outputs": [],
   "source": [
    "# train_log_df = pd.read_csv('./data/preliminary_sel_log_dataset.csv')\n",
    "# test_log_df = pd.read_csv('./data/preliminary_sel_log_dataset_a.csv')\n",
    "\n",
    "# log_df = pd.concat([train_log_df, test_log_df]).reset_index(drop=True)\n",
    "log_df = pd.read_csv('./log_template_new.csv')"
   ]
  },
  {
   "cell_type": "code",
   "execution_count": 4,
   "id": "51804e61",
   "metadata": {},
   "outputs": [
    {
     "data": {
      "text/html": [
       "<div>\n",
       "<style scoped>\n",
       "    .dataframe tbody tr th:only-of-type {\n",
       "        vertical-align: middle;\n",
       "    }\n",
       "\n",
       "    .dataframe tbody tr th {\n",
       "        vertical-align: top;\n",
       "    }\n",
       "\n",
       "    .dataframe thead th {\n",
       "        text-align: right;\n",
       "    }\n",
       "</style>\n",
       "<table border=\"1\" class=\"dataframe\">\n",
       "  <thead>\n",
       "    <tr style=\"text-align: right;\">\n",
       "      <th></th>\n",
       "      <th>sn</th>\n",
       "      <th>time</th>\n",
       "      <th>msg</th>\n",
       "      <th>server_model</th>\n",
       "      <th>new_msg</th>\n",
       "      <th>template_id</th>\n",
       "      <th>template</th>\n",
       "    </tr>\n",
       "  </thead>\n",
       "  <tbody>\n",
       "    <tr>\n",
       "      <th>0</th>\n",
       "      <td>SERVER_25698</td>\n",
       "      <td>2020-10-09 08:32:21</td>\n",
       "      <td>System Boot Initiated BIOS_Boot_Up | State As...</td>\n",
       "      <td>SM0</td>\n",
       "      <td>system boot initiated bios boot up | state ass...</td>\n",
       "      <td>1</td>\n",
       "      <td>system boot initiated &lt;:*:&gt; &lt;:*:&gt; &lt;:*:&gt; &lt;:*:&gt; ...</td>\n",
       "    </tr>\n",
       "    <tr>\n",
       "      <th>1</th>\n",
       "      <td>SERVER_25698</td>\n",
       "      <td>2020-10-09 07:43:48</td>\n",
       "      <td>System Boot Initiated BIOS_Boot_Up | State As...</td>\n",
       "      <td>SM0</td>\n",
       "      <td>system boot initiated bios boot up | state ass...</td>\n",
       "      <td>1</td>\n",
       "      <td>system boot initiated &lt;:*:&gt; &lt;:*:&gt; &lt;:*:&gt; &lt;:*:&gt; ...</td>\n",
       "    </tr>\n",
       "    <tr>\n",
       "      <th>2</th>\n",
       "      <td>SERVER_25698</td>\n",
       "      <td>2020-10-09 08:16:22</td>\n",
       "      <td>System Boot Initiated BIOS_Boot_Up | State As...</td>\n",
       "      <td>SM0</td>\n",
       "      <td>system boot initiated bios boot up | state ass...</td>\n",
       "      <td>1</td>\n",
       "      <td>system boot initiated &lt;:*:&gt; &lt;:*:&gt; &lt;:*:&gt; &lt;:*:&gt; ...</td>\n",
       "    </tr>\n",
       "    <tr>\n",
       "      <th>3</th>\n",
       "      <td>SERVER_25698</td>\n",
       "      <td>2020-10-09 05:46:41</td>\n",
       "      <td>System Boot Initiated BIOS_Boot_Up | State As...</td>\n",
       "      <td>SM0</td>\n",
       "      <td>system boot initiated bios boot up | state ass...</td>\n",
       "      <td>1</td>\n",
       "      <td>system boot initiated &lt;:*:&gt; &lt;:*:&gt; &lt;:*:&gt; &lt;:*:&gt; ...</td>\n",
       "    </tr>\n",
       "    <tr>\n",
       "      <th>4</th>\n",
       "      <td>SERVER_25698</td>\n",
       "      <td>2020-10-09 12:59:13</td>\n",
       "      <td>System Boot Initiated BIOS_Boot_Up | State As...</td>\n",
       "      <td>SM0</td>\n",
       "      <td>system boot initiated bios boot up | state ass...</td>\n",
       "      <td>1</td>\n",
       "      <td>system boot initiated &lt;:*:&gt; &lt;:*:&gt; &lt;:*:&gt; &lt;:*:&gt; ...</td>\n",
       "    </tr>\n",
       "  </tbody>\n",
       "</table>\n",
       "</div>"
      ],
      "text/plain": [
       "             sn                 time  \\\n",
       "0  SERVER_25698  2020-10-09 08:32:21   \n",
       "1  SERVER_25698  2020-10-09 07:43:48   \n",
       "2  SERVER_25698  2020-10-09 08:16:22   \n",
       "3  SERVER_25698  2020-10-09 05:46:41   \n",
       "4  SERVER_25698  2020-10-09 12:59:13   \n",
       "\n",
       "                                                 msg server_model  \\\n",
       "0   System Boot Initiated BIOS_Boot_Up | State As...          SM0   \n",
       "1   System Boot Initiated BIOS_Boot_Up | State As...          SM0   \n",
       "2   System Boot Initiated BIOS_Boot_Up | State As...          SM0   \n",
       "3   System Boot Initiated BIOS_Boot_Up | State As...          SM0   \n",
       "4   System Boot Initiated BIOS_Boot_Up | State As...          SM0   \n",
       "\n",
       "                                             new_msg  template_id  \\\n",
       "0  system boot initiated bios boot up | state ass...            1   \n",
       "1  system boot initiated bios boot up | state ass...            1   \n",
       "2  system boot initiated bios boot up | state ass...            1   \n",
       "3  system boot initiated bios boot up | state ass...            1   \n",
       "4  system boot initiated bios boot up | state ass...            1   \n",
       "\n",
       "                                            template  \n",
       "0  system boot initiated <:*:> <:*:> <:*:> <:*:> ...  \n",
       "1  system boot initiated <:*:> <:*:> <:*:> <:*:> ...  \n",
       "2  system boot initiated <:*:> <:*:> <:*:> <:*:> ...  \n",
       "3  system boot initiated <:*:> <:*:> <:*:> <:*:> ...  \n",
       "4  system boot initiated <:*:> <:*:> <:*:> <:*:> ...  "
      ]
     },
     "execution_count": 4,
     "metadata": {},
     "output_type": "execute_result"
    }
   ],
   "source": [
    "log_df.head()"
   ]
  },
  {
   "cell_type": "code",
   "execution_count": 5,
   "id": "056ba214",
   "metadata": {},
   "outputs": [],
   "source": [
    "submit_df = pd.read_csv('./data/preliminary_submit_dataset_a.csv')"
   ]
  },
  {
   "cell_type": "code",
   "execution_count": 6,
   "id": "2a8eb492",
   "metadata": {},
   "outputs": [
    {
     "data": {
      "text/plain": [
       "((493527, 7), (16669, 3), (3011, 2))"
      ]
     },
     "execution_count": 6,
     "metadata": {},
     "output_type": "execute_result"
    }
   ],
   "source": [
    "log_df.shape, label_df.shape, submit_df.shape"
   ]
  },
  {
   "cell_type": "code",
   "execution_count": 7,
   "id": "d65c2df8",
   "metadata": {},
   "outputs": [],
   "source": [
    "label_df = label_df.drop_duplicates().reset_index(drop=True)"
   ]
  },
  {
   "cell_type": "code",
   "execution_count": 8,
   "id": "a248cb58",
   "metadata": {},
   "outputs": [],
   "source": [
    "log_df['time'] = pd.to_datetime(log_df['time'])\n",
    "log_df.sort_values(by=['sn', 'time'], inplace=True)\n",
    "log_df.reset_index(drop=True, inplace=True)"
   ]
  },
  {
   "cell_type": "code",
   "execution_count": 9,
   "id": "013d287e",
   "metadata": {},
   "outputs": [],
   "source": [
    "label_df['fault_time'] = pd.to_datetime(label_df['fault_time'])\n",
    "label_df.sort_values(by=['sn', 'fault_time'], inplace=True)\n",
    "label_df.reset_index(drop=True, inplace=True)"
   ]
  },
  {
   "cell_type": "code",
   "execution_count": 10,
   "id": "9bd2fed3",
   "metadata": {},
   "outputs": [],
   "source": [
    "submit_df['fault_time'] = pd.to_datetime(submit_df['fault_time'])"
   ]
  },
  {
   "cell_type": "code",
   "execution_count": 11,
   "id": "67b7f826",
   "metadata": {},
   "outputs": [
    {
     "data": {
      "text/plain": [
       "((493527, 7), (16604, 3), (3011, 2))"
      ]
     },
     "execution_count": 11,
     "metadata": {},
     "output_type": "execute_result"
    }
   ],
   "source": [
    "log_df.shape, label_df.shape, submit_df.shape"
   ]
  },
  {
   "cell_type": "code",
   "execution_count": 15,
   "id": "76ad10ad",
   "metadata": {},
   "outputs": [],
   "source": [
    "tmp = log_df.groupby(['sn'], as_index=False)['new_msg'].agg(list)\n",
    "tmp['text'] = tmp['new_msg'].apply(lambda x: (\"\\n\".join([i for i in x])).lower())\n",
    "sentences_list = tmp['text'].values.tolist()\n",
    "\n",
    "sentences = list()\n",
    "for s in sentences_list:\n",
    "    sentences.append([w for w in s.split()])"
   ]
  },
  {
   "cell_type": "code",
   "execution_count": 16,
   "id": "e5de8ddc",
   "metadata": {},
   "outputs": [],
   "source": [
    "w2v_model = Word2Vec(sentences, vector_size=32, window=3, min_count=5, sg=0, hs=1, seed=2022)"
   ]
  },
  {
   "cell_type": "code",
   "execution_count": 17,
   "id": "4ed2a69a",
   "metadata": {},
   "outputs": [],
   "source": [
    "def get_w2v_mean(sentences):\n",
    "    emb_matrix = list()\n",
    "    vec = list()\n",
    "    for w in sentences.split():\n",
    "        if w in w2v_model.wv:\n",
    "            vec.append(w2v_model.wv[w])\n",
    "    if len(vec) > 0:\n",
    "        emb_matrix.append(np.mean(vec, axis=0))\n",
    "    else:\n",
    "        emb_matrix.append([0] * model.vector_size)\n",
    "    return emb_matrix"
   ]
  },
  {
   "cell_type": "code",
   "execution_count": 18,
   "id": "76db3941",
   "metadata": {
    "scrolled": true
   },
   "outputs": [
    {
     "data": {
      "text/plain": [
       "TfidfVectorizer(max_features=50000, min_df=5, ngram_range=(1, 3))"
      ]
     },
     "execution_count": 18,
     "metadata": {},
     "output_type": "execute_result"
    }
   ],
   "source": [
    "X = list(tmp['text'].values)\n",
    "tfv = TfidfVectorizer(ngram_range=(1,3), min_df=5, max_features=50000)\n",
    "tfv.fit(X)"
   ]
  },
  {
   "cell_type": "code",
   "execution_count": 19,
   "id": "8ee9f288",
   "metadata": {},
   "outputs": [
    {
     "data": {
      "text/plain": [
       "TruncatedSVD(n_components=16)"
      ]
     },
     "execution_count": 19,
     "metadata": {},
     "output_type": "execute_result"
    }
   ],
   "source": [
    "X_tfidf = tfv.transform(X)\n",
    "svd = TruncatedSVD(n_components=16)\n",
    "svd.fit(X_tfidf)"
   ]
  },
  {
   "cell_type": "code",
   "execution_count": 20,
   "id": "fc2028a1",
   "metadata": {},
   "outputs": [],
   "source": [
    "def get_tfidf_svd(sentences, n_components=16):\n",
    "    X_tfidf = tfv.transform(sentences)\n",
    "    X_svd = svd.transform(X_tfidf)\n",
    "    return np.mean(X_svd, axis=0)"
   ]
  },
  {
   "cell_type": "code",
   "execution_count": 21,
   "id": "a0a4122f",
   "metadata": {},
   "outputs": [],
   "source": [
    "log_df['time_ts'] = log_df[\"time\"].values.astype(np.int64) // 10 ** 9\n",
    "label_df['fault_time_ts'] = label_df[\"fault_time\"].values.astype(np.int64) // 10 ** 9"
   ]
  },
  {
   "cell_type": "code",
   "execution_count": 27,
   "id": "f15293b6",
   "metadata": {},
   "outputs": [],
   "source": [
    "cate_map = {\n",
    "    'system': 0,\n",
    "    'processor': 1,\n",
    "    'memory': 2,\n",
    "    'cable': 3,\n",
    "    'add-in': 4,\n",
    "    'button': 5,\n",
    "    'power': 6,\n",
    "    'drive': 7,\n",
    "    'battery': 8,\n",
    "    'physical': 9,\n",
    "    'slot': 10,\n",
    "    'management': 11,\n",
    "    'microcontroller': 12,\n",
    "    'terminator': 13,\n",
    "    'event': 14,\n",
    "    'temperature': 15,\n",
    "    'boot': 16,\n",
    "    'unknown': 17,\n",
    "    'critical': 18,\n",
    "    'os': 19,\n",
    "    'chip': 20,\n",
    "    'fan': 21,\n",
    "    'session': 22,\n",
    "    'oem': 23,\n",
    "    'watchdog': 24,\n",
    "    'device': 25,\n",
    "    'watchdog2': 26,\n",
    "    '<:HEX:>': 27,\n",
    "    'reserved': 28,\n",
    "    'version': 29,\n",
    "    'lan': 30,\n",
    "    'request': 31,\n",
    "    'chassis': 32\n",
    "}"
   ]
  },
  {
   "cell_type": "code",
   "execution_count": 28,
   "id": "b95fbe55",
   "metadata": {},
   "outputs": [],
   "source": [
    "def safe_split(strs, n, sep='|'):\n",
    "    str_li = strs.split(sep)\n",
    "    if len(str_li) >= n + 1:\n",
    "        return str_li[n]\n",
    "    else:\n",
    "        return ''\n",
    "\n",
    "log_df['msg_split_0'] = log_df['template'].apply(lambda x: safe_split(x, 0))\n",
    "log_df['msg_split_1'] = log_df['template'].apply(lambda x: safe_split(x, 1))\n",
    "log_df['msg_split_2'] = log_df['template'].apply(lambda x: safe_split(x, 2))\n",
    "\n",
    "log_df['category'] = log_df['template'].apply(lambda x: x.split()[0])"
   ]
  },
  {
   "cell_type": "code",
   "execution_count": 29,
   "id": "9da13f35",
   "metadata": {},
   "outputs": [],
   "source": [
    "def make_dataset(dataset, data_type='train'):\n",
    "    ret = list()\n",
    "\n",
    "    for idx, row in tqdm(dataset.iterrows()):\n",
    "        sn = row['sn']\n",
    "        fault_time = row['fault_time']\n",
    "        ts = row['fault_time_ts']\n",
    "        \n",
    "        if data_type == 'train':\n",
    "            label = row['label']\n",
    "\n",
    "        df = log_df[log_df['sn'] == sn].copy()\n",
    "\n",
    "        df = df[df['time_ts'] <= ts].copy()\n",
    "        df = df.sort_values(by='time_ts').reset_index(drop=True)\n",
    "        df = df.tail(50).copy()        # TODO: could change last 40 logs here\n",
    "\n",
    "        # make some features\n",
    "\n",
    "        logs_count = len(df)\n",
    "\n",
    "        if logs_count > 0:\n",
    "            msg_nunique = df['template'].nunique()\n",
    "            msg_category_nunique = df['category'].nunique()\n",
    "            msg_split_0_nunique = df['msg_split_0'].nunique()\n",
    "            msg_split_1_nunique = df['msg_split_1'].nunique()\n",
    "            msg_split_2_nunique = df['msg_split_2'].nunique()\n",
    "            last_category = df['category'].value_counts().index[0]\n",
    "            last_category = cate_map[last_category] if last_category in cate_map else len(cate_map)\n",
    "\n",
    "            s = df['time_ts'].values\n",
    "            if len(s) > 0:\n",
    "                seconds_span = s[-1] - s[0] \n",
    "            else:\n",
    "                seconds_span = 0\n",
    "\n",
    "            df['time_ts_shift_1'] = df['time_ts'].shift(1)\n",
    "            df['time_ts_diffs_1'] = df['time_ts'] - df['time_ts_shift_1']\n",
    "            s = df['time_ts_diffs_1'].values\n",
    "            if len(s) > 1:\n",
    "                log_time_diffs_avg = np.mean(s[1:])\n",
    "                log_time_diffs_max = np.max(s[1:])\n",
    "                log_time_diffs_min = np.min(s[1:])\n",
    "                log_time_diffs_std = np.std(s[1:])\n",
    "            else:\n",
    "                try:\n",
    "                    log_time_diffs_avg = log_time_diffs_max = log_time_diffs_min = s[0]\n",
    "                    log_time_diffs_std = 0\n",
    "                except:\n",
    "                    log_time_diffs_avg = log_time_diffs_max = log_time_diffs_min = log_time_diffs_std = 0\n",
    "\n",
    "            all_msg = \"\\n\".join(df['new_msg'].values.tolist()).lower()\n",
    "            w2v_emb = get_w2v_mean(all_msg)[0]\n",
    "            tfv_emb = get_tfidf_svd([s.lower() for s in df['new_msg'].values.tolist()])\n",
    "\n",
    "        else:\n",
    "            logs_count = 0\n",
    "            msg_nunique = 0\n",
    "            msg_category_nunique = 0\n",
    "            msg_split_0_nunique = 0\n",
    "            msg_split_1_nunique = 0\n",
    "            msg_split_2_nunique = 0\n",
    "            last_category = 0\n",
    "            seconds_span = 0\n",
    "            log_time_diffs_avg = 0\n",
    "            log_time_diffs_max = 0\n",
    "            log_time_diffs_min = 0\n",
    "            log_time_diffs_std = 0\n",
    "            w2v_emb = [0] * 32\n",
    "            tfv_emb = [0] * 16\n",
    "\n",
    "\n",
    "        # format dataset\n",
    "        data = {\n",
    "            'sn': sn,\n",
    "            'fault_time': fault_time,\n",
    "            'logs_count': logs_count,\n",
    "            'msg_nunique': msg_nunique,\n",
    "            'msg_category_nunique': msg_category_nunique,\n",
    "            'msg_split_0_nunique': msg_split_0_nunique,\n",
    "            'msg_split_1_nunique': msg_split_1_nunique,\n",
    "            'msg_split_2_nunique': msg_split_2_nunique,\n",
    "            'last_category': last_category,\n",
    "            'seconds_span': seconds_span,\n",
    "            'log_time_diffs_avg': log_time_diffs_avg,\n",
    "            'log_time_diffs_max': log_time_diffs_max,\n",
    "            'log_time_diffs_min': log_time_diffs_min,\n",
    "            'log_time_diffs_std': log_time_diffs_std,\n",
    "        }\n",
    "\n",
    "        for i in range(32):\n",
    "            data[f'msg_w2v_{i}'] = w2v_emb[i]\n",
    "        for i in range(16):\n",
    "            data[f'msg_tfv_{i}'] = tfv_emb[i]\n",
    "            \n",
    "        if data_type == 'train':\n",
    "            data['label'] = label\n",
    "\n",
    "        ret.append(data)\n",
    "        \n",
    "    return ret"
   ]
  },
  {
   "cell_type": "code",
   "execution_count": 30,
   "id": "70b65df8",
   "metadata": {},
   "outputs": [
    {
     "name": "stderr",
     "output_type": "stream",
     "text": [
      "16604it [09:07, 30.34it/s]\n"
     ]
    }
   ],
   "source": [
    "train = make_dataset(label_df, data_type='train')\n",
    "df_train = pd.DataFrame(train)"
   ]
  },
  {
   "cell_type": "code",
   "execution_count": 31,
   "id": "0a7bb852",
   "metadata": {},
   "outputs": [
    {
     "name": "stderr",
     "output_type": "stream",
     "text": [
      "3011it [01:40, 29.91it/s]\n"
     ]
    }
   ],
   "source": [
    "submit_df['fault_time_ts'] = submit_df[\"fault_time\"].values.astype(np.int64) // 10 ** 9\n",
    "test = make_dataset(submit_df, data_type='test')\n",
    "df_test = pd.DataFrame(test)"
   ]
  },
  {
   "cell_type": "code",
   "execution_count": 32,
   "id": "2f65ccc3",
   "metadata": {},
   "outputs": [
    {
     "data": {
      "text/plain": [
       "((16604, 4), (16604, 63), (3011, 3), (3011, 62))"
      ]
     },
     "execution_count": 32,
     "metadata": {},
     "output_type": "execute_result"
    }
   ],
   "source": [
    "label_df.shape, df_train.shape, submit_df.shape, df_test.shape"
   ]
  },
  {
   "cell_type": "code",
   "execution_count": 33,
   "id": "88afd585",
   "metadata": {},
   "outputs": [
    {
     "data": {
      "text/html": [
       "<div>\n",
       "<style scoped>\n",
       "    .dataframe tbody tr th:only-of-type {\n",
       "        vertical-align: middle;\n",
       "    }\n",
       "\n",
       "    .dataframe tbody tr th {\n",
       "        vertical-align: top;\n",
       "    }\n",
       "\n",
       "    .dataframe thead th {\n",
       "        text-align: right;\n",
       "    }\n",
       "</style>\n",
       "<table border=\"1\" class=\"dataframe\">\n",
       "  <thead>\n",
       "    <tr style=\"text-align: right;\">\n",
       "      <th></th>\n",
       "      <th>sn</th>\n",
       "      <th>fault_time</th>\n",
       "      <th>logs_count</th>\n",
       "      <th>msg_nunique</th>\n",
       "      <th>msg_category_nunique</th>\n",
       "      <th>msg_split_0_nunique</th>\n",
       "      <th>msg_split_1_nunique</th>\n",
       "      <th>msg_split_2_nunique</th>\n",
       "      <th>last_category</th>\n",
       "      <th>seconds_span</th>\n",
       "      <th>...</th>\n",
       "      <th>msg_tfv_7</th>\n",
       "      <th>msg_tfv_8</th>\n",
       "      <th>msg_tfv_9</th>\n",
       "      <th>msg_tfv_10</th>\n",
       "      <th>msg_tfv_11</th>\n",
       "      <th>msg_tfv_12</th>\n",
       "      <th>msg_tfv_13</th>\n",
       "      <th>msg_tfv_14</th>\n",
       "      <th>msg_tfv_15</th>\n",
       "      <th>label</th>\n",
       "    </tr>\n",
       "  </thead>\n",
       "  <tbody>\n",
       "    <tr>\n",
       "      <th>0</th>\n",
       "      <td>SERVER_10001</td>\n",
       "      <td>2020-05-01 10:04:00</td>\n",
       "      <td>9</td>\n",
       "      <td>4</td>\n",
       "      <td>3</td>\n",
       "      <td>4</td>\n",
       "      <td>1</td>\n",
       "      <td>1</td>\n",
       "      <td>1</td>\n",
       "      <td>660</td>\n",
       "      <td>...</td>\n",
       "      <td>-0.098684</td>\n",
       "      <td>-0.155633</td>\n",
       "      <td>-0.089223</td>\n",
       "      <td>0.168824</td>\n",
       "      <td>-0.068493</td>\n",
       "      <td>0.185579</td>\n",
       "      <td>-0.050645</td>\n",
       "      <td>0.011340</td>\n",
       "      <td>-0.007487</td>\n",
       "      <td>1</td>\n",
       "    </tr>\n",
       "    <tr>\n",
       "      <th>1</th>\n",
       "      <td>SERVER_10003</td>\n",
       "      <td>2020-03-28 09:48:00</td>\n",
       "      <td>50</td>\n",
       "      <td>1</td>\n",
       "      <td>1</td>\n",
       "      <td>1</td>\n",
       "      <td>1</td>\n",
       "      <td>1</td>\n",
       "      <td>2</td>\n",
       "      <td>72</td>\n",
       "      <td>...</td>\n",
       "      <td>0.009596</td>\n",
       "      <td>0.038074</td>\n",
       "      <td>-0.054012</td>\n",
       "      <td>-0.005263</td>\n",
       "      <td>-0.038151</td>\n",
       "      <td>0.067867</td>\n",
       "      <td>-0.011294</td>\n",
       "      <td>0.007414</td>\n",
       "      <td>0.052355</td>\n",
       "      <td>2</td>\n",
       "    </tr>\n",
       "    <tr>\n",
       "      <th>2</th>\n",
       "      <td>SERVER_10008</td>\n",
       "      <td>2020-02-25 16:12:00</td>\n",
       "      <td>5</td>\n",
       "      <td>3</td>\n",
       "      <td>2</td>\n",
       "      <td>3</td>\n",
       "      <td>1</td>\n",
       "      <td>1</td>\n",
       "      <td>1</td>\n",
       "      <td>38</td>\n",
       "      <td>...</td>\n",
       "      <td>-0.046816</td>\n",
       "      <td>-0.096398</td>\n",
       "      <td>0.044391</td>\n",
       "      <td>0.002898</td>\n",
       "      <td>-0.025588</td>\n",
       "      <td>-0.070060</td>\n",
       "      <td>-0.010874</td>\n",
       "      <td>-0.007836</td>\n",
       "      <td>-0.124227</td>\n",
       "      <td>1</td>\n",
       "    </tr>\n",
       "    <tr>\n",
       "      <th>3</th>\n",
       "      <td>SERVER_10008</td>\n",
       "      <td>2020-03-11 18:04:00</td>\n",
       "      <td>9</td>\n",
       "      <td>4</td>\n",
       "      <td>3</td>\n",
       "      <td>4</td>\n",
       "      <td>1</td>\n",
       "      <td>1</td>\n",
       "      <td>1</td>\n",
       "      <td>1299319</td>\n",
       "      <td>...</td>\n",
       "      <td>-0.016333</td>\n",
       "      <td>-0.104602</td>\n",
       "      <td>0.025963</td>\n",
       "      <td>0.013769</td>\n",
       "      <td>-0.012813</td>\n",
       "      <td>-0.052424</td>\n",
       "      <td>-0.001034</td>\n",
       "      <td>-0.007312</td>\n",
       "      <td>-0.054490</td>\n",
       "      <td>2</td>\n",
       "    </tr>\n",
       "    <tr>\n",
       "      <th>4</th>\n",
       "      <td>SERVER_10009</td>\n",
       "      <td>2020-05-08 16:37:00</td>\n",
       "      <td>4</td>\n",
       "      <td>2</td>\n",
       "      <td>1</td>\n",
       "      <td>2</td>\n",
       "      <td>1</td>\n",
       "      <td>1</td>\n",
       "      <td>7</td>\n",
       "      <td>21</td>\n",
       "      <td>...</td>\n",
       "      <td>-0.014400</td>\n",
       "      <td>-0.031011</td>\n",
       "      <td>0.056183</td>\n",
       "      <td>-0.007552</td>\n",
       "      <td>0.035564</td>\n",
       "      <td>0.000809</td>\n",
       "      <td>0.083856</td>\n",
       "      <td>0.560552</td>\n",
       "      <td>-0.027072</td>\n",
       "      <td>3</td>\n",
       "    </tr>\n",
       "  </tbody>\n",
       "</table>\n",
       "<p>5 rows × 63 columns</p>\n",
       "</div>"
      ],
      "text/plain": [
       "             sn          fault_time  logs_count  msg_nunique  \\\n",
       "0  SERVER_10001 2020-05-01 10:04:00           9            4   \n",
       "1  SERVER_10003 2020-03-28 09:48:00          50            1   \n",
       "2  SERVER_10008 2020-02-25 16:12:00           5            3   \n",
       "3  SERVER_10008 2020-03-11 18:04:00           9            4   \n",
       "4  SERVER_10009 2020-05-08 16:37:00           4            2   \n",
       "\n",
       "   msg_category_nunique  msg_split_0_nunique  msg_split_1_nunique  \\\n",
       "0                     3                    4                    1   \n",
       "1                     1                    1                    1   \n",
       "2                     2                    3                    1   \n",
       "3                     3                    4                    1   \n",
       "4                     1                    2                    1   \n",
       "\n",
       "   msg_split_2_nunique  last_category  seconds_span  ...  msg_tfv_7  \\\n",
       "0                    1              1           660  ...  -0.098684   \n",
       "1                    1              2            72  ...   0.009596   \n",
       "2                    1              1            38  ...  -0.046816   \n",
       "3                    1              1       1299319  ...  -0.016333   \n",
       "4                    1              7            21  ...  -0.014400   \n",
       "\n",
       "   msg_tfv_8  msg_tfv_9  msg_tfv_10  msg_tfv_11  msg_tfv_12  msg_tfv_13  \\\n",
       "0  -0.155633  -0.089223    0.168824   -0.068493    0.185579   -0.050645   \n",
       "1   0.038074  -0.054012   -0.005263   -0.038151    0.067867   -0.011294   \n",
       "2  -0.096398   0.044391    0.002898   -0.025588   -0.070060   -0.010874   \n",
       "3  -0.104602   0.025963    0.013769   -0.012813   -0.052424   -0.001034   \n",
       "4  -0.031011   0.056183   -0.007552    0.035564    0.000809    0.083856   \n",
       "\n",
       "   msg_tfv_14  msg_tfv_15  label  \n",
       "0    0.011340   -0.007487      1  \n",
       "1    0.007414    0.052355      2  \n",
       "2   -0.007836   -0.124227      1  \n",
       "3   -0.007312   -0.054490      2  \n",
       "4    0.560552   -0.027072      3  \n",
       "\n",
       "[5 rows x 63 columns]"
      ]
     },
     "execution_count": 33,
     "metadata": {},
     "output_type": "execute_result"
    }
   ],
   "source": [
    "df_train.head()"
   ]
  },
  {
   "cell_type": "code",
   "execution_count": 34,
   "id": "d02e8475",
   "metadata": {},
   "outputs": [
    {
     "data": {
      "text/html": [
       "<div>\n",
       "<style scoped>\n",
       "    .dataframe tbody tr th:only-of-type {\n",
       "        vertical-align: middle;\n",
       "    }\n",
       "\n",
       "    .dataframe tbody tr th {\n",
       "        vertical-align: top;\n",
       "    }\n",
       "\n",
       "    .dataframe thead th {\n",
       "        text-align: right;\n",
       "    }\n",
       "</style>\n",
       "<table border=\"1\" class=\"dataframe\">\n",
       "  <thead>\n",
       "    <tr style=\"text-align: right;\">\n",
       "      <th></th>\n",
       "      <th>sn</th>\n",
       "      <th>fault_time</th>\n",
       "      <th>logs_count</th>\n",
       "      <th>msg_nunique</th>\n",
       "      <th>msg_category_nunique</th>\n",
       "      <th>msg_split_0_nunique</th>\n",
       "      <th>msg_split_1_nunique</th>\n",
       "      <th>msg_split_2_nunique</th>\n",
       "      <th>last_category</th>\n",
       "      <th>seconds_span</th>\n",
       "      <th>...</th>\n",
       "      <th>msg_tfv_6</th>\n",
       "      <th>msg_tfv_7</th>\n",
       "      <th>msg_tfv_8</th>\n",
       "      <th>msg_tfv_9</th>\n",
       "      <th>msg_tfv_10</th>\n",
       "      <th>msg_tfv_11</th>\n",
       "      <th>msg_tfv_12</th>\n",
       "      <th>msg_tfv_13</th>\n",
       "      <th>msg_tfv_14</th>\n",
       "      <th>msg_tfv_15</th>\n",
       "    </tr>\n",
       "  </thead>\n",
       "  <tbody>\n",
       "    <tr>\n",
       "      <th>0</th>\n",
       "      <td>000d33b21436</td>\n",
       "      <td>2020-09-02 16:42:54</td>\n",
       "      <td>2</td>\n",
       "      <td>1</td>\n",
       "      <td>1</td>\n",
       "      <td>1</td>\n",
       "      <td>1</td>\n",
       "      <td>1</td>\n",
       "      <td>0</td>\n",
       "      <td>14863</td>\n",
       "      <td>...</td>\n",
       "      <td>-0.228361</td>\n",
       "      <td>0.161018</td>\n",
       "      <td>-0.107763</td>\n",
       "      <td>-0.136676</td>\n",
       "      <td>-0.023430</td>\n",
       "      <td>0.162639</td>\n",
       "      <td>-0.039877</td>\n",
       "      <td>0.121325</td>\n",
       "      <td>-0.003281</td>\n",
       "      <td>0.491803</td>\n",
       "    </tr>\n",
       "    <tr>\n",
       "      <th>1</th>\n",
       "      <td>005c5a9218ba</td>\n",
       "      <td>2020-06-28 19:05:16</td>\n",
       "      <td>10</td>\n",
       "      <td>3</td>\n",
       "      <td>2</td>\n",
       "      <td>3</td>\n",
       "      <td>1</td>\n",
       "      <td>1</td>\n",
       "      <td>2</td>\n",
       "      <td>867</td>\n",
       "      <td>...</td>\n",
       "      <td>-0.075177</td>\n",
       "      <td>-0.046408</td>\n",
       "      <td>-0.017672</td>\n",
       "      <td>0.083341</td>\n",
       "      <td>0.245686</td>\n",
       "      <td>0.345558</td>\n",
       "      <td>-0.122429</td>\n",
       "      <td>-0.271064</td>\n",
       "      <td>0.020521</td>\n",
       "      <td>0.100849</td>\n",
       "    </tr>\n",
       "    <tr>\n",
       "      <th>2</th>\n",
       "      <td>0079283bde6e</td>\n",
       "      <td>2020-04-26 21:32:44</td>\n",
       "      <td>1</td>\n",
       "      <td>1</td>\n",
       "      <td>1</td>\n",
       "      <td>1</td>\n",
       "      <td>1</td>\n",
       "      <td>1</td>\n",
       "      <td>6</td>\n",
       "      <td>0</td>\n",
       "      <td>...</td>\n",
       "      <td>0.033053</td>\n",
       "      <td>-0.027693</td>\n",
       "      <td>-0.119640</td>\n",
       "      <td>0.233060</td>\n",
       "      <td>-0.170246</td>\n",
       "      <td>0.044565</td>\n",
       "      <td>0.084041</td>\n",
       "      <td>-0.005454</td>\n",
       "      <td>-0.059084</td>\n",
       "      <td>0.049326</td>\n",
       "    </tr>\n",
       "    <tr>\n",
       "      <th>3</th>\n",
       "      <td>007bdf23b62f</td>\n",
       "      <td>2020-06-16 18:40:39</td>\n",
       "      <td>19</td>\n",
       "      <td>4</td>\n",
       "      <td>3</td>\n",
       "      <td>4</td>\n",
       "      <td>1</td>\n",
       "      <td>1</td>\n",
       "      <td>2</td>\n",
       "      <td>2477</td>\n",
       "      <td>...</td>\n",
       "      <td>0.012236</td>\n",
       "      <td>-0.029873</td>\n",
       "      <td>-0.019956</td>\n",
       "      <td>-0.056280</td>\n",
       "      <td>-0.001559</td>\n",
       "      <td>-0.027748</td>\n",
       "      <td>-0.017789</td>\n",
       "      <td>0.004808</td>\n",
       "      <td>0.000123</td>\n",
       "      <td>-0.001833</td>\n",
       "    </tr>\n",
       "    <tr>\n",
       "      <th>4</th>\n",
       "      <td>00a577a8e54f</td>\n",
       "      <td>2020-04-07 07:16:55</td>\n",
       "      <td>6</td>\n",
       "      <td>4</td>\n",
       "      <td>3</td>\n",
       "      <td>4</td>\n",
       "      <td>1</td>\n",
       "      <td>1</td>\n",
       "      <td>19</td>\n",
       "      <td>563</td>\n",
       "      <td>...</td>\n",
       "      <td>-0.116088</td>\n",
       "      <td>-0.111855</td>\n",
       "      <td>0.069101</td>\n",
       "      <td>0.194338</td>\n",
       "      <td>0.135794</td>\n",
       "      <td>-0.130125</td>\n",
       "      <td>-0.051303</td>\n",
       "      <td>0.052286</td>\n",
       "      <td>-0.009170</td>\n",
       "      <td>0.014380</td>\n",
       "    </tr>\n",
       "  </tbody>\n",
       "</table>\n",
       "<p>5 rows × 62 columns</p>\n",
       "</div>"
      ],
      "text/plain": [
       "             sn          fault_time  logs_count  msg_nunique  \\\n",
       "0  000d33b21436 2020-09-02 16:42:54           2            1   \n",
       "1  005c5a9218ba 2020-06-28 19:05:16          10            3   \n",
       "2  0079283bde6e 2020-04-26 21:32:44           1            1   \n",
       "3  007bdf23b62f 2020-06-16 18:40:39          19            4   \n",
       "4  00a577a8e54f 2020-04-07 07:16:55           6            4   \n",
       "\n",
       "   msg_category_nunique  msg_split_0_nunique  msg_split_1_nunique  \\\n",
       "0                     1                    1                    1   \n",
       "1                     2                    3                    1   \n",
       "2                     1                    1                    1   \n",
       "3                     3                    4                    1   \n",
       "4                     3                    4                    1   \n",
       "\n",
       "   msg_split_2_nunique  last_category  seconds_span  ...  msg_tfv_6  \\\n",
       "0                    1              0         14863  ...  -0.228361   \n",
       "1                    1              2           867  ...  -0.075177   \n",
       "2                    1              6             0  ...   0.033053   \n",
       "3                    1              2          2477  ...   0.012236   \n",
       "4                    1             19           563  ...  -0.116088   \n",
       "\n",
       "   msg_tfv_7  msg_tfv_8  msg_tfv_9  msg_tfv_10  msg_tfv_11  msg_tfv_12  \\\n",
       "0   0.161018  -0.107763  -0.136676   -0.023430    0.162639   -0.039877   \n",
       "1  -0.046408  -0.017672   0.083341    0.245686    0.345558   -0.122429   \n",
       "2  -0.027693  -0.119640   0.233060   -0.170246    0.044565    0.084041   \n",
       "3  -0.029873  -0.019956  -0.056280   -0.001559   -0.027748   -0.017789   \n",
       "4  -0.111855   0.069101   0.194338    0.135794   -0.130125   -0.051303   \n",
       "\n",
       "   msg_tfv_13  msg_tfv_14  msg_tfv_15  \n",
       "0    0.121325   -0.003281    0.491803  \n",
       "1   -0.271064    0.020521    0.100849  \n",
       "2   -0.005454   -0.059084    0.049326  \n",
       "3    0.004808    0.000123   -0.001833  \n",
       "4    0.052286   -0.009170    0.014380  \n",
       "\n",
       "[5 rows x 62 columns]"
      ]
     },
     "execution_count": 34,
     "metadata": {},
     "output_type": "execute_result"
    }
   ],
   "source": [
    "df_test.head()"
   ]
  },
  {
   "cell_type": "code",
   "execution_count": null,
   "id": "14db4dc7",
   "metadata": {},
   "outputs": [],
   "source": []
  },
  {
   "cell_type": "code",
   "execution_count": 35,
   "id": "5c65b5ba",
   "metadata": {},
   "outputs": [],
   "source": [
    "log_df['time'] = pd.to_datetime(log_df['time'])\n",
    "log_df['time_ts'] = log_df[\"time\"].values.astype(np.int64) // 10 ** 9"
   ]
  },
  {
   "cell_type": "code",
   "execution_count": 36,
   "id": "1db85bc5",
   "metadata": {},
   "outputs": [],
   "source": [
    "dummy_list = set(log_df.template_id.unique())\n",
    "dummy_col = ['template_id_' + str(x) for x in dummy_list]"
   ]
  },
  {
   "cell_type": "code",
   "execution_count": 37,
   "id": "521f2140",
   "metadata": {},
   "outputs": [],
   "source": [
    "def make_dataset2(dataset, data_type='train'):\n",
    "    ret = []\n",
    "    for idx, row in tqdm(dataset.iterrows()):\n",
    "        sn = row['sn']\n",
    "        fault_time = row['fault_time']\n",
    "        ts = row['fault_time_ts']\n",
    "        \n",
    "        if data_type == 'train':\n",
    "            label = row['label']\n",
    "\n",
    "        df = log_df[log_df['sn'] == sn].copy()\n",
    "\n",
    "        df = df[df['time_ts'] <= ts].copy()\n",
    "        df = df.sort_values(by='time_ts').reset_index(drop=True)\n",
    "        df = df.tail(50).copy()\n",
    "        \n",
    "        data = np.zeros(len(dummy_list))\n",
    "        for item in df.groupby('template_id').size().reset_index().values:\n",
    "            data[np.where(np.array(dummy_col) == 'template_id_%s'%item[0])[0][0]] = item[1]\n",
    "        \n",
    "        if data_type == 'train':\n",
    "            ret.append([sn, fault_time] + data.tolist() + [label])\n",
    "        else:\n",
    "            ret.append([sn, fault_time] + data.tolist())\n",
    "    return ret"
   ]
  },
  {
   "cell_type": "code",
   "execution_count": 38,
   "id": "2e2db2eb",
   "metadata": {},
   "outputs": [
    {
     "name": "stderr",
     "output_type": "stream",
     "text": [
      "16604it [08:25, 32.82it/s]\n"
     ]
    }
   ],
   "source": [
    "train2 = make_dataset2(label_df, data_type='train')\n",
    "df_train2 = pd.DataFrame(train2)"
   ]
  },
  {
   "cell_type": "code",
   "execution_count": 39,
   "id": "36575693",
   "metadata": {},
   "outputs": [
    {
     "name": "stderr",
     "output_type": "stream",
     "text": [
      "3011it [01:32, 32.50it/s]\n"
     ]
    }
   ],
   "source": [
    "test2 = make_dataset2(submit_df, data_type='test')\n",
    "df_test2 = pd.DataFrame(test2)"
   ]
  },
  {
   "cell_type": "code",
   "execution_count": 40,
   "id": "edd00072",
   "metadata": {},
   "outputs": [],
   "source": [
    "df_train2.columns = ['sn', 'fault_time'] + dummy_col + ['label']"
   ]
  },
  {
   "cell_type": "code",
   "execution_count": 41,
   "id": "52671d9e",
   "metadata": {},
   "outputs": [],
   "source": [
    "df_test2.columns = ['sn', 'fault_time'] + dummy_col"
   ]
  },
  {
   "cell_type": "code",
   "execution_count": 42,
   "id": "b9b8d119",
   "metadata": {},
   "outputs": [
    {
     "data": {
      "text/plain": [
       "((16604, 63), (16604, 202), (3011, 62), (3011, 201))"
      ]
     },
     "execution_count": 42,
     "metadata": {},
     "output_type": "execute_result"
    }
   ],
   "source": [
    "df_train.shape, df_train2.shape, df_test.shape, df_test2.shape"
   ]
  },
  {
   "cell_type": "code",
   "execution_count": 43,
   "id": "ed17d0a2",
   "metadata": {},
   "outputs": [],
   "source": [
    "df_train = df_train.merge(df_train2, on=['sn', 'fault_time', 'label'])"
   ]
  },
  {
   "cell_type": "code",
   "execution_count": 44,
   "id": "4bf534c8",
   "metadata": {},
   "outputs": [],
   "source": [
    "df_test = df_test.merge(df_test2, on=['sn', 'fault_time'])"
   ]
  },
  {
   "cell_type": "code",
   "execution_count": 45,
   "id": "04ecbd20",
   "metadata": {},
   "outputs": [
    {
     "data": {
      "text/plain": [
       "((16604, 262), (16604, 202), (3011, 261), (3011, 201))"
      ]
     },
     "execution_count": 45,
     "metadata": {},
     "output_type": "execute_result"
    }
   ],
   "source": [
    "df_train.shape, df_train2.shape, df_test.shape, df_test2.shape"
   ]
  },
  {
   "cell_type": "code",
   "execution_count": null,
   "id": "11e2deca",
   "metadata": {},
   "outputs": [],
   "source": []
  },
  {
   "cell_type": "code",
   "execution_count": 53,
   "id": "0cd1e406",
   "metadata": {},
   "outputs": [],
   "source": [
    "# tr_proba_df = pd.read_csv('./tr_proba_df.csv')"
   ]
  },
  {
   "cell_type": "code",
   "execution_count": 54,
   "id": "c9f797b9",
   "metadata": {},
   "outputs": [],
   "source": [
    "# te_proba_df = pd.read_csv('./te_proba_df.csv')"
   ]
  },
  {
   "cell_type": "code",
   "execution_count": 55,
   "id": "d5186fde",
   "metadata": {},
   "outputs": [],
   "source": [
    "# df_train = pd.concat([df_train, tr_proba_df], axis=1)\n",
    "# df_test = pd.concat([df_test, te_proba_df], axis=1)"
   ]
  },
  {
   "cell_type": "code",
   "execution_count": 56,
   "id": "9f9c0b88",
   "metadata": {},
   "outputs": [],
   "source": [
    "# df_train.shape, df_train2.shape, df_test.shape, df_test2.shape"
   ]
  },
  {
   "cell_type": "code",
   "execution_count": 46,
   "id": "6704e6ce",
   "metadata": {},
   "outputs": [],
   "source": [
    "classes = np.unique(df_train['label'])\n",
    "weights = compute_class_weight(class_weight='balanced', classes=classes, y=df_train['label'])\n",
    "class_weights = dict(zip(classes, weights))"
   ]
  },
  {
   "cell_type": "code",
   "execution_count": 47,
   "id": "290e58b1",
   "metadata": {},
   "outputs": [
    {
     "data": {
      "text/plain": [
       "((16604, 262), (3011, 261))"
      ]
     },
     "execution_count": 47,
     "metadata": {},
     "output_type": "execute_result"
    }
   ],
   "source": [
    "df_train.shape, df_test.shape"
   ]
  },
  {
   "cell_type": "code",
   "execution_count": 59,
   "id": "b33a24fb",
   "metadata": {},
   "outputs": [],
   "source": [
    "df_train.to_csv('train.csv', index=False)\n",
    "df_test.to_csv('test.csv', index=False)"
   ]
  },
  {
   "cell_type": "code",
   "execution_count": 60,
   "id": "c3077ab1",
   "metadata": {},
   "outputs": [],
   "source": [
    "# df_train = df_train.iloc[:, :-12]\n",
    "# df_test = df_test.iloc[:, :-12]"
   ]
  },
  {
   "cell_type": "code",
   "execution_count": null,
   "id": "1ff59c0a",
   "metadata": {},
   "outputs": [],
   "source": []
  },
  {
   "cell_type": "code",
   "execution_count": 1,
   "id": "ad3465b6",
   "metadata": {},
   "outputs": [],
   "source": [
    "import gc\n",
    "import numpy as np\n",
    "import pandas as pd\n",
    "from gensim.models.word2vec import Word2Vec\n",
    "from sklearn.feature_extraction.text import TfidfVectorizer\n",
    "from sklearn.decomposition import TruncatedSVD\n",
    "from sklearn.metrics import f1_score, accuracy_score\n",
    "from sklearn.model_selection import KFold, GroupKFold, StratifiedKFold\n",
    "from sklearn.utils.class_weight import compute_class_weight\n",
    "from catboost import CatBoostClassifier\n",
    "import lightgbm as lgb\n",
    "from tqdm import tqdm\n",
    "\n",
    "import optuna\n",
    "import warnings\n",
    "\n",
    "warnings.filterwarnings(\"ignore\", category=UserWarning)"
   ]
  },
  {
   "cell_type": "code",
   "execution_count": 2,
   "id": "d6d61ab4",
   "metadata": {},
   "outputs": [],
   "source": [
    "df_train = pd.read_csv('train.csv')\n",
    "df_test = pd.read_csv('test.csv')"
   ]
  },
  {
   "cell_type": "code",
   "execution_count": 3,
   "id": "590e55f1",
   "metadata": {},
   "outputs": [
    {
     "data": {
      "text/plain": [
       "((16604, 267), (3011, 266))"
      ]
     },
     "execution_count": 3,
     "metadata": {},
     "output_type": "execute_result"
    }
   ],
   "source": [
    "df_train.shape, df_test.shape"
   ]
  },
  {
   "cell_type": "code",
   "execution_count": 4,
   "id": "ef758562",
   "metadata": {},
   "outputs": [],
   "source": [
    "# df_train = df_train.iloc[:, :-12]\n",
    "# df_test = df_test.iloc[:, :-12]"
   ]
  },
  {
   "cell_type": "code",
   "execution_count": 5,
   "id": "58a37004",
   "metadata": {},
   "outputs": [],
   "source": [
    "tr_proba_df = pd.read_csv('./tr_proba_df.csv')\n",
    "te_proba_df = pd.read_csv('./te_proba_df.csv')"
   ]
  },
  {
   "cell_type": "code",
   "execution_count": 6,
   "id": "480c69aa",
   "metadata": {},
   "outputs": [],
   "source": [
    "df_train = pd.concat([df_train, tr_proba_df], axis=1)\n",
    "df_test = pd.concat([df_test, te_proba_df], axis=1)"
   ]
  },
  {
   "cell_type": "code",
   "execution_count": 7,
   "id": "5f455c9d",
   "metadata": {},
   "outputs": [],
   "source": [
    "# df_train2 = pd.read_csv('./nezha-base-count3/pretrain/bert_train.csv')\n",
    "# df_test2 = pd.read_csv('./nezha-base-count3/pretrain/bert_test.csv')"
   ]
  },
  {
   "cell_type": "code",
   "execution_count": 8,
   "id": "43055400",
   "metadata": {},
   "outputs": [],
   "source": [
    "# df_train = df_train.merge(df_train2, how='left', on=['sn', 'fault_time'])\n",
    "# df_test = df_test.merge(df_test2, how='left', on=['sn', 'fault_time'])"
   ]
  },
  {
   "cell_type": "code",
   "execution_count": 9,
   "id": "bd48b90f",
   "metadata": {},
   "outputs": [],
   "source": [
    "use_features = [col for col in df_train.columns if col not in ['sn', 'fault_time', 'label']]\n",
    "\n",
    "X = df_train[use_features].values\n",
    "y = df_train['label'].values"
   ]
  },
  {
   "cell_type": "code",
   "execution_count": 10,
   "id": "e7abf2be",
   "metadata": {},
   "outputs": [],
   "source": [
    "# import optuna  # pip install optuna\n",
    "# from optuna.integration import LightGBMPruningCallback\n",
    "\n",
    "# def macro_f1(y_true, y_pred) -> float:\n",
    "#     \"\"\"\n",
    "#     计算得分\n",
    "#     :param target_df: [sn,fault_time,label]\n",
    "#     :param submit_df: [sn,fault_time,label]\n",
    "#     :return:\n",
    "#     \"\"\"\n",
    "#     weights =  [3  /  7,  2  /  7,  1  /  7,  1  /  7]\n",
    "#     overall_df = pd.DataFrame([y_true, y_pred]).T\n",
    "#     overall_df.columns = ['label_gt', 'label_pr']\n",
    "\n",
    "#     macro_F1 =  0.\n",
    "#     for i in  range(len(weights)):\n",
    "#         TP =  len(overall_df[(overall_df['label_gt'] == i) & (overall_df['label_pr'] == i)])\n",
    "#         FP =  len(overall_df[(overall_df['label_gt'] != i) & (overall_df['label_pr'] == i)])\n",
    "#         FN =  len(overall_df[(overall_df['label_gt'] == i) & (overall_df['label_pr'] != i)])\n",
    "#         precision = TP /  (TP + FP)  if  (TP + FP)  >  0  else  0\n",
    "#         recall = TP /  (TP + FN)  if  (TP + FP)  >  0  else  0\n",
    "#         F1 =  2  * precision * recall /  (precision + recall)  if  (precision + recall)  >  0  else  0\n",
    "#         macro_F1 += weights[i]  * F1\n",
    "#     return macro_F1\n",
    "\n",
    "# def objective(trial, X, y):\n",
    "#     # 参数网格\n",
    "#     param_grid = {\n",
    "#         \"n_estimators\": trial.suggest_categorical(\"n_estimators\", [10000]),\n",
    "#         \"learning_rate\": trial.suggest_float(\"learning_rate\", 0.01, 0.3),\n",
    "#         \"num_leaves\": trial.suggest_int(\"num_leaves\", 20, 3000, step=20),\n",
    "#         \"max_depth\": trial.suggest_int(\"max_depth\", 3, 12),\n",
    "#         \"min_data_in_leaf\": trial.suggest_int(\"min_data_in_leaf\", 200, 10000, step=100),\n",
    "#         \"lambda_l1\": trial.suggest_int(\"lambda_l1\", 0, 100, step=5),\n",
    "#         \"lambda_l2\": trial.suggest_int(\"lambda_l2\", 0, 100, step=5),\n",
    "#         \"min_gain_to_split\": trial.suggest_float(\"min_gain_to_split\", 0, 15),\n",
    "#         \"bagging_fraction\": trial.suggest_float(\"bagging_fraction\", 0.2, 0.95, step=0.1),\n",
    "#         \"bagging_freq\": trial.suggest_categorical(\"bagging_freq\", [1]),\n",
    "#         \"feature_fraction\": trial.suggest_float(\"feature_fraction\", 0.2, 0.95, step=0.1),\n",
    "#         \"random_state\": 2021,\n",
    "#     }\n",
    "#     # 5折交叉验证\n",
    "#     cv = StratifiedKFold(n_splits=5, shuffle=True, random_state=1121218)\n",
    "    \n",
    "#     cv_scores = np.empty(5)\n",
    "#     for idx, (train_idx, test_idx) in enumerate(cv.split(X, y)):\n",
    "#         X_train, X_test = X[train_idx], X[test_idx]\n",
    "#         y_train, y_test = y[train_idx], y[test_idx]\n",
    "\n",
    "#         # LGBM建模\n",
    "#         model = lgb.LGBMClassifier(objective=\"multi_class\", **param_grid)\n",
    "#         model.fit(\n",
    "#             X_train,\n",
    "#             y_train,\n",
    "#             eval_set=[(X_test, y_test)],\n",
    "#             eval_metric=\"multi_logloss\",\n",
    "#             early_stopping_rounds=100,\n",
    "#             callbacks=[\n",
    "#                 LightGBMPruningCallback(trial, \"multi_logloss\")\n",
    "#             ],\n",
    "#         )\n",
    "#         # 模型预测\n",
    "#         preds = model.predict_proba(X_test)\n",
    "#         # 优化指标logloss最小\n",
    "#         print(macro_f1(y_test, np.argmax(preds, axis=1)))\n",
    "#         cv_scores[idx] = 1 - macro_f1(y_test, np.argmax(preds, axis=1))\n",
    "        \n",
    "#     return np.mean(cv_scores)"
   ]
  },
  {
   "cell_type": "code",
   "execution_count": 11,
   "id": "669a1c97",
   "metadata": {},
   "outputs": [],
   "source": [
    "# study = optuna.create_study(direction=\"minimize\", study_name=\"LGBM Classifier\")\n",
    "# func = lambda trial: objective(trial, X, y)\n",
    "# study.optimize(func, n_trials=200)"
   ]
  },
  {
   "cell_type": "code",
   "execution_count": 12,
   "id": "bd8014bb",
   "metadata": {},
   "outputs": [],
   "source": [
    "# print(f\"\\tBest value (rmse): {study.best_value:.5f}\")\n",
    "# print(f\"\\tBest params:\")\n",
    "\n",
    "# for key, value in study.best_params.items():\n",
    "#     print(f\"\\t\\t{key}: {value}\")"
   ]
  },
  {
   "cell_type": "code",
   "execution_count": 13,
   "id": "19ce94b1",
   "metadata": {},
   "outputs": [],
   "source": [
    "classes = np.unique(df_train['label'])\n",
    "weights = compute_class_weight(class_weight='balanced', classes=classes, y=df_train['label'])\n",
    "class_weights = dict(zip(classes, weights))"
   ]
  },
  {
   "cell_type": "code",
   "execution_count": 14,
   "id": "2687cc01",
   "metadata": {},
   "outputs": [],
   "source": [
    "def macro_f1(y_true, y_pred) -> float:\n",
    "    \"\"\"\n",
    "    计算得分\n",
    "    :param target_df: [sn,fault_time,label]\n",
    "    :param submit_df: [sn,fault_time,label]\n",
    "    :return:\n",
    "    \"\"\"\n",
    "    weights =  [3  /  7,  2  /  7,  1  /  7,  1  /  7]\n",
    "    overall_df = pd.DataFrame([y_true, y_pred]).T\n",
    "    overall_df.columns = ['label_gt', 'label_pr']\n",
    "\n",
    "    macro_F1 =  0.\n",
    "    for i in  range(len(weights)):\n",
    "        TP =  len(overall_df[(overall_df['label_gt'] == i) & (overall_df['label_pr'] == i)])\n",
    "        FP =  len(overall_df[(overall_df['label_gt'] != i) & (overall_df['label_pr'] == i)])\n",
    "        FN =  len(overall_df[(overall_df['label_gt'] == i) & (overall_df['label_pr'] != i)])\n",
    "        precision = TP /  (TP + FP)  if  (TP + FP)  >  0  else  0\n",
    "        recall = TP /  (TP + FN)  if  (TP + FP)  >  0  else  0\n",
    "        F1 =  2  * precision * recall /  (precision + recall)  if  (precision + recall)  >  0  else  0\n",
    "        macro_F1 += weights[i]  * F1\n",
    "    return macro_F1"
   ]
  },
  {
   "cell_type": "code",
   "execution_count": 15,
   "id": "a6d01c56",
   "metadata": {},
   "outputs": [],
   "source": [
    "NUM_CLASSES = df_train['label'].nunique()\n",
    "FOLDS = 10\n",
    "TARGET = 'label'\n",
    "use_features = [col for col in df_train.columns if col not in ['sn', 'fault_time', TARGET]]\n",
    "\n",
    "def run_ctb(df_train, df_test, use_features):\n",
    "    target = TARGET\n",
    "    oof_pred = np.zeros((len(df_train), NUM_CLASSES))\n",
    "    y_pred = np.zeros((len(df_test), NUM_CLASSES))\n",
    "    \n",
    "    folds = GroupKFold(n_splits=FOLDS)\n",
    "    for fold, (tr_ind, val_ind) in enumerate(folds.split(df_train, df_train[TARGET], df_train['sn'])):\n",
    "        print(f'Fold {fold + 1}') \n",
    "        x_train, x_val = df_train[use_features].iloc[tr_ind], df_train[use_features].iloc[val_ind] \n",
    "        y_train, y_val = df_train[target].iloc[tr_ind], df_train[target].iloc[val_ind]\n",
    "        \n",
    "#         param_grid = {\n",
    "#             \"n_estimators\": 10000,\n",
    "#             \"learning_rate\": 0.026782275336720557,\n",
    "#             \"num_leaves\": 1740,\n",
    "#             \"max_depth\": 8,\n",
    "#             \"min_data_in_leaf\": 200,\n",
    "#             \"lambda_l1\": 0,\n",
    "#             \"lambda_l2\": 0,\n",
    "#             \"min_gain_to_split\": 0.376709573423049,\n",
    "#             \"bagging_fraction\": 0.5,\n",
    "#             \"bagging_freq\": 1,\n",
    "#             \"feature_fraction\": 0.9,\n",
    "#         }\n",
    "        \n",
    "#         model = lgb.LGBMClassifier(objective=\"multi_class\", **param_grid)\n",
    "#         model.fit(\n",
    "#             x_train,\n",
    "#             y_train,\n",
    "#             eval_set=[(x_val, y_val)],\n",
    "#             eval_metric=\"multi_logloss\",\n",
    "#             early_stopping_rounds=20,\n",
    "#         )\n",
    "#         oof_pred[val_ind] = model.predict_proba(x_val)\n",
    "#         y_pred += model.predict_proba(df_test[use_features]) / folds.n_splits\n",
    "        \n",
    "#     return y_pred, oof_pred\n",
    "        \n",
    "#         dtrain = lgb.Dataset(x_train, label=y_train)\n",
    "#         dvalid = lgb.Dataset(x_val, label=y_val)\n",
    "#         param = {\n",
    "#             'objective': 'multiclass',\n",
    "#             'num_class': 4,\n",
    "#             'metric': 'multi_logloss',\n",
    "#             'early_stopping_rounds': 20,\n",
    "#             'learning_rate': 0.03,\n",
    "#             'random_state': 42\n",
    "#         }\n",
    "#         gbm = lgb.train(\n",
    "#             param, dtrain, valid_sets=[dtrain, dvalid], num_boost_round=100000, verbose_eval=10\n",
    "#         )\n",
    "        \n",
    "#         oof_pred[val_ind] = gbm.predict(x_val)\n",
    "#         y_pred += gbm.predict(df_test[use_features]) / folds.n_splits\n",
    "        \n",
    "#     return y_pred, oof_pred\n",
    "\n",
    "        params = { \n",
    "            'task_type': 'GPU', \n",
    "            'bootstrap_type': 'Bernoulli',\n",
    "            'learning_rate': 0.05, \n",
    "            'eval_metric': 'MultiClass', \n",
    "            'loss_function': 'MultiClass', \n",
    "            'classes_count': NUM_CLASSES, \n",
    "            'iterations': 10000, \n",
    "            'random_seed': 2022, \n",
    "            'depth': 8, \n",
    "            'subsample': 0.8, \n",
    "            'leaf_estimation_iterations': 8,\n",
    "            'reg_lambda': 0.5,\n",
    "            'class_weights': class_weights,\n",
    "            'early_stopping_rounds': 100 \n",
    "        }\n",
    "        model = CatBoostClassifier(**params)\n",
    "        \n",
    "        model.fit(x_train, \n",
    "                  y_train, \n",
    "                  eval_set=(x_val, y_val), \n",
    "                  verbose=100) \n",
    "        oof_pred[val_ind] = model.predict_proba(x_val) \n",
    "        y_pred += model.predict_proba(df_test[use_features]) / folds.n_splits\n",
    "        \n",
    "        score = f1_score(y_val, oof_pred[val_ind].argmax(axis=1), average='macro')\n",
    "        print(f'F1 score: {score}')\n",
    "        \n",
    "        print(\"Features importance...\")\n",
    "        feat_imp = pd.DataFrame({'imp': model.feature_importances_, 'feature': use_features})\n",
    "        feat_imp.sort_values(by='imp').to_csv('%d_imp.csv'%fold, index=False)\n",
    "        print(feat_imp.sort_values(by='imp').reset_index(drop=True))\n",
    "        \n",
    "        del x_train, x_val, y_train, y_val\n",
    "        gc.collect()\n",
    "        \n",
    "    return y_pred, oof_pred"
   ]
  },
  {
   "cell_type": "code",
   "execution_count": 16,
   "id": "7fb60480",
   "metadata": {
    "scrolled": true
   },
   "outputs": [
    {
     "name": "stdout",
     "output_type": "stream",
     "text": [
      "Fold 1\n",
      "0:\tlearn: 1.3071505\ttest: 1.3066389\tbest: 1.3066389 (0)\ttotal: 46.6ms\tremaining: 7m 46s\n",
      "100:\tlearn: 0.4008818\ttest: 0.5684082\tbest: 0.5684082 (100)\ttotal: 4.25s\tremaining: 6m 56s\n",
      "200:\tlearn: 0.2882983\ttest: 0.5469100\tbest: 0.5454677 (191)\ttotal: 8.22s\tremaining: 6m 40s\n",
      "bestTest = 0.5454676554\n",
      "bestIteration = 191\n",
      "Shrink model to first 192 iterations.\n",
      "F1 score: 0.7627130172339165\n",
      "Features importance...\n",
      "          imp          feature\n",
      "0    0.000000  template_id_204\n",
      "1    0.000000   template_id_49\n",
      "2    0.000000   template_id_48\n",
      "3    0.000000  template_id_122\n",
      "4    0.000000   template_id_45\n",
      "..        ...              ...\n",
      "271  3.163952        msg_tfv_5\n",
      "272  3.231562       msg_w2v_28\n",
      "273  3.838391    last_category\n",
      "274  4.261104   template_id_78\n",
      "275  4.781632       msg_w2v_30\n",
      "\n",
      "[276 rows x 2 columns]\n",
      "Fold 2\n",
      "0:\tlearn: 1.3113620\ttest: 1.3150125\tbest: 1.3150125 (0)\ttotal: 43.5ms\tremaining: 7m 14s\n",
      "100:\tlearn: 0.4012031\ttest: 0.5465361\tbest: 0.5465361 (100)\ttotal: 4.26s\tremaining: 6m 57s\n",
      "200:\tlearn: 0.2884378\ttest: 0.5149557\tbest: 0.5149557 (200)\ttotal: 8.23s\tremaining: 6m 41s\n",
      "300:\tlearn: 0.2151745\ttest: 0.5058675\tbest: 0.5058675 (300)\ttotal: 12.2s\tremaining: 6m 33s\n",
      "400:\tlearn: 0.1687453\ttest: 0.5074306\tbest: 0.5044652 (339)\ttotal: 16.2s\tremaining: 6m 26s\n",
      "bestTest = 0.5044651908\n",
      "bestIteration = 339\n",
      "Shrink model to first 340 iterations.\n",
      "F1 score: 0.7926834895096267\n",
      "Features importance...\n",
      "          imp          feature\n",
      "0    0.000000   template_id_54\n",
      "1    0.000000  template_id_172\n",
      "2    0.000000   template_id_63\n",
      "3    0.000000   template_id_65\n",
      "4    0.000000   template_id_67\n",
      "..        ...              ...\n",
      "271  2.985074    last_category\n",
      "272  3.193542     mean_proba_2\n",
      "273  3.673928   template_id_78\n",
      "274  4.171036       msg_w2v_28\n",
      "275  4.328331       msg_w2v_30\n",
      "\n",
      "[276 rows x 2 columns]\n",
      "Fold 3\n",
      "0:\tlearn: 1.2965601\ttest: 1.3018737\tbest: 1.3018737 (0)\ttotal: 45.2ms\tremaining: 7m 32s\n",
      "100:\tlearn: 0.3988265\ttest: 0.5770772\tbest: 0.5770772 (100)\ttotal: 4.24s\tremaining: 6m 55s\n",
      "200:\tlearn: 0.2865929\ttest: 0.5486843\tbest: 0.5486843 (200)\ttotal: 8.2s\tremaining: 6m 39s\n",
      "300:\tlearn: 0.2153220\ttest: 0.5444784\tbest: 0.5439594 (297)\ttotal: 12.1s\tremaining: 6m 31s\n",
      "bestTest = 0.5439593778\n",
      "bestIteration = 297\n",
      "Shrink model to first 298 iterations.\n",
      "F1 score: 0.7855997421998975\n",
      "Features importance...\n",
      "          imp          feature\n",
      "0    0.000000   template_id_71\n",
      "1    0.000000   template_id_95\n",
      "2    0.000000   template_id_99\n",
      "3    0.000000  template_id_100\n",
      "4    0.000000  template_id_101\n",
      "..        ...              ...\n",
      "271  2.756303   template_id_28\n",
      "272  3.654431    last_category\n",
      "273  3.656234   template_id_78\n",
      "274  3.983882       msg_w2v_28\n",
      "275  4.137010       msg_w2v_30\n",
      "\n",
      "[276 rows x 2 columns]\n",
      "Fold 4\n",
      "0:\tlearn: 1.3018211\ttest: 1.3056128\tbest: 1.3056128 (0)\ttotal: 45.7ms\tremaining: 7m 36s\n",
      "100:\tlearn: 0.4048518\ttest: 0.5905540\tbest: 0.5905540 (100)\ttotal: 4.2s\tremaining: 6m 51s\n",
      "200:\tlearn: 0.2931870\ttest: 0.5743202\tbest: 0.5743202 (200)\ttotal: 8.12s\tremaining: 6m 35s\n",
      "300:\tlearn: 0.2192338\ttest: 0.5775106\tbest: 0.5683675 (245)\ttotal: 12.1s\tremaining: 6m 29s\n",
      "bestTest = 0.5683675085\n",
      "bestIteration = 245\n",
      "Shrink model to first 246 iterations.\n",
      "F1 score: 0.7757315852295492\n",
      "Features importance...\n",
      "          imp          feature\n",
      "0    0.000000  template_id_202\n",
      "1    0.000000   template_id_25\n",
      "2    0.000000   template_id_99\n",
      "3    0.000000   template_id_23\n",
      "4    0.000000  template_id_100\n",
      "..        ...              ...\n",
      "271  2.933193        msg_tfv_5\n",
      "272  3.717679       msg_w2v_28\n",
      "273  3.888162   template_id_78\n",
      "274  4.439782    last_category\n",
      "275  4.954179       msg_w2v_30\n",
      "\n",
      "[276 rows x 2 columns]\n",
      "Fold 5\n",
      "0:\tlearn: 1.3001294\ttest: 1.3039201\tbest: 1.3039201 (0)\ttotal: 45.7ms\tremaining: 7m 36s\n",
      "100:\tlearn: 0.4024267\ttest: 0.5544939\tbest: 0.5544939 (100)\ttotal: 4.25s\tremaining: 6m 56s\n",
      "200:\tlearn: 0.2872761\ttest: 0.5261017\tbest: 0.5260843 (199)\ttotal: 8.21s\tremaining: 6m 40s\n",
      "300:\tlearn: 0.2081705\ttest: 0.5262382\tbest: 0.5229946 (270)\ttotal: 12.3s\tremaining: 6m 35s\n",
      "bestTest = 0.522994588\n",
      "bestIteration = 270\n",
      "Shrink model to first 271 iterations.\n",
      "F1 score: 0.7676805821388312\n",
      "Features importance...\n",
      "          imp          feature\n",
      "0    0.000000  template_id_203\n",
      "1    0.000000  template_id_123\n",
      "2    0.000000   template_id_50\n",
      "3    0.000000   template_id_49\n",
      "4    0.000000   template_id_48\n",
      "..        ...              ...\n",
      "271  2.840130        msg_w2v_8\n",
      "272  3.361364       msg_w2v_28\n",
      "273  3.520713   template_id_78\n",
      "274  3.595080    last_category\n",
      "275  4.295680       msg_w2v_30\n",
      "\n",
      "[276 rows x 2 columns]\n",
      "Fold 6\n",
      "0:\tlearn: 1.3085570\ttest: 1.3126778\tbest: 1.3126778 (0)\ttotal: 45.8ms\tremaining: 7m 37s\n",
      "100:\tlearn: 0.4057990\ttest: 0.5978204\tbest: 0.5978204 (100)\ttotal: 4.31s\tremaining: 7m 2s\n",
      "200:\tlearn: 0.2913191\ttest: 0.5686765\tbest: 0.5686765 (200)\ttotal: 8.33s\tremaining: 6m 46s\n",
      "300:\tlearn: 0.2203722\ttest: 0.5630482\tbest: 0.5606374 (278)\ttotal: 12.4s\tremaining: 6m 38s\n",
      "bestTest = 0.5606373862\n",
      "bestIteration = 278\n",
      "Shrink model to first 279 iterations.\n",
      "F1 score: 0.771199397229495\n",
      "Features importance...\n",
      "          imp          feature\n",
      "0    0.000000  template_id_203\n",
      "1    0.000000  template_id_109\n",
      "2    0.000000  template_id_111\n",
      "3    0.000000  template_id_113\n",
      "4    0.000000   template_id_37\n",
      "..        ...              ...\n",
      "271  2.884046        msg_tfv_5\n",
      "272  3.859320   template_id_78\n",
      "273  4.389548       msg_w2v_28\n",
      "274  4.508128    last_category\n",
      "275  4.541648       msg_w2v_30\n",
      "\n",
      "[276 rows x 2 columns]\n",
      "Fold 7\n",
      "0:\tlearn: 1.3066373\ttest: 1.3085641\tbest: 1.3085641 (0)\ttotal: 45.7ms\tremaining: 7m 36s\n",
      "100:\tlearn: 0.3995673\ttest: 0.5885129\tbest: 0.5885129 (100)\ttotal: 4.34s\tremaining: 7m 5s\n",
      "200:\tlearn: 0.2860057\ttest: 0.5756144\tbest: 0.5726382 (189)\ttotal: 8.43s\tremaining: 6m 50s\n",
      "300:\tlearn: 0.2139608\ttest: 0.5770408\tbest: 0.5717691 (228)\ttotal: 12.5s\tremaining: 6m 43s\n",
      "bestTest = 0.5717690958\n",
      "bestIteration = 228\n",
      "Shrink model to first 229 iterations.\n",
      "F1 score: 0.765496823309501\n",
      "Features importance...\n",
      "          imp          feature\n",
      "0    0.000000   template_id_73\n",
      "1    0.000000  template_id_172\n",
      "2    0.000000   template_id_63\n",
      "3    0.000000   template_id_65\n",
      "4    0.000000   template_id_67\n",
      "..        ...              ...\n",
      "271  2.671957        msg_tfv_5\n",
      "272  3.830661       msg_w2v_28\n",
      "273  3.988679    last_category\n",
      "274  4.066929   template_id_78\n",
      "275  5.771543       msg_w2v_30\n",
      "\n",
      "[276 rows x 2 columns]\n",
      "Fold 8\n",
      "0:\tlearn: 1.3101113\ttest: 1.3123877\tbest: 1.3123877 (0)\ttotal: 41.5ms\tremaining: 6m 55s\n",
      "100:\tlearn: 0.4007074\ttest: 0.5548053\tbest: 0.5548053 (100)\ttotal: 4.33s\tremaining: 7m 4s\n",
      "200:\tlearn: 0.2872122\ttest: 0.5358298\tbest: 0.5349751 (187)\ttotal: 8.39s\tremaining: 6m 48s\n",
      "bestTest = 0.5349750628\n",
      "bestIteration = 187\n",
      "Shrink model to first 188 iterations.\n",
      "F1 score: 0.7908307719686298\n",
      "Features importance...\n",
      "          imp          feature\n",
      "0    0.000000   template_id_57\n",
      "1    0.000000   template_id_69\n",
      "2    0.000000   template_id_71\n",
      "3    0.000000   template_id_73\n",
      "4    0.000000  template_id_176\n",
      "..        ...              ...\n",
      "271  3.114875        msg_tfv_5\n",
      "272  3.777556       msg_w2v_28\n",
      "273  3.998758   template_id_78\n",
      "274  4.566408    last_category\n",
      "275  5.227057       msg_w2v_30\n",
      "\n",
      "[276 rows x 2 columns]\n",
      "Fold 9\n",
      "0:\tlearn: 1.3021597\ttest: 1.3081231\tbest: 1.3081231 (0)\ttotal: 45.6ms\tremaining: 7m 35s\n",
      "100:\tlearn: 0.3984037\ttest: 0.6064627\tbest: 0.6064627 (100)\ttotal: 4.34s\tremaining: 7m 5s\n",
      "200:\tlearn: 0.2841687\ttest: 0.5884491\tbest: 0.5855633 (187)\ttotal: 8.4s\tremaining: 6m 49s\n",
      "bestTest = 0.5855632601\n",
      "bestIteration = 187\n",
      "Shrink model to first 188 iterations.\n",
      "F1 score: 0.7631177544371273\n",
      "Features importance...\n",
      "          imp         feature\n",
      "0    0.000000  template_id_73\n",
      "1    0.000000  template_id_68\n",
      "2    0.000000  template_id_69\n",
      "3    0.000000  template_id_70\n",
      "4    0.000000  template_id_71\n",
      "..        ...             ...\n",
      "271  2.874795  template_id_28\n",
      "272  4.235730  template_id_78\n",
      "273  4.245988      msg_w2v_28\n",
      "274  4.630767   last_category\n",
      "275  5.699551      msg_w2v_30\n",
      "\n",
      "[276 rows x 2 columns]\n",
      "Fold 10\n",
      "0:\tlearn: 1.3078990\ttest: 1.3117059\tbest: 1.3117059 (0)\ttotal: 44.6ms\tremaining: 7m 26s\n",
      "100:\tlearn: 0.3974412\ttest: 0.5796375\tbest: 0.5796375 (100)\ttotal: 4.29s\tremaining: 7m\n",
      "200:\tlearn: 0.2851581\ttest: 0.5516956\tbest: 0.5507335 (182)\ttotal: 8.28s\tremaining: 6m 43s\n",
      "300:\tlearn: 0.2120840\ttest: 0.5487971\tbest: 0.5464304 (253)\ttotal: 12.3s\tremaining: 6m 36s\n"
     ]
    },
    {
     "name": "stdout",
     "output_type": "stream",
     "text": [
      "bestTest = 0.546430372\n",
      "bestIteration = 253\n",
      "Shrink model to first 254 iterations.\n",
      "F1 score: 0.7623080557700848\n",
      "Features importance...\n",
      "          imp         feature\n",
      "0    0.000000  template_id_73\n",
      "1    0.000000  template_id_65\n",
      "2    0.000000  template_id_67\n",
      "3    0.000000  template_id_68\n",
      "4    0.000000  template_id_69\n",
      "..        ...             ...\n",
      "271  2.648899  template_id_28\n",
      "272  3.809597  template_id_78\n",
      "273  4.101997      msg_w2v_28\n",
      "274  4.111339   last_category\n",
      "275  5.073246      msg_w2v_30\n",
      "\n",
      "[276 rows x 2 columns]\n"
     ]
    }
   ],
   "source": [
    "y_pred, oof_pred = run_ctb(df_train, df_test, use_features)"
   ]
  },
  {
   "cell_type": "code",
   "execution_count": 18,
   "id": "d9d93bca",
   "metadata": {},
   "outputs": [
    {
     "name": "stdout",
     "output_type": "stream",
     "text": [
      "0.7105531465354477\n"
     ]
    }
   ],
   "source": [
    "print(macro_f1(df_train[TARGET], np.argmax(oof_pred, axis=1)))"
   ]
  },
  {
   "cell_type": "code",
   "execution_count": 19,
   "id": "a1d70c21",
   "metadata": {},
   "outputs": [],
   "source": [
    "submit_df = pd.read_csv('./data/preliminary_submit_dataset_a.csv')"
   ]
  },
  {
   "cell_type": "code",
   "execution_count": 20,
   "id": "8c1d90ab",
   "metadata": {},
   "outputs": [
    {
     "data": {
      "text/html": [
       "<div>\n",
       "<style scoped>\n",
       "    .dataframe tbody tr th:only-of-type {\n",
       "        vertical-align: middle;\n",
       "    }\n",
       "\n",
       "    .dataframe tbody tr th {\n",
       "        vertical-align: top;\n",
       "    }\n",
       "\n",
       "    .dataframe thead th {\n",
       "        text-align: right;\n",
       "    }\n",
       "</style>\n",
       "<table border=\"1\" class=\"dataframe\">\n",
       "  <thead>\n",
       "    <tr style=\"text-align: right;\">\n",
       "      <th></th>\n",
       "      <th>sn</th>\n",
       "      <th>fault_time</th>\n",
       "      <th>label</th>\n",
       "    </tr>\n",
       "  </thead>\n",
       "  <tbody>\n",
       "    <tr>\n",
       "      <th>0</th>\n",
       "      <td>000d33b21436</td>\n",
       "      <td>2020-09-02 16:42:54</td>\n",
       "      <td>3</td>\n",
       "    </tr>\n",
       "    <tr>\n",
       "      <th>1</th>\n",
       "      <td>005c5a9218ba</td>\n",
       "      <td>2020-06-28 19:05:16</td>\n",
       "      <td>2</td>\n",
       "    </tr>\n",
       "    <tr>\n",
       "      <th>2</th>\n",
       "      <td>0079283bde6e</td>\n",
       "      <td>2020-04-26 21:32:44</td>\n",
       "      <td>3</td>\n",
       "    </tr>\n",
       "    <tr>\n",
       "      <th>3</th>\n",
       "      <td>007bdf23b62f</td>\n",
       "      <td>2020-06-16 18:40:39</td>\n",
       "      <td>2</td>\n",
       "    </tr>\n",
       "    <tr>\n",
       "      <th>4</th>\n",
       "      <td>00a577a8e54f</td>\n",
       "      <td>2020-04-07 07:16:55</td>\n",
       "      <td>2</td>\n",
       "    </tr>\n",
       "  </tbody>\n",
       "</table>\n",
       "</div>"
      ],
      "text/plain": [
       "             sn           fault_time  label\n",
       "0  000d33b21436  2020-09-02 16:42:54      3\n",
       "1  005c5a9218ba  2020-06-28 19:05:16      2\n",
       "2  0079283bde6e  2020-04-26 21:32:44      3\n",
       "3  007bdf23b62f  2020-06-16 18:40:39      2\n",
       "4  00a577a8e54f  2020-04-07 07:16:55      2"
      ]
     },
     "metadata": {},
     "output_type": "display_data"
    },
    {
     "data": {
      "text/plain": [
       "2    1629\n",
       "1     702\n",
       "3     567\n",
       "0     113\n",
       "Name: label, dtype: int64"
      ]
     },
     "execution_count": 20,
     "metadata": {},
     "output_type": "execute_result"
    }
   ],
   "source": [
    "sub = submit_df[['sn', 'fault_time']].copy()\n",
    "sub['label'] = y_pred.argmax(axis=1)\n",
    "display(sub.head())\n",
    "sub['label'].value_counts()"
   ]
  },
  {
   "cell_type": "code",
   "execution_count": 21,
   "id": "124bec6e",
   "metadata": {},
   "outputs": [],
   "source": [
    "sub.to_csv('baseline3_gkf_sn.csv', index=False)"
   ]
  },
  {
   "cell_type": "code",
   "execution_count": null,
   "id": "1010abdd",
   "metadata": {},
   "outputs": [],
   "source": []
  },
  {
   "cell_type": "code",
   "execution_count": 24,
   "id": "97523b75",
   "metadata": {},
   "outputs": [
    {
     "data": {
      "text/plain": [
       "2    9343\n",
       "1    3387\n",
       "3    2463\n",
       "0    1476\n",
       "Name: label, dtype: int64"
      ]
     },
     "execution_count": 24,
     "metadata": {},
     "output_type": "execute_result"
    }
   ],
   "source": [
    "label1 = pd.read_csv('./data/preliminary_train_label_dataset.csv')\n",
    "label2 = pd.read_csv('./data/preliminary_train_label_dataset_s.csv')\n",
    "label_df = pd.concat([label1, label2]).reset_index(drop=True)\n",
    "label_df['label'].value_counts()"
   ]
  },
  {
   "cell_type": "code",
   "execution_count": null,
   "id": "db16bc9c",
   "metadata": {},
   "outputs": [],
   "source": []
  },
  {
   "cell_type": "code",
   "execution_count": null,
   "id": "257ba3b4",
   "metadata": {},
   "outputs": [],
   "source": []
  },
  {
   "cell_type": "code",
   "execution_count": 47,
   "id": "4518edc1",
   "metadata": {},
   "outputs": [
    {
     "data": {
      "text/plain": [
       "0.6132878338098"
      ]
     },
     "execution_count": 47,
     "metadata": {},
     "output_type": "execute_result"
    }
   ],
   "source": [
    "0.6132878338098"
   ]
  },
  {
   "cell_type": "code",
   "execution_count": null,
   "id": "a20dfbeb",
   "metadata": {},
   "outputs": [],
   "source": []
  },
  {
   "cell_type": "code",
   "execution_count": null,
   "id": "33c0c8cd",
   "metadata": {},
   "outputs": [],
   "source": []
  },
  {
   "cell_type": "code",
   "execution_count": null,
   "id": "7073c803",
   "metadata": {},
   "outputs": [],
   "source": []
  },
  {
   "cell_type": "code",
   "execution_count": null,
   "id": "f6c5591d",
   "metadata": {},
   "outputs": [],
   "source": []
  }
 ],
 "metadata": {
  "kernelspec": {
   "display_name": "Python 3 (ipykernel)",
   "language": "python",
   "name": "python3"
  },
  "language_info": {
   "codemirror_mode": {
    "name": "ipython",
    "version": 3
   },
   "file_extension": ".py",
   "mimetype": "text/x-python",
   "name": "python",
   "nbconvert_exporter": "python",
   "pygments_lexer": "ipython3",
   "version": "3.7.8"
  }
 },
 "nbformat": 4,
 "nbformat_minor": 5
}
