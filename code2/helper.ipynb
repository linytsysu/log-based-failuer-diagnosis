{
 "cells": [
  {
   "cell_type": "code",
   "execution_count": 1,
   "id": "f076c948",
   "metadata": {},
   "outputs": [
    {
     "name": "stdout",
     "output_type": "stream",
     "text": [
      "(16604, 3) (3030, 2)\n",
      "(16604, 5) (3030, 4)\n"
     ]
    }
   ],
   "source": [
    "import os\n",
    "import json\n",
    "import numpy as np\n",
    "import pandas as pd\n",
    "from tqdm import tqdm\n",
    "from collections import Counter\n",
    "\n",
    "from gensim.models.word2vec import Word2Vec\n",
    "from nltk.tokenize import word_tokenize\n",
    "from gensim.models.doc2vec import Doc2Vec, TaggedDocument\n",
    "from sklearn.feature_extraction.text import TfidfVectorizer\n",
    "from sklearn.decomposition import TruncatedSVD\n",
    "\n",
    "label1 = pd.read_csv('../data/preliminary_train_label_dataset.csv')\n",
    "label2 = pd.read_csv('../data/preliminary_train_label_dataset_s.csv')\n",
    "label_df = pd.concat([label1, label2]).reset_index(drop=True)\n",
    "label_df = label_df.drop_duplicates().reset_index(drop=True)\n",
    "\n",
    "submit_df = pd.read_csv('../data/preliminary_submit_dataset_b.csv')\n",
    "\n",
    "print(label_df.shape, submit_df.shape)\n",
    "\n",
    "log_df = pd.read_csv('../code/log_template.csv')\n",
    "log_df['msg_lower'] = log_df['msg_lower'].astype(str)\n",
    "log_df['server_model'] = log_df['server_model'].astype(str)\n",
    "\n",
    "log_df['time'] = pd.to_datetime(log_df['time'])\n",
    "label_df['fault_time'] = pd.to_datetime(label_df['fault_time'])\n",
    "submit_df['fault_time'] = pd.to_datetime(submit_df['fault_time'])\n",
    "\n",
    "log_df['time_ts'] = log_df[\"time\"].values.astype(np.int64) // 10 ** 9\n",
    "label_df['fault_time_ts'] = label_df[\"fault_time\"].values.astype(np.int64) // 10 ** 9\n",
    "submit_df['fault_time_ts'] = submit_df[\"fault_time\"].values.astype(np.int64) // 10 ** 9\n",
    "\n",
    "crashdump_df = pd.read_csv('../data/preliminary_crashdump_dataset.csv')\n",
    "venus_df = pd.read_csv('../data/preliminary_venus_dataset.csv')\n",
    "crashdump_df['fault_time'] = pd.to_datetime(crashdump_df['fault_time'])\n",
    "venus_df['fault_time'] = pd.to_datetime(venus_df['fault_time'])\n",
    "crashdump_df['fault_time_ts'] = crashdump_df[\"fault_time\"].values.astype(np.int64) // 10 ** 9\n",
    "venus_df['fault_time_ts'] = venus_df[\"fault_time\"].values.astype(np.int64) // 10 ** 9\n",
    "\n",
    "label_df = label_df.merge(log_df[['sn', 'server_model']].drop_duplicates(), on=['sn'], how='left')\n",
    "submit_df = submit_df.merge(log_df[['sn', 'server_model']].drop_duplicates(), on=['sn'], how='left')\n",
    "label_df = label_df.fillna('MISSING')\n",
    "submit_df = submit_df.fillna('MISSING')\n",
    "print(label_df.shape, submit_df.shape)\n",
    "\n",
    "label_cnt_df = label_df.groupby('label').size().reset_index().rename({0: 'label_cnt'}, axis=1)\n",
    "label_model_cnt_df = label_df.groupby(['server_model', 'label']).size().reset_index()\\\n",
    "    .rename({0: 'label_model_cnt'}, axis=1)\n",
    "label_model_cnt_df = label_model_cnt_df.merge(label_cnt_df, on='label', how='left')\n",
    "label_model_cnt_df['model/label'] = label_model_cnt_df['label_model_cnt'] / label_model_cnt_df['label_cnt']\n"
   ]
  },
  {
   "cell_type": "code",
   "execution_count": 14,
   "id": "514fa4d4",
   "metadata": {},
   "outputs": [],
   "source": [
    "log_df['category'] = [item[0] for item in log_df['msg_lower'].str.split(' ')]"
   ]
  },
  {
   "cell_type": "code",
   "execution_count": 15,
   "id": "6f017e4a",
   "metadata": {},
   "outputs": [
    {
     "data": {
      "text/plain": [
       "array(['add-in', 'battery', 'boot', 'button', 'cable',\n",
       "       'cable/interconnect', 'chassis', 'chip', 'critical', 'device',\n",
       "       'drive', 'event', 'fan', 'hex', 'lan', 'management', 'memory',\n",
       "       'microcontroller', 'microcontroller/coprocessor', 'oem', 'os',\n",
       "       'physical', 'power', 'processor', 'request', 'reserved', 'session',\n",
       "       'slot', 'slot/connector', 'system', 'temperature', 'terminator',\n",
       "       'unknown', 'version', 'watchdog', 'watchdog2'], dtype=object)"
      ]
     },
     "execution_count": 15,
     "metadata": {},
     "output_type": "execute_result"
    }
   ],
   "source": [
    "np.unique(log_df['category'].values)"
   ]
  },
  {
   "cell_type": "code",
   "execution_count": 19,
   "id": "853ae299",
   "metadata": {},
   "outputs": [],
   "source": [
    "category_df = log_df.groupby('category').size().reset_index()"
   ]
  },
  {
   "cell_type": "code",
   "execution_count": 30,
   "id": "18aaf3fa",
   "metadata": {},
   "outputs": [
    {
     "data": {
      "text/plain": [
       "array(['button', 'critical', 'drive', 'event', 'fan', 'management',\n",
       "       'memory', 'microcontroller', 'microcontroller/coprocessor', 'oem',\n",
       "       'os', 'power', 'processor', 'slot', 'slot/connector', 'system',\n",
       "       'temperature', 'unknown', 'watchdog', 'watchdog2'], dtype=object)"
      ]
     },
     "execution_count": 30,
     "metadata": {},
     "output_type": "execute_result"
    }
   ],
   "source": [
    "category_df[category_df[0] > 500]['category'].values"
   ]
  },
  {
   "cell_type": "code",
   "execution_count": null,
   "id": "6c956d1b",
   "metadata": {},
   "outputs": [],
   "source": []
  },
  {
   "cell_type": "code",
   "execution_count": 4,
   "id": "e4edfd88",
   "metadata": {},
   "outputs": [
    {
     "name": "stderr",
     "output_type": "stream",
     "text": [
      "100%|██████████████████████████████████████████████████████████████████████████████████████████████████████████████████████████████████████████████████████████████| 16604/16604 [07:25<00:00, 37.29it/s]\n"
     ]
    }
   ],
   "source": [
    "counter_map = {}\n",
    "for idx in tqdm(range(label_df.shape[0])):\n",
    "    row = label_df.iloc[idx]\n",
    "    sn = row['sn']\n",
    "    fault_time_ts = row['fault_time_ts']\n",
    "    sub_log = log_df[(log_df['sn'] == sn) & (log_df['time_ts'] <= fault_time_ts)]\n",
    "    sub_log = sub_log.sort_values(by='time')\n",
    "    df_tmp = sub_log.tail(20)\n",
    "    k = '%d'%(row['label'])\n",
    "    if not k in counter_map:\n",
    "        counter_map[k] = Counter()\n",
    "    counter_map[k].update(np.unique(df_tmp['msg_id'].values.tolist()))\n",
    "for k in counter_map:\n",
    "    counter_map[k] = [item[0] for item in counter_map[k].most_common()[:50]]"
   ]
  },
  {
   "cell_type": "code",
   "execution_count": 11,
   "id": "c3c1b9ca",
   "metadata": {},
   "outputs": [
    {
     "name": "stderr",
     "output_type": "stream",
     "text": [
      "  0%|                                                                                                                                                                  | 8/16604 [00:00<07:49, 35.37it/s]"
     ]
    },
    {
     "name": "stdout",
     "output_type": "stream",
     "text": [
      "[0.0, 0.0, 0.0, 0.0]\n",
      "[0.0, 0.0, 0.0, 0.0]\n",
      "[0.0, 0.0, 0.0, 0.0]\n",
      "[0.0, 0.0, 0.0, 0.0]\n",
      "[0.0, 0.0, 0.0, 0.0]\n",
      "[0.0, 0.0, 0.0, 0.0]\n",
      "[0.0, 0.0, 0.0, 0.0]\n",
      "[0.0, 0.0, 0.0, 0.0]\n",
      "[0.0, 0.0, 0.02, 0.02]\n"
     ]
    },
    {
     "name": "stderr",
     "output_type": "stream",
     "text": [
      "  0%|▏                                                                                                                                                                | 16/16604 [00:00<07:32, 36.64it/s]"
     ]
    },
    {
     "name": "stdout",
     "output_type": "stream",
     "text": [
      "[0.0, 0.0, 0.02, 0.02]\n",
      "[0.08, 0.08, 0.06, 0.06]\n",
      "[0.14, 0.14, 0.12, 0.08]\n",
      "[0.2, 0.24, 0.22, 0.24]\n",
      "[0.1, 0.12, 0.08, 0.04]\n",
      "[0.24, 0.24, 0.22, 0.16]\n",
      "[0.12, 0.14, 0.12, 0.1]\n",
      "[0.1, 0.1, 0.08, 0.06]\n",
      "[0.04, 0.04, 0.02, 0.0]\n"
     ]
    },
    {
     "name": "stderr",
     "output_type": "stream",
     "text": [
      "  0%|▏                                                                                                                                                                | 24/16604 [00:00<07:34, 36.51it/s]"
     ]
    },
    {
     "name": "stdout",
     "output_type": "stream",
     "text": [
      "[0.24, 0.26, 0.24, 0.18]\n",
      "[0.06, 0.08, 0.04, 0.04]\n",
      "[0.12, 0.14, 0.1, 0.06]\n",
      "[0.14, 0.14, 0.12, 0.1]\n",
      "[0.14, 0.14, 0.12, 0.1]\n",
      "[0.16, 0.22, 0.12, 0.1]\n",
      "[0.16, 0.18, 0.16, 0.14]\n",
      "[0.16, 0.16, 0.14, 0.14]\n",
      "[0.06, 0.06, 0.04, 0.04]\n"
     ]
    },
    {
     "name": "stderr",
     "output_type": "stream",
     "text": [
      "  0%|▎                                                                                                                                                                | 32/16604 [00:00<07:37, 36.19it/s]"
     ]
    },
    {
     "name": "stdout",
     "output_type": "stream",
     "text": [
      "[0.14, 0.14, 0.12, 0.12]\n",
      "[0.12, 0.14, 0.08, 0.04]\n",
      "[0.1, 0.12, 0.08, 0.04]\n",
      "[0.08, 0.08, 0.06, 0.02]\n",
      "[0.14, 0.14, 0.12, 0.1]\n",
      "[0.18, 0.24, 0.16, 0.16]\n",
      "[0.1, 0.1, 0.08, 0.04]\n"
     ]
    },
    {
     "name": "stderr",
     "output_type": "stream",
     "text": [
      "  0%|▍                                                                                                                                                                | 40/16604 [00:01<07:56, 34.75it/s]"
     ]
    },
    {
     "name": "stdout",
     "output_type": "stream",
     "text": [
      "[0.22, 0.24, 0.2, 0.18]\n",
      "[0.1, 0.1, 0.08, 0.04]\n",
      "[0.2, 0.24, 0.16, 0.12]\n",
      "[0.2, 0.22, 0.18, 0.2]\n",
      "[0.08, 0.08, 0.06, 0.06]\n",
      "[0.16, 0.2, 0.16, 0.16]\n",
      "[0.24, 0.24, 0.2, 0.2]\n",
      "[0.22, 0.24, 0.22, 0.18]\n",
      "[0.08, 0.08, 0.06, 0.06]\n"
     ]
    },
    {
     "name": "stderr",
     "output_type": "stream",
     "text": [
      "  0%|▍                                                                                                                                                                | 48/16604 [00:01<07:50, 35.16it/s]"
     ]
    },
    {
     "name": "stdout",
     "output_type": "stream",
     "text": [
      "[0.08, 0.08, 0.06, 0.06]\n",
      "[0.18, 0.18, 0.16, 0.16]\n",
      "[0.08, 0.08, 0.06, 0.06]\n",
      "[0.08, 0.08, 0.06, 0.06]\n",
      "[0.16, 0.2, 0.18, 0.2]\n",
      "[0.16, 0.2, 0.14, 0.14]\n",
      "[0.1, 0.1, 0.08, 0.1]\n",
      "[0.18, 0.22, 0.18, 0.18]\n"
     ]
    },
    {
     "name": "stderr",
     "output_type": "stream",
     "text": [
      "  0%|▌                                                                                                                                                                | 56/16604 [00:01<07:43, 35.73it/s]"
     ]
    },
    {
     "name": "stdout",
     "output_type": "stream",
     "text": [
      "[0.18, 0.2, 0.18, 0.16]\n",
      "[0.08, 0.08, 0.08, 0.06]\n",
      "[0.1, 0.14, 0.08, 0.08]\n",
      "[0.08, 0.08, 0.06, 0.1]\n",
      "[0.08, 0.08, 0.06, 0.06]\n",
      "[0.08, 0.08, 0.08, 0.04]\n",
      "[0.18, 0.2, 0.16, 0.16]\n",
      "[0.08, 0.1, 0.06, 0.06]\n"
     ]
    },
    {
     "name": "stderr",
     "output_type": "stream",
     "text": [
      "  0%|▌                                                                                                                                                                | 64/16604 [00:01<07:40, 35.91it/s]"
     ]
    },
    {
     "name": "stdout",
     "output_type": "stream",
     "text": [
      "[0.16, 0.18, 0.18, 0.18]\n",
      "[0.16, 0.16, 0.14, 0.14]\n",
      "[0.2, 0.22, 0.2, 0.2]\n",
      "[0.1, 0.1, 0.08, 0.08]\n",
      "[0.02, 0.02, 0.02, 0.0]\n",
      "[0.08, 0.08, 0.06, 0.06]\n",
      "[0.2, 0.26, 0.18, 0.18]\n",
      "[0.24, 0.28, 0.18, 0.14]\n"
     ]
    },
    {
     "name": "stderr",
     "output_type": "stream",
     "text": [
      "  0%|▋                                                                                                                                                                | 72/16604 [00:02<07:36, 36.18it/s]"
     ]
    },
    {
     "name": "stdout",
     "output_type": "stream",
     "text": [
      "[0.14, 0.16, 0.14, 0.12]\n",
      "[0.06, 0.06, 0.06, 0.02]\n",
      "[0.1, 0.12, 0.08, 0.08]\n",
      "[0.18, 0.2, 0.16, 0.18]\n",
      "[0.08, 0.08, 0.08, 0.08]\n",
      "[0.06, 0.06, 0.06, 0.06]\n",
      "[0.04, 0.04, 0.04, 0.02]\n",
      "[0.1, 0.12, 0.14, 0.18]\n"
     ]
    },
    {
     "name": "stderr",
     "output_type": "stream",
     "text": [
      "  0%|▊                                                                                                                                                                | 80/16604 [00:02<07:35, 36.24it/s]"
     ]
    },
    {
     "name": "stdout",
     "output_type": "stream",
     "text": [
      "[0.16, 0.18, 0.18, 0.2]\n",
      "[0.16, 0.18, 0.14, 0.18]\n",
      "[0.08, 0.08, 0.06, 0.06]\n",
      "[0.16, 0.18, 0.16, 0.18]\n",
      "[0.18, 0.18, 0.18, 0.18]\n",
      "[0.08, 0.08, 0.06, 0.06]\n",
      "[0.08, 0.08, 0.08, 0.04]\n",
      "[0.04, 0.04, 0.04, 0.04]\n"
     ]
    },
    {
     "name": "stderr",
     "output_type": "stream",
     "text": [
      "  1%|▊                                                                                                                                                                | 88/16604 [00:02<07:34, 36.31it/s]"
     ]
    },
    {
     "name": "stdout",
     "output_type": "stream",
     "text": [
      "[0.08, 0.08, 0.08, 0.08]\n",
      "[0.14, 0.16, 0.14, 0.14]\n",
      "[0.04, 0.04, 0.02, 0.02]\n",
      "[0.08, 0.08, 0.06, 0.06]\n",
      "[0.0, 0.0, 0.0, 0.0]\n",
      "[0.0, 0.0, 0.0, 0.0]\n",
      "[0.16, 0.16, 0.14, 0.1]\n",
      "[0.14, 0.14, 0.12, 0.12]\n"
     ]
    },
    {
     "name": "stderr",
     "output_type": "stream",
     "text": [
      "  1%|▉                                                                                                                                                                | 96/16604 [00:02<07:35, 36.26it/s]"
     ]
    },
    {
     "name": "stdout",
     "output_type": "stream",
     "text": [
      "[0.2, 0.2, 0.18, 0.16]\n",
      "[0.08, 0.08, 0.1, 0.1]\n",
      "[0.16, 0.16, 0.16, 0.12]\n",
      "[0.04, 0.04, 0.04, 0.04]\n",
      "[0.16, 0.16, 0.14, 0.14]\n",
      "[0.14, 0.2, 0.1, 0.08]\n",
      "[0.22, 0.22, 0.18, 0.16]\n",
      "[0.04, 0.04, 0.02, 0.02]\n"
     ]
    },
    {
     "name": "stderr",
     "output_type": "stream",
     "text": [
      "  1%|█                                                                                                                                                               | 104/16604 [00:02<07:32, 36.46it/s]"
     ]
    },
    {
     "name": "stdout",
     "output_type": "stream",
     "text": [
      "[0.1, 0.1, 0.1, 0.04]\n",
      "[0.18, 0.18, 0.16, 0.16]\n",
      "[0.2, 0.24, 0.16, 0.16]\n",
      "[0.22, 0.22, 0.18, 0.16]\n",
      "[0.16, 0.16, 0.14, 0.14]\n",
      "[0.14, 0.14, 0.14, 0.14]\n",
      "[0.2, 0.24, 0.16, 0.16]\n",
      "[0.08, 0.08, 0.06, 0.06]\n"
     ]
    },
    {
     "name": "stderr",
     "output_type": "stream",
     "text": [
      "  1%|█                                                                                                                                                               | 112/16604 [00:03<07:29, 36.72it/s]"
     ]
    },
    {
     "name": "stdout",
     "output_type": "stream",
     "text": [
      "[0.12, 0.12, 0.08, 0.08]\n",
      "[0.1, 0.1, 0.08, 0.08]\n",
      "[0.02, 0.02, 0.02, 0.02]\n",
      "[0.08, 0.1, 0.06, 0.08]\n",
      "[0.02, 0.02, 0.02, 0.02]\n",
      "[0.02, 0.02, 0.02, 0.02]\n",
      "[0.1, 0.1, 0.08, 0.08]\n",
      "[0.1, 0.1, 0.08, 0.08]\n"
     ]
    },
    {
     "name": "stderr",
     "output_type": "stream",
     "text": [
      "  1%|█▏                                                                                                                                                              | 120/16604 [00:03<07:30, 36.63it/s]"
     ]
    },
    {
     "name": "stdout",
     "output_type": "stream",
     "text": [
      "[0.1, 0.1, 0.08, 0.08]\n",
      "[0.1, 0.1, 0.08, 0.08]\n",
      "[0.06, 0.06, 0.04, 0.04]\n",
      "[0.04, 0.04, 0.02, 0.02]\n",
      "[0.1, 0.1, 0.08, 0.08]\n",
      "[0.1, 0.1, 0.08, 0.08]\n",
      "[0.12, 0.14, 0.14, 0.14]\n",
      "[0.0, 0.0, 0.02, 0.0]\n"
     ]
    },
    {
     "name": "stderr",
     "output_type": "stream",
     "text": [
      "  1%|█▏                                                                                                                                                              | 128/16604 [00:03<07:34, 36.27it/s]"
     ]
    },
    {
     "name": "stdout",
     "output_type": "stream",
     "text": [
      "[0.18, 0.2, 0.18, 0.18]\n",
      "[0.08, 0.08, 0.08, 0.02]\n",
      "[0.14, 0.16, 0.14, 0.16]\n",
      "[0.14, 0.14, 0.12, 0.12]\n",
      "[0.14, 0.14, 0.14, 0.12]\n",
      "[0.18, 0.18, 0.18, 0.12]\n",
      "[0.02, 0.02, 0.02, 0.0]\n",
      "[0.06, 0.06, 0.06, 0.04]\n"
     ]
    },
    {
     "name": "stderr",
     "output_type": "stream",
     "text": [
      "  1%|█▎                                                                                                                                                              | 136/16604 [00:03<07:32, 36.37it/s]"
     ]
    },
    {
     "name": "stdout",
     "output_type": "stream",
     "text": [
      "[0.06, 0.06, 0.08, 0.08]\n",
      "[0.16, 0.16, 0.18, 0.12]\n",
      "[0.02, 0.02, 0.02, 0.0]\n",
      "[0.14, 0.18, 0.14, 0.2]\n",
      "[0.04, 0.04, 0.04, 0.04]\n",
      "[0.0, 0.0, 0.02, 0.0]\n",
      "[0.14, 0.14, 0.14, 0.08]\n",
      "[0.04, 0.04, 0.04, 0.02]\n"
     ]
    },
    {
     "name": "stderr",
     "output_type": "stream",
     "text": [
      "  1%|█▍                                                                                                                                                              | 144/16604 [00:03<07:28, 36.70it/s]"
     ]
    },
    {
     "name": "stdout",
     "output_type": "stream",
     "text": [
      "[0.04, 0.04, 0.04, 0.02]\n",
      "[0.0, 0.0, 0.0, 0.0]\n",
      "[0.08, 0.08, 0.08, 0.06]\n",
      "[0.02, 0.02, 0.04, 0.0]\n",
      "[0.18, 0.18, 0.18, 0.12]\n",
      "[0.06, 0.06, 0.08, 0.02]\n",
      "[0.02, 0.02, 0.04, 0.0]\n",
      "[0.04, 0.04, 0.06, 0.0]\n"
     ]
    },
    {
     "name": "stderr",
     "output_type": "stream",
     "text": [
      "  1%|█▍                                                                                                                                                              | 152/16604 [00:04<07:29, 36.59it/s]"
     ]
    },
    {
     "name": "stdout",
     "output_type": "stream",
     "text": [
      "[0.16, 0.16, 0.16, 0.12]\n",
      "[0.08, 0.08, 0.08, 0.02]\n",
      "[0.14, 0.18, 0.14, 0.18]\n",
      "[0.14, 0.14, 0.12, 0.12]\n",
      "[0.16, 0.16, 0.16, 0.14]\n",
      "[0.14, 0.14, 0.12, 0.1]\n",
      "[0.14, 0.14, 0.12, 0.12]\n",
      "[0.18, 0.24, 0.18, 0.22]\n"
     ]
    },
    {
     "name": "stderr",
     "output_type": "stream",
     "text": [
      "  1%|█▌                                                                                                                                                              | 160/16604 [00:04<07:27, 36.76it/s]"
     ]
    },
    {
     "name": "stdout",
     "output_type": "stream",
     "text": [
      "[0.06, 0.06, 0.06, 0.06]\n",
      "[0.16, 0.18, 0.14, 0.16]\n",
      "[0.02, 0.02, 0.04, 0.0]\n",
      "[0.2, 0.2, 0.2, 0.14]\n",
      "[0.06, 0.06, 0.06, 0.02]\n",
      "[0.12, 0.12, 0.1, 0.1]\n",
      "[0.12, 0.12, 0.12, 0.12]\n",
      "[0.16, 0.22, 0.18, 0.26]\n"
     ]
    },
    {
     "name": "stderr",
     "output_type": "stream",
     "text": [
      "  1%|█▌                                                                                                                                                              | 168/16604 [00:04<07:26, 36.79it/s]"
     ]
    },
    {
     "name": "stdout",
     "output_type": "stream",
     "text": [
      "[0.14, 0.14, 0.12, 0.12]\n",
      "[0.06, 0.06, 0.08, 0.02]\n",
      "[0.06, 0.06, 0.08, 0.02]\n",
      "[0.08, 0.08, 0.08, 0.04]\n",
      "[0.18, 0.18, 0.16, 0.16]\n",
      "[0.04, 0.04, 0.06, 0.02]\n",
      "[0.04, 0.04, 0.04, 0.04]\n",
      "[0.12, 0.12, 0.1, 0.1]\n"
     ]
    },
    {
     "name": "stderr",
     "output_type": "stream",
     "text": [
      "  1%|█▋                                                                                                                                                              | 176/16604 [00:04<07:27, 36.75it/s]"
     ]
    },
    {
     "name": "stdout",
     "output_type": "stream",
     "text": [
      "[0.12, 0.12, 0.12, 0.12]\n",
      "[0.14, 0.18, 0.14, 0.18]\n",
      "[0.02, 0.02, 0.04, 0.0]\n",
      "[0.12, 0.14, 0.12, 0.1]\n",
      "[0.18, 0.2, 0.16, 0.16]\n",
      "[0.04, 0.04, 0.04, 0.04]\n",
      "[0.18, 0.18, 0.16, 0.12]\n",
      "[0.02, 0.02, 0.02, 0.02]\n"
     ]
    },
    {
     "name": "stderr",
     "output_type": "stream",
     "text": [
      "  1%|█▊                                                                                                                                                              | 184/16604 [00:05<07:29, 36.57it/s]"
     ]
    },
    {
     "name": "stdout",
     "output_type": "stream",
     "text": [
      "[0.04, 0.04, 0.06, 0.04]\n",
      "[0.02, 0.02, 0.02, 0.04]\n",
      "[0.04, 0.04, 0.04, 0.04]\n",
      "[0.1, 0.1, 0.08, 0.08]\n",
      "[0.08, 0.08, 0.06, 0.06]\n",
      "[0.18, 0.2, 0.18, 0.14]\n",
      "[0.06, 0.06, 0.06, 0.02]\n",
      "[0.14, 0.14, 0.12, 0.12]\n"
     ]
    },
    {
     "name": "stderr",
     "output_type": "stream",
     "text": [
      "  1%|█▊                                                                                                                                                              | 192/16604 [00:05<07:26, 36.78it/s]"
     ]
    },
    {
     "name": "stdout",
     "output_type": "stream",
     "text": [
      "[0.02, 0.02, 0.04, 0.0]\n",
      "[0.06, 0.06, 0.08, 0.02]\n",
      "[0.04, 0.04, 0.04, 0.04]\n",
      "[0.14, 0.18, 0.14, 0.2]\n",
      "[0.18, 0.2, 0.16, 0.18]\n",
      "[0.02, 0.02, 0.02, 0.02]\n",
      "[0.1, 0.1, 0.08, 0.08]\n",
      "[0.06, 0.06, 0.08, 0.04]\n"
     ]
    },
    {
     "name": "stderr",
     "output_type": "stream",
     "text": [
      "  1%|█▉                                                                                                                                                              | 200/16604 [00:05<07:26, 36.75it/s]"
     ]
    },
    {
     "name": "stdout",
     "output_type": "stream",
     "text": [
      "[0.02, 0.02, 0.02, 0.0]\n",
      "[0.16, 0.16, 0.14, 0.14]\n",
      "[0.18, 0.22, 0.16, 0.2]\n",
      "[0.1, 0.1, 0.1, 0.02]\n",
      "[0.06, 0.06, 0.06, 0.02]\n",
      "[0.06, 0.06, 0.06, 0.02]\n",
      "[0.16, 0.16, 0.14, 0.14]\n",
      "[0.1, 0.1, 0.08, 0.08]\n"
     ]
    },
    {
     "name": "stderr",
     "output_type": "stream",
     "text": [
      "  1%|██                                                                                                                                                              | 208/16604 [00:05<07:26, 36.69it/s]"
     ]
    },
    {
     "name": "stdout",
     "output_type": "stream",
     "text": [
      "[0.16, 0.18, 0.16, 0.16]\n",
      "[0.18, 0.2, 0.18, 0.18]\n",
      "[0.14, 0.14, 0.12, 0.12]\n",
      "[0.02, 0.02, 0.02, 0.02]\n",
      "[0.06, 0.06, 0.06, 0.02]\n",
      "[0.1, 0.1, 0.08, 0.08]\n",
      "[0.14, 0.14, 0.12, 0.12]\n",
      "[0.1, 0.1, 0.08, 0.08]\n"
     ]
    },
    {
     "name": "stderr",
     "output_type": "stream",
     "text": [
      "  1%|██                                                                                                                                                              | 216/16604 [00:05<07:28, 36.54it/s]"
     ]
    },
    {
     "name": "stdout",
     "output_type": "stream",
     "text": [
      "[0.14, 0.14, 0.12, 0.12]\n",
      "[0.06, 0.06, 0.06, 0.02]\n",
      "[0.02, 0.02, 0.02, 0.02]\n",
      "[0.04, 0.04, 0.04, 0.04]\n",
      "[0.12, 0.12, 0.12, 0.12]\n",
      "[0.16, 0.16, 0.14, 0.14]\n",
      "[0.16, 0.16, 0.14, 0.14]\n",
      "[0.18, 0.18, 0.18, 0.12]\n"
     ]
    },
    {
     "name": "stderr",
     "output_type": "stream",
     "text": [
      "  1%|██▏                                                                                                                                                             | 224/16604 [00:06<07:27, 36.61it/s]"
     ]
    },
    {
     "name": "stdout",
     "output_type": "stream",
     "text": [
      "[0.06, 0.06, 0.06, 0.02]\n",
      "[0.16, 0.16, 0.14, 0.14]\n",
      "[0.06, 0.06, 0.06, 0.04]\n",
      "[0.12, 0.12, 0.1, 0.08]\n",
      "[0.22, 0.22, 0.2, 0.16]\n",
      "[0.14, 0.14, 0.12, 0.12]\n",
      "[0.14, 0.14, 0.14, 0.12]\n",
      "[0.12, 0.12, 0.1, 0.1]\n"
     ]
    },
    {
     "name": "stderr",
     "output_type": "stream",
     "text": [
      "  1%|██▏                                                                                                                                                             | 232/16604 [00:06<07:24, 36.87it/s]"
     ]
    },
    {
     "name": "stdout",
     "output_type": "stream",
     "text": [
      "[0.18, 0.18, 0.18, 0.1]\n",
      "[0.02, 0.02, 0.02, 0.02]\n",
      "[0.16, 0.16, 0.14, 0.12]\n",
      "[0.08, 0.08, 0.1, 0.1]\n",
      "[0.08, 0.08, 0.08, 0.04]\n",
      "[0.24, 0.24, 0.22, 0.16]\n",
      "[0.24, 0.24, 0.22, 0.16]\n",
      "[0.12, 0.12, 0.1, 0.1]\n"
     ]
    },
    {
     "name": "stderr",
     "output_type": "stream",
     "text": [
      "  1%|██▎                                                                                                                                                             | 240/16604 [00:06<07:24, 36.81it/s]"
     ]
    },
    {
     "name": "stdout",
     "output_type": "stream",
     "text": [
      "[0.1, 0.1, 0.08, 0.08]\n",
      "[0.16, 0.16, 0.14, 0.14]\n",
      "[0.18, 0.18, 0.16, 0.16]\n",
      "[0.12, 0.12, 0.14, 0.14]\n",
      "[0.16, 0.16, 0.14, 0.14]\n",
      "[0.06, 0.06, 0.02, 0.02]\n",
      "[0.08, 0.08, 0.06, 0.06]\n",
      "[0.04, 0.04, 0.04, 0.04]\n"
     ]
    },
    {
     "name": "stderr",
     "output_type": "stream",
     "text": [
      "  1%|██▍                                                                                                                                                             | 248/16604 [00:06<07:27, 36.53it/s]"
     ]
    },
    {
     "name": "stdout",
     "output_type": "stream",
     "text": [
      "[0.14, 0.14, 0.12, 0.12]\n",
      "[0.1, 0.1, 0.1, 0.1]\n",
      "[0.02, 0.02, 0.02, 0.02]\n",
      "[0.02, 0.02, 0.02, 0.02]\n",
      "[0.02, 0.02, 0.0, 0.0]\n",
      "[0.1, 0.12, 0.06, 0.06]\n",
      "[0.14, 0.14, 0.12, 0.12]\n",
      "[0.1, 0.1, 0.08, 0.08]\n"
     ]
    },
    {
     "name": "stderr",
     "output_type": "stream",
     "text": [
      "  2%|██▍                                                                                                                                                             | 256/16604 [00:07<07:27, 36.53it/s]"
     ]
    },
    {
     "name": "stdout",
     "output_type": "stream",
     "text": [
      "[0.14, 0.14, 0.12, 0.12]\n",
      "[0.14, 0.14, 0.12, 0.12]\n",
      "[0.14, 0.14, 0.12, 0.12]\n",
      "[0.14, 0.18, 0.14, 0.18]\n",
      "[0.1, 0.1, 0.08, 0.08]\n",
      "[0.1, 0.12, 0.08, 0.1]\n",
      "[0.06, 0.06, 0.06, 0.02]\n",
      "[0.18, 0.22, 0.18, 0.18]\n"
     ]
    },
    {
     "name": "stderr",
     "output_type": "stream",
     "text": [
      "  2%|██▌                                                                                                                                                             | 264/16604 [00:07<07:26, 36.64it/s]"
     ]
    },
    {
     "name": "stdout",
     "output_type": "stream",
     "text": [
      "[0.1, 0.1, 0.1, 0.06]\n",
      "[0.14, 0.14, 0.12, 0.12]\n",
      "[0.12, 0.12, 0.1, 0.1]\n",
      "[0.14, 0.14, 0.12, 0.12]\n",
      "[0.14, 0.14, 0.12, 0.12]\n",
      "[0.14, 0.14, 0.12, 0.12]\n",
      "[0.14, 0.14, 0.12, 0.12]\n",
      "[0.04, 0.04, 0.04, 0.04]\n"
     ]
    },
    {
     "name": "stderr",
     "output_type": "stream",
     "text": [
      "  2%|██▌                                                                                                                                                             | 272/16604 [00:07<07:24, 36.73it/s]"
     ]
    },
    {
     "name": "stdout",
     "output_type": "stream",
     "text": [
      "[0.1, 0.1, 0.08, 0.08]\n",
      "[0.14, 0.14, 0.12, 0.12]\n",
      "[0.1, 0.1, 0.08, 0.08]\n",
      "[0.14, 0.14, 0.12, 0.08]\n",
      "[0.02, 0.02, 0.04, 0.0]\n",
      "[0.1, 0.1, 0.1, 0.08]\n",
      "[0.18, 0.24, 0.18, 0.22]\n",
      "[0.06, 0.06, 0.06, 0.02]\n"
     ]
    },
    {
     "name": "stderr",
     "output_type": "stream",
     "text": [
      "  2%|██▋                                                                                                                                                             | 280/16604 [00:07<07:24, 36.70it/s]"
     ]
    },
    {
     "name": "stdout",
     "output_type": "stream",
     "text": [
      "[0.16, 0.2, 0.16, 0.16]\n",
      "[0.02, 0.02, 0.02, 0.02]\n",
      "[0.06, 0.06, 0.06, 0.04]\n",
      "[0.04, 0.04, 0.04, 0.04]\n",
      "[0.02, 0.02, 0.02, 0.02]\n",
      "[0.06, 0.06, 0.06, 0.04]\n",
      "[0.06, 0.06, 0.02, 0.02]\n",
      "[0.14, 0.16, 0.12, 0.12]\n"
     ]
    },
    {
     "name": "stderr",
     "output_type": "stream",
     "text": [
      "  2%|██▊                                                                                                                                                             | 288/16604 [00:07<07:25, 36.63it/s]"
     ]
    },
    {
     "name": "stdout",
     "output_type": "stream",
     "text": [
      "[0.18, 0.18, 0.12, 0.1]\n",
      "[0.18, 0.18, 0.12, 0.1]\n",
      "[0.14, 0.16, 0.12, 0.12]\n",
      "[0.22, 0.22, 0.14, 0.12]\n",
      "[0.12, 0.14, 0.12, 0.14]\n",
      "[0.16, 0.16, 0.16, 0.12]\n",
      "[0.18, 0.18, 0.18, 0.1]\n",
      "[0.06, 0.06, 0.08, 0.04]\n"
     ]
    },
    {
     "name": "stderr",
     "output_type": "stream",
     "text": [
      "  2%|██▊                                                                                                                                                             | 296/16604 [00:08<07:24, 36.69it/s]"
     ]
    },
    {
     "name": "stdout",
     "output_type": "stream",
     "text": [
      "[0.06, 0.06, 0.06, 0.02]\n",
      "[0.04, 0.04, 0.04, 0.02]\n",
      "[0.12, 0.12, 0.12, 0.08]\n",
      "[0.08, 0.08, 0.08, 0.06]\n",
      "[0.04, 0.04, 0.04, 0.02]\n",
      "[0.06, 0.06, 0.06, 0.02]\n",
      "[0.06, 0.06, 0.06, 0.02]\n",
      "[0.04, 0.04, 0.04, 0.02]\n"
     ]
    },
    {
     "name": "stderr",
     "output_type": "stream",
     "text": [
      "  2%|██▉                                                                                                                                                             | 304/16604 [00:08<07:28, 36.31it/s]"
     ]
    },
    {
     "name": "stdout",
     "output_type": "stream",
     "text": [
      "[0.12, 0.12, 0.12, 0.04]\n",
      "[0.1, 0.1, 0.1, 0.02]\n",
      "[0.1, 0.1, 0.08, 0.08]\n",
      "[0.04, 0.04, 0.04, 0.02]\n",
      "[0.02, 0.02, 0.04, 0.02]\n",
      "[0.0, 0.0, 0.02, 0.0]\n",
      "[0.04, 0.04, 0.06, 0.02]\n",
      "[0.1, 0.1, 0.08, 0.08]\n"
     ]
    },
    {
     "name": "stderr",
     "output_type": "stream",
     "text": [
      "  2%|███                                                                                                                                                             | 312/16604 [00:08<07:23, 36.76it/s]"
     ]
    },
    {
     "name": "stdout",
     "output_type": "stream",
     "text": [
      "[0.02, 0.02, 0.02, 0.02]\n",
      "[0.12, 0.12, 0.12, 0.12]\n",
      "[0.24, 0.24, 0.22, 0.18]\n",
      "[0.06, 0.06, 0.06, 0.02]\n",
      "[0.1, 0.1, 0.1, 0.06]\n",
      "[0.1, 0.1, 0.08, 0.08]\n",
      "[0.12, 0.12, 0.08, 0.06]\n",
      "[0.12, 0.12, 0.08, 0.08]\n"
     ]
    },
    {
     "name": "stderr",
     "output_type": "stream",
     "text": [
      "  2%|███                                                                                                                                                             | 320/16604 [00:08<07:24, 36.64it/s]"
     ]
    },
    {
     "name": "stdout",
     "output_type": "stream",
     "text": [
      "[0.26, 0.22, 0.12, 0.06]\n",
      "[0.12, 0.12, 0.1, 0.08]\n",
      "[0.16, 0.18, 0.08, 0.08]\n",
      "[0.12, 0.12, 0.08, 0.06]\n",
      "[0.26, 0.22, 0.12, 0.06]\n",
      "[0.1, 0.1, 0.04, 0.02]\n",
      "[0.1, 0.1, 0.04, 0.02]\n",
      "[0.08, 0.08, 0.08, 0.08]\n"
     ]
    },
    {
     "name": "stderr",
     "output_type": "stream",
     "text": [
      "  2%|███▏                                                                                                                                                            | 328/16604 [00:09<07:24, 36.59it/s]"
     ]
    },
    {
     "name": "stdout",
     "output_type": "stream",
     "text": [
      "[0.18, 0.2, 0.1, 0.08]\n",
      "[0.24, 0.22, 0.12, 0.08]\n",
      "[0.24, 0.2, 0.12, 0.06]\n",
      "[0.2, 0.16, 0.12, 0.08]\n",
      "[0.0, 0.0, 0.0, 0.0]\n",
      "[0.22, 0.2, 0.1, 0.08]\n",
      "[0.26, 0.22, 0.12, 0.06]\n",
      "[0.1, 0.1, 0.08, 0.06]\n"
     ]
    },
    {
     "name": "stderr",
     "output_type": "stream",
     "text": [
      "  2%|███▏                                                                                                                                                            | 336/16604 [00:09<07:23, 36.66it/s]"
     ]
    },
    {
     "name": "stdout",
     "output_type": "stream",
     "text": [
      "[0.2, 0.16, 0.12, 0.08]\n",
      "[0.24, 0.24, 0.14, 0.08]\n",
      "[0.2, 0.2, 0.14, 0.12]\n",
      "[0.06, 0.08, 0.02, 0.0]\n",
      "[0.02, 0.02, 0.02, 0.0]\n",
      "[0.02, 0.02, 0.02, 0.0]\n",
      "[0.18, 0.18, 0.12, 0.06]\n",
      "[0.16, 0.18, 0.08, 0.06]\n"
     ]
    },
    {
     "name": "stderr",
     "output_type": "stream",
     "text": [
      "  2%|███▎                                                                                                                                                            | 344/16604 [00:09<07:24, 36.60it/s]"
     ]
    },
    {
     "name": "stdout",
     "output_type": "stream",
     "text": [
      "[0.2, 0.18, 0.1, 0.06]\n",
      "[0.1, 0.08, 0.06, 0.06]\n",
      "[0.28, 0.24, 0.14, 0.08]\n",
      "[0.06, 0.06, 0.06, 0.06]\n",
      "[0.06, 0.06, 0.06, 0.04]\n",
      "[0.26, 0.22, 0.12, 0.06]\n",
      "[0.16, 0.16, 0.08, 0.06]\n",
      "[0.2, 0.16, 0.1, 0.06]\n"
     ]
    },
    {
     "name": "stderr",
     "output_type": "stream",
     "text": [
      "  2%|███▍                                                                                                                                                            | 352/16604 [00:09<07:24, 36.60it/s]"
     ]
    },
    {
     "name": "stdout",
     "output_type": "stream",
     "text": [
      "[0.28, 0.24, 0.14, 0.08]\n",
      "[0.04, 0.04, 0.04, 0.02]\n",
      "[0.26, 0.22, 0.12, 0.08]\n",
      "[0.06, 0.06, 0.06, 0.06]\n",
      "[0.12, 0.12, 0.08, 0.06]\n",
      "[0.16, 0.16, 0.08, 0.06]\n",
      "[0.26, 0.22, 0.12, 0.08]\n",
      "[0.16, 0.16, 0.08, 0.06]\n"
     ]
    },
    {
     "name": "stderr",
     "output_type": "stream",
     "text": [
      "  2%|███▍                                                                                                                                                            | 360/16604 [00:09<07:24, 36.53it/s]"
     ]
    },
    {
     "name": "stdout",
     "output_type": "stream",
     "text": [
      "[0.2, 0.16, 0.06, 0.02]\n",
      "[0.08, 0.06, 0.04, 0.02]\n",
      "[0.16, 0.14, 0.04, 0.0]\n",
      "[0.24, 0.2, 0.1, 0.08]\n",
      "[0.22, 0.18, 0.14, 0.14]\n",
      "[0.28, 0.24, 0.14, 0.08]\n",
      "[0.2, 0.16, 0.12, 0.08]\n",
      "[0.22, 0.18, 0.14, 0.08]\n"
     ]
    },
    {
     "name": "stderr",
     "output_type": "stream",
     "text": [
      "  2%|███▌                                                                                                                                                            | 368/16604 [00:10<07:25, 36.43it/s]"
     ]
    },
    {
     "name": "stdout",
     "output_type": "stream",
     "text": [
      "[0.18, 0.14, 0.06, 0.04]\n",
      "[0.22, 0.18, 0.08, 0.06]\n",
      "[0.12, 0.1, 0.08, 0.06]\n",
      "[0.1, 0.1, 0.02, 0.0]\n",
      "[0.08, 0.06, 0.04, 0.02]\n",
      "[0.16, 0.14, 0.02, 0.0]\n",
      "[0.06, 0.06, 0.06, 0.06]\n",
      "[0.18, 0.2, 0.12, 0.08]\n"
     ]
    },
    {
     "name": "stderr",
     "output_type": "stream",
     "text": [
      "  2%|███▌                                                                                                                                                            | 376/16604 [00:10<07:25, 36.40it/s]"
     ]
    },
    {
     "name": "stdout",
     "output_type": "stream",
     "text": [
      "[0.24, 0.2, 0.12, 0.08]\n",
      "[0.28, 0.24, 0.14, 0.08]\n",
      "[0.18, 0.14, 0.12, 0.08]\n",
      "[0.24, 0.2, 0.16, 0.14]\n",
      "[0.12, 0.08, 0.04, 0.02]\n",
      "[0.04, 0.04, 0.04, 0.04]\n",
      "[0.26, 0.22, 0.12, 0.06]\n",
      "[0.28, 0.24, 0.14, 0.08]\n"
     ]
    },
    {
     "name": "stderr",
     "output_type": "stream",
     "text": [
      "  2%|███▋                                                                                                                                                            | 384/16604 [00:10<07:29, 36.10it/s]"
     ]
    },
    {
     "name": "stdout",
     "output_type": "stream",
     "text": [
      "[0.2, 0.16, 0.12, 0.08]\n",
      "[0.1, 0.08, 0.06, 0.04]\n",
      "[0.24, 0.22, 0.08, 0.06]\n",
      "[0.14, 0.1, 0.06, 0.04]\n",
      "[0.32, 0.28, 0.18, 0.08]\n",
      "[0.26, 0.22, 0.12, 0.06]\n",
      "[0.12, 0.12, 0.08, 0.06]\n",
      "[0.14, 0.1, 0.06, 0.04]\n"
     ]
    },
    {
     "name": "stderr",
     "output_type": "stream",
     "text": [
      "  2%|███▊                                                                                                                                                            | 392/16604 [00:10<07:30, 35.96it/s]"
     ]
    },
    {
     "name": "stdout",
     "output_type": "stream",
     "text": [
      "[0.28, 0.24, 0.14, 0.08]\n",
      "[0.04, 0.04, 0.04, 0.08]\n",
      "[0.02, 0.02, 0.04, 0.02]\n",
      "[0.24, 0.24, 0.14, 0.08]\n",
      "[0.04, 0.04, 0.04, 0.04]\n",
      "[0.14, 0.14, 0.08, 0.06]\n",
      "[0.06, 0.06, 0.06, 0.02]\n",
      "[0.06, 0.06, 0.08, 0.02]\n"
     ]
    },
    {
     "name": "stderr",
     "output_type": "stream",
     "text": [
      "  2%|███▊                                                                                                                                                            | 400/16604 [00:10<07:28, 36.10it/s]"
     ]
    },
    {
     "name": "stdout",
     "output_type": "stream",
     "text": [
      "[0.02, 0.02, 0.02, 0.0]\n",
      "[0.06, 0.06, 0.06, 0.02]\n",
      "[0.02, 0.02, 0.04, 0.0]\n",
      "[0.24, 0.24, 0.18, 0.08]\n",
      "[0.04, 0.04, 0.04, 0.0]\n",
      "[0.0, 0.0, 0.02, 0.0]\n",
      "[0.2, 0.2, 0.1, 0.04]\n",
      "[0.04, 0.04, 0.02, 0.0]\n"
     ]
    },
    {
     "name": "stderr",
     "output_type": "stream",
     "text": [
      "  2%|███▉                                                                                                                                                            | 408/16604 [00:11<07:24, 36.42it/s]"
     ]
    },
    {
     "name": "stdout",
     "output_type": "stream",
     "text": [
      "[0.02, 0.02, 0.04, 0.0]\n",
      "[0.1, 0.1, 0.1, 0.02]\n",
      "[0.02, 0.02, 0.04, 0.0]\n",
      "[0.04, 0.04, 0.04, 0.04]\n",
      "[0.04, 0.06, 0.0, 0.0]\n",
      "[0.16, 0.16, 0.06, 0.06]\n",
      "[0.0, 0.0, 0.02, 0.0]\n",
      "[0.08, 0.08, 0.1, 0.02]\n"
     ]
    },
    {
     "name": "stderr",
     "output_type": "stream",
     "text": [
      "  3%|████                                                                                                                                                            | 416/16604 [00:11<07:26, 36.24it/s]"
     ]
    },
    {
     "name": "stdout",
     "output_type": "stream",
     "text": [
      "[0.02, 0.02, 0.02, 0.0]\n",
      "[0.0, 0.0, 0.02, 0.0]\n",
      "[0.02, 0.02, 0.02, 0.02]\n",
      "[0.02, 0.02, 0.02, 0.0]\n",
      "[0.02, 0.02, 0.04, 0.0]\n",
      "[0.04, 0.04, 0.06, 0.02]\n",
      "[0.04, 0.04, 0.06, 0.0]\n",
      "[0.0, 0.0, 0.0, 0.0]\n"
     ]
    },
    {
     "name": "stderr",
     "output_type": "stream",
     "text": [
      "  3%|████                                                                                                                                                            | 424/16604 [00:11<07:23, 36.49it/s]"
     ]
    },
    {
     "name": "stdout",
     "output_type": "stream",
     "text": [
      "[0.08, 0.08, 0.08, 0.02]\n",
      "[0.08, 0.08, 0.1, 0.02]\n",
      "[0.16, 0.16, 0.12, 0.1]\n",
      "[0.08, 0.08, 0.02, 0.0]\n",
      "[0.0, 0.0, 0.0, 0.0]\n",
      "[0.02, 0.02, 0.04, 0.0]\n",
      "[0.0, 0.0, 0.02, 0.0]\n",
      "[0.0, 0.0, 0.0, 0.0]\n"
     ]
    },
    {
     "name": "stderr",
     "output_type": "stream",
     "text": [
      "  3%|████▏                                                                                                                                                           | 432/16604 [00:11<07:24, 36.36it/s]"
     ]
    },
    {
     "name": "stdout",
     "output_type": "stream",
     "text": [
      "[0.02, 0.02, 0.04, 0.0]\n",
      "[0.14, 0.16, 0.14, 0.22]\n",
      "[0.06, 0.06, 0.08, 0.02]\n",
      "[0.02, 0.02, 0.04, 0.0]\n",
      "[0.06, 0.06, 0.06, 0.02]\n",
      "[0.04, 0.04, 0.06, 0.02]\n",
      "[0.06, 0.06, 0.08, 0.02]\n",
      "[0.14, 0.14, 0.08, 0.06]\n"
     ]
    },
    {
     "name": "stderr",
     "output_type": "stream",
     "text": [
      "  3%|████▏                                                                                                                                                           | 440/16604 [00:12<07:28, 36.07it/s]"
     ]
    },
    {
     "name": "stdout",
     "output_type": "stream",
     "text": [
      "[0.08, 0.08, 0.1, 0.02]\n",
      "[0.12, 0.12, 0.1, 0.08]\n",
      "[0.12, 0.12, 0.12, 0.06]\n",
      "[0.02, 0.02, 0.02, 0.0]\n",
      "[0.28, 0.3, 0.18, 0.08]\n",
      "[0.18, 0.18, 0.16, 0.08]\n",
      "[0.06, 0.06, 0.08, 0.02]\n",
      "[0.02, 0.02, 0.04, 0.0]\n"
     ]
    },
    {
     "name": "stderr",
     "output_type": "stream",
     "text": [
      "  3%|████▎                                                                                                                                                           | 448/16604 [00:12<07:26, 36.18it/s]"
     ]
    },
    {
     "name": "stdout",
     "output_type": "stream",
     "text": [
      "[0.06, 0.06, 0.06, 0.02]\n",
      "[0.04, 0.04, 0.04, 0.02]\n",
      "[0.08, 0.08, 0.08, 0.0]\n",
      "[0.12, 0.14, 0.1, 0.06]\n",
      "[0.14, 0.14, 0.08, 0.06]\n",
      "[0.06, 0.06, 0.06, 0.02]\n",
      "[0.1, 0.1, 0.08, 0.06]\n",
      "[0.14, 0.14, 0.16, 0.16]\n"
     ]
    },
    {
     "name": "stderr",
     "output_type": "stream",
     "text": [
      "  3%|████▍                                                                                                                                                           | 456/16604 [00:12<07:23, 36.41it/s]"
     ]
    },
    {
     "name": "stdout",
     "output_type": "stream",
     "text": [
      "[0.0, 0.0, 0.02, 0.0]\n",
      "[0.02, 0.02, 0.02, 0.0]\n",
      "[0.02, 0.02, 0.04, 0.0]\n",
      "[0.14, 0.14, 0.1, 0.06]\n",
      "[0.18, 0.18, 0.12, 0.06]\n",
      "[0.08, 0.08, 0.02, 0.0]\n",
      "[0.24, 0.24, 0.14, 0.08]\n",
      "[0.06, 0.06, 0.04, 0.1]\n"
     ]
    },
    {
     "name": "stderr",
     "output_type": "stream",
     "text": [
      "  3%|████▍                                                                                                                                                           | 464/16604 [00:12<07:24, 36.28it/s]"
     ]
    },
    {
     "name": "stdout",
     "output_type": "stream",
     "text": [
      "[0.16, 0.16, 0.14, 0.2]\n",
      "[0.18, 0.18, 0.14, 0.08]\n",
      "[0.02, 0.02, 0.04, 0.02]\n",
      "[0.08, 0.1, 0.04, 0.0]\n",
      "[0.1, 0.1, 0.06, 0.06]\n",
      "[0.16, 0.16, 0.12, 0.08]\n",
      "[0.12, 0.12, 0.08, 0.08]\n",
      "[0.12, 0.12, 0.12, 0.04]\n"
     ]
    },
    {
     "name": "stderr",
     "output_type": "stream",
     "text": [
      "  3%|████▌                                                                                                                                                           | 472/16604 [00:12<07:22, 36.44it/s]"
     ]
    },
    {
     "name": "stdout",
     "output_type": "stream",
     "text": [
      "[0.18, 0.18, 0.08, 0.06]\n",
      "[0.04, 0.04, 0.04, 0.0]\n",
      "[0.06, 0.06, 0.06, 0.02]\n",
      "[0.06, 0.06, 0.06, 0.02]\n",
      "[0.06, 0.06, 0.08, 0.02]\n",
      "[0.16, 0.16, 0.14, 0.1]\n",
      "[0.08, 0.08, 0.02, 0.0]\n",
      "[0.18, 0.18, 0.12, 0.06]\n"
     ]
    },
    {
     "name": "stderr",
     "output_type": "stream",
     "text": [
      "  3%|████▋                                                                                                                                                           | 480/16604 [00:13<07:22, 36.41it/s]"
     ]
    },
    {
     "name": "stdout",
     "output_type": "stream",
     "text": [
      "[0.16, 0.16, 0.12, 0.08]\n",
      "[0.06, 0.06, 0.06, 0.02]\n",
      "[0.06, 0.06, 0.08, 0.02]\n",
      "[0.22, 0.24, 0.12, 0.06]\n",
      "[0.06, 0.06, 0.06, 0.02]\n",
      "[0.02, 0.02, 0.0, 0.0]\n",
      "[0.02, 0.02, 0.04, 0.0]\n",
      "[0.08, 0.08, 0.1, 0.04]\n"
     ]
    },
    {
     "name": "stderr",
     "output_type": "stream",
     "text": [
      "  3%|████▋                                                                                                                                                           | 488/16604 [00:13<07:24, 36.29it/s]"
     ]
    },
    {
     "name": "stdout",
     "output_type": "stream",
     "text": [
      "[0.02, 0.02, 0.04, 0.0]\n",
      "[0.1, 0.1, 0.08, 0.06]\n",
      "[0.16, 0.16, 0.12, 0.14]\n",
      "[0.02, 0.02, 0.04, 0.0]\n",
      "[0.22, 0.22, 0.12, 0.06]\n",
      "[0.22, 0.22, 0.14, 0.06]\n",
      "[0.12, 0.12, 0.06, 0.04]\n",
      "[0.04, 0.04, 0.06, 0.02]\n"
     ]
    },
    {
     "name": "stderr",
     "output_type": "stream",
     "text": [
      "  3%|████▊                                                                                                                                                           | 496/16604 [00:13<07:19, 36.66it/s]"
     ]
    },
    {
     "name": "stdout",
     "output_type": "stream",
     "text": [
      "[0.2, 0.2, 0.16, 0.18]\n",
      "[0.18, 0.18, 0.14, 0.04]\n",
      "[0.06, 0.06, 0.06, 0.02]\n",
      "[0.04, 0.04, 0.06, 0.0]\n",
      "[0.06, 0.06, 0.04, 0.0]\n",
      "[0.06, 0.06, 0.08, 0.02]\n",
      "[0.02, 0.02, 0.02, 0.0]\n",
      "[0.0, 0.0, 0.0, 0.0]\n"
     ]
    },
    {
     "name": "stderr",
     "output_type": "stream",
     "text": [
      "  3%|████▊                                                                                                                                                           | 504/16604 [00:13<07:19, 36.65it/s]"
     ]
    },
    {
     "name": "stdout",
     "output_type": "stream",
     "text": [
      "[0.02, 0.02, 0.04, 0.0]\n",
      "[0.08, 0.08, 0.04, 0.02]\n",
      "[0.16, 0.16, 0.12, 0.16]\n",
      "[0.16, 0.16, 0.1, 0.08]\n",
      "[0.12, 0.14, 0.06, 0.0]\n",
      "[0.02, 0.02, 0.02, 0.0]\n",
      "[0.1, 0.1, 0.1, 0.02]\n",
      "[0.22, 0.22, 0.12, 0.06]\n"
     ]
    },
    {
     "name": "stderr",
     "output_type": "stream",
     "text": [
      "  3%|████▉                                                                                                                                                           | 512/16604 [00:14<07:22, 36.35it/s]"
     ]
    },
    {
     "name": "stdout",
     "output_type": "stream",
     "text": [
      "[0.18, 0.18, 0.08, 0.06]\n",
      "[0.04, 0.04, 0.04, 0.02]\n",
      "[0.06, 0.06, 0.02, 0.0]\n",
      "[0.12, 0.12, 0.08, 0.06]\n",
      "[0.06, 0.06, 0.06, 0.02]\n",
      "[0.06, 0.06, 0.02, 0.0]\n",
      "[0.18, 0.2, 0.1, 0.06]\n",
      "[0.24, 0.24, 0.14, 0.08]\n"
     ]
    },
    {
     "name": "stderr",
     "output_type": "stream",
     "text": [
      "  3%|█████                                                                                                                                                           | 520/16604 [00:14<07:21, 36.40it/s]"
     ]
    },
    {
     "name": "stdout",
     "output_type": "stream",
     "text": [
      "[0.04, 0.04, 0.06, 0.0]\n",
      "[0.06, 0.06, 0.02, 0.0]\n",
      "[0.08, 0.08, 0.02, 0.0]\n",
      "[0.08, 0.08, 0.06, 0.06]\n",
      "[0.06, 0.06, 0.06, 0.02]\n",
      "[0.12, 0.12, 0.12, 0.04]\n",
      "[0.14, 0.14, 0.12, 0.06]\n",
      "[0.06, 0.06, 0.02, 0.0]\n"
     ]
    },
    {
     "name": "stderr",
     "output_type": "stream",
     "text": [
      "  3%|█████                                                                                                                                                           | 528/16604 [00:14<07:23, 36.21it/s]"
     ]
    },
    {
     "name": "stdout",
     "output_type": "stream",
     "text": [
      "[0.04, 0.04, 0.02, 0.0]\n",
      "[0.12, 0.12, 0.08, 0.08]\n",
      "[0.2, 0.2, 0.1, 0.08]\n",
      "[0.08, 0.08, 0.1, 0.02]\n",
      "[0.22, 0.22, 0.12, 0.06]\n",
      "[0.18, 0.18, 0.08, 0.06]\n",
      "[0.12, 0.12, 0.1, 0.08]\n",
      "[0.18, 0.18, 0.16, 0.16]\n"
     ]
    },
    {
     "name": "stderr",
     "output_type": "stream",
     "text": [
      "  3%|█████▏                                                                                                                                                          | 536/16604 [00:14<07:26, 36.01it/s]"
     ]
    },
    {
     "name": "stdout",
     "output_type": "stream",
     "text": [
      "[0.18, 0.18, 0.08, 0.06]\n",
      "[0.14, 0.14, 0.08, 0.06]\n",
      "[0.14, 0.14, 0.08, 0.06]\n",
      "[0.22, 0.22, 0.12, 0.06]\n",
      "[0.08, 0.08, 0.04, 0.04]\n",
      "[0.06, 0.06, 0.02, 0.0]\n",
      "[0.08, 0.08, 0.04, 0.04]\n",
      "[0.02, 0.02, 0.0, 0.0]\n"
     ]
    },
    {
     "name": "stderr",
     "output_type": "stream",
     "text": [
      "  3%|█████▏                                                                                                                                                          | 544/16604 [00:14<07:25, 36.05it/s]"
     ]
    },
    {
     "name": "stdout",
     "output_type": "stream",
     "text": [
      "[0.04, 0.04, 0.02, 0.02]\n",
      "[0.06, 0.06, 0.06, 0.02]\n",
      "[0.06, 0.06, 0.06, 0.02]\n",
      "[0.08, 0.08, 0.04, 0.04]\n",
      "[0.14, 0.14, 0.14, 0.06]\n",
      "[0.2, 0.22, 0.18, 0.18]\n",
      "[0.16, 0.16, 0.08, 0.08]\n",
      "[0.08, 0.08, 0.02, 0.02]\n"
     ]
    },
    {
     "name": "stderr",
     "output_type": "stream",
     "text": [
      "  3%|█████▎                                                                                                                                                          | 552/16604 [00:15<07:27, 35.89it/s]"
     ]
    },
    {
     "name": "stdout",
     "output_type": "stream",
     "text": [
      "[0.2, 0.2, 0.14, 0.08]\n",
      "[0.02, 0.02, 0.0, 0.0]\n",
      "[0.16, 0.16, 0.14, 0.08]\n",
      "[0.06, 0.06, 0.06, 0.02]\n",
      "[0.02, 0.02, 0.04, 0.0]\n",
      "[0.04, 0.04, 0.04, 0.0]\n",
      "[0.08, 0.1, 0.04, 0.0]\n",
      "[0.1, 0.12, 0.08, 0.06]\n"
     ]
    },
    {
     "name": "stderr",
     "output_type": "stream",
     "text": [
      "  3%|█████▎                                                                                                                                                          | 556/16604 [00:15<07:21, 36.32it/s]"
     ]
    },
    {
     "name": "stdout",
     "output_type": "stream",
     "text": [
      "[0.12, 0.12, 0.06, 0.04]\n"
     ]
    },
    {
     "name": "stderr",
     "output_type": "stream",
     "text": [
      "\n"
     ]
    },
    {
     "ename": "KeyboardInterrupt",
     "evalue": "",
     "output_type": "error",
     "traceback": [
      "\u001b[0;31m---------------------------------------------------------------------------\u001b[0m",
      "\u001b[0;31mKeyboardInterrupt\u001b[0m                         Traceback (most recent call last)",
      "\u001b[0;32m/var/folders/w5/hytdhfkn0c7105y9lq3d5hm00000gn/T/ipykernel_66679/1975262875.py\u001b[0m in \u001b[0;36m<module>\u001b[0;34m\u001b[0m\n\u001b[1;32m      3\u001b[0m     \u001b[0msn\u001b[0m \u001b[0;34m=\u001b[0m \u001b[0mrow\u001b[0m\u001b[0;34m[\u001b[0m\u001b[0;34m'sn'\u001b[0m\u001b[0;34m]\u001b[0m\u001b[0;34m\u001b[0m\u001b[0;34m\u001b[0m\u001b[0m\n\u001b[1;32m      4\u001b[0m     \u001b[0mfault_time_ts\u001b[0m \u001b[0;34m=\u001b[0m \u001b[0mrow\u001b[0m\u001b[0;34m[\u001b[0m\u001b[0;34m'fault_time_ts'\u001b[0m\u001b[0;34m]\u001b[0m\u001b[0;34m\u001b[0m\u001b[0;34m\u001b[0m\u001b[0m\n\u001b[0;32m----> 5\u001b[0;31m     \u001b[0msub_log\u001b[0m \u001b[0;34m=\u001b[0m \u001b[0mlog_df\u001b[0m\u001b[0;34m[\u001b[0m\u001b[0;34m(\u001b[0m\u001b[0mlog_df\u001b[0m\u001b[0;34m[\u001b[0m\u001b[0;34m'sn'\u001b[0m\u001b[0;34m]\u001b[0m \u001b[0;34m==\u001b[0m \u001b[0msn\u001b[0m\u001b[0;34m)\u001b[0m \u001b[0;34m&\u001b[0m \u001b[0;34m(\u001b[0m\u001b[0mlog_df\u001b[0m\u001b[0;34m[\u001b[0m\u001b[0;34m'time_ts'\u001b[0m\u001b[0;34m]\u001b[0m \u001b[0;34m<=\u001b[0m \u001b[0mfault_time_ts\u001b[0m\u001b[0;34m)\u001b[0m\u001b[0;34m]\u001b[0m\u001b[0;34m\u001b[0m\u001b[0;34m\u001b[0m\u001b[0m\n\u001b[0m\u001b[1;32m      6\u001b[0m     \u001b[0msub_log\u001b[0m \u001b[0;34m=\u001b[0m \u001b[0msub_log\u001b[0m\u001b[0;34m.\u001b[0m\u001b[0msort_values\u001b[0m\u001b[0;34m(\u001b[0m\u001b[0mby\u001b[0m\u001b[0;34m=\u001b[0m\u001b[0;34m'time'\u001b[0m\u001b[0;34m)\u001b[0m\u001b[0;34m\u001b[0m\u001b[0;34m\u001b[0m\u001b[0m\n\u001b[1;32m      7\u001b[0m     \u001b[0mdf_tmp\u001b[0m \u001b[0;34m=\u001b[0m \u001b[0msub_log\u001b[0m\u001b[0;34m.\u001b[0m\u001b[0mtail\u001b[0m\u001b[0;34m(\u001b[0m\u001b[0;36m20\u001b[0m\u001b[0;34m)\u001b[0m\u001b[0;34m\u001b[0m\u001b[0;34m\u001b[0m\u001b[0m\n",
      "\u001b[0;32m~/Projects/log-based-failuer-diagnosis/env/lib/python3.7/site-packages/pandas/core/ops/common.py\u001b[0m in \u001b[0;36mnew_method\u001b[0;34m(self, other)\u001b[0m\n\u001b[1;32m     67\u001b[0m         \u001b[0mother\u001b[0m \u001b[0;34m=\u001b[0m \u001b[0mitem_from_zerodim\u001b[0m\u001b[0;34m(\u001b[0m\u001b[0mother\u001b[0m\u001b[0;34m)\u001b[0m\u001b[0;34m\u001b[0m\u001b[0;34m\u001b[0m\u001b[0m\n\u001b[1;32m     68\u001b[0m \u001b[0;34m\u001b[0m\u001b[0m\n\u001b[0;32m---> 69\u001b[0;31m         \u001b[0;32mreturn\u001b[0m \u001b[0mmethod\u001b[0m\u001b[0;34m(\u001b[0m\u001b[0mself\u001b[0m\u001b[0;34m,\u001b[0m \u001b[0mother\u001b[0m\u001b[0;34m)\u001b[0m\u001b[0;34m\u001b[0m\u001b[0;34m\u001b[0m\u001b[0m\n\u001b[0m\u001b[1;32m     70\u001b[0m \u001b[0;34m\u001b[0m\u001b[0m\n\u001b[1;32m     71\u001b[0m     \u001b[0;32mreturn\u001b[0m \u001b[0mnew_method\u001b[0m\u001b[0;34m\u001b[0m\u001b[0;34m\u001b[0m\u001b[0m\n",
      "\u001b[0;32m~/Projects/log-based-failuer-diagnosis/env/lib/python3.7/site-packages/pandas/core/arraylike.py\u001b[0m in \u001b[0;36m__eq__\u001b[0;34m(self, other)\u001b[0m\n\u001b[1;32m     30\u001b[0m     \u001b[0;34m@\u001b[0m\u001b[0munpack_zerodim_and_defer\u001b[0m\u001b[0;34m(\u001b[0m\u001b[0;34m\"__eq__\"\u001b[0m\u001b[0;34m)\u001b[0m\u001b[0;34m\u001b[0m\u001b[0;34m\u001b[0m\u001b[0m\n\u001b[1;32m     31\u001b[0m     \u001b[0;32mdef\u001b[0m \u001b[0m__eq__\u001b[0m\u001b[0;34m(\u001b[0m\u001b[0mself\u001b[0m\u001b[0;34m,\u001b[0m \u001b[0mother\u001b[0m\u001b[0;34m)\u001b[0m\u001b[0;34m:\u001b[0m\u001b[0;34m\u001b[0m\u001b[0;34m\u001b[0m\u001b[0m\n\u001b[0;32m---> 32\u001b[0;31m         \u001b[0;32mreturn\u001b[0m \u001b[0mself\u001b[0m\u001b[0;34m.\u001b[0m\u001b[0m_cmp_method\u001b[0m\u001b[0;34m(\u001b[0m\u001b[0mother\u001b[0m\u001b[0;34m,\u001b[0m \u001b[0moperator\u001b[0m\u001b[0;34m.\u001b[0m\u001b[0meq\u001b[0m\u001b[0;34m)\u001b[0m\u001b[0;34m\u001b[0m\u001b[0;34m\u001b[0m\u001b[0m\n\u001b[0m\u001b[1;32m     33\u001b[0m \u001b[0;34m\u001b[0m\u001b[0m\n\u001b[1;32m     34\u001b[0m     \u001b[0;34m@\u001b[0m\u001b[0munpack_zerodim_and_defer\u001b[0m\u001b[0;34m(\u001b[0m\u001b[0;34m\"__ne__\"\u001b[0m\u001b[0;34m)\u001b[0m\u001b[0;34m\u001b[0m\u001b[0;34m\u001b[0m\u001b[0m\n",
      "\u001b[0;32m~/Projects/log-based-failuer-diagnosis/env/lib/python3.7/site-packages/pandas/core/series.py\u001b[0m in \u001b[0;36m_cmp_method\u001b[0;34m(self, other, op)\u001b[0m\n\u001b[1;32m   5500\u001b[0m \u001b[0;34m\u001b[0m\u001b[0m\n\u001b[1;32m   5501\u001b[0m         \u001b[0;32mwith\u001b[0m \u001b[0mnp\u001b[0m\u001b[0;34m.\u001b[0m\u001b[0merrstate\u001b[0m\u001b[0;34m(\u001b[0m\u001b[0mall\u001b[0m\u001b[0;34m=\u001b[0m\u001b[0;34m\"ignore\"\u001b[0m\u001b[0;34m)\u001b[0m\u001b[0;34m:\u001b[0m\u001b[0;34m\u001b[0m\u001b[0;34m\u001b[0m\u001b[0m\n\u001b[0;32m-> 5502\u001b[0;31m             \u001b[0mres_values\u001b[0m \u001b[0;34m=\u001b[0m \u001b[0mops\u001b[0m\u001b[0;34m.\u001b[0m\u001b[0mcomparison_op\u001b[0m\u001b[0;34m(\u001b[0m\u001b[0mlvalues\u001b[0m\u001b[0;34m,\u001b[0m \u001b[0mrvalues\u001b[0m\u001b[0;34m,\u001b[0m \u001b[0mop\u001b[0m\u001b[0;34m)\u001b[0m\u001b[0;34m\u001b[0m\u001b[0;34m\u001b[0m\u001b[0m\n\u001b[0m\u001b[1;32m   5503\u001b[0m \u001b[0;34m\u001b[0m\u001b[0m\n\u001b[1;32m   5504\u001b[0m         \u001b[0;32mreturn\u001b[0m \u001b[0mself\u001b[0m\u001b[0;34m.\u001b[0m\u001b[0m_construct_result\u001b[0m\u001b[0;34m(\u001b[0m\u001b[0mres_values\u001b[0m\u001b[0;34m,\u001b[0m \u001b[0mname\u001b[0m\u001b[0;34m=\u001b[0m\u001b[0mres_name\u001b[0m\u001b[0;34m)\u001b[0m\u001b[0;34m\u001b[0m\u001b[0;34m\u001b[0m\u001b[0m\n",
      "\u001b[0;32m~/Projects/log-based-failuer-diagnosis/env/lib/python3.7/site-packages/pandas/core/ops/array_ops.py\u001b[0m in \u001b[0;36mcomparison_op\u001b[0;34m(left, right, op)\u001b[0m\n\u001b[1;32m    282\u001b[0m \u001b[0;34m\u001b[0m\u001b[0m\n\u001b[1;32m    283\u001b[0m     \u001b[0;32melif\u001b[0m \u001b[0mis_object_dtype\u001b[0m\u001b[0;34m(\u001b[0m\u001b[0mlvalues\u001b[0m\u001b[0;34m.\u001b[0m\u001b[0mdtype\u001b[0m\u001b[0;34m)\u001b[0m \u001b[0;32mor\u001b[0m \u001b[0misinstance\u001b[0m\u001b[0;34m(\u001b[0m\u001b[0mrvalues\u001b[0m\u001b[0;34m,\u001b[0m \u001b[0mstr\u001b[0m\u001b[0;34m)\u001b[0m\u001b[0;34m:\u001b[0m\u001b[0;34m\u001b[0m\u001b[0;34m\u001b[0m\u001b[0m\n\u001b[0;32m--> 284\u001b[0;31m         \u001b[0mres_values\u001b[0m \u001b[0;34m=\u001b[0m \u001b[0mcomp_method_OBJECT_ARRAY\u001b[0m\u001b[0;34m(\u001b[0m\u001b[0mop\u001b[0m\u001b[0;34m,\u001b[0m \u001b[0mlvalues\u001b[0m\u001b[0;34m,\u001b[0m \u001b[0mrvalues\u001b[0m\u001b[0;34m)\u001b[0m\u001b[0;34m\u001b[0m\u001b[0;34m\u001b[0m\u001b[0m\n\u001b[0m\u001b[1;32m    285\u001b[0m \u001b[0;34m\u001b[0m\u001b[0m\n\u001b[1;32m    286\u001b[0m     \u001b[0;32melse\u001b[0m\u001b[0;34m:\u001b[0m\u001b[0;34m\u001b[0m\u001b[0;34m\u001b[0m\u001b[0m\n",
      "\u001b[0;32m~/Projects/log-based-failuer-diagnosis/env/lib/python3.7/site-packages/pandas/core/ops/array_ops.py\u001b[0m in \u001b[0;36mcomp_method_OBJECT_ARRAY\u001b[0;34m(op, x, y)\u001b[0m\n\u001b[1;32m     71\u001b[0m         \u001b[0mresult\u001b[0m \u001b[0;34m=\u001b[0m \u001b[0mlibops\u001b[0m\u001b[0;34m.\u001b[0m\u001b[0mvec_compare\u001b[0m\u001b[0;34m(\u001b[0m\u001b[0mx\u001b[0m\u001b[0;34m.\u001b[0m\u001b[0mravel\u001b[0m\u001b[0;34m(\u001b[0m\u001b[0;34m)\u001b[0m\u001b[0;34m,\u001b[0m \u001b[0my\u001b[0m\u001b[0;34m.\u001b[0m\u001b[0mravel\u001b[0m\u001b[0;34m(\u001b[0m\u001b[0;34m)\u001b[0m\u001b[0;34m,\u001b[0m \u001b[0mop\u001b[0m\u001b[0;34m)\u001b[0m\u001b[0;34m\u001b[0m\u001b[0;34m\u001b[0m\u001b[0m\n\u001b[1;32m     72\u001b[0m     \u001b[0;32melse\u001b[0m\u001b[0;34m:\u001b[0m\u001b[0;34m\u001b[0m\u001b[0;34m\u001b[0m\u001b[0m\n\u001b[0;32m---> 73\u001b[0;31m         \u001b[0mresult\u001b[0m \u001b[0;34m=\u001b[0m \u001b[0mlibops\u001b[0m\u001b[0;34m.\u001b[0m\u001b[0mscalar_compare\u001b[0m\u001b[0;34m(\u001b[0m\u001b[0mx\u001b[0m\u001b[0;34m.\u001b[0m\u001b[0mravel\u001b[0m\u001b[0;34m(\u001b[0m\u001b[0;34m)\u001b[0m\u001b[0;34m,\u001b[0m \u001b[0my\u001b[0m\u001b[0;34m,\u001b[0m \u001b[0mop\u001b[0m\u001b[0;34m)\u001b[0m\u001b[0;34m\u001b[0m\u001b[0;34m\u001b[0m\u001b[0m\n\u001b[0m\u001b[1;32m     74\u001b[0m     \u001b[0;32mreturn\u001b[0m \u001b[0mresult\u001b[0m\u001b[0;34m.\u001b[0m\u001b[0mreshape\u001b[0m\u001b[0;34m(\u001b[0m\u001b[0mx\u001b[0m\u001b[0;34m.\u001b[0m\u001b[0mshape\u001b[0m\u001b[0;34m)\u001b[0m\u001b[0;34m\u001b[0m\u001b[0;34m\u001b[0m\u001b[0m\n\u001b[1;32m     75\u001b[0m \u001b[0;34m\u001b[0m\u001b[0m\n",
      "\u001b[0;31mKeyboardInterrupt\u001b[0m: "
     ]
    }
   ],
   "source": [
    "for idx in tqdm(range(label_df.shape[0])):\n",
    "    row = label_df.iloc[idx]\n",
    "    sn = row['sn']\n",
    "    fault_time_ts = row['fault_time_ts']\n",
    "    sub_log = log_df[(log_df['sn'] == sn) & (log_df['time_ts'] <= fault_time_ts)]\n",
    "    sub_log = sub_log.sort_values(by='time')\n",
    "    df_tmp = sub_log.tail(20)\n",
    "    \n",
    "    features = []\n",
    "    for label in range(4):\n",
    "        intersect = np.intersect1d(np.unique(df_tmp['msg_id'].values), counter_map['%d'%label])\n",
    "        features.append(len(intersect) / len(counter_map['%d'%label]))\n",
    "    print(features)"
   ]
  },
  {
   "cell_type": "code",
   "execution_count": null,
   "id": "6ad4d84e",
   "metadata": {},
   "outputs": [],
   "source": []
  },
  {
   "cell_type": "code",
   "execution_count": null,
   "id": "5221cff4",
   "metadata": {},
   "outputs": [],
   "source": []
  },
  {
   "cell_type": "code",
   "execution_count": null,
   "id": "8c1613de",
   "metadata": {},
   "outputs": [],
   "source": []
  },
  {
   "cell_type": "code",
   "execution_count": null,
   "id": "d907677c",
   "metadata": {},
   "outputs": [],
   "source": []
  },
  {
   "cell_type": "code",
   "execution_count": null,
   "id": "42ab49cc",
   "metadata": {},
   "outputs": [],
   "source": []
  },
  {
   "cell_type": "code",
   "execution_count": null,
   "id": "baaca011",
   "metadata": {},
   "outputs": [],
   "source": []
  },
  {
   "cell_type": "code",
   "execution_count": null,
   "id": "15911bfa",
   "metadata": {},
   "outputs": [],
   "source": []
  },
  {
   "cell_type": "code",
   "execution_count": null,
   "id": "c982617a",
   "metadata": {},
   "outputs": [],
   "source": []
  },
  {
   "cell_type": "code",
   "execution_count": null,
   "id": "21ffeb9c",
   "metadata": {},
   "outputs": [],
   "source": []
  },
  {
   "cell_type": "code",
   "execution_count": null,
   "id": "c2549512",
   "metadata": {},
   "outputs": [],
   "source": []
  },
  {
   "cell_type": "code",
   "execution_count": null,
   "id": "0b6ee5ad",
   "metadata": {},
   "outputs": [],
   "source": []
  },
  {
   "cell_type": "code",
   "execution_count": null,
   "id": "87935ff3",
   "metadata": {},
   "outputs": [],
   "source": []
  },
  {
   "cell_type": "code",
   "execution_count": null,
   "id": "2555edaa",
   "metadata": {},
   "outputs": [],
   "source": []
  },
  {
   "cell_type": "code",
   "execution_count": 1,
   "id": "78729354",
   "metadata": {},
   "outputs": [
    {
     "name": "stdout",
     "output_type": "stream",
     "text": [
      "(16604, 3) (3030, 2)\n",
      "(16604, 5) (3030, 4)\n"
     ]
    }
   ],
   "source": [
    "import os\n",
    "import json\n",
    "import numpy as np\n",
    "import pandas as pd\n",
    "from tqdm import tqdm\n",
    "from collections import Counter\n",
    "\n",
    "from gensim.models.word2vec import Word2Vec\n",
    "from nltk.tokenize import word_tokenize\n",
    "from gensim.models.doc2vec import Doc2Vec, TaggedDocument\n",
    "from sklearn.feature_extraction.text import TfidfVectorizer\n",
    "from sklearn.decomposition import TruncatedSVD\n",
    "\n",
    "label1 = pd.read_csv('../data/preliminary_train_label_dataset.csv')\n",
    "label2 = pd.read_csv('../data/preliminary_train_label_dataset_s.csv')\n",
    "label_df = pd.concat([label1, label2]).reset_index(drop=True)\n",
    "label_df = label_df.drop_duplicates().reset_index(drop=True)\n",
    "\n",
    "submit_df = pd.read_csv('../data/preliminary_submit_dataset_b.csv')\n",
    "\n",
    "print(label_df.shape, submit_df.shape)\n",
    "\n",
    "log_df = pd.read_csv('../code/log_template.csv')\n",
    "log_df['msg_lower'] = log_df['msg_lower'].astype(str)\n",
    "log_df['server_model'] = log_df['server_model'].astype(str)\n",
    "\n",
    "log_df['time'] = pd.to_datetime(log_df['time'])\n",
    "label_df['fault_time'] = pd.to_datetime(label_df['fault_time'])\n",
    "submit_df['fault_time'] = pd.to_datetime(submit_df['fault_time'])\n",
    "\n",
    "log_df['time_ts'] = log_df[\"time\"].values.astype(np.int64) // 10 ** 9\n",
    "label_df['fault_time_ts'] = label_df[\"fault_time\"].values.astype(np.int64) // 10 ** 9\n",
    "submit_df['fault_time_ts'] = submit_df[\"fault_time\"].values.astype(np.int64) // 10 ** 9\n",
    "\n",
    "crashdump_df = pd.read_csv('../data/preliminary_crashdump_dataset.csv')\n",
    "venus_df = pd.read_csv('../data/preliminary_venus_dataset.csv')\n",
    "crashdump_df['fault_time'] = pd.to_datetime(crashdump_df['fault_time'])\n",
    "venus_df['fault_time'] = pd.to_datetime(venus_df['fault_time'])\n",
    "crashdump_df['fault_time_ts'] = crashdump_df[\"fault_time\"].values.astype(np.int64) // 10 ** 9\n",
    "venus_df['fault_time_ts'] = venus_df[\"fault_time\"].values.astype(np.int64) // 10 ** 9\n",
    "\n",
    "label_df = label_df.merge(log_df[['sn', 'server_model']].drop_duplicates(), on=['sn'], how='left')\n",
    "submit_df = submit_df.merge(log_df[['sn', 'server_model']].drop_duplicates(), on=['sn'], how='left')\n",
    "label_df = label_df.fillna('MISSING')\n",
    "submit_df = submit_df.fillna('MISSING')\n",
    "print(label_df.shape, submit_df.shape)"
   ]
  },
  {
   "cell_type": "code",
   "execution_count": 2,
   "id": "b0021b6b",
   "metadata": {},
   "outputs": [
    {
     "name": "stderr",
     "output_type": "stream",
     "text": [
      "100%|██████████████████████████████████████████████████████████████████████████████████████████████████████████████████| 16604/16604 [07:40<00:00, 36.05it/s]\n"
     ]
    }
   ],
   "source": [
    "counter_map = {}\n",
    "for idx in tqdm(range(label_df.shape[0])):\n",
    "    row = label_df.iloc[idx]\n",
    "    sn = row['sn']\n",
    "    fault_time = row['fault_time']\n",
    "    fault_time_ts = row['fault_time_ts']\n",
    "    server_model = row['server_model']\n",
    "    sub_log = log_df[(log_df['sn'] == sn) & (log_df['time_ts'] <= fault_time_ts)]\n",
    "    sub_log = sub_log.sort_values(by='time')\n",
    "    df_tmp = sub_log.tail(10)\n",
    "    \n",
    "    k = '%s_%d'%(server_model, row['label'])\n",
    "    if not k in counter_map:\n",
    "        counter_map[k] = Counter()\n",
    "    counter_map[k].update(df_tmp['msg_id'].values.tolist())"
   ]
  },
  {
   "cell_type": "code",
   "execution_count": 5,
   "id": "ba72da41",
   "metadata": {},
   "outputs": [],
   "source": [
    "for k in counter_map:\n",
    "    counter_map[k] = [item[0] for item in counter_map[k].most_common()[:5]]"
   ]
  },
  {
   "cell_type": "code",
   "execution_count": 15,
   "id": "3ffcfe0e",
   "metadata": {},
   "outputs": [
    {
     "name": "stderr",
     "output_type": "stream",
     "text": [
      "  0%|                                                                                                                      | 8/16604 [00:00<07:57, 34.75it/s]"
     ]
    },
    {
     "name": "stdout",
     "output_type": "stream",
     "text": [
      "[1.0, 0, 0, 0]\n",
      "[1.0, 0.6666666666666666, 0.5, 0]\n",
      "[0.8, 0, 0.8, 0.6]\n",
      "[0.4, 0, 0.4, 0.4]\n",
      "[0.4, 0, 0.4, 0.2]\n",
      "[0.2, 0, 0.2, 0.2]\n",
      "[0.4, 0, 0.4, 0.2]\n",
      "[0.2, 0, 0.2, 0.2]\n",
      "[0.3333333333333333, 0.2, 0.2, 0.2]\n"
     ]
    },
    {
     "name": "stderr",
     "output_type": "stream",
     "text": [
      "  0%|                                                                                                                     | 16/16604 [00:00<07:40, 36.03it/s]"
     ]
    },
    {
     "name": "stdout",
     "output_type": "stream",
     "text": [
      "[0.6666666666666666, 0.2, 0.2, 0.2]\n",
      "[1.0, 0.6, 0.0, 0.4]\n",
      "[0.6, 0.2, 0.4, 0.2]\n",
      "[0.6, 0.6, 0.6, 1.0]\n",
      "[0.4, 0.2, 0.4, 0.0]\n",
      "[0.6, 0.2, 0.4, 0.6]\n",
      "[0.6, 0.4, 0.4, 0.6]\n",
      "[0.6, 1.0, 0.8, 0.6]\n",
      "[0.2, 0.4, 0.2, 0.0]\n"
     ]
    },
    {
     "name": "stderr",
     "output_type": "stream",
     "text": [
      "  0%|▏                                                                                                                    | 24/16604 [00:00<07:38, 36.15it/s]"
     ]
    },
    {
     "name": "stdout",
     "output_type": "stream",
     "text": [
      "[0.4, 0.4, 0.4, 0.6]\n",
      "[0.2, 0.0, 0.0, 0.0]\n",
      "[0.6, 0.4, 0.6, 0.2]\n",
      "[0.8, 0.6, 0.6, 0.8]\n",
      "[0.4, 0.0, 0.0, 0.4]\n",
      "[0.4, 0.0, 0.0, 0.2]\n",
      "[0.6, 0.4, 0.6, 0.6]\n",
      "[0.6, 0.2, 0.2, 0.6]\n",
      "[0.2, 0.6, 0.4, 0.4]\n"
     ]
    },
    {
     "name": "stderr",
     "output_type": "stream",
     "text": [
      "  0%|▏                                                                                                                    | 32/16604 [00:00<07:41, 35.90it/s]"
     ]
    },
    {
     "name": "stdout",
     "output_type": "stream",
     "text": [
      "[0.8, 0.4, 0.4, 0.8]\n",
      "[0.4, 0.4, 0.2, 0.0]\n",
      "[0.4, 0.2, 0.4, 0.0]\n",
      "[0.4, 0.2, 0.4, 0.0]\n",
      "[0.8, 0.6, 0.6, 0.8]\n",
      "[0.6, 0.2, 0.2, 0.6]\n",
      "[0.6, 0.2, 0.4, 0.2]\n",
      "[0.6, 0.4, 0.4, 0.8]\n"
     ]
    },
    {
     "name": "stderr",
     "output_type": "stream",
     "text": [
      "  0%|▎                                                                                                                    | 40/16604 [00:01<07:41, 35.92it/s]"
     ]
    },
    {
     "name": "stdout",
     "output_type": "stream",
     "text": [
      "[0.4, 0.4, 0.2, 0.0]\n",
      "[0.8, 0.4, 0.4, 0.6]\n",
      "[0.4, 0.6, 0.4, 0.8]\n",
      "[0.4, 0.8, 0.6, 0.6]\n",
      "[0.6, 0.4, 0.4, 0.6]\n",
      "[0.6, 0.4, 0.4, 0.8]\n",
      "[0.4, 0.4, 0.4, 0.8]\n",
      "[0.4, 0.8, 0.6, 0.6]\n"
     ]
    },
    {
     "name": "stderr",
     "output_type": "stream",
     "text": [
      "  0%|▎                                                                                                                    | 48/16604 [00:01<07:43, 35.74it/s]"
     ]
    },
    {
     "name": "stdout",
     "output_type": "stream",
     "text": [
      "[0.4, 0.8, 0.6, 0.6]\n",
      "[0.4, 0.0, 0.0, 0.4]\n",
      "[0.4, 0.8, 0.6, 0.6]\n",
      "[0.4, 0.8, 0.6, 0.6]\n",
      "[0.4, 0.4, 0.4, 0.6]\n",
      "[0.8, 0.4, 0.4, 0.8]\n",
      "[0.6, 1.0, 0.8, 0.6]\n",
      "[0.6, 0.4, 0.4, 0.6]\n"
     ]
    },
    {
     "name": "stderr",
     "output_type": "stream",
     "text": [
      "  0%|▍                                                                                                                    | 56/16604 [00:01<07:39, 36.05it/s]"
     ]
    },
    {
     "name": "stdout",
     "output_type": "stream",
     "text": [
      "[0.6, 0.4, 0.4, 0.8]\n",
      "[0.2, 0.2, 0.4, 0.2]\n",
      "[0.4, 0.2, 0.2, 0.6]\n",
      "[0.4, 0.8, 0.6, 0.6]\n",
      "[0.4, 0.8, 0.6, 0.6]\n",
      "[0.4, 0.2, 0.4, 0.0]\n",
      "[0.6, 0.4, 0.4, 0.6]\n",
      "[0.2, 0.2, 0.2, 0.6]\n"
     ]
    },
    {
     "name": "stderr",
     "output_type": "stream",
     "text": [
      "  0%|▍                                                                                                                    | 64/16604 [00:01<07:40, 35.89it/s]"
     ]
    },
    {
     "name": "stdout",
     "output_type": "stream",
     "text": [
      "[0.8, 0.4, 0.4, 0.8]\n",
      "[0.6, 0.4, 0.4, 0.8]\n",
      "[0.4, 0.6, 0.6, 0.8]\n",
      "[0.4, 0.2, 0.2, 0.6]\n",
      "[0.2, 0.2, 0.2, 0.0]\n",
      "[0.4, 0.8, 0.6, 0.6]\n",
      "[0.4, 0.4, 0.4, 0.6]\n",
      "[0.4, 0.0, 0.0, 0.2]\n"
     ]
    },
    {
     "name": "stderr",
     "output_type": "stream",
     "text": [
      "  0%|▌                                                                                                                    | 72/16604 [00:02<07:40, 35.89it/s]"
     ]
    },
    {
     "name": "stdout",
     "output_type": "stream",
     "text": [
      "[0.6, 0.4, 0.4, 0.6]\n",
      "[0.4, 0.2, 0.4, 0.0]\n",
      "[0.4, 0.4, 0.4, 0.4]\n",
      "[0.6, 0.4, 0.4, 0.8]\n",
      "[0.6, 0.6, 0.4, 0.4]\n",
      "[0.6, 0.6, 0.6, 0.4]\n",
      "[0.2, 0.0, 0.2, 0.0]\n",
      "[0.4, 0.4, 0.4, 0.4]\n"
     ]
    },
    {
     "name": "stderr",
     "output_type": "stream",
     "text": [
      "  0%|▌                                                                                                                    | 80/16604 [00:02<07:41, 35.77it/s]"
     ]
    },
    {
     "name": "stdout",
     "output_type": "stream",
     "text": [
      "[0.4, 0.4, 0.4, 0.6]\n",
      "[0.4, 0.4, 0.4, 0.4]\n",
      "[0.6, 0.8, 0.6, 0.4]\n",
      "[0.6, 0.6, 0.6, 0.8]\n",
      "[0.6, 0.4, 0.4, 0.6]\n",
      "[0.6, 0.8, 0.6, 0.4]\n",
      "[0.4, 0.2, 0.2, 0.0]\n",
      "[0.2, 0.2, 0.0, 0.0]\n"
     ]
    },
    {
     "name": "stderr",
     "output_type": "stream",
     "text": [
      "  1%|▌                                                                                                                    | 88/16604 [00:02<07:43, 35.61it/s]"
     ]
    },
    {
     "name": "stdout",
     "output_type": "stream",
     "text": [
      "[0.6, 0.6, 0.4, 0.4]\n",
      "[0.4, 0.4, 0.4, 0.6]\n",
      "[0.0, 0.2, 0.0, 0.0]\n",
      "[0.6, 0.8, 0.6, 0.4]\n",
      "[0.4, 0.0, 0.0, 0.0]\n",
      "[0.4, 0.0, 0.0, 0.0]\n",
      "[0.8, 0.8, 0.6, 0.6]\n",
      "[0.6, 0.6, 0.2, 0.6]\n"
     ]
    },
    {
     "name": "stderr",
     "output_type": "stream",
     "text": [
      "  1%|▋                                                                                                                    | 96/16604 [00:02<07:45, 35.48it/s]"
     ]
    },
    {
     "name": "stdout",
     "output_type": "stream",
     "text": [
      "[1.0, 1.0, 0.4, 0.8]\n",
      "[0.6, 0.6, 0.0, 0.4]\n",
      "[0.6, 0.6, 0.6, 0.8]\n",
      "[0.2, 0.2, 0.2, 0.2]\n",
      "[1.0, 1.0, 0.4, 0.8]\n",
      "[0.4, 0.4, 0.0, 0.0]\n",
      "[1.0, 1.0, 0.4, 0.8]\n",
      "[0.2, 0.2, 0.0, 0.0]\n"
     ]
    },
    {
     "name": "stderr",
     "output_type": "stream",
     "text": [
      "  1%|▋                                                                                                                   | 104/16604 [00:02<07:41, 35.76it/s]"
     ]
    },
    {
     "name": "stdout",
     "output_type": "stream",
     "text": [
      "[0.2, 0.2, 0.4, 0.0]\n",
      "[0.8, 0.8, 0.4, 0.8]\n",
      "[0.8, 0.8, 0.2, 0.6]\n",
      "[1.0, 1.0, 0.4, 0.8]\n",
      "[0.8, 0.8, 0.2, 0.6]\n",
      "[0.6, 0.6, 0.2, 0.6]\n",
      "[0.4, 0.4, 0.6, 0.6]\n",
      "[0.6, 0.6, 0.4, 0.4]\n"
     ]
    },
    {
     "name": "stderr",
     "output_type": "stream",
     "text": [
      "  1%|▊                                                                                                                   | 112/16604 [00:03<07:42, 35.63it/s]"
     ]
    },
    {
     "name": "stdout",
     "output_type": "stream",
     "text": [
      "[1.0, 0.8, 0.6, 0.4]\n",
      "[0.8, 1.0, 0.8, 0.6]\n",
      "[0.4, 0.2, 0.2, 0.0]\n",
      "[0.8, 0.6, 0.4, 0.4]\n",
      "[0.4, 0.2, 0.2, 0.0]\n",
      "[0.2, 0.0, 0.0, 0.0]\n",
      "[0.6, 0.8, 0.6, 0.6]\n",
      "[0.8, 0.8, 0.6, 0.4]\n"
     ]
    },
    {
     "name": "stderr",
     "output_type": "stream",
     "text": [
      "  1%|▊                                                                                                                   | 120/16604 [00:03<07:41, 35.72it/s]"
     ]
    },
    {
     "name": "stdout",
     "output_type": "stream",
     "text": [
      "[0.8, 0.8, 0.6, 0.6]\n",
      "[1.0, 0.8, 0.6, 0.4]\n",
      "[0.4, 0.4, 0.2, 0.0]\n",
      "[0.4, 0.0, 0.0, 0.0]\n",
      "[1.0, 0.8, 0.6, 0.4]\n",
      "[0.8, 0.8, 0.6, 0.6]\n",
      "[0.6, 0.4, 0.2, 0.0]\n",
      "[0.0, 0.0, 0.0, 0.0]\n"
     ]
    },
    {
     "name": "stderr",
     "output_type": "stream",
     "text": [
      "  1%|▉                                                                                                                   | 128/16604 [00:03<07:44, 35.46it/s]"
     ]
    },
    {
     "name": "stdout",
     "output_type": "stream",
     "text": [
      "[1.0, 1.0, 0.2, 0.2]\n",
      "[0.2, 0.2, 0.2, 0.2]\n",
      "[0.6, 0.4, 0.2, 0.2]\n",
      "[0.6, 0.8, 0.0, 0.2]\n",
      "[0.6, 0.4, 0.2, 0.2]\n",
      "[0.6, 0.8, 0.0, 0.2]\n",
      "[0.0, 0.0, 0.2, 0.0]\n",
      "[0.0, 0.0, 0.0, 0.0]\n"
     ]
    },
    {
     "name": "stderr",
     "output_type": "stream",
     "text": [
      "  1%|▉                                                                                                                   | 136/16604 [00:03<07:40, 35.74it/s]"
     ]
    },
    {
     "name": "stdout",
     "output_type": "stream",
     "text": [
      "[0.4, 0.4, 0.4, 0.2]\n",
      "[0.4, 0.4, 0.4, 0.2]\n",
      "[0.0, 0.0, 0.2, 0.0]\n",
      "[0.8, 0.6, 0.2, 0.2]\n",
      "[0.2, 0.2, 0.0, 0.0]\n",
      "[0.0, 0.0, 0.0, 0.0]\n",
      "[0.6, 0.6, 0.0, 0.2]\n",
      "[0.2, 0.2, 0.2, 0.2]\n"
     ]
    },
    {
     "name": "stderr",
     "output_type": "stream",
     "text": [
      "  1%|█                                                                                                                   | 144/16604 [00:04<07:36, 36.04it/s]"
     ]
    },
    {
     "name": "stdout",
     "output_type": "stream",
     "text": [
      "[0.2, 0.2, 0.2, 0.2]\n",
      "[0.0, 0.0, 0.0, 0.0]\n",
      "[0.4, 0.4, 0.2, 0.2]\n",
      "[0.0, 0.0, 0.0, 0.0]\n",
      "[0.8, 1.0, 0.0, 0.2]\n",
      "[0.2, 0.2, 0.4, 0.2]\n",
      "[0.0, 0.0, 0.2, 0.0]\n",
      "[0.0, 0.0, 0.6, 0.0]\n"
     ]
    },
    {
     "name": "stderr",
     "output_type": "stream",
     "text": [
      "  1%|█                                                                                                                   | 152/16604 [00:04<07:33, 36.29it/s]"
     ]
    },
    {
     "name": "stdout",
     "output_type": "stream",
     "text": [
      "[0.4, 0.2, 0.2, 0.2]\n",
      "[0.2, 0.2, 0.2, 0.2]\n",
      "[0.6, 0.4, 0.2, 0.2]\n",
      "[0.8, 1.0, 0.0, 0.2]\n",
      "[0.8, 0.6, 0.4, 0.2]\n",
      "[0.6, 0.8, 0.0, 0.0]\n",
      "[0.8, 1.0, 0.0, 0.2]\n",
      "[0.8, 0.6, 0.2, 0.2]\n"
     ]
    },
    {
     "name": "stderr",
     "output_type": "stream",
     "text": [
      "  1%|█                                                                                                                   | 160/16604 [00:04<07:31, 36.43it/s]"
     ]
    },
    {
     "name": "stdout",
     "output_type": "stream",
     "text": [
      "[0.4, 0.4, 0.0, 0.2]\n",
      "[0.8, 0.6, 0.2, 0.2]\n",
      "[0.0, 0.0, 0.2, 0.0]\n",
      "[0.8, 1.0, 0.2, 0.2]\n",
      "[0.2, 0.2, 0.0, 0.2]\n",
      "[0.6, 0.8, 0.0, 0.0]\n",
      "[0.6, 0.4, 0.2, 0.0]\n",
      "[0.8, 0.6, 0.2, 0.6]\n"
     ]
    },
    {
     "name": "stderr",
     "output_type": "stream",
     "text": [
      "  1%|█▏                                                                                                                  | 168/16604 [00:04<07:33, 36.21it/s]"
     ]
    },
    {
     "name": "stdout",
     "output_type": "stream",
     "text": [
      "[0.4, 0.4, 0.0, 0.2]\n",
      "[0.2, 0.2, 0.2, 0.2]\n",
      "[0.2, 0.2, 0.2, 0.2]\n",
      "[0.2, 0.2, 0.4, 0.0]\n",
      "[0.8, 1.0, 0.0, 0.2]\n",
      "[0.2, 0.2, 0.4, 0.0]\n",
      "[0.2, 0.2, 0.0, 0.0]\n",
      "[0.8, 1.0, 0.0, 0.2]\n"
     ]
    },
    {
     "name": "stderr",
     "output_type": "stream",
     "text": [
      "  1%|█▏                                                                                                                  | 176/16604 [00:04<07:32, 36.27it/s]"
     ]
    },
    {
     "name": "stdout",
     "output_type": "stream",
     "text": [
      "[0.6, 0.4, 0.2, 0.0]\n",
      "[0.6, 0.6, 0.0, 0.2]\n",
      "[0.0, 0.0, 0.4, 0.0]\n",
      "[0.6, 0.6, 0.2, 0.2]\n",
      "[0.6, 0.6, 0.2, 0.0]\n",
      "[0.2, 0.2, 0.0, 0.0]\n",
      "[0.6, 0.8, 0.0, 0.2]\n",
      "[0.2, 0.2, 0.0, 0.0]\n"
     ]
    },
    {
     "name": "stderr",
     "output_type": "stream",
     "text": [
      "  1%|█▎                                                                                                                  | 184/16604 [00:05<07:34, 36.14it/s]"
     ]
    },
    {
     "name": "stdout",
     "output_type": "stream",
     "text": [
      "[0.2, 0.2, 0.2, 0.0]\n",
      "[0.0, 0.0, 0.2, 0.4]\n",
      "[0.4, 0.4, 0.0, 0.0]\n",
      "[0.8, 1.0, 0.0, 0.2]\n",
      "[0.6, 0.8, 0.0, 0.2]\n",
      "[0.6, 0.8, 0.0, 0.2]\n",
      "[0.2, 0.2, 0.2, 0.2]\n",
      "[0.8, 1.0, 0.0, 0.2]\n"
     ]
    },
    {
     "name": "stderr",
     "output_type": "stream",
     "text": [
      "  1%|█▎                                                                                                                  | 192/16604 [00:05<07:32, 36.29it/s]"
     ]
    },
    {
     "name": "stdout",
     "output_type": "stream",
     "text": [
      "[0.0, 0.0, 0.0, 0.0]\n",
      "[0.2, 0.2, 0.2, 0.2]\n",
      "[0.2, 0.2, 0.0, 0.0]\n",
      "[0.6, 0.4, 0.2, 0.2]\n",
      "[0.6, 0.6, 0.2, 0.0]\n",
      "[0.2, 0.2, 0.0, 0.2]\n",
      "[0.8, 1.0, 0.0, 0.2]\n",
      "[0.2, 0.2, 0.4, 0.0]\n"
     ]
    },
    {
     "name": "stderr",
     "output_type": "stream",
     "text": [
      "  1%|█▍                                                                                                                  | 200/16604 [00:05<07:36, 35.96it/s]"
     ]
    },
    {
     "name": "stdout",
     "output_type": "stream",
     "text": [
      "[0.0, 0.0, 0.2, 0.0]\n",
      "[0.6, 0.4, 0.2, 0.0]\n",
      "[0.6, 0.4, 0.2, 0.2]\n",
      "[0.2, 0.2, 0.4, 0.2]\n",
      "[0.2, 0.2, 0.2, 0.2]\n",
      "[0.2, 0.2, 0.2, 0.2]\n",
      "[0.6, 0.8, 0.0, 0.0]\n",
      "[0.8, 1.0, 0.0, 0.2]\n"
     ]
    },
    {
     "name": "stderr",
     "output_type": "stream",
     "text": [
      "  1%|█▍                                                                                                                  | 208/16604 [00:05<07:34, 36.04it/s]"
     ]
    },
    {
     "name": "stdout",
     "output_type": "stream",
     "text": [
      "[0.8, 0.8, 0.2, 0.0]\n",
      "[0.8, 1.0, 0.0, 0.2]\n",
      "[0.8, 1.0, 0.0, 0.2]\n",
      "[0.2, 0.2, 0.0, 0.0]\n",
      "[0.2, 0.2, 0.2, 0.2]\n",
      "[0.8, 1.0, 0.0, 0.2]\n",
      "[0.8, 1.0, 0.0, 0.2]\n",
      "[0.8, 1.0, 0.0, 0.2]\n"
     ]
    },
    {
     "name": "stderr",
     "output_type": "stream",
     "text": [
      "  1%|█▌                                                                                                                  | 216/16604 [00:06<07:34, 36.05it/s]"
     ]
    },
    {
     "name": "stdout",
     "output_type": "stream",
     "text": [
      "[0.6, 0.8, 0.0, 0.2]\n",
      "[0.2, 0.2, 0.2, 0.2]\n",
      "[0.2, 0.2, 0.0, 0.0]\n",
      "[0.2, 0.2, 0.0, 0.0]\n",
      "[0.8, 0.8, 0.0, 0.2]\n",
      "[0.6, 0.8, 0.0, 0.0]\n",
      "[0.6, 0.8, 0.0, 0.0]\n",
      "[0.6, 0.6, 0.0, 0.2]\n"
     ]
    },
    {
     "name": "stderr",
     "output_type": "stream",
     "text": [
      "  1%|█▌                                                                                                                  | 224/16604 [00:06<07:35, 35.99it/s]"
     ]
    },
    {
     "name": "stdout",
     "output_type": "stream",
     "text": [
      "[0.2, 0.2, 0.2, 0.2]\n",
      "[0.6, 0.6, 0.2, 0.0]\n",
      "[0.2, 0.2, 0.0, 0.0]\n",
      "[0.6, 0.8, 0.0, 0.2]\n",
      "[0.6, 0.8, 0.0, 0.2]\n",
      "[0.6, 0.8, 0.0, 0.2]\n",
      "[0.6, 0.8, 0.0, 0.2]\n",
      "[0.6, 0.8, 0.0, 0.2]\n"
     ]
    },
    {
     "name": "stderr",
     "output_type": "stream",
     "text": [
      "  1%|█▌                                                                                                                  | 232/16604 [00:06<07:31, 36.28it/s]"
     ]
    },
    {
     "name": "stdout",
     "output_type": "stream",
     "text": [
      "[0.4, 0.4, 0.2, 0.2]\n",
      "[0.2, 0.2, 0.0, 0.0]\n",
      "[0.8, 1.0, 0.0, 0.2]\n",
      "[1.0, 0.4, 0.8, 0.4]\n",
      "[0.2, 0.4, 0.4, 0.0]\n",
      "[0.8, 0.6, 0.6, 0.6]\n",
      "[0.8, 0.8, 0.6, 0.6]\n",
      "[0.6, 0.6, 0.6, 0.6]\n"
     ]
    },
    {
     "name": "stderr",
     "output_type": "stream",
     "text": [
      "  1%|█▋                                                                                                                  | 240/16604 [00:06<07:31, 36.25it/s]"
     ]
    },
    {
     "name": "stdout",
     "output_type": "stream",
     "text": [
      "[0.4, 0.2, 0.0, 0.2]\n",
      "[0.8, 0.6, 0.6, 0.8]\n",
      "[1.0, 0.8, 0.6, 0.8]\n",
      "[0.8, 0.6, 0.4, 0.6]\n",
      "[0.8, 0.6, 0.6, 0.8]\n",
      "[0.2, 0.2, 0.0, 0.0]\n",
      "[0.6, 0.6, 0.6, 0.6]\n",
      "[0.2, 0.2, 0.0, 0.0]\n"
     ]
    },
    {
     "name": "stderr",
     "output_type": "stream",
     "text": [
      "  1%|█▋                                                                                                                  | 248/16604 [00:06<07:32, 36.17it/s]"
     ]
    },
    {
     "name": "stdout",
     "output_type": "stream",
     "text": [
      "[0.6, 0.4, 0.2, 0.4]\n",
      "[0.4, 0.2, 0.0, 0.2]\n",
      "[0.2, 0.2, 0.0, 0.0]\n",
      "[0.2, 0.2, 0.0, 0.0]\n",
      "[0.2, 0.2, 0.0, 0.0]\n",
      "[0.8, 0.6, 0.6, 0.6]\n",
      "[0.2, 0.2, 0.2, 0.2]\n"
     ]
    },
    {
     "name": "stderr",
     "output_type": "stream",
     "text": [
      "  2%|█▊                                                                                                                  | 256/16604 [00:07<08:07, 33.53it/s]"
     ]
    },
    {
     "name": "stdout",
     "output_type": "stream",
     "text": [
      "[0.4, 0.4, 0.0, 0.6]\n",
      "[1.0, 0.8, 0.2, 0.8]\n",
      "[1.0, 0.8, 0.2, 0.8]\n",
      "[1.0, 0.8, 0.2, 0.8]\n",
      "[0.4, 0.4, 0.2, 0.8]\n",
      "[1.0, 0.8, 0.2, 0.6]\n",
      "[1.0, 0.8, 0.2, 0.6]\n",
      "[0.2, 0.4, 0.0, 0.0]\n",
      "[0.2, 0.4, 0.2, 0.2]\n"
     ]
    },
    {
     "name": "stderr",
     "output_type": "stream",
     "text": [
      "  2%|█▊                                                                                                                  | 264/16604 [00:07<07:51, 34.65it/s]"
     ]
    },
    {
     "name": "stdout",
     "output_type": "stream",
     "text": [
      "[0.6, 0.6, 0.2, 0.6]\n",
      "[1.0, 0.8, 0.2, 0.8]\n",
      "[1.0, 0.8, 0.2, 0.6]\n",
      "[1.0, 0.8, 0.2, 0.8]\n",
      "[1.0, 0.8, 0.2, 0.8]\n",
      "[1.0, 0.8, 0.2, 0.6]\n",
      "[1.0, 0.8, 0.2, 0.8]\n",
      "[0.2, 0.2, 0.0, 0.0]\n"
     ]
    },
    {
     "name": "stderr",
     "output_type": "stream",
     "text": [
      "  2%|█▉                                                                                                                  | 272/16604 [00:07<07:41, 35.42it/s]"
     ]
    },
    {
     "name": "stdout",
     "output_type": "stream",
     "text": [
      "[1.0, 0.8, 0.2, 0.6]\n",
      "[1.0, 0.8, 0.2, 0.8]\n",
      "[1.0, 0.8, 0.2, 0.6]\n",
      "[1.0, 0.8, 0.2, 0.6]\n",
      "[0.2, 0.0, 0.2, 0.2]\n",
      "[0.8, 1.0, 0.2, 0.2]\n",
      "[0.6, 0.4, 0.0, 0.2]\n",
      "[0.2, 0.2, 0.0, 0.4]\n"
     ]
    },
    {
     "name": "stderr",
     "output_type": "stream",
     "text": [
      "  2%|█▉                                                                                                                  | 280/16604 [00:07<07:37, 35.70it/s]"
     ]
    },
    {
     "name": "stdout",
     "output_type": "stream",
     "text": [
      "[0.6, 0.6, 0.0, 0.2]\n",
      "[0.2, 0.2, 0.0, 0.0]\n",
      "[0.2, 0.2, 0.0, 0.0]\n",
      "[0.4, 0.4, 0.0, 0.2]\n",
      "[0.2, 0.2, 0.0, 0.0]\n",
      "[0.2, 0.2, 0.0, 0.0]\n",
      "[0.6, 0.6, 0.6, 0.0]\n",
      "[0.4, 0.4, 0.4, 0.8]\n"
     ]
    },
    {
     "name": "stderr",
     "output_type": "stream",
     "text": [
      "  2%|██                                                                                                                  | 288/16604 [00:08<07:38, 35.62it/s]"
     ]
    },
    {
     "name": "stdout",
     "output_type": "stream",
     "text": [
      "[1.0, 1.0, 1.0, 0.8]\n",
      "[1.0, 1.0, 1.0, 0.8]\n",
      "[0.6, 0.6, 0.6, 0.8]\n",
      "[0.4, 0.4, 0.4, 0.8]\n",
      "[0.2, 0.4, 0.2, 0.8]\n",
      "[0.4, 0.8, 0.4, 0.6]\n",
      "[0.4, 0.6, 0.4, 0.0]\n",
      "[0.8, 0.6, 0.4, 0.0]\n"
     ]
    },
    {
     "name": "stderr",
     "output_type": "stream",
     "text": [
      "  2%|██                                                                                                                  | 296/16604 [00:08<07:33, 35.95it/s]"
     ]
    },
    {
     "name": "stdout",
     "output_type": "stream",
     "text": [
      "[0.6, 0.4, 0.4, 0.0]\n",
      "[0.6, 0.6, 0.4, 0.0]\n",
      "[0.4, 0.6, 0.4, 0.0]\n",
      "[0.6, 0.6, 0.6, 0.0]\n",
      "[0.2, 0.2, 0.2, 0.0]\n",
      "[0.4, 0.4, 0.6, 0.0]\n",
      "[0.6, 0.6, 0.8, 0.0]\n",
      "[0.4, 0.6, 0.4, 0.0]\n"
     ]
    },
    {
     "name": "stderr",
     "output_type": "stream",
     "text": [
      "  2%|██                                                                                                                  | 304/16604 [00:08<07:32, 36.06it/s]"
     ]
    },
    {
     "name": "stdout",
     "output_type": "stream",
     "text": [
      "[0.8, 0.8, 0.8, 0.0]\n",
      "[0.8, 0.8, 0.6, 0.0]\n",
      "[0.2, 0.4, 0.2, 0.0]\n",
      "[0.6, 0.4, 0.6, 0.0]\n",
      "[0.4, 0.2, 0.2, 0.0]\n",
      "[0.2, 0.0, 0.0, 0.0]\n",
      "[0.6, 0.0, 0.0, 0.0]\n",
      "[0.2, 1.0, 0.0, 0.6]\n"
     ]
    },
    {
     "name": "stderr",
     "output_type": "stream",
     "text": [
      "  2%|██▏                                                                                                                 | 312/16604 [00:08<07:28, 36.34it/s]"
     ]
    },
    {
     "name": "stdout",
     "output_type": "stream",
     "text": [
      "[0.2, 0.2, 0.0, 0.0]\n",
      "[0.6, 0.4, 0.6, 0.2]\n",
      "[0.6, 1.0, 0.4, 0.4]\n",
      "[0.4, 0.2, 0.4, 0.6]\n",
      "[0.4, 0.4, 0.4, 0.4]\n",
      "[1.0, 1.0, 0.5, 0]\n",
      "[1.0, 0.6, 0.4, 0.0]\n",
      "[0.4, 0.2, 0.4, 0.0]\n"
     ]
    },
    {
     "name": "stderr",
     "output_type": "stream",
     "text": [
      "  2%|██▏                                                                                                                 | 320/16604 [00:08<07:29, 36.22it/s]"
     ]
    },
    {
     "name": "stdout",
     "output_type": "stream",
     "text": [
      "[0.8, 0.4, 0.4, 0.0]\n",
      "[0.4, 0.6, 0.0, 0.6]\n",
      "[0.6, 0.2, 0.4, 0.0]\n",
      "[0.6, 0.0, 0.4, 0.0]\n",
      "[0.8, 0.4, 0.4, 0.0]\n",
      "[0.6, 0.8, 0.0, 0.0]\n",
      "[0.6, 0.4, 0.0, 0.0]\n",
      "[0.6, 0.0, 0.4, 0.0]\n"
     ]
    },
    {
     "name": "stderr",
     "output_type": "stream",
     "text": [
      "  2%|██▎                                                                                                                 | 328/16604 [00:09<07:30, 36.12it/s]"
     ]
    },
    {
     "name": "stdout",
     "output_type": "stream",
     "text": [
      "[0.6, 0.2, 0.4, 0.0]\n",
      "[0.6, 0.0, 0.4, 0.0]\n",
      "[0.0, 0.0, 0.0, 0.0]\n",
      "[0.6, 0.0, 0.4, 0.0]\n",
      "[0.0, 0.0, 0.0, 0.0]\n",
      "[0.6, 0.0, 0.4, 0.0]\n",
      "[0.4, 0.0, 0.4, 0.0]\n",
      "[0.4, 0.6, 0.0, 0.6]\n"
     ]
    },
    {
     "name": "stderr",
     "output_type": "stream",
     "text": [
      "  2%|██▎                                                                                                                 | 336/16604 [00:09<07:30, 36.11it/s]"
     ]
    },
    {
     "name": "stdout",
     "output_type": "stream",
     "text": [
      "[0.6, 0.0, 0.4, 0.0]\n",
      "[0.6, 0.0, 0.4, 0.0]\n",
      "[1.0, 0.8, 0.4, 0.0]\n",
      "[0.4, 0.6, 0.0, 0.0]\n",
      "[0.0, 0.0, 0.0, 0.0]\n",
      "[0.0, 0.0, 0.0, 0.0]\n",
      "[1.0, 0.0, 0.4, 0]\n",
      "[0.6, 0.0, 0.4, 0.6666666666666666]\n"
     ]
    },
    {
     "name": "stderr",
     "output_type": "stream",
     "text": [
      "  2%|██▍                                                                                                                 | 344/16604 [00:09<07:34, 35.76it/s]"
     ]
    },
    {
     "name": "stdout",
     "output_type": "stream",
     "text": [
      "[0.6, 0.6, 0.2, 0.3333333333333333]\n",
      "[0.0, 0.4, 0.2, 0.0]\n",
      "[0.8, 0.4, 0.4, 0.6666666666666666]\n",
      "[0.6, 0.2, 0.6, 1.0]\n",
      "[0.4, 0.4, 0.2, 0.3333333333333333]\n",
      "[0.8, 0.6, 0.4, 0.6666666666666666]\n",
      "[0.6, 0.0, 0.4, 0.6666666666666666]\n",
      "[0.6, 0.6, 0.4, 0.6666666666666666]\n"
     ]
    },
    {
     "name": "stderr",
     "output_type": "stream",
     "text": [
      "  2%|██▍                                                                                                                 | 352/16604 [00:09<07:32, 35.92it/s]"
     ]
    },
    {
     "name": "stdout",
     "output_type": "stream",
     "text": [
      "[0.6, 0.4, 0.2, 0.3333333333333333]\n",
      "[0.4, 0.6, 0.4, 0.3333333333333333]\n",
      "[0.8, 0.4, 0.4, 0.6666666666666666]\n",
      "[0.6, 0.2, 0.6, 1.0]\n",
      "[0.8, 0.2, 0.6, 1.0]\n",
      "[0.6, 0.0, 0.4, 0.6666666666666666]\n",
      "[0.8, 0.4, 0.4, 0.6666666666666666]\n",
      "[0.6, 0.0, 0.4, 0.6666666666666666]\n"
     ]
    },
    {
     "name": "stderr",
     "output_type": "stream",
     "text": [
      "  2%|██▌                                                                                                                 | 360/16604 [00:10<07:30, 36.03it/s]"
     ]
    },
    {
     "name": "stdout",
     "output_type": "stream",
     "text": [
      "[0.6, 0.4, 0.2, 0.3333333333333333]\n",
      "[0.4, 0.8, 0.2, 0.3333333333333333]\n",
      "[0.2, 0.0, 0.0, 0.0]\n",
      "[0.6, 0.2, 0.4, 0.6666666666666666]\n",
      "[0.2, 0.6, 0.0, 0.0]\n",
      "[0.6, 0.4, 0.2, 0.3333333333333333]\n",
      "[0.6, 0.8, 0.4, 0.6666666666666666]\n",
      "[0.8, 0.8, 0.6, 1.0]\n"
     ]
    },
    {
     "name": "stderr",
     "output_type": "stream",
     "text": [
      "  2%|██▌                                                                                                                 | 368/16604 [00:10<07:32, 35.87it/s]"
     ]
    },
    {
     "name": "stdout",
     "output_type": "stream",
     "text": [
      "[0.4, 0.8, 0.2, 0.3333333333333333]\n",
      "[0.6, 0.0, 0.4, 0.6666666666666666]\n",
      "[0.6, 0.8, 0.4, 0.6666666666666666]\n",
      "[0.2, 0.0, 0.0, 0.0]\n",
      "[0.4, 0.8, 0.2, 0.3333333333333333]\n",
      "[0.0, 0.4, 0.0, 0.0]\n",
      "[0.6, 0.2, 0.6, 1.0]\n",
      "[0.8, 0.8, 0.4, 0.4]\n"
     ]
    },
    {
     "name": "stderr",
     "output_type": "stream",
     "text": [
      "  2%|██▋                                                                                                                 | 376/16604 [00:10<07:35, 35.60it/s]"
     ]
    },
    {
     "name": "stdout",
     "output_type": "stream",
     "text": [
      "[0.8, 0.8, 0.4, 0.4]\n",
      "[0.8, 0.8, 0.4, 0.4]\n",
      "[0.8, 0.8, 0.4, 0.4]\n",
      "[1.0, 1.0, 0.4, 0.4]\n",
      "[0.4, 0.4, 0.0, 0.0]\n",
      "[0.4, 0.4, 0.4, 0.4]\n",
      "[0.8, 0.8, 0.4, 0.4]\n",
      "[0.8, 0.8, 0.4, 0.4]\n"
     ]
    },
    {
     "name": "stderr",
     "output_type": "stream",
     "text": [
      "  2%|██▋                                                                                                                 | 384/16604 [00:10<07:33, 35.73it/s]"
     ]
    },
    {
     "name": "stdout",
     "output_type": "stream",
     "text": [
      "[1.0, 1.0, 0.4, 0.4]\n",
      "[0.4, 0.4, 0.0, 0.0]\n",
      "[0.8, 0.8, 0.4, 0.4]\n",
      "[0.6, 0.6, 0.0, 0.0]\n",
      "[0.6, 0.6, 0.4, 0.4]\n",
      "[0.8, 0.8, 0.4, 0.4]\n",
      "[0.0, 0.0, 0.0, 0.0]\n",
      "[0.6, 0.6, 0.0, 0.0]\n"
     ]
    },
    {
     "name": "stderr",
     "output_type": "stream",
     "text": [
      "  2%|██▋                                                                                                                 | 392/16604 [00:10<07:31, 35.87it/s]"
     ]
    },
    {
     "name": "stdout",
     "output_type": "stream",
     "text": [
      "[1.0, 1.0, 0.4, 0.4]\n",
      "[0.2, 0.2, 0.2, 0.2]\n",
      "[0.2, 0.2, 0.2, 0.2]\n",
      "[0.6, 0.6, 0.0, 0.4]\n",
      "[0.2, 0.2, 0.0, 0.2]\n",
      "[0.8, 0.8, 0.0, 0.4]\n",
      "[0.2, 0.2, 0.2, 0.2]\n",
      "[0.2, 0.2, 0.4, 0.2]\n"
     ]
    },
    {
     "name": "stderr",
     "output_type": "stream",
     "text": [
      "  2%|██▊                                                                                                                 | 400/16604 [00:11<07:31, 35.85it/s]"
     ]
    },
    {
     "name": "stdout",
     "output_type": "stream",
     "text": [
      "[0.0, 0.0, 0.0, 0.0]\n",
      "[0.2, 0.2, 0.0, 0.2]\n",
      "[0.0, 0.0, 0.0, 0.0]\n",
      "[0.6, 0.6, 0.0, 0.4]\n",
      "[0.2, 0.2, 0.0, 0.0]\n",
      "[0.0, 0.0, 0.2, 0.0]\n",
      "[0.8, 0.8, 0.2, 0.2]\n",
      "[0.2, 0.2, 0.2, 0.0]\n"
     ]
    },
    {
     "name": "stderr",
     "output_type": "stream",
     "text": [
      "  2%|██▊                                                                                                                 | 408/16604 [00:11<07:30, 35.94it/s]"
     ]
    },
    {
     "name": "stdout",
     "output_type": "stream",
     "text": [
      "[0.0, 0.0, 0.4, 0.0]\n",
      "[0.2, 0.2, 0.0, 0.2]\n",
      "[0.0, 0.0, 0.0, 0.0]\n",
      "[0.4, 0.4, 0.0, 0.2]\n",
      "[0.0, 0.0, 0.0, 0.0]\n",
      "[0.6, 0.6, 0.0, 0.2]\n",
      "[0.0, 0.0, 0.2, 0.0]\n",
      "[0.4, 0.4, 0.0, 0.2]\n"
     ]
    },
    {
     "name": "stderr",
     "output_type": "stream",
     "text": [
      "  3%|██▉                                                                                                                 | 416/16604 [00:11<07:28, 36.07it/s]"
     ]
    },
    {
     "name": "stdout",
     "output_type": "stream",
     "text": [
      "[0.0, 0.0, 0.0, 0.0]\n",
      "[0.0, 0.0, 0.2, 0.0]\n",
      "[0.2, 0.2, 0.0, 0.2]\n",
      "[0.0, 0.0, 0.0, 0.0]\n",
      "[0.2, 0.2, 0.0, 0.0]\n",
      "[0.0, 0.0, 0.0, 0.0]\n",
      "[0.2, 0.2, 0.0, 0.0]\n",
      "[0.0, 0.0, 0.0, 0.0]\n"
     ]
    },
    {
     "name": "stderr",
     "output_type": "stream",
     "text": [
      "  3%|██▉                                                                                                                 | 424/16604 [00:11<07:27, 36.15it/s]"
     ]
    },
    {
     "name": "stdout",
     "output_type": "stream",
     "text": [
      "[0.4, 0.4, 0.2, 0.0]\n",
      "[0.0, 0.0, 0.4, 0.0]\n",
      "[0.6, 0.6, 0.0, 0.2]\n",
      "[0.4, 0.4, 0.0, 0.0]\n",
      "[0.0, 0.0, 0.0, 0.0]\n",
      "[0.0, 0.0, 0.2, 0.0]\n",
      "[0.0, 0.0, 0.2, 0.0]\n",
      "[0.0, 0.0, 0.0, 0.0]\n"
     ]
    },
    {
     "name": "stderr",
     "output_type": "stream",
     "text": [
      "  3%|███                                                                                                                 | 432/16604 [00:12<07:29, 35.94it/s]"
     ]
    },
    {
     "name": "stdout",
     "output_type": "stream",
     "text": [
      "[0.2, 0.2, 0.2, 0.0]\n",
      "[0.6, 0.6, 0.0, 0.4]\n",
      "[0.2, 0.2, 0.2, 0.2]\n",
      "[0.0, 0.0, 0.4, 0.0]\n",
      "[0.2, 0.2, 0.0, 0.2]\n",
      "[0.0, 0.0, 0.2, 0.0]\n",
      "[0.2, 0.2, 0.0, 0.2]\n",
      "[0.6, 0.6, 0.0, 0.2]\n"
     ]
    },
    {
     "name": "stderr",
     "output_type": "stream",
     "text": [
      "  3%|███                                                                                                                 | 440/16604 [00:12<07:32, 35.73it/s]"
     ]
    },
    {
     "name": "stdout",
     "output_type": "stream",
     "text": [
      "[0.2, 0.2, 0.0, 0.2]\n",
      "[0.8, 0.8, 0.0, 0.4]\n",
      "[0.4, 0.4, 0.0, 0.2]\n",
      "[0.0, 0.0, 0.2, 0.0]\n",
      "[0.6, 0.6, 0.2, 0.2]\n",
      "[0.6, 0.6, 0.0, 0.2]\n",
      "[0.2, 0.2, 0.0, 0.2]\n",
      "[0.0, 0.0, 0.0, 0.0]\n"
     ]
    },
    {
     "name": "stderr",
     "output_type": "stream",
     "text": [
      "  3%|███▏                                                                                                                | 448/16604 [00:12<07:31, 35.82it/s]"
     ]
    },
    {
     "name": "stdout",
     "output_type": "stream",
     "text": [
      "[0.0, 0.0, 0.2, 0.0]\n",
      "[0.2, 0.2, 0.0, 0.2]\n",
      "[0.0, 0.0, 0.2, 0.0]\n",
      "[0.4, 0.4, 0.2, 0.2]\n",
      "[0.8, 0.8, 0.0, 0.4]\n",
      "[0.2, 0.2, 0.2, 0.2]\n",
      "[0.8, 0.8, 0.0, 0.4]\n",
      "[0.4, 0.4, 0.2, 0.2]\n"
     ]
    },
    {
     "name": "stderr",
     "output_type": "stream",
     "text": [
      "  3%|███▏                                                                                                                | 456/16604 [00:12<07:28, 36.04it/s]"
     ]
    },
    {
     "name": "stdout",
     "output_type": "stream",
     "text": [
      "[0.0, 0.0, 0.2, 0.0]\n",
      "[0.0, 0.0, 0.0, 0.0]\n",
      "[0.0, 0.0, 0.4, 0.0]\n",
      "[0.6, 0.6, 0.0, 0.2]\n",
      "[1.0, 1.0, 0.0, 0.4]\n",
      "[0.4, 0.4, 0.0, 0.0]\n",
      "[0.6, 0.6, 0.0, 0.4]\n",
      "[0.4, 0.4, 0.0, 0.6]\n"
     ]
    },
    {
     "name": "stderr",
     "output_type": "stream",
     "text": [
      "  3%|███▏                                                                                                                | 464/16604 [00:12<07:29, 35.93it/s]"
     ]
    },
    {
     "name": "stdout",
     "output_type": "stream",
     "text": [
      "[0.6, 0.6, 0.0, 0.6]\n",
      "[0.8, 0.8, 0.0, 0.4]\n",
      "[0.2, 0.2, 0.0, 0.2]\n",
      "[0.4, 0.4, 0.0, 0.0]\n",
      "[0.8, 0.8, 0.0, 0.4]\n",
      "[1.0, 1.0, 0.0, 0.4]\n",
      "[0.8, 0.8, 0.0, 0.4]\n",
      "[0.2, 0.2, 0.2, 0.2]\n"
     ]
    },
    {
     "name": "stderr",
     "output_type": "stream",
     "text": [
      "  3%|███▎                                                                                                                | 472/16604 [00:13<07:31, 35.75it/s]"
     ]
    },
    {
     "name": "stdout",
     "output_type": "stream",
     "text": [
      "[0.8, 0.8, 0.0, 0.4]\n",
      "[0.2, 0.2, 0.0, 0.0]\n",
      "[0.2, 0.2, 0.2, 0.2]\n",
      "[0.2, 0.2, 0.2, 0.2]\n",
      "[0.2, 0.2, 0.4, 0.2]\n",
      "[0.6, 0.6, 0.0, 0.2]\n",
      "[0.4, 0.4, 0.0, 0.0]\n",
      "[0.6, 0.6, 0.0, 0.4]\n"
     ]
    },
    {
     "name": "stderr",
     "output_type": "stream",
     "text": [
      "  3%|███▎                                                                                                                | 480/16604 [00:13<07:31, 35.68it/s]"
     ]
    },
    {
     "name": "stdout",
     "output_type": "stream",
     "text": [
      "[1.0, 1.0, 0.0, 0.4]\n",
      "[0.0, 0.0, 0.0, 0.0]\n",
      "[0.2, 0.2, 0.2, 0.2]\n",
      "[0.4, 0.4, 0.0, 0.2]\n",
      "[0.0, 0.0, 0.0, 0.0]\n",
      "[0.2, 0.2, 0.0, 0.0]\n",
      "[0.0, 0.0, 0.4, 0.0]\n",
      "[0.2, 0.2, 0.2, 0.2]\n"
     ]
    },
    {
     "name": "stderr",
     "output_type": "stream",
     "text": [
      "  3%|███▍                                                                                                                | 488/16604 [00:13<07:28, 35.89it/s]"
     ]
    },
    {
     "name": "stdout",
     "output_type": "stream",
     "text": [
      "[0.0, 0.0, 0.2, 0.0]\n",
      "[0.8, 0.8, 0.0, 0.4]\n",
      "[0.4, 0.4, 0.0, 0.2]\n",
      "[0.0, 0.0, 0.2, 0.0]\n",
      "[1.0, 1.0, 0.0, 0.4]\n",
      "[1.0, 1.0, 0.0, 0.4]\n",
      "[0.8, 0.8, 0.0, 0.2]\n",
      "[0.0, 0.0, 0.4, 0.0]\n"
     ]
    },
    {
     "name": "stderr",
     "output_type": "stream",
     "text": [
      "  3%|███▍                                                                                                                | 496/16604 [00:13<07:27, 36.02it/s]"
     ]
    },
    {
     "name": "stdout",
     "output_type": "stream",
     "text": [
      "[0.6, 0.6, 0.0, 0.4]\n",
      "[0.8, 0.8, 0.0, 0.2]\n",
      "[0.2, 0.2, 0.2, 0.2]\n",
      "[0.0, 0.0, 0.2, 0.0]\n",
      "[0.4, 0.4, 0.0, 0.0]\n",
      "[0.2, 0.2, 0.2, 0.2]\n",
      "[0.0, 0.0, 0.0, 0.0]\n",
      "[0.0, 0.0, 0.0, 0.0]\n"
     ]
    },
    {
     "name": "stderr",
     "output_type": "stream",
     "text": [
      "  3%|███▌                                                                                                                | 504/16604 [00:14<07:28, 35.92it/s]"
     ]
    },
    {
     "name": "stdout",
     "output_type": "stream",
     "text": [
      "[0.0, 0.0, 0.4, 0.0]\n",
      "[0.4, 0.4, 0.2, 0.0]\n",
      "[0.4, 0.4, 0.0, 0.2]\n",
      "[0.6, 0.6, 0.0, 0.4]\n",
      "[0.4, 0.4, 0.2, 0.0]\n",
      "[0.0, 0.0, 0.0, 0.0]\n",
      "[0.2, 0.2, 0.2, 0.2]\n",
      "[1.0, 1.0, 0.0, 0.4]\n"
     ]
    },
    {
     "name": "stderr",
     "output_type": "stream",
     "text": [
      "  3%|███▌                                                                                                                | 512/16604 [00:14<07:26, 36.01it/s]"
     ]
    },
    {
     "name": "stdout",
     "output_type": "stream",
     "text": [
      "[1.0, 1.0, 0.0, 0.4]\n",
      "[0.2, 0.2, 0.2, 0.2]\n",
      "[0.4, 0.4, 0.0, 0.0]\n",
      "[0.4, 0.4, 0.0, 0.2]\n",
      "[0.2, 0.2, 0.0, 0.2]\n",
      "[0.4, 0.4, 0.0, 0.0]\n",
      "[0.4, 0.4, 0.2, 0.2]\n",
      "[0.8, 0.8, 0.0, 0.2]\n"
     ]
    },
    {
     "name": "stderr",
     "output_type": "stream",
     "text": [
      "  3%|███▋                                                                                                                | 521/16604 [00:14<07:29, 35.79it/s]"
     ]
    },
    {
     "name": "stdout",
     "output_type": "stream",
     "text": [
      "[0.2, 0.2, 0.0, 0.0]\n",
      "[0.4, 0.4, 0.0, 0.0]\n",
      "[0.4, 0.4, 0.0, 0.0]\n",
      "[0.6, 0.6, 0.0, 0.2]\n",
      "[0.2, 0.2, 0.2, 0.2]\n",
      "[0.2, 0.2, 0.2, 0.2]\n"
     ]
    },
    {
     "name": "stderr",
     "output_type": "stream",
     "text": [
      "\n"
     ]
    },
    {
     "ename": "KeyboardInterrupt",
     "evalue": "",
     "output_type": "error",
     "traceback": [
      "\u001b[0;31m---------------------------------------------------------------------------\u001b[0m",
      "\u001b[0;31mKeyboardInterrupt\u001b[0m                         Traceback (most recent call last)",
      "\u001b[0;32m/var/folders/w5/hytdhfkn0c7105y9lq3d5hm00000gn/T/ipykernel_46262/3776954662.py\u001b[0m in \u001b[0;36m<module>\u001b[0;34m\u001b[0m\n\u001b[1;32m      5\u001b[0m     \u001b[0mfault_time_ts\u001b[0m \u001b[0;34m=\u001b[0m \u001b[0mrow\u001b[0m\u001b[0;34m[\u001b[0m\u001b[0;34m'fault_time_ts'\u001b[0m\u001b[0;34m]\u001b[0m\u001b[0;34m\u001b[0m\u001b[0;34m\u001b[0m\u001b[0m\n\u001b[1;32m      6\u001b[0m     \u001b[0mserver_model\u001b[0m \u001b[0;34m=\u001b[0m \u001b[0mrow\u001b[0m\u001b[0;34m[\u001b[0m\u001b[0;34m'server_model'\u001b[0m\u001b[0;34m]\u001b[0m\u001b[0;34m\u001b[0m\u001b[0;34m\u001b[0m\u001b[0m\n\u001b[0;32m----> 7\u001b[0;31m     \u001b[0msub_log\u001b[0m \u001b[0;34m=\u001b[0m \u001b[0mlog_df\u001b[0m\u001b[0;34m[\u001b[0m\u001b[0;34m(\u001b[0m\u001b[0mlog_df\u001b[0m\u001b[0;34m[\u001b[0m\u001b[0;34m'sn'\u001b[0m\u001b[0;34m]\u001b[0m \u001b[0;34m==\u001b[0m \u001b[0msn\u001b[0m\u001b[0;34m)\u001b[0m \u001b[0;34m&\u001b[0m \u001b[0;34m(\u001b[0m\u001b[0mlog_df\u001b[0m\u001b[0;34m[\u001b[0m\u001b[0;34m'time_ts'\u001b[0m\u001b[0;34m]\u001b[0m \u001b[0;34m<=\u001b[0m \u001b[0mfault_time_ts\u001b[0m\u001b[0;34m)\u001b[0m\u001b[0;34m]\u001b[0m\u001b[0;34m\u001b[0m\u001b[0;34m\u001b[0m\u001b[0m\n\u001b[0m\u001b[1;32m      8\u001b[0m     \u001b[0msub_log\u001b[0m \u001b[0;34m=\u001b[0m \u001b[0msub_log\u001b[0m\u001b[0;34m.\u001b[0m\u001b[0msort_values\u001b[0m\u001b[0;34m(\u001b[0m\u001b[0mby\u001b[0m\u001b[0;34m=\u001b[0m\u001b[0;34m'time'\u001b[0m\u001b[0;34m)\u001b[0m\u001b[0;34m\u001b[0m\u001b[0;34m\u001b[0m\u001b[0m\n\u001b[1;32m      9\u001b[0m     \u001b[0mdf_tmp\u001b[0m \u001b[0;34m=\u001b[0m \u001b[0msub_log\u001b[0m\u001b[0;34m.\u001b[0m\u001b[0mtail\u001b[0m\u001b[0;34m(\u001b[0m\u001b[0;36m10\u001b[0m\u001b[0;34m)\u001b[0m\u001b[0;34m\u001b[0m\u001b[0;34m\u001b[0m\u001b[0m\n",
      "\u001b[0;32m~/Projects/log-based-failuer-diagnosis/env/lib/python3.7/site-packages/pandas/core/ops/common.py\u001b[0m in \u001b[0;36mnew_method\u001b[0;34m(self, other)\u001b[0m\n\u001b[1;32m     67\u001b[0m         \u001b[0mother\u001b[0m \u001b[0;34m=\u001b[0m \u001b[0mitem_from_zerodim\u001b[0m\u001b[0;34m(\u001b[0m\u001b[0mother\u001b[0m\u001b[0;34m)\u001b[0m\u001b[0;34m\u001b[0m\u001b[0;34m\u001b[0m\u001b[0m\n\u001b[1;32m     68\u001b[0m \u001b[0;34m\u001b[0m\u001b[0m\n\u001b[0;32m---> 69\u001b[0;31m         \u001b[0;32mreturn\u001b[0m \u001b[0mmethod\u001b[0m\u001b[0;34m(\u001b[0m\u001b[0mself\u001b[0m\u001b[0;34m,\u001b[0m \u001b[0mother\u001b[0m\u001b[0;34m)\u001b[0m\u001b[0;34m\u001b[0m\u001b[0;34m\u001b[0m\u001b[0m\n\u001b[0m\u001b[1;32m     70\u001b[0m \u001b[0;34m\u001b[0m\u001b[0m\n\u001b[1;32m     71\u001b[0m     \u001b[0;32mreturn\u001b[0m \u001b[0mnew_method\u001b[0m\u001b[0;34m\u001b[0m\u001b[0;34m\u001b[0m\u001b[0m\n",
      "\u001b[0;32m~/Projects/log-based-failuer-diagnosis/env/lib/python3.7/site-packages/pandas/core/arraylike.py\u001b[0m in \u001b[0;36m__eq__\u001b[0;34m(self, other)\u001b[0m\n\u001b[1;32m     30\u001b[0m     \u001b[0;34m@\u001b[0m\u001b[0munpack_zerodim_and_defer\u001b[0m\u001b[0;34m(\u001b[0m\u001b[0;34m\"__eq__\"\u001b[0m\u001b[0;34m)\u001b[0m\u001b[0;34m\u001b[0m\u001b[0;34m\u001b[0m\u001b[0m\n\u001b[1;32m     31\u001b[0m     \u001b[0;32mdef\u001b[0m \u001b[0m__eq__\u001b[0m\u001b[0;34m(\u001b[0m\u001b[0mself\u001b[0m\u001b[0;34m,\u001b[0m \u001b[0mother\u001b[0m\u001b[0;34m)\u001b[0m\u001b[0;34m:\u001b[0m\u001b[0;34m\u001b[0m\u001b[0;34m\u001b[0m\u001b[0m\n\u001b[0;32m---> 32\u001b[0;31m         \u001b[0;32mreturn\u001b[0m \u001b[0mself\u001b[0m\u001b[0;34m.\u001b[0m\u001b[0m_cmp_method\u001b[0m\u001b[0;34m(\u001b[0m\u001b[0mother\u001b[0m\u001b[0;34m,\u001b[0m \u001b[0moperator\u001b[0m\u001b[0;34m.\u001b[0m\u001b[0meq\u001b[0m\u001b[0;34m)\u001b[0m\u001b[0;34m\u001b[0m\u001b[0;34m\u001b[0m\u001b[0m\n\u001b[0m\u001b[1;32m     33\u001b[0m \u001b[0;34m\u001b[0m\u001b[0m\n\u001b[1;32m     34\u001b[0m     \u001b[0;34m@\u001b[0m\u001b[0munpack_zerodim_and_defer\u001b[0m\u001b[0;34m(\u001b[0m\u001b[0;34m\"__ne__\"\u001b[0m\u001b[0;34m)\u001b[0m\u001b[0;34m\u001b[0m\u001b[0;34m\u001b[0m\u001b[0m\n",
      "\u001b[0;32m~/Projects/log-based-failuer-diagnosis/env/lib/python3.7/site-packages/pandas/core/series.py\u001b[0m in \u001b[0;36m_cmp_method\u001b[0;34m(self, other, op)\u001b[0m\n\u001b[1;32m   5500\u001b[0m \u001b[0;34m\u001b[0m\u001b[0m\n\u001b[1;32m   5501\u001b[0m         \u001b[0;32mwith\u001b[0m \u001b[0mnp\u001b[0m\u001b[0;34m.\u001b[0m\u001b[0merrstate\u001b[0m\u001b[0;34m(\u001b[0m\u001b[0mall\u001b[0m\u001b[0;34m=\u001b[0m\u001b[0;34m\"ignore\"\u001b[0m\u001b[0;34m)\u001b[0m\u001b[0;34m:\u001b[0m\u001b[0;34m\u001b[0m\u001b[0;34m\u001b[0m\u001b[0m\n\u001b[0;32m-> 5502\u001b[0;31m             \u001b[0mres_values\u001b[0m \u001b[0;34m=\u001b[0m \u001b[0mops\u001b[0m\u001b[0;34m.\u001b[0m\u001b[0mcomparison_op\u001b[0m\u001b[0;34m(\u001b[0m\u001b[0mlvalues\u001b[0m\u001b[0;34m,\u001b[0m \u001b[0mrvalues\u001b[0m\u001b[0;34m,\u001b[0m \u001b[0mop\u001b[0m\u001b[0;34m)\u001b[0m\u001b[0;34m\u001b[0m\u001b[0;34m\u001b[0m\u001b[0m\n\u001b[0m\u001b[1;32m   5503\u001b[0m \u001b[0;34m\u001b[0m\u001b[0m\n\u001b[1;32m   5504\u001b[0m         \u001b[0;32mreturn\u001b[0m \u001b[0mself\u001b[0m\u001b[0;34m.\u001b[0m\u001b[0m_construct_result\u001b[0m\u001b[0;34m(\u001b[0m\u001b[0mres_values\u001b[0m\u001b[0;34m,\u001b[0m \u001b[0mname\u001b[0m\u001b[0;34m=\u001b[0m\u001b[0mres_name\u001b[0m\u001b[0;34m)\u001b[0m\u001b[0;34m\u001b[0m\u001b[0;34m\u001b[0m\u001b[0m\n",
      "\u001b[0;32m~/Projects/log-based-failuer-diagnosis/env/lib/python3.7/site-packages/pandas/core/ops/array_ops.py\u001b[0m in \u001b[0;36mcomparison_op\u001b[0;34m(left, right, op)\u001b[0m\n\u001b[1;32m    282\u001b[0m \u001b[0;34m\u001b[0m\u001b[0m\n\u001b[1;32m    283\u001b[0m     \u001b[0;32melif\u001b[0m \u001b[0mis_object_dtype\u001b[0m\u001b[0;34m(\u001b[0m\u001b[0mlvalues\u001b[0m\u001b[0;34m.\u001b[0m\u001b[0mdtype\u001b[0m\u001b[0;34m)\u001b[0m \u001b[0;32mor\u001b[0m \u001b[0misinstance\u001b[0m\u001b[0;34m(\u001b[0m\u001b[0mrvalues\u001b[0m\u001b[0;34m,\u001b[0m \u001b[0mstr\u001b[0m\u001b[0;34m)\u001b[0m\u001b[0;34m:\u001b[0m\u001b[0;34m\u001b[0m\u001b[0;34m\u001b[0m\u001b[0m\n\u001b[0;32m--> 284\u001b[0;31m         \u001b[0mres_values\u001b[0m \u001b[0;34m=\u001b[0m \u001b[0mcomp_method_OBJECT_ARRAY\u001b[0m\u001b[0;34m(\u001b[0m\u001b[0mop\u001b[0m\u001b[0;34m,\u001b[0m \u001b[0mlvalues\u001b[0m\u001b[0;34m,\u001b[0m \u001b[0mrvalues\u001b[0m\u001b[0;34m)\u001b[0m\u001b[0;34m\u001b[0m\u001b[0;34m\u001b[0m\u001b[0m\n\u001b[0m\u001b[1;32m    285\u001b[0m \u001b[0;34m\u001b[0m\u001b[0m\n\u001b[1;32m    286\u001b[0m     \u001b[0;32melse\u001b[0m\u001b[0;34m:\u001b[0m\u001b[0;34m\u001b[0m\u001b[0;34m\u001b[0m\u001b[0m\n",
      "\u001b[0;32m~/Projects/log-based-failuer-diagnosis/env/lib/python3.7/site-packages/pandas/core/ops/array_ops.py\u001b[0m in \u001b[0;36mcomp_method_OBJECT_ARRAY\u001b[0;34m(op, x, y)\u001b[0m\n\u001b[1;32m     71\u001b[0m         \u001b[0mresult\u001b[0m \u001b[0;34m=\u001b[0m \u001b[0mlibops\u001b[0m\u001b[0;34m.\u001b[0m\u001b[0mvec_compare\u001b[0m\u001b[0;34m(\u001b[0m\u001b[0mx\u001b[0m\u001b[0;34m.\u001b[0m\u001b[0mravel\u001b[0m\u001b[0;34m(\u001b[0m\u001b[0;34m)\u001b[0m\u001b[0;34m,\u001b[0m \u001b[0my\u001b[0m\u001b[0;34m.\u001b[0m\u001b[0mravel\u001b[0m\u001b[0;34m(\u001b[0m\u001b[0;34m)\u001b[0m\u001b[0;34m,\u001b[0m \u001b[0mop\u001b[0m\u001b[0;34m)\u001b[0m\u001b[0;34m\u001b[0m\u001b[0;34m\u001b[0m\u001b[0m\n\u001b[1;32m     72\u001b[0m     \u001b[0;32melse\u001b[0m\u001b[0;34m:\u001b[0m\u001b[0;34m\u001b[0m\u001b[0;34m\u001b[0m\u001b[0m\n\u001b[0;32m---> 73\u001b[0;31m         \u001b[0mresult\u001b[0m \u001b[0;34m=\u001b[0m \u001b[0mlibops\u001b[0m\u001b[0;34m.\u001b[0m\u001b[0mscalar_compare\u001b[0m\u001b[0;34m(\u001b[0m\u001b[0mx\u001b[0m\u001b[0;34m.\u001b[0m\u001b[0mravel\u001b[0m\u001b[0;34m(\u001b[0m\u001b[0;34m)\u001b[0m\u001b[0;34m,\u001b[0m \u001b[0my\u001b[0m\u001b[0;34m,\u001b[0m \u001b[0mop\u001b[0m\u001b[0;34m)\u001b[0m\u001b[0;34m\u001b[0m\u001b[0;34m\u001b[0m\u001b[0m\n\u001b[0m\u001b[1;32m     74\u001b[0m     \u001b[0;32mreturn\u001b[0m \u001b[0mresult\u001b[0m\u001b[0;34m.\u001b[0m\u001b[0mreshape\u001b[0m\u001b[0;34m(\u001b[0m\u001b[0mx\u001b[0m\u001b[0;34m.\u001b[0m\u001b[0mshape\u001b[0m\u001b[0;34m)\u001b[0m\u001b[0;34m\u001b[0m\u001b[0;34m\u001b[0m\u001b[0m\n\u001b[1;32m     75\u001b[0m \u001b[0;34m\u001b[0m\u001b[0m\n",
      "\u001b[0;31mKeyboardInterrupt\u001b[0m: "
     ]
    }
   ],
   "source": [
    "for idx in tqdm(range(label_df.shape[0])):\n",
    "    row = label_df.iloc[idx]\n",
    "    sn = row['sn']\n",
    "    fault_time = row['fault_time']\n",
    "    fault_time_ts = row['fault_time_ts']\n",
    "    server_model = row['server_model']\n",
    "    sub_log = log_df[(log_df['sn'] == sn) & (log_df['time_ts'] <= fault_time_ts)]\n",
    "    sub_log = sub_log.sort_values(by='time')\n",
    "    df_tmp = sub_log.tail(10)\n",
    "    \n",
    "    features = []\n",
    "    for label in range(4):\n",
    "        k = '%s_%d'%(server_model, label)\n",
    "        if k in counter_map:\n",
    "            intersect = np.intersect1d(np.unique(df_tmp['msg_id'].values), counter_map[k])\n",
    "            features.append(len(intersect) / len(counter_map[k]))\n",
    "        else:\n",
    "            features.append(0)\n",
    "    print(features)"
   ]
  },
  {
   "cell_type": "code",
   "execution_count": null,
   "id": "5d61187b",
   "metadata": {},
   "outputs": [],
   "source": []
  },
  {
   "cell_type": "code",
   "execution_count": 1,
   "id": "bf0ec629",
   "metadata": {},
   "outputs": [],
   "source": [
    "import pandas as pd"
   ]
  },
  {
   "cell_type": "code",
   "execution_count": 2,
   "id": "e3b3b267",
   "metadata": {},
   "outputs": [],
   "source": [
    "train = pd.read_csv('../code/train.csv')\n",
    "test = pd.read_csv('../code/test.csv')"
   ]
  },
  {
   "cell_type": "code",
   "execution_count": 5,
   "id": "9d9c6b4c",
   "metadata": {},
   "outputs": [],
   "source": [
    "import seaborn as sns"
   ]
  },
  {
   "cell_type": "code",
   "execution_count": 23,
   "id": "24d83bd0",
   "metadata": {},
   "outputs": [],
   "source": [
    "train['qcut'] = pd.cut(train['second_span0_tail20'], bins=10, labels=range(10))\n",
    "test['qcut'] = pd.cut(test['second_span0_tail20'], bins=10, labels=range(10))"
   ]
  },
  {
   "cell_type": "code",
   "execution_count": 24,
   "id": "a04e62d4",
   "metadata": {},
   "outputs": [
    {
     "data": {
      "text/plain": [
       "0        0\n",
       "1        0\n",
       "2        0\n",
       "3        0\n",
       "4        0\n",
       "        ..\n",
       "16599    0\n",
       "16600    0\n",
       "16601    0\n",
       "16602    0\n",
       "16603    0\n",
       "Name: qcut, Length: 16604, dtype: category\n",
       "Categories (10, int64): [0 < 1 < 2 < 3 ... 6 < 7 < 8 < 9]"
      ]
     },
     "execution_count": 24,
     "metadata": {},
     "output_type": "execute_result"
    }
   ],
   "source": [
    "train['qcut']"
   ]
  },
  {
   "cell_type": "code",
   "execution_count": 28,
   "id": "4863205e",
   "metadata": {},
   "outputs": [
    {
     "name": "stderr",
     "output_type": "stream",
     "text": [
      "/Users/yitinglin/Projects/log-based-failuer-diagnosis/env/lib/python3.7/site-packages/seaborn/distributions.py:2619: FutureWarning: `distplot` is a deprecated function and will be removed in a future version. Please adapt your code to use either `displot` (a figure-level function with similar flexibility) or `histplot` (an axes-level function for histograms).\n",
      "  warnings.warn(msg, FutureWarning)\n",
      "/Users/yitinglin/Projects/log-based-failuer-diagnosis/env/lib/python3.7/site-packages/seaborn/distributions.py:2619: FutureWarning: `distplot` is a deprecated function and will be removed in a future version. Please adapt your code to use either `displot` (a figure-level function with similar flexibility) or `histplot` (an axes-level function for histograms).\n",
      "  warnings.warn(msg, FutureWarning)\n"
     ]
    },
    {
     "data": {
      "text/plain": [
       "<AxesSubplot:xlabel='w2v_56', ylabel='Density'>"
      ]
     },
     "execution_count": 28,
     "metadata": {},
     "output_type": "execute_result"
    },
    {
     "data": {
      "image/png": "[encoded data removed]",
      "text/plain": [
       "<Figure size 432x288 with 1 Axes>"
      ]
     },
     "metadata": {
      "needs_background": "light"
     },
     "output_type": "display_data"
    }
   ],
   "source": [
    "sns.distplot(train['w2v_56'])\n",
    "sns.distplot(test['w2v_56'])"
   ]
  },
  {
   "cell_type": "code",
   "execution_count": null,
   "id": "be6e76ae",
   "metadata": {},
   "outputs": [],
   "source": []
  },
  {
   "cell_type": "code",
   "execution_count": null,
   "id": "78504122",
   "metadata": {},
   "outputs": [],
   "source": []
  },
  {
   "cell_type": "code",
   "execution_count": null,
   "id": "74d7ecb1",
   "metadata": {},
   "outputs": [],
   "source": []
  },
  {
   "cell_type": "code",
   "execution_count": null,
   "id": "117738a4",
   "metadata": {},
   "outputs": [],
   "source": []
  },
  {
   "cell_type": "code",
   "execution_count": null,
   "id": "8869b327",
   "metadata": {},
   "outputs": [],
   "source": []
  },
  {
   "cell_type": "code",
   "execution_count": 4,
   "id": "cfc23771",
   "metadata": {},
   "outputs": [
    {
     "name": "stdout",
     "output_type": "stream",
     "text": [
      "(16604, 3) (3030, 2)\n",
      "(16604, 5) (3030, 4)\n"
     ]
    }
   ],
   "source": [
    "import os\n",
    "import json\n",
    "import numpy as np\n",
    "import pandas as pd\n",
    "from tqdm import tqdm\n",
    "from collections import Counter\n",
    "\n",
    "from gensim.models.word2vec import Word2Vec\n",
    "from sklearn.feature_extraction.text import TfidfVectorizer\n",
    "from sklearn.decomposition import TruncatedSVD\n",
    "\n",
    "label1 = pd.read_csv('../data/preliminary_train_label_dataset.csv')\n",
    "label2 = pd.read_csv('../data/preliminary_train_label_dataset_s.csv')\n",
    "label_df = pd.concat([label1, label2]).reset_index(drop=True)\n",
    "label_df = label_df.drop_duplicates().reset_index(drop=True)\n",
    "\n",
    "submit_df = pd.read_csv('../data/preliminary_submit_dataset_b.csv')\n",
    "\n",
    "print(label_df.shape, submit_df.shape)\n",
    "\n",
    "log_df = pd.read_csv('../code/log_template.csv')\n",
    "log_df['msg_lower'] = log_df['msg_lower'].astype(str)\n",
    "log_df['server_model'] = log_df['server_model'].astype(str)\n",
    "\n",
    "log_df['time'] = pd.to_datetime(log_df['time'])\n",
    "label_df['fault_time'] = pd.to_datetime(label_df['fault_time'])\n",
    "submit_df['fault_time'] = pd.to_datetime(submit_df['fault_time'])\n",
    "\n",
    "log_df['time_ts'] = log_df[\"time\"].values.astype(np.int64) // 10 ** 9\n",
    "label_df['fault_time_ts'] = label_df[\"fault_time\"].values.astype(np.int64) // 10 ** 9\n",
    "submit_df['fault_time_ts'] = submit_df[\"fault_time\"].values.astype(np.int64) // 10 ** 9\n",
    "\n",
    "crashdump_df = pd.read_csv('../data/preliminary_crashdump_dataset.csv')\n",
    "venus_df = pd.read_csv('../data/preliminary_venus_dataset.csv')\n",
    "crashdump_df['fault_time'] = pd.to_datetime(crashdump_df['fault_time'])\n",
    "venus_df['fault_time'] = pd.to_datetime(venus_df['fault_time'])\n",
    "crashdump_df['fault_time_ts'] = crashdump_df[\"fault_time\"].values.astype(np.int64) // 10 ** 9\n",
    "venus_df['fault_time_ts'] = venus_df[\"fault_time\"].values.astype(np.int64) // 10 ** 9\n",
    "\n",
    "label_df = label_df.merge(log_df[['sn', 'server_model']].drop_duplicates(), on=['sn'], how='left')\n",
    "submit_df = submit_df.merge(log_df[['sn', 'server_model']].drop_duplicates(), on=['sn'], how='left')\n",
    "label_df = label_df.fillna('MISSING')\n",
    "submit_df = submit_df.fillna('MISSING')\n",
    "print(label_df.shape, submit_df.shape)"
   ]
  },
  {
   "cell_type": "code",
   "execution_count": 9,
   "id": "329ce94a",
   "metadata": {},
   "outputs": [],
   "source": [
    "def safe_split(strs, n, sep='|'):\n",
    "    str_li = strs.split(sep)\n",
    "    if len(str_li) >= n + 1:\n",
    "        return str_li[n].strip()\n",
    "    else:\n",
    "        return ''"
   ]
  },
  {
   "cell_type": "code",
   "execution_count": 13,
   "id": "9fdb2fff",
   "metadata": {},
   "outputs": [],
   "source": [
    "log_df['msg_split_0'] = log_df['msg_lower'].apply(lambda x: safe_split(x, 0))"
   ]
  },
  {
   "cell_type": "code",
   "execution_count": 14,
   "id": "d2e85330",
   "metadata": {},
   "outputs": [],
   "source": [
    "log_df['msg_split_1'] = log_df['msg_lower'].apply(lambda x: safe_split(x, 1))"
   ]
  },
  {
   "cell_type": "code",
   "execution_count": 15,
   "id": "6547b2ed",
   "metadata": {},
   "outputs": [],
   "source": [
    "log_df['msg_split_2'] = log_df['msg_lower'].apply(lambda x: safe_split(x, 2))"
   ]
  },
  {
   "cell_type": "code",
   "execution_count": null,
   "id": "c725cd4f",
   "metadata": {},
   "outputs": [],
   "source": []
  },
  {
   "cell_type": "code",
   "execution_count": null,
   "id": "9e19f9d7",
   "metadata": {},
   "outputs": [],
   "source": []
  },
  {
   "cell_type": "code",
   "execution_count": null,
   "id": "17f00e01",
   "metadata": {},
   "outputs": [],
   "source": []
  },
  {
   "cell_type": "code",
   "execution_count": null,
   "id": "0f035e21",
   "metadata": {},
   "outputs": [],
   "source": []
  },
  {
   "cell_type": "code",
   "execution_count": null,
   "id": "f9c87217",
   "metadata": {},
   "outputs": [],
   "source": []
  },
  {
   "cell_type": "code",
   "execution_count": null,
   "id": "b83ab06e",
   "metadata": {},
   "outputs": [],
   "source": []
  },
  {
   "cell_type": "code",
   "execution_count": null,
   "id": "e901ab62",
   "metadata": {},
   "outputs": [],
   "source": []
  },
  {
   "cell_type": "code",
   "execution_count": 1,
   "id": "0d96c311",
   "metadata": {},
   "outputs": [
    {
     "name": "stdout",
     "output_type": "stream",
     "text": [
      "(16604, 3) (3030, 2)\n",
      "(16604, 5) (3030, 4)\n"
     ]
    }
   ],
   "source": [
    "import os\n",
    "import json\n",
    "import numpy as np\n",
    "import pandas as pd\n",
    "from tqdm import tqdm\n",
    "from collections import Counter\n",
    "\n",
    "from gensim.models.word2vec import Word2Vec\n",
    "from sklearn.feature_extraction.text import TfidfVectorizer\n",
    "from sklearn.decomposition import TruncatedSVD\n",
    "\n",
    "label1 = pd.read_csv('../data/preliminary_train_label_dataset.csv')\n",
    "label2 = pd.read_csv('../data/preliminary_train_label_dataset_s.csv')\n",
    "label_df = pd.concat([label1, label2]).reset_index(drop=True)\n",
    "label_df = label_df.drop_duplicates().reset_index(drop=True)\n",
    "\n",
    "submit_df = pd.read_csv('../data/preliminary_submit_dataset_b.csv')\n",
    "\n",
    "print(label_df.shape, submit_df.shape)\n",
    "\n",
    "log_df = pd.read_csv('../code/log_template.csv')\n",
    "log_df['msg_lower'] = log_df['msg_lower'].astype(str)\n",
    "log_df['server_model'] = log_df['server_model'].astype(str)\n",
    "\n",
    "log_df['time'] = pd.to_datetime(log_df['time'])\n",
    "label_df['fault_time'] = pd.to_datetime(label_df['fault_time'])\n",
    "submit_df['fault_time'] = pd.to_datetime(submit_df['fault_time'])\n",
    "\n",
    "log_df['time_ts'] = log_df[\"time\"].values.astype(np.int64) // 10 ** 9\n",
    "label_df['fault_time_ts'] = label_df[\"fault_time\"].values.astype(np.int64) // 10 ** 9\n",
    "submit_df['fault_time_ts'] = submit_df[\"fault_time\"].values.astype(np.int64) // 10 ** 9\n",
    "\n",
    "crashdump_df = pd.read_csv('../data/preliminary_crashdump_dataset.csv')\n",
    "venus_df = pd.read_csv('../data/preliminary_venus_dataset.csv')\n",
    "crashdump_df['fault_time'] = pd.to_datetime(crashdump_df['fault_time'])\n",
    "venus_df['fault_time'] = pd.to_datetime(venus_df['fault_time'])\n",
    "crashdump_df['fault_time_ts'] = crashdump_df[\"fault_time\"].values.astype(np.int64) // 10 ** 9\n",
    "venus_df['fault_time_ts'] = venus_df[\"fault_time\"].values.astype(np.int64) // 10 ** 9\n",
    "\n",
    "label_df = label_df.merge(log_df[['sn', 'server_model']].drop_duplicates(), on=['sn'], how='left')\n",
    "submit_df = submit_df.merge(log_df[['sn', 'server_model']].drop_duplicates(), on=['sn'], how='left')\n",
    "label_df = label_df.fillna('MISSING')\n",
    "submit_df = submit_df.fillna('MISSING')\n",
    "print(label_df.shape, submit_df.shape)"
   ]
  },
  {
   "cell_type": "code",
   "execution_count": null,
   "id": "798f07a8",
   "metadata": {},
   "outputs": [],
   "source": []
  },
  {
   "cell_type": "code",
   "execution_count": 33,
   "id": "a3128e2b",
   "metadata": {},
   "outputs": [
    {
     "name": "stderr",
     "output_type": "stream",
     "text": [
      "100%|████████████████████████████████████████████████████████████████████████████████████████████████████████████████████████████████████████████████████████████| 16604/16604 [03:06<00:00, 89.04it/s]\n"
     ]
    }
   ],
   "source": [
    "cnt_list1 = []\n",
    "cnt_list2 = []\n",
    "for idx in tqdm(range(label_df.shape[0])):\n",
    "    row = label_df.iloc[idx]\n",
    "    sn = row['sn']\n",
    "    fault_time = row['fault_time']\n",
    "    fault_time_ts = row['fault_time_ts']\n",
    "    server_model = row['server_model']\n",
    "    label = row['label']\n",
    "    if label > 1:\n",
    "        continue\n",
    "    \n",
    "    sub_log1 = log_df[(log_df['sn'] == sn) & (log_df['time_ts'] <= fault_time_ts)]\n",
    "    sub_log1 = sub_log1.tail(50)\n",
    "    sub_log1 = sub_log1.sort_values(by='time')\n",
    "    \n",
    "    if label == 0:\n",
    "        cnt_list1.append(sub_log1[(~(sub_log1['msg_lower'].str.startswith('system'))) &\\\n",
    "                                  (~(sub_log1['msg_lower'].str.startswith('processor')))].shape[0])\n",
    "    if label == 1:\n",
    "        cnt_list2.append(sub_log1[(~(sub_log1['msg_lower'].str.startswith('system'))) &\\\n",
    "                                  (~(sub_log1['msg_lower'].str.startswith('processor')))].shape[0])\n"
   ]
  },
  {
   "cell_type": "code",
   "execution_count": 34,
   "id": "8a7eb991",
   "metadata": {},
   "outputs": [
    {
     "name": "stderr",
     "output_type": "stream",
     "text": [
      "/data/projects/log-based-failuer-diagnosis-main/env/lib/python3.7/site-packages/seaborn/distributions.py:2619: FutureWarning: `distplot` is a deprecated function and will be removed in a future version. Please adapt your code to use either `displot` (a figure-level function with similar flexibility) or `histplot` (an axes-level function for histograms).\n",
      "  warnings.warn(msg, FutureWarning)\n",
      "/data/projects/log-based-failuer-diagnosis-main/env/lib/python3.7/site-packages/seaborn/distributions.py:2619: FutureWarning: `distplot` is a deprecated function and will be removed in a future version. Please adapt your code to use either `displot` (a figure-level function with similar flexibility) or `histplot` (an axes-level function for histograms).\n",
      "  warnings.warn(msg, FutureWarning)\n"
     ]
    },
    {
     "data": {
      "text/plain": [
       "<AxesSubplot:ylabel='Density'>"
      ]
     },
     "execution_count": 34,
     "metadata": {},
     "output_type": "execute_result"
    },
    {
     "data": {
      "image/png": "[encoded data removed]",
      "text/plain": [
       "<Figure size 432x288 with 1 Axes>"
      ]
     },
     "metadata": {
      "needs_background": "light"
     },
     "output_type": "display_data"
    }
   ],
   "source": [
    "sns.distplot(cnt_list1)\n",
    "sns.distplot(cnt_list2)"
   ]
  },
  {
   "cell_type": "code",
   "execution_count": 38,
   "id": "a209286c",
   "metadata": {},
   "outputs": [],
   "source": [
    "df_train = df_train[df_train['second_span_2h'] < 10000]"
   ]
  },
  {
   "cell_type": "code",
   "execution_count": 5,
   "id": "d64746c7",
   "metadata": {},
   "outputs": [
    {
     "name": "stderr",
     "output_type": "stream",
     "text": [
      "/data/projects/log-based-failuer-diagnosis-main/env/lib/python3.7/site-packages/seaborn/distributions.py:2619: FutureWarning: `distplot` is a deprecated function and will be removed in a future version. Please adapt your code to use either `displot` (a figure-level function with similar flexibility) or `histplot` (an axes-level function for histograms).\n",
      "  warnings.warn(msg, FutureWarning)\n",
      "/data/projects/log-based-failuer-diagnosis-main/env/lib/python3.7/site-packages/seaborn/distributions.py:2619: FutureWarning: `distplot` is a deprecated function and will be removed in a future version. Please adapt your code to use either `displot` (a figure-level function with similar flexibility) or `histplot` (an axes-level function for histograms).\n",
      "  warnings.warn(msg, FutureWarning)\n"
     ]
    },
    {
     "data": {
      "text/plain": [
       "<AxesSubplot:xlabel='processor_nunique', ylabel='Density'>"
      ]
     },
     "execution_count": 5,
     "metadata": {},
     "output_type": "execute_result"
    },
    {
     "data": {
      "image/png": "[encoded data removed]",
      "text/plain": [
       "<Figure size 432x288 with 1 Axes>"
      ]
     },
     "metadata": {
      "needs_background": "light"
     },
     "output_type": "display_data"
    }
   ],
   "source": [
    "sns.distplot(df_train[df_train['label'] == 0]['processor_nunique'])\n",
    "sns.distplot(df_train[df_train['label'] == 1]['processor_nunique'])"
   ]
  },
  {
   "cell_type": "code",
   "execution_count": null,
   "id": "e826a1b7",
   "metadata": {},
   "outputs": [],
   "source": []
  },
  {
   "cell_type": "code",
   "execution_count": null,
   "id": "b453704f",
   "metadata": {},
   "outputs": [],
   "source": []
  },
  {
   "cell_type": "code",
   "execution_count": null,
   "id": "02981ee2",
   "metadata": {},
   "outputs": [],
   "source": []
  },
  {
   "cell_type": "code",
   "execution_count": null,
   "id": "8458bf6b",
   "metadata": {},
   "outputs": [],
   "source": []
  },
  {
   "cell_type": "code",
   "execution_count": 2,
   "id": "565246d4",
   "metadata": {},
   "outputs": [
    {
     "name": "stderr",
     "output_type": "stream",
     "text": [
      "100%|████████████████████████████████████████████████████████████████████████████████████████████████████████████████████████████████████████████████████████████| 16604/16604 [10:12<00:00, 27.11it/s]\n"
     ]
    }
   ],
   "source": [
    "cnt_list = []\n",
    "span_list = []\n",
    "for idx in tqdm(range(label_df.shape[0])):\n",
    "    row = label_df.iloc[idx]\n",
    "    sn = row['sn']\n",
    "    fault_time = row['fault_time']\n",
    "    fault_time_ts = row['fault_time_ts']\n",
    "    server_model = row['server_model']\n",
    "    \n",
    "    sub_log2 = log_df[(log_df['sn'] == sn) & (log_df['time_ts'] >= fault_time_ts)]\n",
    "    sub_log2 = sub_log2.sort_values(by='time')\n",
    "    cnt_list.append(sub_log2.shape[0])\n",
    "    \n",
    "    if sub_log2.shape[0] > 0:\n",
    "        span_list.append(sub_log2.iloc[0]['time_ts'] - fault_time_ts)\n",
    "    else:\n",
    "        span_list.append(0)"
   ]
  },
  {
   "cell_type": "code",
   "execution_count": 2,
   "id": "8c57bdba",
   "metadata": {},
   "outputs": [],
   "source": [
    "dtype = {\n",
    "    'server_model': 'str',\n",
    "    'last_msg_id': 'str',\n",
    "    'last_template_id': 'str',\n",
    "    'tmp_appearance_1': 'str',\n",
    "    'tmp_appearance_2': 'str',\n",
    "    'tmp_appearance_3': 'str',\n",
    "    'msg_appearance_1': 'str',\n",
    "    'msg_appearance_2': 'str',\n",
    "    'msg_appearance_3': 'str',\n",
    "    'max_continuous_msg': 'str'\n",
    "}\n",
    "df_train = pd.read_csv('../code/train.csv', dtype=dtype)\n",
    "df_test = pd.read_csv('../code/test.csv', dtype=dtype)"
   ]
  },
  {
   "cell_type": "code",
   "execution_count": 4,
   "id": "2a6f563b",
   "metadata": {},
   "outputs": [],
   "source": [
    "df_train['post_cnt'] = cnt_list\n",
    "df_train['post_span'] = span_list"
   ]
  },
  {
   "cell_type": "code",
   "execution_count": 13,
   "id": "60c436bf",
   "metadata": {},
   "outputs": [
    {
     "data": {
      "text/html": [
       "<div>\n",
       "<style scoped>\n",
       "    .dataframe tbody tr th:only-of-type {\n",
       "        vertical-align: middle;\n",
       "    }\n",
       "\n",
       "    .dataframe tbody tr th {\n",
       "        vertical-align: top;\n",
       "    }\n",
       "\n",
       "    .dataframe thead th {\n",
       "        text-align: right;\n",
       "    }\n",
       "</style>\n",
       "<table border=\"1\" class=\"dataframe\">\n",
       "  <thead>\n",
       "    <tr style=\"text-align: right;\">\n",
       "      <th></th>\n",
       "      <th>sn</th>\n",
       "      <th>fault_time</th>\n",
       "      <th>server_model</th>\n",
       "      <th>last_msg_id</th>\n",
       "      <th>last_template_id</th>\n",
       "      <th>cnt_2h</th>\n",
       "      <th>percent_2h</th>\n",
       "      <th>msg_nunique_2h</th>\n",
       "      <th>template_nunique_2h</th>\n",
       "      <th>msg_percent_2h</th>\n",
       "      <th>...</th>\n",
       "      <th>tfv_11</th>\n",
       "      <th>tfv_12</th>\n",
       "      <th>tfv_13</th>\n",
       "      <th>tfv_14</th>\n",
       "      <th>tfv_15</th>\n",
       "      <th>crashdump_cnt</th>\n",
       "      <th>venus_cnt</th>\n",
       "      <th>label</th>\n",
       "      <th>post_cnt</th>\n",
       "      <th>post_span</th>\n",
       "    </tr>\n",
       "  </thead>\n",
       "  <tbody>\n",
       "    <tr>\n",
       "      <th>1122</th>\n",
       "      <td>SERVER_12</td>\n",
       "      <td>2020-06-11 11:45:00</td>\n",
       "      <td>SM3</td>\n",
       "      <td>3</td>\n",
       "      <td>4</td>\n",
       "      <td>20</td>\n",
       "      <td>0.555556</td>\n",
       "      <td>10</td>\n",
       "      <td>8</td>\n",
       "      <td>0.500000</td>\n",
       "      <td>...</td>\n",
       "      <td>0.027940</td>\n",
       "      <td>-0.002537</td>\n",
       "      <td>-0.039212</td>\n",
       "      <td>0.035598</td>\n",
       "      <td>0.022161</td>\n",
       "      <td>0</td>\n",
       "      <td>0</td>\n",
       "      <td>1</td>\n",
       "      <td>127</td>\n",
       "      <td>10108374</td>\n",
       "    </tr>\n",
       "    <tr>\n",
       "      <th>1146</th>\n",
       "      <td>SERVER_588</td>\n",
       "      <td>2020-03-19 05:33:00</td>\n",
       "      <td>SM6</td>\n",
       "      <td>40</td>\n",
       "      <td>3</td>\n",
       "      <td>20</td>\n",
       "      <td>0.152672</td>\n",
       "      <td>5</td>\n",
       "      <td>4</td>\n",
       "      <td>0.250000</td>\n",
       "      <td>...</td>\n",
       "      <td>0.105329</td>\n",
       "      <td>-0.015719</td>\n",
       "      <td>-0.059050</td>\n",
       "      <td>0.021905</td>\n",
       "      <td>0.053710</td>\n",
       "      <td>0</td>\n",
       "      <td>0</td>\n",
       "      <td>1</td>\n",
       "      <td>1</td>\n",
       "      <td>38</td>\n",
       "    </tr>\n",
       "    <tr>\n",
       "      <th>1150</th>\n",
       "      <td>SERVER_437</td>\n",
       "      <td>2020-01-25 05:14:00</td>\n",
       "      <td>SM6</td>\n",
       "      <td>40</td>\n",
       "      <td>3</td>\n",
       "      <td>20</td>\n",
       "      <td>0.444444</td>\n",
       "      <td>5</td>\n",
       "      <td>5</td>\n",
       "      <td>0.250000</td>\n",
       "      <td>...</td>\n",
       "      <td>0.101827</td>\n",
       "      <td>-0.016031</td>\n",
       "      <td>-0.057791</td>\n",
       "      <td>0.016409</td>\n",
       "      <td>0.054206</td>\n",
       "      <td>0</td>\n",
       "      <td>0</td>\n",
       "      <td>1</td>\n",
       "      <td>1</td>\n",
       "      <td>15953037</td>\n",
       "    </tr>\n",
       "    <tr>\n",
       "      <th>1155</th>\n",
       "      <td>SERVER_567</td>\n",
       "      <td>2020-07-22 06:08:00</td>\n",
       "      <td>SM6</td>\n",
       "      <td>63</td>\n",
       "      <td>3</td>\n",
       "      <td>20</td>\n",
       "      <td>0.408163</td>\n",
       "      <td>10</td>\n",
       "      <td>5</td>\n",
       "      <td>0.500000</td>\n",
       "      <td>...</td>\n",
       "      <td>0.252862</td>\n",
       "      <td>-0.026811</td>\n",
       "      <td>-0.054421</td>\n",
       "      <td>-0.030950</td>\n",
       "      <td>0.053296</td>\n",
       "      <td>0</td>\n",
       "      <td>0</td>\n",
       "      <td>1</td>\n",
       "      <td>212</td>\n",
       "      <td>152557</td>\n",
       "    </tr>\n",
       "    <tr>\n",
       "      <th>1162</th>\n",
       "      <td>SERVER_742</td>\n",
       "      <td>2020-07-23 12:47:00</td>\n",
       "      <td>SM6</td>\n",
       "      <td>44</td>\n",
       "      <td>4</td>\n",
       "      <td>20</td>\n",
       "      <td>0.100503</td>\n",
       "      <td>6</td>\n",
       "      <td>6</td>\n",
       "      <td>0.300000</td>\n",
       "      <td>...</td>\n",
       "      <td>0.031872</td>\n",
       "      <td>-0.008087</td>\n",
       "      <td>-0.001633</td>\n",
       "      <td>-0.003949</td>\n",
       "      <td>0.016663</td>\n",
       "      <td>0</td>\n",
       "      <td>0</td>\n",
       "      <td>1</td>\n",
       "      <td>0</td>\n",
       "      <td>0</td>\n",
       "    </tr>\n",
       "    <tr>\n",
       "      <th>...</th>\n",
       "      <td>...</td>\n",
       "      <td>...</td>\n",
       "      <td>...</td>\n",
       "      <td>...</td>\n",
       "      <td>...</td>\n",
       "      <td>...</td>\n",
       "      <td>...</td>\n",
       "      <td>...</td>\n",
       "      <td>...</td>\n",
       "      <td>...</td>\n",
       "      <td>...</td>\n",
       "      <td>...</td>\n",
       "      <td>...</td>\n",
       "      <td>...</td>\n",
       "      <td>...</td>\n",
       "      <td>...</td>\n",
       "      <td>...</td>\n",
       "      <td>...</td>\n",
       "      <td>...</td>\n",
       "      <td>...</td>\n",
       "      <td>...</td>\n",
       "    </tr>\n",
       "    <tr>\n",
       "      <th>16505</th>\n",
       "      <td>SERVER_25153</td>\n",
       "      <td>2020-01-26 05:32:00</td>\n",
       "      <td>SM103</td>\n",
       "      <td>219</td>\n",
       "      <td>1</td>\n",
       "      <td>6</td>\n",
       "      <td>1.000000</td>\n",
       "      <td>4</td>\n",
       "      <td>4</td>\n",
       "      <td>0.666667</td>\n",
       "      <td>...</td>\n",
       "      <td>-0.020619</td>\n",
       "      <td>-0.029800</td>\n",
       "      <td>0.010254</td>\n",
       "      <td>0.058465</td>\n",
       "      <td>0.021697</td>\n",
       "      <td>0</td>\n",
       "      <td>0</td>\n",
       "      <td>1</td>\n",
       "      <td>0</td>\n",
       "      <td>0</td>\n",
       "    </tr>\n",
       "    <tr>\n",
       "      <th>16522</th>\n",
       "      <td>SERVER_737</td>\n",
       "      <td>2020-04-21 11:32:00</td>\n",
       "      <td>SM5</td>\n",
       "      <td>101</td>\n",
       "      <td>2</td>\n",
       "      <td>3</td>\n",
       "      <td>1.000000</td>\n",
       "      <td>3</td>\n",
       "      <td>2</td>\n",
       "      <td>1.000000</td>\n",
       "      <td>...</td>\n",
       "      <td>-0.005538</td>\n",
       "      <td>-0.012617</td>\n",
       "      <td>-0.007139</td>\n",
       "      <td>-0.006633</td>\n",
       "      <td>0.029630</td>\n",
       "      <td>0</td>\n",
       "      <td>0</td>\n",
       "      <td>1</td>\n",
       "      <td>0</td>\n",
       "      <td>0</td>\n",
       "    </tr>\n",
       "    <tr>\n",
       "      <th>16524</th>\n",
       "      <td>SERVER_17042</td>\n",
       "      <td>2020-05-29 09:41:00</td>\n",
       "      <td>SM34</td>\n",
       "      <td>213</td>\n",
       "      <td>80</td>\n",
       "      <td>5</td>\n",
       "      <td>1.000000</td>\n",
       "      <td>4</td>\n",
       "      <td>3</td>\n",
       "      <td>0.800000</td>\n",
       "      <td>...</td>\n",
       "      <td>0.010265</td>\n",
       "      <td>-0.002381</td>\n",
       "      <td>0.034449</td>\n",
       "      <td>0.039888</td>\n",
       "      <td>0.019755</td>\n",
       "      <td>0</td>\n",
       "      <td>0</td>\n",
       "      <td>1</td>\n",
       "      <td>0</td>\n",
       "      <td>0</td>\n",
       "    </tr>\n",
       "    <tr>\n",
       "      <th>16535</th>\n",
       "      <td>SERVER_14848</td>\n",
       "      <td>2020-01-05 16:18:00</td>\n",
       "      <td>SM14</td>\n",
       "      <td>192</td>\n",
       "      <td>41</td>\n",
       "      <td>1</td>\n",
       "      <td>1.000000</td>\n",
       "      <td>1</td>\n",
       "      <td>1</td>\n",
       "      <td>1.000000</td>\n",
       "      <td>...</td>\n",
       "      <td>-0.004726</td>\n",
       "      <td>-0.005862</td>\n",
       "      <td>-0.000592</td>\n",
       "      <td>0.000343</td>\n",
       "      <td>0.006991</td>\n",
       "      <td>0</td>\n",
       "      <td>0</td>\n",
       "      <td>1</td>\n",
       "      <td>0</td>\n",
       "      <td>0</td>\n",
       "    </tr>\n",
       "    <tr>\n",
       "      <th>16578</th>\n",
       "      <td>SERVER_25584</td>\n",
       "      <td>2020-05-04 19:24:00</td>\n",
       "      <td>SM109</td>\n",
       "      <td>230</td>\n",
       "      <td>87</td>\n",
       "      <td>4</td>\n",
       "      <td>1.000000</td>\n",
       "      <td>3</td>\n",
       "      <td>3</td>\n",
       "      <td>0.750000</td>\n",
       "      <td>...</td>\n",
       "      <td>-0.014139</td>\n",
       "      <td>0.007452</td>\n",
       "      <td>0.034706</td>\n",
       "      <td>-0.152482</td>\n",
       "      <td>-0.043771</td>\n",
       "      <td>0</td>\n",
       "      <td>0</td>\n",
       "      <td>1</td>\n",
       "      <td>0</td>\n",
       "      <td>0</td>\n",
       "    </tr>\n",
       "  </tbody>\n",
       "</table>\n",
       "<p>3387 rows × 124 columns</p>\n",
       "</div>"
      ],
      "text/plain": [
       "                 sn           fault_time server_model last_msg_id  \\\n",
       "1122      SERVER_12  2020-06-11 11:45:00          SM3           3   \n",
       "1146     SERVER_588  2020-03-19 05:33:00          SM6          40   \n",
       "1150     SERVER_437  2020-01-25 05:14:00          SM6          40   \n",
       "1155     SERVER_567  2020-07-22 06:08:00          SM6          63   \n",
       "1162     SERVER_742  2020-07-23 12:47:00          SM6          44   \n",
       "...             ...                  ...          ...         ...   \n",
       "16505  SERVER_25153  2020-01-26 05:32:00        SM103         219   \n",
       "16522    SERVER_737  2020-04-21 11:32:00          SM5         101   \n",
       "16524  SERVER_17042  2020-05-29 09:41:00         SM34         213   \n",
       "16535  SERVER_14848  2020-01-05 16:18:00         SM14         192   \n",
       "16578  SERVER_25584  2020-05-04 19:24:00        SM109         230   \n",
       "\n",
       "      last_template_id  cnt_2h  percent_2h  msg_nunique_2h  \\\n",
       "1122                 4      20    0.555556              10   \n",
       "1146                 3      20    0.152672               5   \n",
       "1150                 3      20    0.444444               5   \n",
       "1155                 3      20    0.408163              10   \n",
       "1162                 4      20    0.100503               6   \n",
       "...                ...     ...         ...             ...   \n",
       "16505                1       6    1.000000               4   \n",
       "16522                2       3    1.000000               3   \n",
       "16524               80       5    1.000000               4   \n",
       "16535               41       1    1.000000               1   \n",
       "16578               87       4    1.000000               3   \n",
       "\n",
       "       template_nunique_2h  msg_percent_2h  ...    tfv_11    tfv_12    tfv_13  \\\n",
       "1122                     8        0.500000  ...  0.027940 -0.002537 -0.039212   \n",
       "1146                     4        0.250000  ...  0.105329 -0.015719 -0.059050   \n",
       "1150                     5        0.250000  ...  0.101827 -0.016031 -0.057791   \n",
       "1155                     5        0.500000  ...  0.252862 -0.026811 -0.054421   \n",
       "1162                     6        0.300000  ...  0.031872 -0.008087 -0.001633   \n",
       "...                    ...             ...  ...       ...       ...       ...   \n",
       "16505                    4        0.666667  ... -0.020619 -0.029800  0.010254   \n",
       "16522                    2        1.000000  ... -0.005538 -0.012617 -0.007139   \n",
       "16524                    3        0.800000  ...  0.010265 -0.002381  0.034449   \n",
       "16535                    1        1.000000  ... -0.004726 -0.005862 -0.000592   \n",
       "16578                    3        0.750000  ... -0.014139  0.007452  0.034706   \n",
       "\n",
       "         tfv_14    tfv_15  crashdump_cnt  venus_cnt  label  post_cnt  \\\n",
       "1122   0.035598  0.022161              0          0      1       127   \n",
       "1146   0.021905  0.053710              0          0      1         1   \n",
       "1150   0.016409  0.054206              0          0      1         1   \n",
       "1155  -0.030950  0.053296              0          0      1       212   \n",
       "1162  -0.003949  0.016663              0          0      1         0   \n",
       "...         ...       ...            ...        ...    ...       ...   \n",
       "16505  0.058465  0.021697              0          0      1         0   \n",
       "16522 -0.006633  0.029630              0          0      1         0   \n",
       "16524  0.039888  0.019755              0          0      1         0   \n",
       "16535  0.000343  0.006991              0          0      1         0   \n",
       "16578 -0.152482 -0.043771              0          0      1         0   \n",
       "\n",
       "       post_span  \n",
       "1122    10108374  \n",
       "1146          38  \n",
       "1150    15953037  \n",
       "1155      152557  \n",
       "1162           0  \n",
       "...          ...  \n",
       "16505          0  \n",
       "16522          0  \n",
       "16524          0  \n",
       "16535          0  \n",
       "16578          0  \n",
       "\n",
       "[3387 rows x 124 columns]"
      ]
     },
     "execution_count": 13,
     "metadata": {},
     "output_type": "execute_result"
    }
   ],
   "source": [
    "df_train[df_train['label'] == 1]"
   ]
  },
  {
   "cell_type": "code",
   "execution_count": 11,
   "id": "b8f70b3c",
   "metadata": {},
   "outputs": [
    {
     "data": {
      "text/html": [
       "<div>\n",
       "<style scoped>\n",
       "    .dataframe tbody tr th:only-of-type {\n",
       "        vertical-align: middle;\n",
       "    }\n",
       "\n",
       "    .dataframe tbody tr th {\n",
       "        vertical-align: top;\n",
       "    }\n",
       "\n",
       "    .dataframe thead th {\n",
       "        text-align: right;\n",
       "    }\n",
       "</style>\n",
       "<table border=\"1\" class=\"dataframe\">\n",
       "  <thead>\n",
       "    <tr style=\"text-align: right;\">\n",
       "      <th></th>\n",
       "      <th>sn</th>\n",
       "      <th>fault_time</th>\n",
       "      <th>server_model</th>\n",
       "      <th>last_msg_id</th>\n",
       "      <th>last_template_id</th>\n",
       "      <th>cnt_2h</th>\n",
       "      <th>percent_2h</th>\n",
       "      <th>msg_nunique_2h</th>\n",
       "      <th>template_nunique_2h</th>\n",
       "      <th>msg_percent_2h</th>\n",
       "      <th>...</th>\n",
       "      <th>tfv_11</th>\n",
       "      <th>tfv_12</th>\n",
       "      <th>tfv_13</th>\n",
       "      <th>tfv_14</th>\n",
       "      <th>tfv_15</th>\n",
       "      <th>crashdump_cnt</th>\n",
       "      <th>venus_cnt</th>\n",
       "      <th>label</th>\n",
       "      <th>post_cnt</th>\n",
       "      <th>post_span</th>\n",
       "    </tr>\n",
       "  </thead>\n",
       "  <tbody>\n",
       "    <tr>\n",
       "      <th>0</th>\n",
       "      <td>SERVER_25698</td>\n",
       "      <td>2020-10-09 13:43:00</td>\n",
       "      <td>SM0</td>\n",
       "      <td>0</td>\n",
       "      <td>1</td>\n",
       "      <td>20</td>\n",
       "      <td>0.076923</td>\n",
       "      <td>1</td>\n",
       "      <td>1</td>\n",
       "      <td>0.05</td>\n",
       "      <td>...</td>\n",
       "      <td>0.006188</td>\n",
       "      <td>0.004494</td>\n",
       "      <td>-0.007211</td>\n",
       "      <td>-0.029983</td>\n",
       "      <td>-0.000066</td>\n",
       "      <td>0</td>\n",
       "      <td>0</td>\n",
       "      <td>0</td>\n",
       "      <td>0</td>\n",
       "      <td>0</td>\n",
       "    </tr>\n",
       "    <tr>\n",
       "      <th>1</th>\n",
       "      <td>SERVER_25699</td>\n",
       "      <td>2020-08-25 18:50:00</td>\n",
       "      <td>SM3</td>\n",
       "      <td>5</td>\n",
       "      <td>3</td>\n",
       "      <td>20</td>\n",
       "      <td>0.952381</td>\n",
       "      <td>9</td>\n",
       "      <td>8</td>\n",
       "      <td>0.45</td>\n",
       "      <td>...</td>\n",
       "      <td>0.024321</td>\n",
       "      <td>-0.003542</td>\n",
       "      <td>-0.035807</td>\n",
       "      <td>0.030520</td>\n",
       "      <td>0.023102</td>\n",
       "      <td>0</td>\n",
       "      <td>0</td>\n",
       "      <td>0</td>\n",
       "      <td>0</td>\n",
       "      <td>0</td>\n",
       "    </tr>\n",
       "    <tr>\n",
       "      <th>2</th>\n",
       "      <td>SERVER_25712</td>\n",
       "      <td>2020-03-16 13:20:00</td>\n",
       "      <td>SM4</td>\n",
       "      <td>3</td>\n",
       "      <td>4</td>\n",
       "      <td>20</td>\n",
       "      <td>0.238095</td>\n",
       "      <td>12</td>\n",
       "      <td>8</td>\n",
       "      <td>0.60</td>\n",
       "      <td>...</td>\n",
       "      <td>0.023686</td>\n",
       "      <td>-0.004972</td>\n",
       "      <td>-0.022471</td>\n",
       "      <td>0.023828</td>\n",
       "      <td>0.013383</td>\n",
       "      <td>0</td>\n",
       "      <td>0</td>\n",
       "      <td>0</td>\n",
       "      <td>0</td>\n",
       "      <td>0</td>\n",
       "    </tr>\n",
       "    <tr>\n",
       "      <th>3</th>\n",
       "      <td>SERVER_25708</td>\n",
       "      <td>2020-07-25 12:44:00</td>\n",
       "      <td>SM4</td>\n",
       "      <td>25</td>\n",
       "      <td>16</td>\n",
       "      <td>20</td>\n",
       "      <td>0.066225</td>\n",
       "      <td>2</td>\n",
       "      <td>2</td>\n",
       "      <td>0.10</td>\n",
       "      <td>...</td>\n",
       "      <td>0.004866</td>\n",
       "      <td>-0.005059</td>\n",
       "      <td>0.012442</td>\n",
       "      <td>-0.002809</td>\n",
       "      <td>-0.001592</td>\n",
       "      <td>0</td>\n",
       "      <td>0</td>\n",
       "      <td>0</td>\n",
       "      <td>0</td>\n",
       "      <td>0</td>\n",
       "    </tr>\n",
       "    <tr>\n",
       "      <th>4</th>\n",
       "      <td>SERVER_25711</td>\n",
       "      <td>2020-03-16 16:51:00</td>\n",
       "      <td>SM4</td>\n",
       "      <td>3</td>\n",
       "      <td>4</td>\n",
       "      <td>20</td>\n",
       "      <td>0.196078</td>\n",
       "      <td>8</td>\n",
       "      <td>7</td>\n",
       "      <td>0.40</td>\n",
       "      <td>...</td>\n",
       "      <td>0.025873</td>\n",
       "      <td>-0.002876</td>\n",
       "      <td>-0.020622</td>\n",
       "      <td>0.022176</td>\n",
       "      <td>0.013796</td>\n",
       "      <td>0</td>\n",
       "      <td>0</td>\n",
       "      <td>0</td>\n",
       "      <td>0</td>\n",
       "      <td>0</td>\n",
       "    </tr>\n",
       "    <tr>\n",
       "      <th>...</th>\n",
       "      <td>...</td>\n",
       "      <td>...</td>\n",
       "      <td>...</td>\n",
       "      <td>...</td>\n",
       "      <td>...</td>\n",
       "      <td>...</td>\n",
       "      <td>...</td>\n",
       "      <td>...</td>\n",
       "      <td>...</td>\n",
       "      <td>...</td>\n",
       "      <td>...</td>\n",
       "      <td>...</td>\n",
       "      <td>...</td>\n",
       "      <td>...</td>\n",
       "      <td>...</td>\n",
       "      <td>...</td>\n",
       "      <td>...</td>\n",
       "      <td>...</td>\n",
       "      <td>...</td>\n",
       "      <td>...</td>\n",
       "      <td>...</td>\n",
       "    </tr>\n",
       "    <tr>\n",
       "      <th>16502</th>\n",
       "      <td>SERVER_27674</td>\n",
       "      <td>2020-07-04 16:58:00</td>\n",
       "      <td>SM103</td>\n",
       "      <td>220</td>\n",
       "      <td>1</td>\n",
       "      <td>3</td>\n",
       "      <td>1.000000</td>\n",
       "      <td>3</td>\n",
       "      <td>3</td>\n",
       "      <td>1.00</td>\n",
       "      <td>...</td>\n",
       "      <td>-0.014202</td>\n",
       "      <td>-0.052599</td>\n",
       "      <td>0.000740</td>\n",
       "      <td>0.229986</td>\n",
       "      <td>0.091953</td>\n",
       "      <td>0</td>\n",
       "      <td>0</td>\n",
       "      <td>0</td>\n",
       "      <td>0</td>\n",
       "      <td>0</td>\n",
       "    </tr>\n",
       "    <tr>\n",
       "      <th>16507</th>\n",
       "      <td>SERVER_27679</td>\n",
       "      <td>2020-08-24 08:41:00</td>\n",
       "      <td>SM103</td>\n",
       "      <td>968</td>\n",
       "      <td>176</td>\n",
       "      <td>4</td>\n",
       "      <td>1.000000</td>\n",
       "      <td>4</td>\n",
       "      <td>4</td>\n",
       "      <td>1.00</td>\n",
       "      <td>...</td>\n",
       "      <td>-0.005901</td>\n",
       "      <td>-0.005488</td>\n",
       "      <td>-0.007512</td>\n",
       "      <td>0.040658</td>\n",
       "      <td>0.020657</td>\n",
       "      <td>0</td>\n",
       "      <td>0</td>\n",
       "      <td>0</td>\n",
       "      <td>0</td>\n",
       "      <td>0</td>\n",
       "    </tr>\n",
       "    <tr>\n",
       "      <th>16509</th>\n",
       "      <td>SERVER_27659</td>\n",
       "      <td>2020-08-10 16:12:00</td>\n",
       "      <td>SM103</td>\n",
       "      <td>265</td>\n",
       "      <td>100</td>\n",
       "      <td>3</td>\n",
       "      <td>1.000000</td>\n",
       "      <td>3</td>\n",
       "      <td>3</td>\n",
       "      <td>1.00</td>\n",
       "      <td>...</td>\n",
       "      <td>-0.002180</td>\n",
       "      <td>-0.003510</td>\n",
       "      <td>0.011805</td>\n",
       "      <td>0.028328</td>\n",
       "      <td>0.017545</td>\n",
       "      <td>0</td>\n",
       "      <td>0</td>\n",
       "      <td>0</td>\n",
       "      <td>0</td>\n",
       "      <td>0</td>\n",
       "    </tr>\n",
       "    <tr>\n",
       "      <th>16513</th>\n",
       "      <td>SERVER_27680</td>\n",
       "      <td>2020-06-16 18:21:00</td>\n",
       "      <td>SM103</td>\n",
       "      <td>265</td>\n",
       "      <td>100</td>\n",
       "      <td>3</td>\n",
       "      <td>1.000000</td>\n",
       "      <td>3</td>\n",
       "      <td>3</td>\n",
       "      <td>1.00</td>\n",
       "      <td>...</td>\n",
       "      <td>-0.002180</td>\n",
       "      <td>-0.003510</td>\n",
       "      <td>0.011805</td>\n",
       "      <td>0.028328</td>\n",
       "      <td>0.017545</td>\n",
       "      <td>0</td>\n",
       "      <td>0</td>\n",
       "      <td>0</td>\n",
       "      <td>0</td>\n",
       "      <td>0</td>\n",
       "    </tr>\n",
       "    <tr>\n",
       "      <th>16515</th>\n",
       "      <td>SERVER_27671</td>\n",
       "      <td>2020-06-10 03:48:00</td>\n",
       "      <td>SM103</td>\n",
       "      <td>908</td>\n",
       "      <td>2</td>\n",
       "      <td>4</td>\n",
       "      <td>1.000000</td>\n",
       "      <td>4</td>\n",
       "      <td>3</td>\n",
       "      <td>1.00</td>\n",
       "      <td>...</td>\n",
       "      <td>-0.009303</td>\n",
       "      <td>-0.013902</td>\n",
       "      <td>-0.015392</td>\n",
       "      <td>0.016106</td>\n",
       "      <td>0.019776</td>\n",
       "      <td>0</td>\n",
       "      <td>0</td>\n",
       "      <td>0</td>\n",
       "      <td>0</td>\n",
       "      <td>0</td>\n",
       "    </tr>\n",
       "  </tbody>\n",
       "</table>\n",
       "<p>1476 rows × 124 columns</p>\n",
       "</div>"
      ],
      "text/plain": [
       "                 sn           fault_time server_model last_msg_id  \\\n",
       "0      SERVER_25698  2020-10-09 13:43:00          SM0           0   \n",
       "1      SERVER_25699  2020-08-25 18:50:00          SM3           5   \n",
       "2      SERVER_25712  2020-03-16 13:20:00          SM4           3   \n",
       "3      SERVER_25708  2020-07-25 12:44:00          SM4          25   \n",
       "4      SERVER_25711  2020-03-16 16:51:00          SM4           3   \n",
       "...             ...                  ...          ...         ...   \n",
       "16502  SERVER_27674  2020-07-04 16:58:00        SM103         220   \n",
       "16507  SERVER_27679  2020-08-24 08:41:00        SM103         968   \n",
       "16509  SERVER_27659  2020-08-10 16:12:00        SM103         265   \n",
       "16513  SERVER_27680  2020-06-16 18:21:00        SM103         265   \n",
       "16515  SERVER_27671  2020-06-10 03:48:00        SM103         908   \n",
       "\n",
       "      last_template_id  cnt_2h  percent_2h  msg_nunique_2h  \\\n",
       "0                    1      20    0.076923               1   \n",
       "1                    3      20    0.952381               9   \n",
       "2                    4      20    0.238095              12   \n",
       "3                   16      20    0.066225               2   \n",
       "4                    4      20    0.196078               8   \n",
       "...                ...     ...         ...             ...   \n",
       "16502                1       3    1.000000               3   \n",
       "16507              176       4    1.000000               4   \n",
       "16509              100       3    1.000000               3   \n",
       "16513              100       3    1.000000               3   \n",
       "16515                2       4    1.000000               4   \n",
       "\n",
       "       template_nunique_2h  msg_percent_2h  ...    tfv_11    tfv_12    tfv_13  \\\n",
       "0                        1            0.05  ...  0.006188  0.004494 -0.007211   \n",
       "1                        8            0.45  ...  0.024321 -0.003542 -0.035807   \n",
       "2                        8            0.60  ...  0.023686 -0.004972 -0.022471   \n",
       "3                        2            0.10  ...  0.004866 -0.005059  0.012442   \n",
       "4                        7            0.40  ...  0.025873 -0.002876 -0.020622   \n",
       "...                    ...             ...  ...       ...       ...       ...   \n",
       "16502                    3            1.00  ... -0.014202 -0.052599  0.000740   \n",
       "16507                    4            1.00  ... -0.005901 -0.005488 -0.007512   \n",
       "16509                    3            1.00  ... -0.002180 -0.003510  0.011805   \n",
       "16513                    3            1.00  ... -0.002180 -0.003510  0.011805   \n",
       "16515                    3            1.00  ... -0.009303 -0.013902 -0.015392   \n",
       "\n",
       "         tfv_14    tfv_15  crashdump_cnt  venus_cnt  label  post_cnt  \\\n",
       "0     -0.029983 -0.000066              0          0      0         0   \n",
       "1      0.030520  0.023102              0          0      0         0   \n",
       "2      0.023828  0.013383              0          0      0         0   \n",
       "3     -0.002809 -0.001592              0          0      0         0   \n",
       "4      0.022176  0.013796              0          0      0         0   \n",
       "...         ...       ...            ...        ...    ...       ...   \n",
       "16502  0.229986  0.091953              0          0      0         0   \n",
       "16507  0.040658  0.020657              0          0      0         0   \n",
       "16509  0.028328  0.017545              0          0      0         0   \n",
       "16513  0.028328  0.017545              0          0      0         0   \n",
       "16515  0.016106  0.019776              0          0      0         0   \n",
       "\n",
       "       post_span  \n",
       "0              0  \n",
       "1              0  \n",
       "2              0  \n",
       "3              0  \n",
       "4              0  \n",
       "...          ...  \n",
       "16502          0  \n",
       "16507          0  \n",
       "16509          0  \n",
       "16513          0  \n",
       "16515          0  \n",
       "\n",
       "[1476 rows x 124 columns]"
      ]
     },
     "execution_count": 11,
     "metadata": {},
     "output_type": "execute_result"
    }
   ],
   "source": [
    "df_train[df_train['label'] == 0]"
   ]
  },
  {
   "cell_type": "code",
   "execution_count": 15,
   "id": "7aff436f",
   "metadata": {},
   "outputs": [
    {
     "data": {
      "text/html": [
       "<div>\n",
       "<style scoped>\n",
       "    .dataframe tbody tr th:only-of-type {\n",
       "        vertical-align: middle;\n",
       "    }\n",
       "\n",
       "    .dataframe tbody tr th {\n",
       "        vertical-align: top;\n",
       "    }\n",
       "\n",
       "    .dataframe thead th {\n",
       "        text-align: right;\n",
       "    }\n",
       "</style>\n",
       "<table border=\"1\" class=\"dataframe\">\n",
       "  <thead>\n",
       "    <tr style=\"text-align: right;\">\n",
       "      <th></th>\n",
       "      <th>sn</th>\n",
       "      <th>time</th>\n",
       "      <th>msg</th>\n",
       "      <th>server_model</th>\n",
       "      <th>msg_lower</th>\n",
       "      <th>msg_id</th>\n",
       "      <th>template_id</th>\n",
       "      <th>template</th>\n",
       "      <th>time_ts</th>\n",
       "    </tr>\n",
       "  </thead>\n",
       "  <tbody>\n",
       "    <tr>\n",
       "      <th>482142</th>\n",
       "      <td>SERVER_737</td>\n",
       "      <td>2020-04-21 11:12:11</td>\n",
       "      <td>Processor CPU1 Status | Uncorrectable machine...</td>\n",
       "      <td>SM5</td>\n",
       "      <td>processor cpu1 status | uncorrectable machine ...</td>\n",
       "      <td>49</td>\n",
       "      <td>2</td>\n",
       "      <td>processor &lt;:*:&gt; &lt;:*:&gt; | uncorrectable machine ...</td>\n",
       "      <td>1587467531</td>\n",
       "    </tr>\n",
       "    <tr>\n",
       "      <th>482148</th>\n",
       "      <td>SERVER_737</td>\n",
       "      <td>2020-04-21 11:12:36</td>\n",
       "      <td>Processor CPU1 Status | Uncorrectable machine...</td>\n",
       "      <td>SM5</td>\n",
       "      <td>processor cpu1 status | uncorrectable machine ...</td>\n",
       "      <td>101</td>\n",
       "      <td>2</td>\n",
       "      <td>processor &lt;:*:&gt; &lt;:*:&gt; | uncorrectable machine ...</td>\n",
       "      <td>1587467556</td>\n",
       "    </tr>\n",
       "    <tr>\n",
       "      <th>482152</th>\n",
       "      <td>SERVER_737</td>\n",
       "      <td>2020-04-21 11:12:35</td>\n",
       "      <td>System Boot Initiated SysRestart | System Res...</td>\n",
       "      <td>SM5</td>\n",
       "      <td>system boot initiated sysrestart | system rest...</td>\n",
       "      <td>44</td>\n",
       "      <td>4</td>\n",
       "      <td>system &lt;:*:&gt; &lt;:*:&gt; &lt;:*:&gt; | &lt;:*:&gt; &lt;:*:&gt; | asserted</td>\n",
       "      <td>1587467555</td>\n",
       "    </tr>\n",
       "  </tbody>\n",
       "</table>\n",
       "</div>"
      ],
      "text/plain": [
       "                sn                time  \\\n",
       "482142  SERVER_737 2020-04-21 11:12:11   \n",
       "482148  SERVER_737 2020-04-21 11:12:36   \n",
       "482152  SERVER_737 2020-04-21 11:12:35   \n",
       "\n",
       "                                                      msg server_model  \\\n",
       "482142   Processor CPU1 Status | Uncorrectable machine...          SM5   \n",
       "482148   Processor CPU1 Status | Uncorrectable machine...          SM5   \n",
       "482152   System Boot Initiated SysRestart | System Res...          SM5   \n",
       "\n",
       "                                                msg_lower  msg_id  \\\n",
       "482142  processor cpu1 status | uncorrectable machine ...      49   \n",
       "482148  processor cpu1 status | uncorrectable machine ...     101   \n",
       "482152  system boot initiated sysrestart | system rest...      44   \n",
       "\n",
       "        template_id                                           template  \\\n",
       "482142            2  processor <:*:> <:*:> | uncorrectable machine ...   \n",
       "482148            2  processor <:*:> <:*:> | uncorrectable machine ...   \n",
       "482152            4  system <:*:> <:*:> <:*:> | <:*:> <:*:> | asserted   \n",
       "\n",
       "           time_ts  \n",
       "482142  1587467531  \n",
       "482148  1587467556  \n",
       "482152  1587467555  "
      ]
     },
     "execution_count": 15,
     "metadata": {},
     "output_type": "execute_result"
    }
   ],
   "source": [
    "log_df[log_df['sn'] == 'SERVER_737']"
   ]
  },
  {
   "cell_type": "code",
   "execution_count": 21,
   "id": "da5c3cdb",
   "metadata": {},
   "outputs": [
    {
     "data": {
      "text/plain": [
       "sn              28032\n",
       "time            28032\n",
       "msg             28032\n",
       "server_model    28032\n",
       "msg_lower       28032\n",
       "msg_id          28032\n",
       "template_id     28032\n",
       "template        28032\n",
       "time_ts         28032\n",
       "dtype: int64"
      ]
     },
     "execution_count": 21,
     "metadata": {},
     "output_type": "execute_result"
    }
   ],
   "source": [
    "log_df[log_df['msg_lower'].str.startswith('system boot initiated')]"
   ]
  },
  {
   "cell_type": "code",
   "execution_count": null,
   "id": "049e9dcd",
   "metadata": {},
   "outputs": [],
   "source": []
  },
  {
   "cell_type": "code",
   "execution_count": null,
   "id": "86cd1d72",
   "metadata": {},
   "outputs": [],
   "source": []
  },
  {
   "cell_type": "code",
   "execution_count": null,
   "id": "6595f70f",
   "metadata": {},
   "outputs": [],
   "source": []
  },
  {
   "cell_type": "code",
   "execution_count": null,
   "id": "1d7be15a",
   "metadata": {},
   "outputs": [],
   "source": []
  },
  {
   "cell_type": "code",
   "execution_count": null,
   "id": "a7b3a72a",
   "metadata": {},
   "outputs": [],
   "source": []
  },
  {
   "cell_type": "code",
   "execution_count": null,
   "id": "b6bac196",
   "metadata": {},
   "outputs": [],
   "source": []
  },
  {
   "cell_type": "code",
   "execution_count": 1,
   "id": "90c099d1",
   "metadata": {},
   "outputs": [],
   "source": [
    "import pandas as pd"
   ]
  },
  {
   "cell_type": "code",
   "execution_count": 2,
   "id": "5b51c4f9",
   "metadata": {},
   "outputs": [],
   "source": [
    "dtype = {\n",
    "    'server_model': 'str',\n",
    "    'last_msg_id': 'str',\n",
    "    'last_template_id': 'str',\n",
    "    'tmp_appearance_1': 'str',\n",
    "    'tmp_appearance_2': 'str',\n",
    "    'tmp_appearance_3': 'str',\n",
    "    'msg_appearance_1': 'str',\n",
    "    'msg_appearance_2': 'str',\n",
    "    'msg_appearance_3': 'str',\n",
    "    'max_continuous_msg': 'str'\n",
    "}\n",
    "df_train = pd.read_csv('../code/train.csv', dtype=dtype)\n",
    "df_test = pd.read_csv('../code/test.csv', dtype=dtype)"
   ]
  },
  {
   "cell_type": "code",
   "execution_count": 4,
   "id": "0f4f53bc",
   "metadata": {},
   "outputs": [],
   "source": [
    "import seaborn as sns"
   ]
  },
  {
   "cell_type": "code",
   "execution_count": 18,
   "id": "ed7fe8f6",
   "metadata": {},
   "outputs": [],
   "source": [
    "df_train = df_train[df_train['second_span_2h'] < 100000]"
   ]
  },
  {
   "cell_type": "code",
   "execution_count": 24,
   "id": "81e34ba4",
   "metadata": {},
   "outputs": [
    {
     "name": "stderr",
     "output_type": "stream",
     "text": [
      "/data/projects/log-based-failuer-diagnosis-main/env/lib/python3.7/site-packages/seaborn/distributions.py:2619: FutureWarning: `distplot` is a deprecated function and will be removed in a future version. Please adapt your code to use either `displot` (a figure-level function with similar flexibility) or `histplot` (an axes-level function for histograms).\n",
      "  warnings.warn(msg, FutureWarning)\n",
      "/data/projects/log-based-failuer-diagnosis-main/env/lib/python3.7/site-packages/seaborn/distributions.py:2619: FutureWarning: `distplot` is a deprecated function and will be removed in a future version. Please adapt your code to use either `displot` (a figure-level function with similar flexibility) or `histplot` (an axes-level function for histograms).\n",
      "  warnings.warn(msg, FutureWarning)\n"
     ]
    },
    {
     "data": {
      "text/plain": [
       "<AxesSubplot:ylabel='Density'>"
      ]
     },
     "execution_count": 24,
     "metadata": {},
     "output_type": "execute_result"
    },
    {
     "data": {
      "image/png": "[encoded data removed]",
      "text/plain": [
       "<Figure size 432x288 with 1 Axes>"
      ]
     },
     "metadata": {
      "needs_background": "light"
     },
     "output_type": "display_data"
    }
   ],
   "source": [
    "sns.distplot(df_train[df_train['label'] == 0]['second_span_2h'].values)\n",
    "sns.distplot(df_train[df_train['label'] == 1]['second_span_2h'].values)"
   ]
  },
  {
   "cell_type": "code",
   "execution_count": null,
   "id": "caffd611",
   "metadata": {},
   "outputs": [],
   "source": []
  }
 ],
 "metadata": {
  "kernelspec": {
   "display_name": "Python 3 (ipykernel)",
   "language": "python",
   "name": "python3"
  },
  "language_info": {
   "codemirror_mode": {
    "name": "ipython",
    "version": 3
   },
   "file_extension": ".py",
   "mimetype": "text/x-python",
   "name": "python",
   "nbconvert_exporter": "python",
   "pygments_lexer": "ipython3",
   "version": "3.7.6"
  }
 },
 "nbformat": 4,
 "nbformat_minor": 5
}
