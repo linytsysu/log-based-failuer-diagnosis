{
 "cells": [
  {
   "cell_type": "code",
   "execution_count": 1,
   "id": "9a9a680b",
   "metadata": {},
   "outputs": [
    {
     "name": "stdout",
     "output_type": "stream",
     "text": [
      "(16604, 3) (3030, 2)\n",
      "(16604, 5) (3030, 4)\n"
     ]
    }
   ],
   "source": [
    "import os\n",
    "import json\n",
    "import numpy as np\n",
    "import pandas as pd\n",
    "from tqdm import tqdm\n",
    "from collections import Counter\n",
    "\n",
    "from scipy.stats import skew, kurtosis\n",
    "from gensim.models.word2vec import Word2Vec\n",
    "from nltk.tokenize import word_tokenize\n",
    "from gensim.models.doc2vec import Doc2Vec, TaggedDocument\n",
    "from sklearn.feature_extraction.text import TfidfVectorizer\n",
    "from sklearn.decomposition import TruncatedSVD\n",
    "\n",
    "label1 = pd.read_csv('../data/preliminary_train_label_dataset.csv')\n",
    "label2 = pd.read_csv('../data/preliminary_train_label_dataset_s.csv')\n",
    "label_df = pd.concat([label1, label2]).reset_index(drop=True)\n",
    "label_df = label_df.drop_duplicates().reset_index(drop=True)\n",
    "\n",
    "submit_df = pd.read_csv('../data/preliminary_submit_dataset_b.csv')\n",
    "\n",
    "print(label_df.shape, submit_df.shape)\n",
    "\n",
    "log_df = pd.read_csv('../user_data/log_template.csv')\n",
    "log_df['msg_lower'] = log_df['msg_lower'].astype(str)\n",
    "log_df['server_model'] = log_df['server_model'].astype(str)\n",
    "\n",
    "log_df['time'] = pd.to_datetime(log_df['time'])\n",
    "label_df['fault_time'] = pd.to_datetime(label_df['fault_time'])\n",
    "submit_df['fault_time'] = pd.to_datetime(submit_df['fault_time'])\n",
    "\n",
    "log_df['time_ts'] = log_df[\"time\"].values.astype(np.int64) // 10 ** 9\n",
    "label_df['fault_time_ts'] = label_df[\"fault_time\"].values.astype(np.int64) // 10 ** 9\n",
    "submit_df['fault_time_ts'] = submit_df[\"fault_time\"].values.astype(np.int64) // 10 ** 9\n",
    "\n",
    "crashdump_df = pd.read_csv('../data/preliminary_crashdump_dataset.csv')\n",
    "venus_df = pd.read_csv('../data/preliminary_venus_dataset.csv')\n",
    "crashdump_df['fault_time'] = pd.to_datetime(crashdump_df['fault_time'])\n",
    "venus_df['fault_time'] = pd.to_datetime(venus_df['fault_time'])\n",
    "crashdump_df['fault_time_ts'] = crashdump_df[\"fault_time\"].values.astype(np.int64) // 10 ** 9\n",
    "venus_df['fault_time_ts'] = venus_df[\"fault_time\"].values.astype(np.int64) // 10 ** 9\n",
    "\n",
    "label_df = label_df.merge(log_df[['sn', 'server_model']].drop_duplicates(), on=['sn'], how='left')\n",
    "submit_df = submit_df.merge(log_df[['sn', 'server_model']].drop_duplicates(), on=['sn'], how='left')\n",
    "label_df = label_df.fillna('MISSING')\n",
    "submit_df = submit_df.fillna('MISSING')\n",
    "print(label_df.shape, submit_df.shape)\n",
    "\n",
    "label_cnt_df = label_df.groupby('label').size().reset_index().rename({0: 'label_cnt'}, axis=1)\n",
    "label_model_cnt_df = label_df.groupby(['server_model', 'label']).size().reset_index()\\\n",
    "    .rename({0: 'label_model_cnt'}, axis=1)\n",
    "label_model_cnt_df = label_model_cnt_df.merge(label_cnt_df, on='label', how='left')\n",
    "label_model_cnt_df['model/label'] = label_model_cnt_df['label_model_cnt'] / label_model_cnt_df['label_cnt']\n"
   ]
  },
  {
   "cell_type": "code",
   "execution_count": 2,
   "id": "6159e3c8",
   "metadata": {},
   "outputs": [
    {
     "data": {
      "text/html": [
       "<div>\n",
       "<style scoped>\n",
       "    .dataframe tbody tr th:only-of-type {\n",
       "        vertical-align: middle;\n",
       "    }\n",
       "\n",
       "    .dataframe tbody tr th {\n",
       "        vertical-align: top;\n",
       "    }\n",
       "\n",
       "    .dataframe thead th {\n",
       "        text-align: right;\n",
       "    }\n",
       "</style>\n",
       "<table border=\"1\" class=\"dataframe\">\n",
       "  <thead>\n",
       "    <tr style=\"text-align: right;\">\n",
       "      <th></th>\n",
       "      <th>sn</th>\n",
       "      <th>fault_time</th>\n",
       "      <th>label</th>\n",
       "      <th>fault_time_ts</th>\n",
       "      <th>server_model</th>\n",
       "    </tr>\n",
       "  </thead>\n",
       "  <tbody>\n",
       "    <tr>\n",
       "      <th>0</th>\n",
       "      <td>SERVER_25698</td>\n",
       "      <td>2020-10-09 13:43:00</td>\n",
       "      <td>0</td>\n",
       "      <td>1602250980</td>\n",
       "      <td>SM0</td>\n",
       "    </tr>\n",
       "    <tr>\n",
       "      <th>1</th>\n",
       "      <td>SERVER_25699</td>\n",
       "      <td>2020-08-25 18:50:00</td>\n",
       "      <td>0</td>\n",
       "      <td>1598381400</td>\n",
       "      <td>SM3</td>\n",
       "    </tr>\n",
       "    <tr>\n",
       "      <th>2</th>\n",
       "      <td>SERVER_25712</td>\n",
       "      <td>2020-03-16 13:20:00</td>\n",
       "      <td>0</td>\n",
       "      <td>1584364800</td>\n",
       "      <td>SM4</td>\n",
       "    </tr>\n",
       "    <tr>\n",
       "      <th>3</th>\n",
       "      <td>SERVER_25708</td>\n",
       "      <td>2020-07-25 12:44:00</td>\n",
       "      <td>0</td>\n",
       "      <td>1595681040</td>\n",
       "      <td>SM4</td>\n",
       "    </tr>\n",
       "    <tr>\n",
       "      <th>4</th>\n",
       "      <td>SERVER_25711</td>\n",
       "      <td>2020-03-16 16:51:00</td>\n",
       "      <td>0</td>\n",
       "      <td>1584377460</td>\n",
       "      <td>SM4</td>\n",
       "    </tr>\n",
       "    <tr>\n",
       "      <th>...</th>\n",
       "      <td>...</td>\n",
       "      <td>...</td>\n",
       "      <td>...</td>\n",
       "      <td>...</td>\n",
       "      <td>...</td>\n",
       "    </tr>\n",
       "    <tr>\n",
       "      <th>16599</th>\n",
       "      <td>SERVER_24971</td>\n",
       "      <td>2020-03-04 21:09:00</td>\n",
       "      <td>3</td>\n",
       "      <td>1583356140</td>\n",
       "      <td>SM102</td>\n",
       "    </tr>\n",
       "    <tr>\n",
       "      <th>16600</th>\n",
       "      <td>SERVER_24971</td>\n",
       "      <td>2020-11-12 20:49:00</td>\n",
       "      <td>3</td>\n",
       "      <td>1605214140</td>\n",
       "      <td>SM102</td>\n",
       "    </tr>\n",
       "    <tr>\n",
       "      <th>16601</th>\n",
       "      <td>SERVER_24962</td>\n",
       "      <td>2020-09-12 12:18:00</td>\n",
       "      <td>3</td>\n",
       "      <td>1599913080</td>\n",
       "      <td>SM102</td>\n",
       "    </tr>\n",
       "    <tr>\n",
       "      <th>16602</th>\n",
       "      <td>SERVER_24971</td>\n",
       "      <td>2020-10-04 17:41:00</td>\n",
       "      <td>3</td>\n",
       "      <td>1601833260</td>\n",
       "      <td>SM102</td>\n",
       "    </tr>\n",
       "    <tr>\n",
       "      <th>16603</th>\n",
       "      <td>SERVER_24971</td>\n",
       "      <td>2020-10-26 01:41:00</td>\n",
       "      <td>3</td>\n",
       "      <td>1603676460</td>\n",
       "      <td>SM102</td>\n",
       "    </tr>\n",
       "  </tbody>\n",
       "</table>\n",
       "<p>16604 rows × 5 columns</p>\n",
       "</div>"
      ],
      "text/plain": [
       "                 sn          fault_time  label  fault_time_ts server_model\n",
       "0      SERVER_25698 2020-10-09 13:43:00      0     1602250980          SM0\n",
       "1      SERVER_25699 2020-08-25 18:50:00      0     1598381400          SM3\n",
       "2      SERVER_25712 2020-03-16 13:20:00      0     1584364800          SM4\n",
       "3      SERVER_25708 2020-07-25 12:44:00      0     1595681040          SM4\n",
       "4      SERVER_25711 2020-03-16 16:51:00      0     1584377460          SM4\n",
       "...             ...                 ...    ...            ...          ...\n",
       "16599  SERVER_24971 2020-03-04 21:09:00      3     1583356140        SM102\n",
       "16600  SERVER_24971 2020-11-12 20:49:00      3     1605214140        SM102\n",
       "16601  SERVER_24962 2020-09-12 12:18:00      3     1599913080        SM102\n",
       "16602  SERVER_24971 2020-10-04 17:41:00      3     1601833260        SM102\n",
       "16603  SERVER_24971 2020-10-26 01:41:00      3     1603676460        SM102\n",
       "\n",
       "[16604 rows x 5 columns]"
      ]
     },
     "execution_count": 2,
     "metadata": {},
     "output_type": "execute_result"
    }
   ],
   "source": [
    "label_df"
   ]
  },
  {
   "cell_type": "code",
   "execution_count": null,
   "id": "887a2915",
   "metadata": {},
   "outputs": [],
   "source": []
  },
  {
   "cell_type": "code",
   "execution_count": null,
   "id": "1f1bd29c",
   "metadata": {},
   "outputs": [],
   "source": []
  },
  {
   "cell_type": "code",
   "execution_count": 3,
   "id": "bdc435e2",
   "metadata": {},
   "outputs": [
    {
     "data": {
      "text/plain": [
       "sn                      SERVER_25698\n",
       "fault_time       2020-10-09 13:43:00\n",
       "label                              0\n",
       "fault_time_ts             1602250980\n",
       "server_model                     SM0\n",
       "Name: 0, dtype: object"
      ]
     },
     "execution_count": 3,
     "metadata": {},
     "output_type": "execute_result"
    }
   ],
   "source": [
    "label_df.iloc[0]"
   ]
  },
  {
   "cell_type": "code",
   "execution_count": 11,
   "id": "35341322",
   "metadata": {},
   "outputs": [],
   "source": [
    "label_df['hour'] = label_df['fault_time'].dt.hour"
   ]
  },
  {
   "cell_type": "code",
   "execution_count": 13,
   "id": "47b1ed04",
   "metadata": {},
   "outputs": [],
   "source": [
    "label_df['dayofweek'] = label_df['fault_time'].dt.dayofweek"
   ]
  },
  {
   "cell_type": "code",
   "execution_count": 22,
   "id": "4dd0522e",
   "metadata": {},
   "outputs": [],
   "source": [
    "import seaborn as sns\n",
    "import matplotlib.pyplot as plt"
   ]
  },
  {
   "cell_type": "code",
   "execution_count": 33,
   "id": "814d7f45",
   "metadata": {},
   "outputs": [
    {
     "data": {
      "text/plain": [
       "dayofweek\n",
       "0    0.109079\n",
       "1    0.143631\n",
       "2    0.149051\n",
       "3    0.153117\n",
       "4    0.159214\n",
       "5    0.149051\n",
       "6    0.136856\n",
       "dtype: float64"
      ]
     },
     "execution_count": 33,
     "metadata": {},
     "output_type": "execute_result"
    }
   ],
   "source": [
    "label_df[label_df['label'] == 0].groupby('dayofweek').size() / label_df[label_df['label'] == 0].shape[0]"
   ]
  },
  {
   "cell_type": "code",
   "execution_count": 34,
   "id": "c3a3041b",
   "metadata": {},
   "outputs": [
    {
     "data": {
      "text/plain": [
       "dayofweek\n",
       "0    0.115441\n",
       "1    0.149985\n",
       "2    0.151166\n",
       "3    0.138175\n",
       "4    0.139061\n",
       "5    0.168586\n",
       "6    0.137585\n",
       "dtype: float64"
      ]
     },
     "execution_count": 34,
     "metadata": {},
     "output_type": "execute_result"
    }
   ],
   "source": [
    "label_df[label_df['label'] == 1].groupby('dayofweek').size() / label_df[label_df['label'] == 1].shape[0]"
   ]
  },
  {
   "cell_type": "code",
   "execution_count": null,
   "id": "c5b36e3e",
   "metadata": {},
   "outputs": [],
   "source": []
  }
 ],
 "metadata": {
  "kernelspec": {
   "display_name": "Python 3 (ipykernel)",
   "language": "python",
   "name": "python3"
  },
  "language_info": {
   "codemirror_mode": {
    "name": "ipython",
    "version": 3
   },
   "file_extension": ".py",
   "mimetype": "text/x-python",
   "name": "python",
   "nbconvert_exporter": "python",
   "pygments_lexer": "ipython3",
   "version": "3.7.13"
  }
 },
 "nbformat": 4,
 "nbformat_minor": 5
}
